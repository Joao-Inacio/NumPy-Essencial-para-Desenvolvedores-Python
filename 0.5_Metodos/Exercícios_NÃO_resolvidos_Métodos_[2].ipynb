{
  "cells": [
    {
      "cell_type": "code",
      "execution_count": 1,
      "metadata": {
        "id": "sgYgpXPEmTmW"
      },
      "outputs": [],
      "source": [
        "import numpy as np"
      ]
    },
    {
      "cell_type": "code",
      "execution_count": 2,
      "metadata": {
        "colab": {
          "base_uri": "https://localhost:8080/",
          "height": 35
        },
        "id": "WToUoFxfmkqS",
        "outputId": "f77f0827-f598-4803-e016-9980026398e6"
      },
      "outputs": [
        {
          "data": {
            "text/plain": [
              "'2.3.2'"
            ]
          },
          "execution_count": 2,
          "metadata": {},
          "output_type": "execute_result"
        }
      ],
      "source": [
        "np.__version__"
      ]
    },
    {
      "cell_type": "markdown",
      "metadata": {
        "id": "_bkwaFx68keB"
      },
      "source": [
        "Vamos recorrer ao mesmo array dos exercícios anteriores, que representa o desempenho de 5 atletas em 4 voltas de uma pista de corrida, em 3 dias diferentes."
      ]
    },
    {
      "cell_type": "code",
      "execution_count": 3,
      "metadata": {
        "id": "5l8ZK_5Vwnyt"
      },
      "outputs": [],
      "source": [
        "rng = np.random.default_rng(seed=1)"
      ]
    },
    {
      "cell_type": "code",
      "execution_count": 4,
      "metadata": {
        "id": "Lsr9gyhCw9P0"
      },
      "outputs": [],
      "source": [
        "array = rng.normal(loc=50, scale=3, size=60).reshape(3, 5, 4).round(3)"
      ]
    },
    {
      "cell_type": "code",
      "execution_count": 5,
      "metadata": {
        "colab": {
          "base_uri": "https://localhost:8080/"
        },
        "id": "9rGGeugqZA8X",
        "outputId": "7fd38e08-7f4e-4346-e8fe-1f1991d2c0b1"
      },
      "outputs": [
        {
          "data": {
            "text/plain": [
              "array([[[51.037, 52.465, 50.991, 46.091],\n",
              "        [52.716, 51.339, 48.389, 51.743],\n",
              "        [51.094, 50.882, 50.085, 51.64 ],\n",
              "        [47.791, 49.511, 48.554, 51.797],\n",
              "        [50.119, 49.123, 47.654, 49.228]],\n",
              "\n",
              "       [[50.024, 49.173, 53.882, 53.02 ],\n",
              "        [41.867, 44.333, 49.476, 48.733],\n",
              "        [50.641, 50.652, 56.354, 46.664],\n",
              "        [48.867, 56.128, 51.94 , 51.989],\n",
              "        [48.458, 45.056, 50.502, 50.327]],\n",
              "\n",
              "       [[46.318, 47.95 , 49.784, 47.166],\n",
              "        [49.705, 50.286, 50.107, 48.481],\n",
              "        [51.781, 52.674, 50.963, 47.545],\n",
              "        [52.195, 48.496, 52.637, 46.785],\n",
              "        [52.743, 49.94 , 46.254, 49.058]]])"
            ]
          },
          "execution_count": 5,
          "metadata": {},
          "output_type": "execute_result"
        }
      ],
      "source": [
        "array"
      ]
    },
    {
      "cell_type": "code",
      "execution_count": 6,
      "metadata": {
        "colab": {
          "base_uri": "https://localhost:8080/"
        },
        "id": "I9R09UU_12NX",
        "outputId": "ec584e6c-ebb1-4121-c488-792d975e7ea2"
      },
      "outputs": [
        {
          "data": {
            "text/plain": [
              "(3, 5, 4)"
            ]
          },
          "execution_count": 6,
          "metadata": {},
          "output_type": "execute_result"
        }
      ],
      "source": [
        "array.shape"
      ]
    },
    {
      "cell_type": "markdown",
      "metadata": {
        "id": "b-gCnp1i14PC"
      },
      "source": [
        "👆 Observe pelo `shape` que são 3 dias, 5 atletas e 4 voltas."
      ]
    },
    {
      "cell_type": "markdown",
      "metadata": {
        "id": "gVU_n6ivdwJ0"
      },
      "source": [
        "#### `max` / `argmax`"
      ]
    },
    {
      "cell_type": "markdown",
      "metadata": {
        "id": "mN0GE4Fhd0Is"
      },
      "source": [
        "Lembre-se que, como os valores representam o tempo, em segundos, que cada atleta levou para completar uma volta, quanto maior este valor, pior o desempenho do atleta.\n",
        "\n",
        "Utilize `max` para encontrar o pior desempenho diário (eixo 0)."
      ]
    },
    {
      "cell_type": "code",
      "execution_count": 7,
      "metadata": {},
      "outputs": [
        {
          "data": {
            "text/plain": [
              "array([[51.037, 52.465, 53.882, 53.02 ],\n",
              "       [52.716, 51.339, 50.107, 51.743],\n",
              "       [51.781, 52.674, 56.354, 51.64 ],\n",
              "       [52.195, 56.128, 52.637, 51.989],\n",
              "       [52.743, 49.94 , 50.502, 50.327]])"
            ]
          },
          "execution_count": 7,
          "metadata": {},
          "output_type": "execute_result"
        }
      ],
      "source": [
        "array.max(axis=0)"
      ]
    },
    {
      "cell_type": "markdown",
      "metadata": {
        "id": "7h9u2EEseBpx"
      },
      "source": [
        "👆 O resultado é um array com 5 linhas (correspondente aos 5 atletas) e 4 colunas (correspondente às 4 voltas). Cada valor é o tempo máximo nos 3 dias, daquele atleta e daquela volta."
      ]
    },
    {
      "cell_type": "markdown",
      "metadata": {
        "id": "7xwbq4Q8eYge"
      },
      "source": [
        "Repita o exercício com `argmax`."
      ]
    },
    {
      "cell_type": "code",
      "execution_count": 8,
      "metadata": {
        "colab": {
          "base_uri": "https://localhost:8080/"
        },
        "id": "t685Ovx-d-4e",
        "outputId": "a1181f93-c9a2-4042-d60e-a411c4df78cc"
      },
      "outputs": [
        {
          "data": {
            "text/plain": [
              "array([[0, 0, 1, 1],\n",
              "       [0, 0, 2, 0],\n",
              "       [2, 2, 1, 0],\n",
              "       [2, 1, 2, 1],\n",
              "       [2, 2, 1, 1]])"
            ]
          },
          "execution_count": 8,
          "metadata": {},
          "output_type": "execute_result"
        }
      ],
      "source": [
        "array.argmax(axis=0)"
      ]
    },
    {
      "cell_type": "markdown",
      "metadata": {
        "id": "HhDZndm4emti"
      },
      "source": [
        "👆 Isto indica que, para o primeiro atleta e a primeira volta, (primeira linha e primeira coluna da visualização) o pior desempenho foi no dia 0; para o último atleta e a última volta, o pior desempenho foi no dia 1."
      ]
    },
    {
      "cell_type": "markdown",
      "metadata": {
        "id": "oCueQIi8fEPj"
      },
      "source": [
        "Agora utilize `max` e `argmax` para encontrar o pior desempenho por atleta (eixo 1), em cada dia e em cada volta."
      ]
    },
    {
      "cell_type": "code",
      "execution_count": 9,
      "metadata": {},
      "outputs": [
        {
          "data": {
            "text/plain": [
              "array([[52.716, 52.465, 50.991, 51.797],\n",
              "       [50.641, 56.128, 56.354, 53.02 ],\n",
              "       [52.743, 52.674, 52.637, 49.058]])"
            ]
          },
          "execution_count": 9,
          "metadata": {},
          "output_type": "execute_result"
        }
      ],
      "source": [
        "array.max(axis=1)"
      ]
    },
    {
      "cell_type": "markdown",
      "metadata": {
        "id": "elM8MCVjfXFd"
      },
      "source": [
        "👆 Este é o pior desempenho dentre todos os atletas, nos 3 dias (linhas) e nas 4 voltas (colunas)."
      ]
    },
    {
      "cell_type": "code",
      "execution_count": 10,
      "metadata": {
        "colab": {
          "base_uri": "https://localhost:8080/"
        },
        "id": "QTL-W3aFfVpD",
        "outputId": "d264fca9-e44b-41a9-a6c2-81ce42edf6df"
      },
      "outputs": [
        {
          "data": {
            "text/plain": [
              "array([[1, 0, 0, 3],\n",
              "       [2, 3, 2, 0],\n",
              "       [4, 2, 3, 4]])"
            ]
          },
          "execution_count": 10,
          "metadata": {},
          "output_type": "execute_result"
        }
      ],
      "source": [
        "array.argmax(axis=1)"
      ]
    },
    {
      "cell_type": "markdown",
      "metadata": {
        "id": "VWQu1VuzfeUo"
      },
      "source": [
        "👆 No primeiro dia (primeira linha), nas 4 voltas (colunas), os piores atletas foram os de índice 1, 0, 0 e 3, respectivamente."
      ]
    },
    {
      "cell_type": "markdown",
      "metadata": {
        "id": "A4ISiMXbhTRm"
      },
      "source": [
        "Encontre também o pior desempenho geral."
      ]
    },
    {
      "cell_type": "code",
      "execution_count": 11,
      "metadata": {},
      "outputs": [
        {
          "data": {
            "text/plain": [
              "np.float64(56.354)"
            ]
          },
          "execution_count": 11,
          "metadata": {},
          "output_type": "execute_result"
        }
      ],
      "source": [
        "array.max()"
      ]
    },
    {
      "cell_type": "code",
      "execution_count": 12,
      "metadata": {},
      "outputs": [
        {
          "data": {
            "text/plain": [
              "np.int64(30)"
            ]
          },
          "execution_count": 12,
          "metadata": {},
          "output_type": "execute_result"
        }
      ],
      "source": [
        "array.argmax()"
      ]
    },
    {
      "cell_type": "markdown",
      "metadata": {
        "id": "kp-VFX3Ye7vr"
      },
      "source": [
        "#### `min`/`argmin`"
      ]
    },
    {
      "cell_type": "markdown",
      "metadata": {
        "id": "znTj3CnXe-7R"
      },
      "source": [
        "Repita o exercício com os métodos `max`/`argmax` para encontrar os melhores desempenhos.\n",
        "\n",
        "Interprete os resultados, de forma análoga à feita para os piores desempenhos."
      ]
    },
    {
      "cell_type": "code",
      "execution_count": 13,
      "metadata": {
        "colab": {
          "base_uri": "https://localhost:8080/"
        },
        "id": "5GTkLGtNeyHc",
        "outputId": "8797d77e-4f5e-438f-e64e-42db562c3d60"
      },
      "outputs": [
        {
          "data": {
            "text/plain": [
              "array([[46.318, 47.95 , 49.784, 46.091],\n",
              "       [41.867, 44.333, 48.389, 48.481],\n",
              "       [50.641, 50.652, 50.085, 46.664],\n",
              "       [47.791, 48.496, 48.554, 46.785],\n",
              "       [48.458, 45.056, 46.254, 49.058]])"
            ]
          },
          "execution_count": 13,
          "metadata": {},
          "output_type": "execute_result"
        }
      ],
      "source": [
        "array.min(axis=0)"
      ]
    },
    {
      "cell_type": "code",
      "execution_count": 14,
      "metadata": {
        "colab": {
          "base_uri": "https://localhost:8080/"
        },
        "id": "kQhg0o5cf3do",
        "outputId": "a07e8f6b-f6b2-48d8-96aa-3326d6e5a859"
      },
      "outputs": [
        {
          "data": {
            "text/plain": [
              "array([[2, 2, 2, 0],\n",
              "       [1, 1, 0, 2],\n",
              "       [1, 1, 0, 1],\n",
              "       [0, 2, 0, 2],\n",
              "       [1, 1, 2, 2]])"
            ]
          },
          "execution_count": 14,
          "metadata": {},
          "output_type": "execute_result"
        }
      ],
      "source": [
        "array.argmin(axis=0)"
      ]
    },
    {
      "cell_type": "code",
      "execution_count": 15,
      "metadata": {
        "colab": {
          "base_uri": "https://localhost:8080/"
        },
        "id": "nrOQd550f5Mc",
        "outputId": "860d86af-f38a-421b-beb7-7866192f9694"
      },
      "outputs": [
        {
          "data": {
            "text/plain": [
              "array([[47.791, 49.123, 47.654, 46.091],\n",
              "       [41.867, 44.333, 49.476, 46.664],\n",
              "       [46.318, 47.95 , 46.254, 46.785]])"
            ]
          },
          "execution_count": 15,
          "metadata": {},
          "output_type": "execute_result"
        }
      ],
      "source": [
        "array.min(axis=1)"
      ]
    },
    {
      "cell_type": "code",
      "execution_count": 16,
      "metadata": {
        "colab": {
          "base_uri": "https://localhost:8080/"
        },
        "id": "z_eG8CAFf8aL",
        "outputId": "01d71895-bc09-4e79-dc0c-c2095fc5fdb9"
      },
      "outputs": [
        {
          "data": {
            "text/plain": [
              "array([[3, 4, 4, 0],\n",
              "       [1, 1, 1, 2],\n",
              "       [0, 0, 4, 3]])"
            ]
          },
          "execution_count": 16,
          "metadata": {},
          "output_type": "execute_result"
        }
      ],
      "source": [
        "array.argmin(axis=1)"
      ]
    },
    {
      "cell_type": "code",
      "execution_count": 17,
      "metadata": {
        "colab": {
          "base_uri": "https://localhost:8080/"
        },
        "id": "rXCFJEI8iIRU",
        "outputId": "0c4c4ffe-f436-41ad-8b74-ec7a980d878e"
      },
      "outputs": [
        {
          "data": {
            "text/plain": [
              "np.float64(41.867)"
            ]
          },
          "execution_count": 17,
          "metadata": {},
          "output_type": "execute_result"
        }
      ],
      "source": [
        "array.min()"
      ]
    },
    {
      "cell_type": "markdown",
      "metadata": {
        "id": "NuGqyZRrgHze"
      },
      "source": [
        "#### `ptp`"
      ]
    },
    {
      "cell_type": "markdown",
      "metadata": {
        "id": "YKR6pOExgK0X"
      },
      "source": [
        "Encontre a diferença entre o pior e o melhor desempenho, em cada dia (eixo 0)."
      ]
    },
    {
      "cell_type": "code",
      "execution_count": 18,
      "metadata": {
        "colab": {
          "base_uri": "https://localhost:8080/"
        },
        "id": "22FyboJ0f9Y3",
        "outputId": "8a901a73-8f6c-49f3-86a1-7fde77c36b0f"
      },
      "outputs": [
        {
          "data": {
            "text/plain": [
              "array([[ 4.719,  4.515,  4.098,  6.929],\n",
              "       [10.849,  7.006,  1.718,  3.262],\n",
              "       [ 1.14 ,  2.022,  6.269,  4.976],\n",
              "       [ 4.404,  7.632,  4.083,  5.204],\n",
              "       [ 4.285,  4.884,  4.248,  1.269]])"
            ]
          },
          "execution_count": 18,
          "metadata": {},
          "output_type": "execute_result"
        }
      ],
      "source": [
        "np.ptp(array, axis=0)"
      ]
    },
    {
      "cell_type": "markdown",
      "metadata": {
        "id": "6FMl78jGgYjY"
      },
      "source": [
        "👆 No caso do atleta 0 (primeira linha), o desempenho dele flutuou 4.719 segundos na primeira volta, 4.515 segundos na segunda volta, e assim por diante."
      ]
    },
    {
      "cell_type": "markdown",
      "metadata": {
        "id": "Z7NN40DCgms0"
      },
      "source": [
        "Encontre a diferença entre o pior e o melhor desempenho, em cada volta (eixo 2)."
      ]
    },
    {
      "cell_type": "code",
      "execution_count": 19,
      "metadata": {
        "colab": {
          "base_uri": "https://localhost:8080/"
        },
        "id": "-rlUpuGNgTMH",
        "outputId": "2d38deb2-d26c-4d95-fcf6-5136fee92204"
      },
      "outputs": [
        {
          "data": {
            "text/plain": [
              "array([[6.374, 4.327, 1.555, 4.006, 2.465],\n",
              "       [4.709, 7.609, 9.69 , 7.261, 5.446],\n",
              "       [3.466, 1.805, 5.129, 5.852, 6.489]])"
            ]
          },
          "execution_count": 19,
          "metadata": {},
          "output_type": "execute_result"
        }
      ],
      "source": [
        "np.ptp(array, axis=2)"
      ]
    },
    {
      "cell_type": "markdown",
      "metadata": {
        "id": "ysLT19fqgvzR"
      },
      "source": [
        "👆 No caso da volta de índice 1 (segunda coluna), a diferença de desempenho entre os atletas no primeiro dia foi de 4.327 segundo, 7.609 segundos no segundo dia e 1.805 segundos no terceiro."
      ]
    },
    {
      "cell_type": "markdown",
      "metadata": {
        "id": "gAiTiSNwh9y_"
      },
      "source": [
        "#### `clip`"
      ]
    },
    {
      "cell_type": "markdown",
      "metadata": {
        "id": "8RlG--6ziChZ"
      },
      "source": [
        "\"Clipe\" este array para que nenhum valor seja menor que 43 ou maior que 55. Exiba o array para visualizar as alterações."
      ]
    },
    {
      "cell_type": "code",
      "execution_count": 20,
      "metadata": {
        "id": "363STSFRhRCc"
      },
      "outputs": [],
      "source": [
        "array_clip = array.clip(min=43, max=55)"
      ]
    },
    {
      "cell_type": "code",
      "execution_count": 21,
      "metadata": {
        "colab": {
          "base_uri": "https://localhost:8080/"
        },
        "id": "Q58mcZKRaFvN",
        "outputId": "6b0e2b93-15b2-485e-e955-9916532d0d49"
      },
      "outputs": [
        {
          "data": {
            "text/plain": [
              "array([[[51.037, 52.465, 50.991, 46.091],\n",
              "        [52.716, 51.339, 48.389, 51.743],\n",
              "        [51.094, 50.882, 50.085, 51.64 ],\n",
              "        [47.791, 49.511, 48.554, 51.797],\n",
              "        [50.119, 49.123, 47.654, 49.228]],\n",
              "\n",
              "       [[50.024, 49.173, 53.882, 53.02 ],\n",
              "        [43.   , 44.333, 49.476, 48.733],\n",
              "        [50.641, 50.652, 55.   , 46.664],\n",
              "        [48.867, 55.   , 51.94 , 51.989],\n",
              "        [48.458, 45.056, 50.502, 50.327]],\n",
              "\n",
              "       [[46.318, 47.95 , 49.784, 47.166],\n",
              "        [49.705, 50.286, 50.107, 48.481],\n",
              "        [51.781, 52.674, 50.963, 47.545],\n",
              "        [52.195, 48.496, 52.637, 46.785],\n",
              "        [52.743, 49.94 , 46.254, 49.058]]])"
            ]
          },
          "execution_count": 21,
          "metadata": {},
          "output_type": "execute_result"
        }
      ],
      "source": [
        "array_clip"
      ]
    },
    {
      "cell_type": "markdown",
      "metadata": {
        "id": "dJUr_-DPaIB2"
      },
      "source": [
        "Confirme com `min` e `max` que a alteração foi feita conforme desejado."
      ]
    },
    {
      "cell_type": "code",
      "execution_count": 22,
      "metadata": {
        "colab": {
          "base_uri": "https://localhost:8080/"
        },
        "id": "Q1MrSmRuaMf4",
        "outputId": "f8f9e5fe-34b2-44d8-895e-5a3340b8d2de"
      },
      "outputs": [
        {
          "data": {
            "text/plain": [
              "np.float64(43.0)"
            ]
          },
          "execution_count": 22,
          "metadata": {},
          "output_type": "execute_result"
        }
      ],
      "source": [
        "array_clip.min()"
      ]
    },
    {
      "cell_type": "code",
      "execution_count": 23,
      "metadata": {
        "colab": {
          "base_uri": "https://localhost:8080/"
        },
        "id": "LRdHkq-faOdz",
        "outputId": "a3ed832b-5478-49ca-a10d-0b7e3feb85ef"
      },
      "outputs": [
        {
          "data": {
            "text/plain": [
              "np.float64(55.0)"
            ]
          },
          "execution_count": 23,
          "metadata": {},
          "output_type": "execute_result"
        }
      ],
      "source": [
        "array_clip.max()"
      ]
    },
    {
      "cell_type": "markdown",
      "metadata": {
        "id": "cP0MYe1AhPnf"
      },
      "source": [
        "#### `round`\n",
        "\n",
        "Utilize `round` para arredondar os valores para 2 casas decimais."
      ]
    },
    {
      "cell_type": "code",
      "execution_count": 24,
      "metadata": {
        "colab": {
          "base_uri": "https://localhost:8080/"
        },
        "id": "O-SU1zTygqst",
        "outputId": "662d8af6-7746-46dc-d801-8dc39171c8b6"
      },
      "outputs": [
        {
          "data": {
            "text/plain": [
              "array([[[51.04, 52.46, 50.99, 46.09],\n",
              "        [52.72, 51.34, 48.39, 51.74],\n",
              "        [51.09, 50.88, 50.08, 51.64],\n",
              "        [47.79, 49.51, 48.55, 51.8 ],\n",
              "        [50.12, 49.12, 47.65, 49.23]],\n",
              "\n",
              "       [[50.02, 49.17, 53.88, 53.02],\n",
              "        [41.87, 44.33, 49.48, 48.73],\n",
              "        [50.64, 50.65, 56.35, 46.66],\n",
              "        [48.87, 56.13, 51.94, 51.99],\n",
              "        [48.46, 45.06, 50.5 , 50.33]],\n",
              "\n",
              "       [[46.32, 47.95, 49.78, 47.17],\n",
              "        [49.7 , 50.29, 50.11, 48.48],\n",
              "        [51.78, 52.67, 50.96, 47.54],\n",
              "        [52.2 , 48.5 , 52.64, 46.78],\n",
              "        [52.74, 49.94, 46.25, 49.06]]])"
            ]
          },
          "execution_count": 24,
          "metadata": {},
          "output_type": "execute_result"
        }
      ],
      "source": [
        "array.round(decimals=2)"
      ]
    },
    {
      "cell_type": "markdown",
      "metadata": {
        "id": "iEcR5aV7ijfU"
      },
      "source": [
        "Verifique também o arredondamento para 1 casa decimal."
      ]
    },
    {
      "cell_type": "code",
      "execution_count": 25,
      "metadata": {
        "colab": {
          "base_uri": "https://localhost:8080/"
        },
        "id": "1K2iq_vaigJI",
        "outputId": "46676f2f-c859-48eb-ae2f-6d453dc07741"
      },
      "outputs": [
        {
          "data": {
            "text/plain": [
              "array([[[51. , 52.5, 51. , 46.1],\n",
              "        [52.7, 51.3, 48.4, 51.7],\n",
              "        [51.1, 50.9, 50.1, 51.6],\n",
              "        [47.8, 49.5, 48.6, 51.8],\n",
              "        [50.1, 49.1, 47.7, 49.2]],\n",
              "\n",
              "       [[50. , 49.2, 53.9, 53. ],\n",
              "        [41.9, 44.3, 49.5, 48.7],\n",
              "        [50.6, 50.7, 56.4, 46.7],\n",
              "        [48.9, 56.1, 51.9, 52. ],\n",
              "        [48.5, 45.1, 50.5, 50.3]],\n",
              "\n",
              "       [[46.3, 48. , 49.8, 47.2],\n",
              "        [49.7, 50.3, 50.1, 48.5],\n",
              "        [51.8, 52.7, 51. , 47.5],\n",
              "        [52.2, 48.5, 52.6, 46.8],\n",
              "        [52.7, 49.9, 46.3, 49.1]]])"
            ]
          },
          "execution_count": 25,
          "metadata": {},
          "output_type": "execute_result"
        }
      ],
      "source": [
        "array.round(decimals=1)"
      ]
    },
    {
      "cell_type": "markdown",
      "metadata": {
        "id": "QolyzQ9cipMy"
      },
      "source": [
        "#### `sum`"
      ]
    },
    {
      "cell_type": "markdown",
      "metadata": {
        "id": "8T1LyduMiuWJ"
      },
      "source": [
        "Utilize `sum` para visualizar o tempo total gasto por cada atleta em cada prova, nos 3 dias. Ou seja, você deve somar o tempo no eixo 2, correspondente às voltas.\n"
      ]
    },
    {
      "cell_type": "code",
      "execution_count": 26,
      "metadata": {
        "id": "_yCbdKknihd8"
      },
      "outputs": [],
      "source": [
        "array_sum_axis_2 = array.sum(axis=2)"
      ]
    },
    {
      "cell_type": "code",
      "execution_count": 27,
      "metadata": {
        "colab": {
          "base_uri": "https://localhost:8080/"
        },
        "id": "e62f4NaLjioI",
        "outputId": "db6c8760-286c-40a9-8dbf-7b6919f883ae"
      },
      "outputs": [
        {
          "data": {
            "text/plain": [
              "array([[200.584, 204.187, 203.701, 197.653, 196.124],\n",
              "       [206.099, 184.409, 204.311, 208.924, 194.343],\n",
              "       [191.218, 198.579, 202.963, 200.113, 197.995]])"
            ]
          },
          "execution_count": 27,
          "metadata": {},
          "output_type": "execute_result"
        }
      ],
      "source": [
        "array_sum_axis_2"
      ]
    },
    {
      "cell_type": "markdown",
      "metadata": {
        "id": "K5OJVa6njInm"
      },
      "source": [
        "👆 O array representa os 3 dias (3 linhas) e os 5 atletas (5 colunas)."
      ]
    },
    {
      "cell_type": "markdown",
      "metadata": {
        "id": "1j7jXh17jpA0"
      },
      "source": [
        "Agora, a partir deste array, some os desempenhos dos 5 atletas ao longo dos 3 dias (eixo 0)."
      ]
    },
    {
      "cell_type": "code",
      "execution_count": 28,
      "metadata": {
        "id": "GW_vx97VjdSc"
      },
      "outputs": [],
      "source": [
        "array_sum_axis_2_axis_0 = array_sum_axis_2.sum(axis=0)"
      ]
    },
    {
      "cell_type": "code",
      "execution_count": 29,
      "metadata": {
        "colab": {
          "base_uri": "https://localhost:8080/"
        },
        "id": "II9e57fWjwTK",
        "outputId": "9bdd07e8-0716-4bc0-fe31-50b66178f09f"
      },
      "outputs": [
        {
          "data": {
            "text/plain": [
              "array([597.901, 587.175, 610.975, 606.69 , 588.462])"
            ]
          },
          "execution_count": 29,
          "metadata": {},
          "output_type": "execute_result"
        }
      ],
      "source": [
        "array_sum_axis_2_axis_0"
      ]
    },
    {
      "cell_type": "markdown",
      "metadata": {
        "id": "jwOCJuMXj0NM"
      },
      "source": [
        "👆 O array representa a soma geral do desempenho dos 5 atletas."
      ]
    },
    {
      "cell_type": "markdown",
      "metadata": {
        "id": "yJPehA_1jQhN"
      },
      "source": [
        "#### `cumsum`"
      ]
    },
    {
      "cell_type": "markdown",
      "metadata": {
        "id": "XZpfrp3QkAhs"
      },
      "source": [
        "Utilize `cumsum` para encontrar o tempo acumulado de cada atleta, em cada dia, ao final de cada volta (eixo 2)."
      ]
    },
    {
      "cell_type": "code",
      "execution_count": 30,
      "metadata": {
        "colab": {
          "base_uri": "https://localhost:8080/"
        },
        "id": "d8RCGMx6j4k4",
        "outputId": "e4316b14-a657-4058-8947-00f7c67f9f49"
      },
      "outputs": [
        {
          "data": {
            "text/plain": [
              "array([[[ 51.037, 103.502, 154.493, 200.584],\n",
              "        [ 52.716, 104.055, 152.444, 204.187],\n",
              "        [ 51.094, 101.976, 152.061, 203.701],\n",
              "        [ 47.791,  97.302, 145.856, 197.653],\n",
              "        [ 50.119,  99.242, 146.896, 196.124]],\n",
              "\n",
              "       [[ 50.024,  99.197, 153.079, 206.099],\n",
              "        [ 41.867,  86.2  , 135.676, 184.409],\n",
              "        [ 50.641, 101.293, 157.647, 204.311],\n",
              "        [ 48.867, 104.995, 156.935, 208.924],\n",
              "        [ 48.458,  93.514, 144.016, 194.343]],\n",
              "\n",
              "       [[ 46.318,  94.268, 144.052, 191.218],\n",
              "        [ 49.705,  99.991, 150.098, 198.579],\n",
              "        [ 51.781, 104.455, 155.418, 202.963],\n",
              "        [ 52.195, 100.691, 153.328, 200.113],\n",
              "        [ 52.743, 102.683, 148.937, 197.995]]])"
            ]
          },
          "execution_count": 30,
          "metadata": {},
          "output_type": "execute_result"
        }
      ],
      "source": [
        "array.cumsum(axis=2)"
      ]
    },
    {
      "cell_type": "markdown",
      "metadata": {
        "id": "6h5wkX7QkKjm"
      },
      "source": [
        "👆 No segundo dia, o terceiro atleta (linha 2) acumulou tempos de 50.641, 101.293, 157.647 e 204.311."
      ]
    },
    {
      "cell_type": "markdown",
      "metadata": {
        "id": "S7guFhX_kXJQ"
      },
      "source": [
        "#### `mean` / `var` / `std`"
      ]
    },
    {
      "cell_type": "markdown",
      "metadata": {
        "id": "YCNtcnoKkhOe"
      },
      "source": [
        "Encontre o desempenho médio por volta (eixo 2) para cada atleta, nos 3 dias."
      ]
    },
    {
      "cell_type": "code",
      "execution_count": 31,
      "metadata": {
        "colab": {
          "base_uri": "https://localhost:8080/"
        },
        "id": "E0btE7q_kH5Y",
        "outputId": "5d3cac0b-7bb4-4a64-8f27-16d4a5308cfc"
      },
      "outputs": [
        {
          "data": {
            "text/plain": [
              "array([[50.146  , 51.04675, 50.92525, 49.41325, 49.031  ],\n",
              "       [51.52475, 46.10225, 51.07775, 52.231  , 48.58575],\n",
              "       [47.8045 , 49.64475, 50.74075, 50.02825, 49.49875]])"
            ]
          },
          "execution_count": 31,
          "metadata": {},
          "output_type": "execute_result"
        }
      ],
      "source": [
        "array.mean(axis=2)"
      ]
    },
    {
      "cell_type": "markdown",
      "metadata": {
        "id": "gPovsBIgkz-I"
      },
      "source": [
        "👆 Desempenho médio por volta nos 3 dias (3 linhas), para os 5 atletas (5 colunas)."
      ]
    },
    {
      "cell_type": "markdown",
      "metadata": {
        "id": "GS00tp-ulA0F"
      },
      "source": [
        "Exiba também a variância e o desvio padrão dos mesmos dados."
      ]
    },
    {
      "cell_type": "code",
      "execution_count": 32,
      "metadata": {
        "colab": {
          "base_uri": "https://localhost:8080/"
        },
        "id": "Pazg7OgRkpMJ",
        "outputId": "13461069-649c-4192-d967-f88c458c90e2"
      },
      "outputs": [
        {
          "data": {
            "text/plain": [
              "array([[ 5.832173  ,  2.60505119,  0.31180869,  2.26545619,  0.7817865 ],\n",
              "       [ 3.89384469,  9.84265569, 11.92300419,  6.6615875 ,  4.79485519],\n",
              "       [ 1.63923875,  0.49570519,  3.77044719,  6.09171069,  5.36063069]])"
            ]
          },
          "execution_count": 32,
          "metadata": {},
          "output_type": "execute_result"
        }
      ],
      "source": [
        "array.var(axis=2)"
      ]
    },
    {
      "cell_type": "code",
      "execution_count": 33,
      "metadata": {
        "colab": {
          "base_uri": "https://localhost:8080/"
        },
        "id": "GLZFBjOJlFXd",
        "outputId": "0ccc78b7-dd73-4f55-e757-f87b66f7dd0e"
      },
      "outputs": [
        {
          "data": {
            "text/plain": [
              "array([[2.41498923, 1.6140171 , 0.55839832, 1.50514324, 0.88418691],\n",
              "       [1.97328272, 3.1373007 , 3.45297034, 2.58100513, 2.18971578],\n",
              "       [1.28032759, 0.70406334, 1.94176394, 2.46813911, 2.31530358]])"
            ]
          },
          "execution_count": 33,
          "metadata": {},
          "output_type": "execute_result"
        }
      ],
      "source": [
        "array.std(axis=2)"
      ]
    },
    {
      "cell_type": "markdown",
      "metadata": {
        "id": "ZFk8mxmrlIej"
      },
      "source": [
        "Agora exiba as 3 medidas estatísticas agregadas por atleta (eixo 1)."
      ]
    },
    {
      "cell_type": "code",
      "execution_count": 34,
      "metadata": {
        "colab": {
          "base_uri": "https://localhost:8080/"
        },
        "id": "DIGHg3twlGl-",
        "outputId": "8dc59189-b88a-4041-d348-bf0cc49fbfe4"
      },
      "outputs": [
        {
          "data": {
            "text/plain": [
              "array([[50.5514, 50.664 , 49.1346, 50.0998],\n",
              "       [47.9714, 49.0684, 52.4308, 50.1466],\n",
              "       [50.5484, 49.8692, 49.949 , 47.807 ]])"
            ]
          },
          "execution_count": 34,
          "metadata": {},
          "output_type": "execute_result"
        }
      ],
      "source": [
        "array.mean(axis=1)"
      ]
    },
    {
      "cell_type": "markdown",
      "metadata": {
        "id": "CE-ipoTrmCdg"
      },
      "source": [
        "👆 Desempenho médio por atleta nos 3 dias (3 linhas), nas 4 voltas (4 colunas)."
      ]
    },
    {
      "cell_type": "code",
      "execution_count": 35,
      "metadata": {
        "colab": {
          "base_uri": "https://localhost:8080/"
        },
        "id": "2HxDmGFZlRCD",
        "outputId": "232e64ec-3d0a-4730-dbdf-ad4ada3f666c"
      },
      "outputs": [
        {
          "data": {
            "text/plain": [
              "array([[ 2.60449864,  1.490168  ,  1.48693464,  4.95666456],\n",
              "       [ 9.92850184, 18.17600984,  6.03789536,  5.16203544],\n",
              "       [ 5.53089424,  2.72292896,  4.3917508 ,  0.7086572 ]])"
            ]
          },
          "execution_count": 35,
          "metadata": {},
          "output_type": "execute_result"
        }
      ],
      "source": [
        "array.var(axis=1)"
      ]
    },
    {
      "cell_type": "code",
      "execution_count": 36,
      "metadata": {
        "colab": {
          "base_uri": "https://localhost:8080/"
        },
        "id": "WMrTgXt2lSUt",
        "outputId": "6baaf5e5-62f5-4e50-b216-ad39ada61827"
      },
      "outputs": [
        {
          "data": {
            "text/plain": [
              "array([[1.61384592, 1.22072438, 1.21939929, 2.22635679],\n",
              "       [3.15095253, 4.26333318, 2.45721293, 2.27201132],\n",
              "       [2.35178533, 1.65012998, 2.09565045, 0.8418178 ]])"
            ]
          },
          "execution_count": 36,
          "metadata": {},
          "output_type": "execute_result"
        }
      ],
      "source": [
        "array.std(axis=1)"
      ]
    },
    {
      "cell_type": "markdown",
      "metadata": {
        "id": "qja3kKZvmUqh"
      },
      "source": [
        "#### `all` / `any`"
      ]
    },
    {
      "cell_type": "markdown",
      "metadata": {
        "id": "0LeZfhvBmfGO"
      },
      "source": [
        "Primeiro, gere uma máscara booleana (array com valores `True`/`False`) para verificar quais valores em `array` são maiores que 50 segundos."
      ]
    },
    {
      "cell_type": "code",
      "execution_count": 37,
      "metadata": {
        "id": "-UkDB7MalTK_"
      },
      "outputs": [],
      "source": [
        "array_mask = array > 50"
      ]
    },
    {
      "cell_type": "code",
      "execution_count": 38,
      "metadata": {
        "colab": {
          "base_uri": "https://localhost:8080/"
        },
        "id": "bj0At2X4munS",
        "outputId": "5054d5d7-fa0e-477c-ee9d-198fd57301b1"
      },
      "outputs": [
        {
          "data": {
            "text/plain": [
              "array([[[ True,  True,  True, False],\n",
              "        [ True,  True, False,  True],\n",
              "        [ True,  True,  True,  True],\n",
              "        [False, False, False,  True],\n",
              "        [ True, False, False, False]],\n",
              "\n",
              "       [[ True, False,  True,  True],\n",
              "        [False, False, False, False],\n",
              "        [ True,  True,  True, False],\n",
              "        [False,  True,  True,  True],\n",
              "        [False, False,  True,  True]],\n",
              "\n",
              "       [[False, False, False, False],\n",
              "        [False,  True,  True, False],\n",
              "        [ True,  True,  True, False],\n",
              "        [ True, False,  True, False],\n",
              "        [ True, False, False, False]]])"
            ]
          },
          "execution_count": 38,
          "metadata": {},
          "output_type": "execute_result"
        }
      ],
      "source": [
        "array_mask"
      ]
    },
    {
      "cell_type": "markdown",
      "metadata": {
        "id": "4AZrspvOm0kc"
      },
      "source": [
        "Agora, use `all` para verifcar se algum atleta levou mais que 50 segundos para completar alguma volta (eixo 2), em qualquer dia."
      ]
    },
    {
      "cell_type": "code",
      "execution_count": 39,
      "metadata": {
        "colab": {
          "base_uri": "https://localhost:8080/"
        },
        "id": "-vh14HLfmv1x",
        "outputId": "b0f84abe-89da-4d32-ada4-d2e6e8b4b017"
      },
      "outputs": [
        {
          "data": {
            "text/plain": [
              "array([[False, False,  True, False, False],\n",
              "       [False, False, False, False, False],\n",
              "       [False, False, False, False, False]])"
            ]
          },
          "execution_count": 39,
          "metadata": {},
          "output_type": "execute_result"
        }
      ],
      "source": [
        "array_mask.all(axis=2)"
      ]
    },
    {
      "cell_type": "markdown",
      "metadata": {
        "id": "esNJADs6nUBI"
      },
      "source": [
        "👆 Isto indica que, no primeiro dia (primeira linha), o atleta de índice 2 (terceira coluna) demorou mais que 50 segundos em todas as voltas."
      ]
    },
    {
      "cell_type": "markdown",
      "metadata": {
        "id": "JsVbtD3Unlok"
      },
      "source": [
        "Utilize `any` para repetir a análise, mas considerando o tempo gasto em qualquer volta."
      ]
    },
    {
      "cell_type": "code",
      "execution_count": 40,
      "metadata": {
        "colab": {
          "base_uri": "https://localhost:8080/"
        },
        "id": "KXFQ-AB6nJXE",
        "outputId": "4026fbd6-d791-46a4-b9ec-115b232b4ae8"
      },
      "outputs": [
        {
          "data": {
            "text/plain": [
              "array([[ True,  True,  True,  True,  True],\n",
              "       [ True, False,  True,  True,  True],\n",
              "       [False,  True,  True,  True,  True]])"
            ]
          },
          "execution_count": 40,
          "metadata": {},
          "output_type": "execute_result"
        }
      ],
      "source": [
        "array_mask.any(axis=2)"
      ]
    },
    {
      "cell_type": "markdown",
      "metadata": {
        "id": "Jx-ibV1gnxBJ"
      },
      "source": [
        "👆 No primeiro dia, todos os atletas tiveram pelo menos uma volta que levou mais que 50 segundos; no segundo dia, só o atleta de índice 1 não teve um desempenho pior que 50 segundos."
      ]
    }
  ],
  "metadata": {
    "colab": {
      "provenance": []
    },
    "kernelspec": {
      "display_name": ".venv",
      "language": "python",
      "name": "python3"
    },
    "language_info": {
      "codemirror_mode": {
        "name": "ipython",
        "version": 3
      },
      "file_extension": ".py",
      "mimetype": "text/x-python",
      "name": "python",
      "nbconvert_exporter": "python",
      "pygments_lexer": "ipython3",
      "version": "3.12.11"
    }
  },
  "nbformat": 4,
  "nbformat_minor": 0
}
