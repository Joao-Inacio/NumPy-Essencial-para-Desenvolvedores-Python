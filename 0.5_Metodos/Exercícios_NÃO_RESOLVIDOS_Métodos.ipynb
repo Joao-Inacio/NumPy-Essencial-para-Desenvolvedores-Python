{
  "cells": [
    {
      "cell_type": "code",
      "execution_count": 7,
      "metadata": {
        "id": "sgYgpXPEmTmW"
      },
      "outputs": [],
      "source": [
        "import numpy as np"
      ]
    },
    {
      "cell_type": "code",
      "execution_count": 8,
      "metadata": {
        "colab": {
          "base_uri": "https://localhost:8080/",
          "height": 35
        },
        "id": "WToUoFxfmkqS",
        "outputId": "99347ac4-df9c-49e3-f46d-3286175f8150"
      },
      "outputs": [
        {
          "data": {
            "text/plain": [
              "'2.3.2'"
            ]
          },
          "execution_count": 8,
          "metadata": {},
          "output_type": "execute_result"
        }
      ],
      "source": [
        "np.__version__"
      ]
    },
    {
      "cell_type": "markdown",
      "metadata": {
        "id": "_bkwaFx68keB"
      },
      "source": [
        "Vamos começar instanciando o mesmo array do módulo anterior, que representa o desempenho de 5 atletas em 4 voltas de uma pista de corrida, em 3 dias diferentes."
      ]
    },
    {
      "cell_type": "code",
      "execution_count": 9,
      "metadata": {
        "id": "5l8ZK_5Vwnyt"
      },
      "outputs": [],
      "source": [
        "rng = np.random.default_rng(seed=1)"
      ]
    },
    {
      "cell_type": "code",
      "execution_count": 10,
      "metadata": {
        "id": "Lsr9gyhCw9P0"
      },
      "outputs": [],
      "source": [
        "array = rng.normal(loc=50, scale=3, size=60).reshape(3, 5, 4).round(3)"
      ]
    },
    {
      "cell_type": "code",
      "execution_count": 11,
      "metadata": {
        "colab": {
          "base_uri": "https://localhost:8080/"
        },
        "id": "Rs1R6UqqU2gr",
        "outputId": "f7f96434-1413-4865-8bfd-cfbb6e7f14cf"
      },
      "outputs": [
        {
          "data": {
            "text/plain": [
              "array([[[51.037, 52.465, 50.991, 46.091],\n",
              "        [52.716, 51.339, 48.389, 51.743],\n",
              "        [51.094, 50.882, 50.085, 51.64 ],\n",
              "        [47.791, 49.511, 48.554, 51.797],\n",
              "        [50.119, 49.123, 47.654, 49.228]],\n",
              "\n",
              "       [[50.024, 49.173, 53.882, 53.02 ],\n",
              "        [41.867, 44.333, 49.476, 48.733],\n",
              "        [50.641, 50.652, 56.354, 46.664],\n",
              "        [48.867, 56.128, 51.94 , 51.989],\n",
              "        [48.458, 45.056, 50.502, 50.327]],\n",
              "\n",
              "       [[46.318, 47.95 , 49.784, 47.166],\n",
              "        [49.705, 50.286, 50.107, 48.481],\n",
              "        [51.781, 52.674, 50.963, 47.545],\n",
              "        [52.195, 48.496, 52.637, 46.785],\n",
              "        [52.743, 49.94 , 46.254, 49.058]]])"
            ]
          },
          "execution_count": 11,
          "metadata": {},
          "output_type": "execute_result"
        }
      ],
      "source": [
        "array"
      ]
    },
    {
      "cell_type": "code",
      "execution_count": 12,
      "metadata": {
        "colab": {
          "base_uri": "https://localhost:8080/"
        },
        "id": "I9R09UU_12NX",
        "outputId": "32d43fbb-4113-4870-b6bc-faf02773979f"
      },
      "outputs": [
        {
          "data": {
            "text/plain": [
              "(3, 5, 4)"
            ]
          },
          "execution_count": 12,
          "metadata": {},
          "output_type": "execute_result"
        }
      ],
      "source": [
        "array.shape"
      ]
    },
    {
      "cell_type": "markdown",
      "metadata": {
        "id": "b-gCnp1i14PC"
      },
      "source": [
        "👆 Observe pelo `shape` que são 3 dias, 5 atletas e 4 voltas."
      ]
    },
    {
      "cell_type": "markdown",
      "metadata": {
        "id": "fiMI8I4rlAwk"
      },
      "source": [
        "### Métodos de conversão"
      ]
    },
    {
      "cell_type": "markdown",
      "metadata": {
        "id": "omCVFKrKeUq_"
      },
      "source": [
        "#### `item`"
      ]
    },
    {
      "cell_type": "markdown",
      "metadata": {
        "id": "55nYAVSx9wuM"
      },
      "source": [
        "Utilize o método `item` para recuperar o desempenho do segundo atleta no terceiro dia, na primeira volta."
      ]
    },
    {
      "cell_type": "code",
      "execution_count": 13,
      "metadata": {
        "colab": {
          "base_uri": "https://localhost:8080/"
        },
        "id": "gTHJMqYX8tBl",
        "outputId": "74b9e2f1-2c61-4790-a65a-0662ae89cf61"
      },
      "outputs": [
        {
          "data": {
            "text/plain": [
              "49.705"
            ]
          },
          "execution_count": 13,
          "metadata": {},
          "output_type": "execute_result"
        }
      ],
      "source": [
        "array.item((2, 1, 0))"
      ]
    },
    {
      "cell_type": "markdown",
      "metadata": {
        "id": "mKv1dINreTGk"
      },
      "source": [
        "#### `itemset`"
      ]
    },
    {
      "cell_type": "markdown",
      "metadata": {
        "id": "9ncRv8oE-Mfl"
      },
      "source": [
        "Suponha que este valor tenha sido registrado errado, e que o valor correto seja 49.709. Faça a correção utilizando `itemset`, e exiba o array corrigido."
      ]
    },
    {
      "cell_type": "code",
      "execution_count": 14,
      "metadata": {
        "id": "2fH7nrSV-YYn"
      },
      "outputs": [],
      "source": [
        "# array.item((2, 1, 0)) =\n",
        "array[2][1][0] = 49.709"
      ]
    },
    {
      "cell_type": "code",
      "execution_count": 15,
      "metadata": {
        "colab": {
          "base_uri": "https://localhost:8080/"
        },
        "id": "U7l8aGaHU_0c",
        "outputId": "f5e71d57-7924-4f7a-e326-487edc4694b9"
      },
      "outputs": [
        {
          "data": {
            "text/plain": [
              "array([[[51.037, 52.465, 50.991, 46.091],\n",
              "        [52.716, 51.339, 48.389, 51.743],\n",
              "        [51.094, 50.882, 50.085, 51.64 ],\n",
              "        [47.791, 49.511, 48.554, 51.797],\n",
              "        [50.119, 49.123, 47.654, 49.228]],\n",
              "\n",
              "       [[50.024, 49.173, 53.882, 53.02 ],\n",
              "        [41.867, 44.333, 49.476, 48.733],\n",
              "        [50.641, 50.652, 56.354, 46.664],\n",
              "        [48.867, 56.128, 51.94 , 51.989],\n",
              "        [48.458, 45.056, 50.502, 50.327]],\n",
              "\n",
              "       [[46.318, 47.95 , 49.784, 47.166],\n",
              "        [49.709, 50.286, 50.107, 48.481],\n",
              "        [51.781, 52.674, 50.963, 47.545],\n",
              "        [52.195, 48.496, 52.637, 46.785],\n",
              "        [52.743, 49.94 , 46.254, 49.058]]])"
            ]
          },
          "execution_count": 15,
          "metadata": {},
          "output_type": "execute_result"
        }
      ],
      "source": [
        "array"
      ]
    },
    {
      "cell_type": "markdown",
      "metadata": {
        "id": "J1EBfu0wVBrt"
      },
      "source": [
        "Utilize `item` de novo para ter certeza de que o valor foi alterado."
      ]
    },
    {
      "cell_type": "code",
      "execution_count": 16,
      "metadata": {
        "colab": {
          "base_uri": "https://localhost:8080/"
        },
        "id": "nTSmC6JXVGjG",
        "outputId": "6f37ac36-dc71-4a61-e1f7-3d378c4aaf04"
      },
      "outputs": [
        {
          "data": {
            "text/plain": [
              "49.709"
            ]
          },
          "execution_count": 16,
          "metadata": {},
          "output_type": "execute_result"
        }
      ],
      "source": [
        "array.item((2, 1, 0))"
      ]
    },
    {
      "cell_type": "markdown",
      "metadata": {
        "id": "C_Dq1bNA-iwC"
      },
      "source": [
        "#### `view`"
      ]
    },
    {
      "cell_type": "markdown",
      "metadata": {
        "id": "3WDn3s1m-n5q"
      },
      "source": [
        "Gere uma view deste array, atribuindo o resultado a um novo array `array_view`."
      ]
    },
    {
      "cell_type": "code",
      "execution_count": 17,
      "metadata": {
        "id": "YclXgqfd-bCY"
      },
      "outputs": [],
      "source": [
        "array_view = array.view()"
      ]
    },
    {
      "cell_type": "markdown",
      "metadata": {
        "id": "9AJ0Kcll-6CY"
      },
      "source": [
        "Utilize `itemset` para mudar o valor corrigido anteriormente (índice (2, 1, 0)) para seu valor original (49.705), apenas em `array_view`."
      ]
    },
    {
      "cell_type": "code",
      "execution_count": 18,
      "metadata": {
        "id": "ZLPJv0f_-0_z"
      },
      "outputs": [],
      "source": [
        "array_view[2][1][0] = 49.705"
      ]
    },
    {
      "cell_type": "markdown",
      "metadata": {
        "id": "FWmbPuUK_Xfh"
      },
      "source": [
        "Agora, utilize `item` para verificar o valor no índice (2, 1, 0) em `array` e `array_view`."
      ]
    },
    {
      "cell_type": "code",
      "execution_count": 19,
      "metadata": {
        "colab": {
          "base_uri": "https://localhost:8080/"
        },
        "id": "xhAw0mVM_WVv",
        "outputId": "00887f3d-73a2-41b9-9765-ac772da1ea07"
      },
      "outputs": [
        {
          "data": {
            "text/plain": [
              "49.705"
            ]
          },
          "execution_count": 19,
          "metadata": {},
          "output_type": "execute_result"
        }
      ],
      "source": [
        "array.item((2, 1, 0))"
      ]
    },
    {
      "cell_type": "code",
      "execution_count": 20,
      "metadata": {
        "colab": {
          "base_uri": "https://localhost:8080/"
        },
        "id": "KcnU1Pc4VNkO",
        "outputId": "22d37a4d-fabc-4cfc-f2a3-90e11ed08981"
      },
      "outputs": [
        {
          "data": {
            "text/plain": [
              "49.705"
            ]
          },
          "execution_count": 20,
          "metadata": {},
          "output_type": "execute_result"
        }
      ],
      "source": [
        "array_view.item((2, 1, 0))"
      ]
    },
    {
      "cell_type": "markdown",
      "metadata": {
        "id": "MmEM71sC_ijE"
      },
      "source": [
        "💡 Observe que, apesar de você ter feito a modificação em `array_view`, `array` também foi modificado. Isso acontece porque, sendo `array_view` uma **view** de `array`, seus dados são compartilhados."
      ]
    },
    {
      "cell_type": "markdown",
      "metadata": {
        "id": "CR6x3MgA_7zo"
      },
      "source": [
        "#### `copy`"
      ]
    },
    {
      "cell_type": "markdown",
      "metadata": {
        "id": "yeqGD9e6_97D"
      },
      "source": [
        "Agora repita o exercício anterior, mas criando uma cópia de `array`, armazenada em `array_copy`."
      ]
    },
    {
      "cell_type": "code",
      "execution_count": 21,
      "metadata": {
        "id": "Qowyjc0d_g7a"
      },
      "outputs": [],
      "source": [
        "array_copy = array.copy()"
      ]
    },
    {
      "cell_type": "markdown",
      "metadata": {
        "id": "g2Uac2YzAImP"
      },
      "source": [
        "Mude de novo o valor em (2, 1, 0) para 49.709, somente na cópia."
      ]
    },
    {
      "cell_type": "code",
      "execution_count": 22,
      "metadata": {
        "id": "tjVGObp9AHBj"
      },
      "outputs": [],
      "source": [
        "array_copy[2][1][0] = 49.709"
      ]
    },
    {
      "cell_type": "markdown",
      "metadata": {
        "id": "BWgjOM_XAQrD"
      },
      "source": [
        "Verifique com `view` que este valor agora é diferente em `array` e `array_copy`."
      ]
    },
    {
      "cell_type": "code",
      "execution_count": 23,
      "metadata": {
        "colab": {
          "base_uri": "https://localhost:8080/"
        },
        "id": "JiC98LPWAQBz",
        "outputId": "1c14cd60-4b6a-4a15-e97c-4559798d71a7"
      },
      "outputs": [
        {
          "data": {
            "text/plain": [
              "49.705"
            ]
          },
          "execution_count": 23,
          "metadata": {},
          "output_type": "execute_result"
        }
      ],
      "source": [
        "array.item((2, 1, 0))"
      ]
    },
    {
      "cell_type": "code",
      "execution_count": 24,
      "metadata": {
        "colab": {
          "base_uri": "https://localhost:8080/"
        },
        "id": "JkhBbsfkVULT",
        "outputId": "185649a8-3386-47c8-dfa8-1b3333f2d211"
      },
      "outputs": [
        {
          "data": {
            "text/plain": [
              "49.709"
            ]
          },
          "execution_count": 24,
          "metadata": {},
          "output_type": "execute_result"
        }
      ],
      "source": [
        "array_copy.item((2, 1, 0))"
      ]
    },
    {
      "cell_type": "markdown",
      "metadata": {
        "id": "gzBmF_f8AZAZ"
      },
      "source": [
        "💡 Uma **cópia** de um array mantém dados independentes do array original."
      ]
    },
    {
      "cell_type": "markdown",
      "metadata": {
        "id": "sWYbFESslMqO"
      },
      "source": [
        "### Métodos de manipulação de `shape`"
      ]
    },
    {
      "cell_type": "markdown",
      "metadata": {
        "id": "bS9lPm4OlSmu"
      },
      "source": [
        "#### `reshape`"
      ]
    },
    {
      "cell_type": "markdown",
      "metadata": {
        "id": "ckDcuhq4BKK2"
      },
      "source": [
        "Suponha que você precise registrar os resultados do desempenho dos atletas em uma planilha, que armazena dados em apenas 2 dimensões. A orientação que você recebeu é que cada linha da planilha deve ser correspondente a um dia, totalizando 3 linhas, e as colunas vão conter as 4 voltas do primeiro atleta, depois as 4 voltas do segundo atleta, e assim por diante, totalizando 5 atletas x 4 voltas = 20 colunas.\n",
        "\n",
        "Exiba uma versão do array nesta configuração."
      ]
    },
    {
      "cell_type": "code",
      "execution_count": 25,
      "metadata": {
        "colab": {
          "base_uri": "https://localhost:8080/"
        },
        "id": "lh0wMW2KAX7G",
        "outputId": "54af9ca5-9733-4e6f-93f4-61c05545426f"
      },
      "outputs": [
        {
          "data": {
            "text/plain": [
              "array([[51.037, 52.465, 50.991, 46.091, 52.716, 51.339, 48.389, 51.743,\n",
              "        51.094, 50.882, 50.085, 51.64 , 47.791, 49.511, 48.554, 51.797,\n",
              "        50.119, 49.123, 47.654, 49.228],\n",
              "       [50.024, 49.173, 53.882, 53.02 , 41.867, 44.333, 49.476, 48.733,\n",
              "        50.641, 50.652, 56.354, 46.664, 48.867, 56.128, 51.94 , 51.989,\n",
              "        48.458, 45.056, 50.502, 50.327],\n",
              "       [46.318, 47.95 , 49.784, 47.166, 49.705, 50.286, 50.107, 48.481,\n",
              "        51.781, 52.674, 50.963, 47.545, 52.195, 48.496, 52.637, 46.785,\n",
              "        52.743, 49.94 , 46.254, 49.058]])"
            ]
          },
          "execution_count": 25,
          "metadata": {},
          "output_type": "execute_result"
        }
      ],
      "source": [
        "array.reshape(3, -1)"
      ]
    },
    {
      "cell_type": "markdown",
      "metadata": {
        "id": "R-5-2VDzmC3N"
      },
      "source": [
        "#### `transpose`"
      ]
    },
    {
      "cell_type": "markdown",
      "metadata": {
        "id": "Ba6WjLZDEAq1"
      },
      "source": [
        "Lembre-se que as dimensões do array representam os dias, os atletas e as voltas, nesta ordem.\n",
        "\n",
        "Utilize `transpose` para representar o array com os dados dos atletas, depois as voltas, depois os dias. Armazene o resultado em um novo `array_transpose`, exiba o array e, depois seu `shape`."
      ]
    },
    {
      "cell_type": "code",
      "execution_count": 26,
      "metadata": {
        "id": "lF-_KQULD04x"
      },
      "outputs": [],
      "source": [
        "array_transpose = array.transpose((1, 2, 0))\n",
        "# (3, 5, 4)"
      ]
    },
    {
      "cell_type": "code",
      "execution_count": 27,
      "metadata": {
        "colab": {
          "base_uri": "https://localhost:8080/"
        },
        "id": "Atnn5HvvVioW",
        "outputId": "0be1e599-d123-48b6-af75-2dc33d615860"
      },
      "outputs": [
        {
          "data": {
            "text/plain": [
              "array([[[51.037, 50.024, 46.318],\n",
              "        [52.465, 49.173, 47.95 ],\n",
              "        [50.991, 53.882, 49.784],\n",
              "        [46.091, 53.02 , 47.166]],\n",
              "\n",
              "       [[52.716, 41.867, 49.705],\n",
              "        [51.339, 44.333, 50.286],\n",
              "        [48.389, 49.476, 50.107],\n",
              "        [51.743, 48.733, 48.481]],\n",
              "\n",
              "       [[51.094, 50.641, 51.781],\n",
              "        [50.882, 50.652, 52.674],\n",
              "        [50.085, 56.354, 50.963],\n",
              "        [51.64 , 46.664, 47.545]],\n",
              "\n",
              "       [[47.791, 48.867, 52.195],\n",
              "        [49.511, 56.128, 48.496],\n",
              "        [48.554, 51.94 , 52.637],\n",
              "        [51.797, 51.989, 46.785]],\n",
              "\n",
              "       [[50.119, 48.458, 52.743],\n",
              "        [49.123, 45.056, 49.94 ],\n",
              "        [47.654, 50.502, 46.254],\n",
              "        [49.228, 50.327, 49.058]]])"
            ]
          },
          "execution_count": 27,
          "metadata": {},
          "output_type": "execute_result"
        }
      ],
      "source": [
        "array_transpose"
      ]
    },
    {
      "cell_type": "code",
      "execution_count": 28,
      "metadata": {
        "colab": {
          "base_uri": "https://localhost:8080/"
        },
        "id": "0e6TQ3XtEdyW",
        "outputId": "1280cae4-056f-47a1-97df-5bae962ca295"
      },
      "outputs": [
        {
          "data": {
            "text/plain": [
              "(5, 4, 3)"
            ]
          },
          "execution_count": 28,
          "metadata": {},
          "output_type": "execute_result"
        }
      ],
      "source": [
        "array_transpose.shape"
      ]
    },
    {
      "cell_type": "markdown",
      "metadata": {
        "id": "XZGODHRVEnKp"
      },
      "source": [
        "👆 5 atletas, 4 voltas, 3 dias."
      ]
    },
    {
      "cell_type": "markdown",
      "metadata": {
        "id": "m6Q6_BWuFkEr"
      },
      "source": [
        "💡 Ou seja, a primeira linha da visualização:\n",
        "> ```\n",
        "> [51.037, 50.024, 46.318]\n",
        "> ```\n",
        "\n",
        "representa o primeiro atleta, a primeira volta, e os 3 dias."
      ]
    },
    {
      "cell_type": "markdown",
      "metadata": {
        "id": "rQJoh7gYpCMK"
      },
      "source": [
        "#### `swapaxes`"
      ]
    },
    {
      "cell_type": "markdown",
      "metadata": {
        "id": "mnMA6T37E0Ma"
      },
      "source": [
        "A partir de `array_transpose`, agora utilize `swapaxes` para mudar os eixos de forma a representar os atletas, depois os dias, depois as voltas. Armazene o resultado em `array_swapaxes`, exiba o array e seu shape."
      ]
    },
    {
      "cell_type": "code",
      "execution_count": 29,
      "metadata": {
        "id": "07K7qLw-Eqls"
      },
      "outputs": [],
      "source": [
        "array_swapaxes = array_transpose.swapaxes(2, 1)"
      ]
    },
    {
      "cell_type": "code",
      "execution_count": 30,
      "metadata": {
        "colab": {
          "base_uri": "https://localhost:8080/"
        },
        "id": "7zym45C6VpwF",
        "outputId": "3b2e3c74-8b47-4cf1-ac75-144764250d17"
      },
      "outputs": [
        {
          "data": {
            "text/plain": [
              "array([[[51.037, 52.465, 50.991, 46.091],\n",
              "        [50.024, 49.173, 53.882, 53.02 ],\n",
              "        [46.318, 47.95 , 49.784, 47.166]],\n",
              "\n",
              "       [[52.716, 51.339, 48.389, 51.743],\n",
              "        [41.867, 44.333, 49.476, 48.733],\n",
              "        [49.705, 50.286, 50.107, 48.481]],\n",
              "\n",
              "       [[51.094, 50.882, 50.085, 51.64 ],\n",
              "        [50.641, 50.652, 56.354, 46.664],\n",
              "        [51.781, 52.674, 50.963, 47.545]],\n",
              "\n",
              "       [[47.791, 49.511, 48.554, 51.797],\n",
              "        [48.867, 56.128, 51.94 , 51.989],\n",
              "        [52.195, 48.496, 52.637, 46.785]],\n",
              "\n",
              "       [[50.119, 49.123, 47.654, 49.228],\n",
              "        [48.458, 45.056, 50.502, 50.327],\n",
              "        [52.743, 49.94 , 46.254, 49.058]]])"
            ]
          },
          "execution_count": 30,
          "metadata": {},
          "output_type": "execute_result"
        }
      ],
      "source": [
        "array_swapaxes"
      ]
    },
    {
      "cell_type": "code",
      "execution_count": 31,
      "metadata": {
        "colab": {
          "base_uri": "https://localhost:8080/"
        },
        "id": "lkAMnX3sFGgy",
        "outputId": "6d7de04a-f523-465e-84f0-9bc0bbb701f1"
      },
      "outputs": [
        {
          "data": {
            "text/plain": [
              "(5, 3, 4)"
            ]
          },
          "execution_count": 31,
          "metadata": {},
          "output_type": "execute_result"
        }
      ],
      "source": [
        "array_swapaxes.shape"
      ]
    },
    {
      "cell_type": "markdown",
      "metadata": {
        "id": "c1JsYwbMFOCL"
      },
      "source": [
        "👆 5 atletas, 3 dias, 4 voltas."
      ]
    },
    {
      "cell_type": "markdown",
      "metadata": {
        "id": "fHtwYcX_GHa2"
      },
      "source": [
        "💡 Ou seja, a primeira linha da visualização:\n",
        "> ```\n",
        "> [51.037, 52.465, 50.991, 46.091]\n",
        "> ```\n",
        "\n",
        "representa o primeiro atleta, o primeiro dia, as 4 voltas."
      ]
    },
    {
      "cell_type": "markdown",
      "metadata": {
        "id": "EayyBl3PGaSW"
      },
      "source": [
        "#### `flatten` / `ravel`"
      ]
    },
    {
      "cell_type": "markdown",
      "metadata": {
        "id": "wYw8g4oLGoF6"
      },
      "source": [
        "Agora suponha que você tenha que registrar os resultados em um sistema que foi programado para receber dados de forma linear, um valor por vez."
      ]
    },
    {
      "cell_type": "markdown",
      "metadata": {
        "id": "s6AZrErcGd6y"
      },
      "source": [
        "Linearize o array utilizando `flatten` e `ravel`."
      ]
    },
    {
      "cell_type": "code",
      "execution_count": 32,
      "metadata": {
        "colab": {
          "base_uri": "https://localhost:8080/"
        },
        "id": "FwcfsAzGFLv1",
        "outputId": "7cb317bd-94f4-4dd0-a332-46f6076f5d43"
      },
      "outputs": [
        {
          "data": {
            "text/plain": [
              "array([51.037, 52.465, 50.991, 46.091, 52.716, 51.339, 48.389, 51.743,\n",
              "       51.094, 50.882, 50.085, 51.64 , 47.791, 49.511, 48.554, 51.797,\n",
              "       50.119, 49.123, 47.654, 49.228, 50.024, 49.173, 53.882, 53.02 ,\n",
              "       41.867, 44.333, 49.476, 48.733, 50.641, 50.652, 56.354, 46.664,\n",
              "       48.867, 56.128, 51.94 , 51.989, 48.458, 45.056, 50.502, 50.327,\n",
              "       46.318, 47.95 , 49.784, 47.166, 49.705, 50.286, 50.107, 48.481,\n",
              "       51.781, 52.674, 50.963, 47.545, 52.195, 48.496, 52.637, 46.785,\n",
              "       52.743, 49.94 , 46.254, 49.058])"
            ]
          },
          "execution_count": 32,
          "metadata": {},
          "output_type": "execute_result"
        }
      ],
      "source": [
        "array.flatten()"
      ]
    },
    {
      "cell_type": "code",
      "execution_count": 33,
      "metadata": {
        "colab": {
          "base_uri": "https://localhost:8080/"
        },
        "id": "gXxsXyX5Gi2A",
        "outputId": "f8ee9047-d0b4-459e-87db-ad92d2b7b1c5"
      },
      "outputs": [
        {
          "data": {
            "text/plain": [
              "array([51.037, 52.465, 50.991, 46.091, 52.716, 51.339, 48.389, 51.743,\n",
              "       51.094, 50.882, 50.085, 51.64 , 47.791, 49.511, 48.554, 51.797,\n",
              "       50.119, 49.123, 47.654, 49.228, 50.024, 49.173, 53.882, 53.02 ,\n",
              "       41.867, 44.333, 49.476, 48.733, 50.641, 50.652, 56.354, 46.664,\n",
              "       48.867, 56.128, 51.94 , 51.989, 48.458, 45.056, 50.502, 50.327,\n",
              "       46.318, 47.95 , 49.784, 47.166, 49.705, 50.286, 50.107, 48.481,\n",
              "       51.781, 52.674, 50.963, 47.545, 52.195, 48.496, 52.637, 46.785,\n",
              "       52.743, 49.94 , 46.254, 49.058])"
            ]
          },
          "execution_count": 33,
          "metadata": {},
          "output_type": "execute_result"
        }
      ],
      "source": [
        "array.ravel()"
      ]
    },
    {
      "cell_type": "markdown",
      "metadata": {
        "id": "NJehJOgVGuZH"
      },
      "source": [
        "💡 Lembre-se que `flatten` retorna uma **cópia** do array, enquanto que `ravel` retorna uma **view**, que compartilha os dados do `array`, mas mantém seu próprio `shape`."
      ]
    },
    {
      "cell_type": "markdown",
      "metadata": {
        "id": "26rEfgF0G950"
      },
      "source": [
        "#### `squeeze`"
      ]
    },
    {
      "cell_type": "markdown",
      "metadata": {
        "id": "f0hWOcW7HDMT"
      },
      "source": [
        "Nós podemos separar os resultados do primeiro dia em um novo array `array_first_day`, com a seguinte notação:"
      ]
    },
    {
      "cell_type": "code",
      "execution_count": 35,
      "metadata": {
        "id": "pe4wfRaoGjl9"
      },
      "outputs": [],
      "source": [
        "array_first_day = array[0:1]"
      ]
    },
    {
      "cell_type": "code",
      "execution_count": 36,
      "metadata": {
        "colab": {
          "base_uri": "https://localhost:8080/"
        },
        "id": "Nm_bRNInVzWW",
        "outputId": "ef16fcf7-b7a2-4c38-adcd-2bf3b1435d78"
      },
      "outputs": [
        {
          "data": {
            "text/plain": [
              "array([[[51.037, 52.465, 50.991, 46.091],\n",
              "        [52.716, 51.339, 48.389, 51.743],\n",
              "        [51.094, 50.882, 50.085, 51.64 ],\n",
              "        [47.791, 49.511, 48.554, 51.797],\n",
              "        [50.119, 49.123, 47.654, 49.228]]])"
            ]
          },
          "execution_count": 36,
          "metadata": {},
          "output_type": "execute_result"
        }
      ],
      "source": [
        "array_first_day"
      ]
    },
    {
      "cell_type": "code",
      "execution_count": 37,
      "metadata": {
        "colab": {
          "base_uri": "https://localhost:8080/"
        },
        "id": "Ij0MCUtpHN1_",
        "outputId": "31ec1055-1741-4dfb-d638-31f873364ec9"
      },
      "outputs": [
        {
          "data": {
            "text/plain": [
              "(3, (1, 5, 4))"
            ]
          },
          "execution_count": 37,
          "metadata": {},
          "output_type": "execute_result"
        }
      ],
      "source": [
        "array_first_day.ndim, array_first_day.shape"
      ]
    },
    {
      "cell_type": "markdown",
      "metadata": {
        "id": "8r9ti08rHRRL"
      },
      "source": [
        "Observe que o número de dimensões (`ndim`) de `array_first_day` continua sendo igual a 3, ou seja, o mesmo de `array`. Com `shape`, nós observamos que o eixo correspondente aos dias possui um único elemento, justamente o primeiro dia selecionado."
      ]
    },
    {
      "cell_type": "markdown",
      "metadata": {
        "id": "OUtEHbL4Hg4N"
      },
      "source": [
        "Utilize `squeeze` para simplificar este array, removendo o eixo dos dias, já que ele contém somente um único dia. Salve o resultado em `array_squeeze`, exiba o array e, depois, seu `shape`."
      ]
    },
    {
      "cell_type": "code",
      "execution_count": 38,
      "metadata": {
        "id": "J-fC3i1aHe0y"
      },
      "outputs": [],
      "source": [
        "array_squeeze = array_first_day.squeeze()"
      ]
    },
    {
      "cell_type": "code",
      "execution_count": 39,
      "metadata": {
        "colab": {
          "base_uri": "https://localhost:8080/"
        },
        "id": "T0WZeB-VWBdN",
        "outputId": "74364aa0-e3c9-4ed8-8c64-cd010bd913a4"
      },
      "outputs": [
        {
          "data": {
            "text/plain": [
              "array([[51.037, 52.465, 50.991, 46.091],\n",
              "       [52.716, 51.339, 48.389, 51.743],\n",
              "       [51.094, 50.882, 50.085, 51.64 ],\n",
              "       [47.791, 49.511, 48.554, 51.797],\n",
              "       [50.119, 49.123, 47.654, 49.228]])"
            ]
          },
          "execution_count": 39,
          "metadata": {},
          "output_type": "execute_result"
        }
      ],
      "source": [
        "array_squeeze"
      ]
    },
    {
      "cell_type": "markdown",
      "metadata": {
        "id": "I5A825vnH9ZU"
      },
      "source": [
        "👆 Veja que tem um par de colchetes a menos, o que indica a redução de 1 eixo."
      ]
    },
    {
      "cell_type": "code",
      "execution_count": 41,
      "metadata": {
        "colab": {
          "base_uri": "https://localhost:8080/"
        },
        "id": "vQs7xQ5zH1QH",
        "outputId": "4187b767-dbf5-4984-c6fb-228e2b477f68"
      },
      "outputs": [
        {
          "data": {
            "text/plain": [
              "(5, 4)"
            ]
          },
          "execution_count": 41,
          "metadata": {},
          "output_type": "execute_result"
        }
      ],
      "source": [
        "array_squeeze.shape"
      ]
    },
    {
      "cell_type": "markdown",
      "metadata": {
        "id": "MYPsrUGYIqcc"
      },
      "source": [
        "👆 O eixo correspondente ao dia, de tamanho 1, foi removido."
      ]
    },
    {
      "cell_type": "markdown",
      "metadata": {
        "id": "MBMInYBNRzBv"
      },
      "source": [
        "### Métodos de seleção e manipulação de itens"
      ]
    },
    {
      "cell_type": "markdown",
      "metadata": {
        "id": "jAsIIZnUR3Sm"
      },
      "source": [
        "#### `take`"
      ]
    },
    {
      "cell_type": "markdown",
      "metadata": {
        "id": "QDN17sUNSLI7"
      },
      "source": [
        "Agora considere que os dados em `array` se referem ao mesmo atleta. O primeiro eixo continua representando 3 dias diferentes, o último representa as 4 voltas de uma prova, mas o segundo eixo representa 5 provas completas do mesmo atleta. Ou seja, `array` agora contém dados consecutivos do mesmo atleta.\n",
        "\n",
        "Suponha que, assim que terminou as provas, o atleta se queixou de dor no joelho nas voltas de número 12, 25, 31 e 40. Utilizando `take`, recupere o desempenho do atleta nessas voltas."
      ]
    },
    {
      "cell_type": "code",
      "execution_count": 42,
      "metadata": {
        "colab": {
          "base_uri": "https://localhost:8080/"
        },
        "id": "eEDWh2cJH2hb",
        "outputId": "afb4de94-3f07-4bc1-cf89-747d4ceb7d57"
      },
      "outputs": [
        {
          "data": {
            "text/plain": [
              "array([47.791, 44.333, 46.664, 46.318])"
            ]
          },
          "execution_count": 42,
          "metadata": {},
          "output_type": "execute_result"
        }
      ],
      "source": [
        "array.take(indices=[12, 25, 31, 40])"
      ]
    },
    {
      "cell_type": "markdown",
      "metadata": {
        "id": "HpyQqDo4UAVM"
      },
      "source": [
        "Mas o atleta foi mais específico e disse que, nas voltas 12 e 31, a dor foi no joelho direito, e nas voltas 25 e 40, a dor foi no joelho esquerdo. Utilizando `take`, recupere essas voltas novamente, mas de forma a obter os resultados como um array onde a primeira linha se refira ao joelho direito, e a segunda ao joelho esquerdo."
      ]
    },
    {
      "cell_type": "code",
      "execution_count": 43,
      "metadata": {
        "colab": {
          "base_uri": "https://localhost:8080/"
        },
        "id": "MTuIHaMST-3A",
        "outputId": "98728d6a-3b45-469f-9034-1d4e127ab7d7"
      },
      "outputs": [
        {
          "data": {
            "text/plain": [
              "array([[47.791, 46.664],\n",
              "       [44.333, 46.318]])"
            ]
          },
          "execution_count": 43,
          "metadata": {},
          "output_type": "execute_result"
        }
      ],
      "source": [
        "array.take(\n",
        "    indices=[\n",
        "        [12, 31],\n",
        "        [25, 40]\n",
        "    ]\n",
        ")"
      ]
    },
    {
      "cell_type": "markdown",
      "metadata": {
        "id": "rv4RA7cBUjhy"
      },
      "source": [
        "#### `put`"
      ]
    },
    {
      "cell_type": "markdown",
      "metadata": {
        "id": "EG1kesCHUnp-"
      },
      "source": [
        "Com base no que o atleta reportou, seu treinador decidiu desconsiderar o desempenho do atleta nas voltas onde ele se queixou de dor. Utilize `put` para mudar estes valores para a constante `np.nan`, que representa valores nulos em um array do NumPy. Depois, exiba o array modificado."
      ]
    },
    {
      "cell_type": "code",
      "execution_count": 44,
      "metadata": {
        "id": "j-Pq7nW3UZGp"
      },
      "outputs": [],
      "source": [
        "array.put(indices=[12, 25, 31, 40], values=np.nan)"
      ]
    },
    {
      "cell_type": "code",
      "execution_count": 45,
      "metadata": {
        "colab": {
          "base_uri": "https://localhost:8080/"
        },
        "id": "OF5UUu08WVDN",
        "outputId": "642e4232-69ef-4f3c-80eb-fd0b99d246a6"
      },
      "outputs": [
        {
          "data": {
            "text/plain": [
              "array([[[51.037, 52.465, 50.991, 46.091],\n",
              "        [52.716, 51.339, 48.389, 51.743],\n",
              "        [51.094, 50.882, 50.085, 51.64 ],\n",
              "        [   nan, 49.511, 48.554, 51.797],\n",
              "        [50.119, 49.123, 47.654, 49.228]],\n",
              "\n",
              "       [[50.024, 49.173, 53.882, 53.02 ],\n",
              "        [41.867,    nan, 49.476, 48.733],\n",
              "        [50.641, 50.652, 56.354,    nan],\n",
              "        [48.867, 56.128, 51.94 , 51.989],\n",
              "        [48.458, 45.056, 50.502, 50.327]],\n",
              "\n",
              "       [[   nan, 47.95 , 49.784, 47.166],\n",
              "        [49.705, 50.286, 50.107, 48.481],\n",
              "        [51.781, 52.674, 50.963, 47.545],\n",
              "        [52.195, 48.496, 52.637, 46.785],\n",
              "        [52.743, 49.94 , 46.254, 49.058]]])"
            ]
          },
          "execution_count": 45,
          "metadata": {},
          "output_type": "execute_result"
        }
      ],
      "source": [
        "array"
      ]
    },
    {
      "cell_type": "markdown",
      "metadata": {
        "id": "mJX772smVsDl"
      },
      "source": [
        "#### `repeat`\n",
        "\n",
        "Repita os valores do array para que eles sejam duplicados (`repeat = 2`), ao longo do eixo 0, 1 e 2, separadamente.\n",
        "\n",
        "Depois, exiba o array para inspecionar onde ocorreu a repetição. Exiba também o `shape` do array para observar a alteração feita."
      ]
    },
    {
      "cell_type": "code",
      "execution_count": 46,
      "metadata": {
        "id": "Xh3MJrSMVg5i"
      },
      "outputs": [],
      "source": [
        "array_repeat_axis_0 = array.repeat(repeats=2, axis=0)"
      ]
    },
    {
      "cell_type": "code",
      "execution_count": 47,
      "metadata": {
        "colab": {
          "base_uri": "https://localhost:8080/"
        },
        "id": "yIBXvRLfWP8f",
        "outputId": "c5f9f64a-351b-4495-c249-cc850102bfad"
      },
      "outputs": [
        {
          "data": {
            "text/plain": [
              "array([[[51.037, 52.465, 50.991, 46.091],\n",
              "        [52.716, 51.339, 48.389, 51.743],\n",
              "        [51.094, 50.882, 50.085, 51.64 ],\n",
              "        [   nan, 49.511, 48.554, 51.797],\n",
              "        [50.119, 49.123, 47.654, 49.228]],\n",
              "\n",
              "       [[51.037, 52.465, 50.991, 46.091],\n",
              "        [52.716, 51.339, 48.389, 51.743],\n",
              "        [51.094, 50.882, 50.085, 51.64 ],\n",
              "        [   nan, 49.511, 48.554, 51.797],\n",
              "        [50.119, 49.123, 47.654, 49.228]],\n",
              "\n",
              "       [[50.024, 49.173, 53.882, 53.02 ],\n",
              "        [41.867,    nan, 49.476, 48.733],\n",
              "        [50.641, 50.652, 56.354,    nan],\n",
              "        [48.867, 56.128, 51.94 , 51.989],\n",
              "        [48.458, 45.056, 50.502, 50.327]],\n",
              "\n",
              "       [[50.024, 49.173, 53.882, 53.02 ],\n",
              "        [41.867,    nan, 49.476, 48.733],\n",
              "        [50.641, 50.652, 56.354,    nan],\n",
              "        [48.867, 56.128, 51.94 , 51.989],\n",
              "        [48.458, 45.056, 50.502, 50.327]],\n",
              "\n",
              "       [[   nan, 47.95 , 49.784, 47.166],\n",
              "        [49.705, 50.286, 50.107, 48.481],\n",
              "        [51.781, 52.674, 50.963, 47.545],\n",
              "        [52.195, 48.496, 52.637, 46.785],\n",
              "        [52.743, 49.94 , 46.254, 49.058]],\n",
              "\n",
              "       [[   nan, 47.95 , 49.784, 47.166],\n",
              "        [49.705, 50.286, 50.107, 48.481],\n",
              "        [51.781, 52.674, 50.963, 47.545],\n",
              "        [52.195, 48.496, 52.637, 46.785],\n",
              "        [52.743, 49.94 , 46.254, 49.058]]])"
            ]
          },
          "execution_count": 47,
          "metadata": {},
          "output_type": "execute_result"
        }
      ],
      "source": [
        "array_repeat_axis_0"
      ]
    },
    {
      "cell_type": "code",
      "execution_count": 48,
      "metadata": {
        "colab": {
          "base_uri": "https://localhost:8080/"
        },
        "id": "E93uyKKHWSON",
        "outputId": "7330fe03-9a94-4343-efd5-8f08a5630e1a"
      },
      "outputs": [
        {
          "data": {
            "text/plain": [
              "(6, 5, 4)"
            ]
          },
          "execution_count": 48,
          "metadata": {},
          "output_type": "execute_result"
        }
      ],
      "source": [
        "array_repeat_axis_0.shape"
      ]
    },
    {
      "cell_type": "markdown",
      "metadata": {
        "id": "rMEXXJFgWZ35"
      },
      "source": [
        "👆 Veja que os dados correspondentes aos dias foram duplicados."
      ]
    },
    {
      "cell_type": "code",
      "execution_count": 49,
      "metadata": {
        "id": "MlH1rHWgWinA"
      },
      "outputs": [],
      "source": [
        "array_repeat_axis_1 = array.repeat(repeats=2, axis=1)"
      ]
    },
    {
      "cell_type": "code",
      "execution_count": 50,
      "metadata": {
        "colab": {
          "base_uri": "https://localhost:8080/"
        },
        "id": "T-QCAcnDWinC",
        "outputId": "fa0f4bf1-e792-41b6-8037-c30e6ccfaf65"
      },
      "outputs": [
        {
          "data": {
            "text/plain": [
              "array([[[51.037, 52.465, 50.991, 46.091],\n",
              "        [51.037, 52.465, 50.991, 46.091],\n",
              "        [52.716, 51.339, 48.389, 51.743],\n",
              "        [52.716, 51.339, 48.389, 51.743],\n",
              "        [51.094, 50.882, 50.085, 51.64 ],\n",
              "        [51.094, 50.882, 50.085, 51.64 ],\n",
              "        [   nan, 49.511, 48.554, 51.797],\n",
              "        [   nan, 49.511, 48.554, 51.797],\n",
              "        [50.119, 49.123, 47.654, 49.228],\n",
              "        [50.119, 49.123, 47.654, 49.228]],\n",
              "\n",
              "       [[50.024, 49.173, 53.882, 53.02 ],\n",
              "        [50.024, 49.173, 53.882, 53.02 ],\n",
              "        [41.867,    nan, 49.476, 48.733],\n",
              "        [41.867,    nan, 49.476, 48.733],\n",
              "        [50.641, 50.652, 56.354,    nan],\n",
              "        [50.641, 50.652, 56.354,    nan],\n",
              "        [48.867, 56.128, 51.94 , 51.989],\n",
              "        [48.867, 56.128, 51.94 , 51.989],\n",
              "        [48.458, 45.056, 50.502, 50.327],\n",
              "        [48.458, 45.056, 50.502, 50.327]],\n",
              "\n",
              "       [[   nan, 47.95 , 49.784, 47.166],\n",
              "        [   nan, 47.95 , 49.784, 47.166],\n",
              "        [49.705, 50.286, 50.107, 48.481],\n",
              "        [49.705, 50.286, 50.107, 48.481],\n",
              "        [51.781, 52.674, 50.963, 47.545],\n",
              "        [51.781, 52.674, 50.963, 47.545],\n",
              "        [52.195, 48.496, 52.637, 46.785],\n",
              "        [52.195, 48.496, 52.637, 46.785],\n",
              "        [52.743, 49.94 , 46.254, 49.058],\n",
              "        [52.743, 49.94 , 46.254, 49.058]]])"
            ]
          },
          "execution_count": 50,
          "metadata": {},
          "output_type": "execute_result"
        }
      ],
      "source": [
        "array_repeat_axis_1"
      ]
    },
    {
      "cell_type": "code",
      "execution_count": 51,
      "metadata": {
        "colab": {
          "base_uri": "https://localhost:8080/"
        },
        "id": "1Mm3G9dAWinI",
        "outputId": "dfe9a9c2-945f-4ab6-f63f-22a19ccd370f"
      },
      "outputs": [
        {
          "data": {
            "text/plain": [
              "(3, 10, 4)"
            ]
          },
          "execution_count": 51,
          "metadata": {},
          "output_type": "execute_result"
        }
      ],
      "source": [
        "array_repeat_axis_1.shape"
      ]
    },
    {
      "cell_type": "markdown",
      "metadata": {
        "id": "y9s2J6rYWwPW"
      },
      "source": [
        "👆 Veja que os dados correspondentes às provas foram duplicados."
      ]
    },
    {
      "cell_type": "code",
      "execution_count": 52,
      "metadata": {
        "id": "T8REchlhW29U"
      },
      "outputs": [],
      "source": [
        "array_repeat_axis_2 = array.repeat(repeats=2, axis=2)"
      ]
    },
    {
      "cell_type": "code",
      "execution_count": 53,
      "metadata": {
        "colab": {
          "base_uri": "https://localhost:8080/"
        },
        "id": "nHCT3XixW29W",
        "outputId": "bb0f98dc-0366-41fc-c10a-9cf44d1979a9"
      },
      "outputs": [
        {
          "data": {
            "text/plain": [
              "array([[[51.037, 51.037, 52.465, 52.465, 50.991, 50.991, 46.091, 46.091],\n",
              "        [52.716, 52.716, 51.339, 51.339, 48.389, 48.389, 51.743, 51.743],\n",
              "        [51.094, 51.094, 50.882, 50.882, 50.085, 50.085, 51.64 , 51.64 ],\n",
              "        [   nan,    nan, 49.511, 49.511, 48.554, 48.554, 51.797, 51.797],\n",
              "        [50.119, 50.119, 49.123, 49.123, 47.654, 47.654, 49.228, 49.228]],\n",
              "\n",
              "       [[50.024, 50.024, 49.173, 49.173, 53.882, 53.882, 53.02 , 53.02 ],\n",
              "        [41.867, 41.867,    nan,    nan, 49.476, 49.476, 48.733, 48.733],\n",
              "        [50.641, 50.641, 50.652, 50.652, 56.354, 56.354,    nan,    nan],\n",
              "        [48.867, 48.867, 56.128, 56.128, 51.94 , 51.94 , 51.989, 51.989],\n",
              "        [48.458, 48.458, 45.056, 45.056, 50.502, 50.502, 50.327, 50.327]],\n",
              "\n",
              "       [[   nan,    nan, 47.95 , 47.95 , 49.784, 49.784, 47.166, 47.166],\n",
              "        [49.705, 49.705, 50.286, 50.286, 50.107, 50.107, 48.481, 48.481],\n",
              "        [51.781, 51.781, 52.674, 52.674, 50.963, 50.963, 47.545, 47.545],\n",
              "        [52.195, 52.195, 48.496, 48.496, 52.637, 52.637, 46.785, 46.785],\n",
              "        [52.743, 52.743, 49.94 , 49.94 , 46.254, 46.254, 49.058, 49.058]]])"
            ]
          },
          "execution_count": 53,
          "metadata": {},
          "output_type": "execute_result"
        }
      ],
      "source": [
        "array_repeat_axis_2"
      ]
    },
    {
      "cell_type": "code",
      "execution_count": 54,
      "metadata": {
        "colab": {
          "base_uri": "https://localhost:8080/"
        },
        "id": "CFwT23nuW29W",
        "outputId": "643a534e-cf8d-40c0-c33c-b7781dad6e60"
      },
      "outputs": [
        {
          "data": {
            "text/plain": [
              "(3, 5, 8)"
            ]
          },
          "execution_count": 54,
          "metadata": {},
          "output_type": "execute_result"
        }
      ],
      "source": [
        "array_repeat_axis_2.shape"
      ]
    },
    {
      "cell_type": "markdown",
      "metadata": {
        "id": "7WfsEy8qW9Sg"
      },
      "source": [
        "👆 Veja que os dados correspondentes às voltas foram duplicados."
      ]
    },
    {
      "cell_type": "markdown",
      "metadata": {
        "id": "qyaDsY-CXQKl"
      },
      "source": [
        "#### `sort`"
      ]
    },
    {
      "cell_type": "markdown",
      "metadata": {
        "id": "xuJHaOa2XWkL"
      },
      "source": [
        "Primeiro, crie uma cópia de `array`, já que `sort` altera o array *inplace*.\n",
        "\n",
        "Depois, utilize `sort` para ordenar o array ao longo do eixo 0. Exiba o array ordenado para observar o que aconteceu."
      ]
    },
    {
      "cell_type": "code",
      "execution_count": 55,
      "metadata": {
        "id": "hNITNTujWWLL"
      },
      "outputs": [],
      "source": [
        "array_copy = array.copy()"
      ]
    },
    {
      "cell_type": "code",
      "execution_count": 56,
      "metadata": {
        "id": "gxWmOVo2XtmB"
      },
      "outputs": [],
      "source": [
        "array_copy.sort(axis=0)"
      ]
    },
    {
      "cell_type": "code",
      "execution_count": 57,
      "metadata": {
        "colab": {
          "base_uri": "https://localhost:8080/"
        },
        "id": "olFR5axZXv9f",
        "outputId": "3a49dfd7-36b7-41da-ff3e-62cd268158c9"
      },
      "outputs": [
        {
          "data": {
            "text/plain": [
              "array([[[50.024, 47.95 , 49.784, 46.091],\n",
              "        [41.867, 50.286, 48.389, 48.481],\n",
              "        [50.641, 50.652, 50.085, 47.545],\n",
              "        [48.867, 48.496, 48.554, 46.785],\n",
              "        [48.458, 45.056, 46.254, 49.058]],\n",
              "\n",
              "       [[51.037, 49.173, 50.991, 47.166],\n",
              "        [49.705, 51.339, 49.476, 48.733],\n",
              "        [51.094, 50.882, 50.963, 51.64 ],\n",
              "        [52.195, 49.511, 51.94 , 51.797],\n",
              "        [50.119, 49.123, 47.654, 49.228]],\n",
              "\n",
              "       [[   nan, 52.465, 53.882, 53.02 ],\n",
              "        [52.716,    nan, 50.107, 51.743],\n",
              "        [51.781, 52.674, 56.354,    nan],\n",
              "        [   nan, 56.128, 52.637, 51.989],\n",
              "        [52.743, 49.94 , 50.502, 50.327]]])"
            ]
          },
          "execution_count": 57,
          "metadata": {},
          "output_type": "execute_result"
        }
      ],
      "source": [
        "array_copy"
      ]
    },
    {
      "cell_type": "markdown",
      "metadata": {
        "id": "Mbe5KJAOYFCe"
      },
      "source": [
        "👆 Observe que, ao longo dos dias, os valores estão ordenados de forma crescente: `50.024 -> 51.037 -> nan`, `47.95 -> 49.173 -> 52.465`...\n",
        "\n",
        "Também observe que o NumPy coloca `nan` no **final** da ordem; todos os valores `nan` estão no terceiro elemento do eixo 0."
      ]
    },
    {
      "cell_type": "markdown",
      "metadata": {
        "id": "8GDB07H5XEoE"
      },
      "source": [
        "Agora repita o procedimento, copiando o array e depois ordenando ao longo do eixo 1."
      ]
    },
    {
      "cell_type": "code",
      "execution_count": 58,
      "metadata": {
        "id": "NzDC2jd-YqVt"
      },
      "outputs": [],
      "source": [
        "array_copy = array.copy()"
      ]
    },
    {
      "cell_type": "code",
      "execution_count": 59,
      "metadata": {
        "id": "syIm3BktYqVu"
      },
      "outputs": [],
      "source": [
        "array_copy.sort(axis=1)"
      ]
    },
    {
      "cell_type": "code",
      "execution_count": 60,
      "metadata": {
        "colab": {
          "base_uri": "https://localhost:8080/"
        },
        "id": "K77uuB8PYqVv",
        "outputId": "a4748fc5-9ad5-4dd4-8a42-29048de810be"
      },
      "outputs": [
        {
          "data": {
            "text/plain": [
              "array([[[50.119, 49.123, 47.654, 46.091],\n",
              "        [51.037, 49.511, 48.389, 49.228],\n",
              "        [51.094, 50.882, 48.554, 51.64 ],\n",
              "        [52.716, 51.339, 50.085, 51.743],\n",
              "        [   nan, 52.465, 50.991, 51.797]],\n",
              "\n",
              "       [[41.867, 45.056, 49.476, 48.733],\n",
              "        [48.458, 49.173, 50.502, 50.327],\n",
              "        [48.867, 50.652, 51.94 , 51.989],\n",
              "        [50.024, 56.128, 53.882, 53.02 ],\n",
              "        [50.641,    nan, 56.354,    nan]],\n",
              "\n",
              "       [[49.705, 47.95 , 46.254, 46.785],\n",
              "        [51.781, 48.496, 49.784, 47.166],\n",
              "        [52.195, 49.94 , 50.107, 47.545],\n",
              "        [52.743, 50.286, 50.963, 48.481],\n",
              "        [   nan, 52.674, 52.637, 49.058]]])"
            ]
          },
          "execution_count": 60,
          "metadata": {},
          "output_type": "execute_result"
        }
      ],
      "source": [
        "array_copy"
      ]
    },
    {
      "cell_type": "markdown",
      "metadata": {
        "id": "bA0cpbS8YyVK"
      },
      "source": [
        "👆 Agora, a ordenação ocorre ao longo das provas (que na visualização correspondem às colunas): `50.119 -> 51.037 -> 51.094 -> 52.716 -> nan`...\n",
        "\n",
        "Desta vez, os valores `nan` estão no último elemento do eixo 1 (última linha de cada array que representa os dias)."
      ]
    },
    {
      "cell_type": "markdown",
      "metadata": {
        "id": "ok5nzOqZXRD9"
      },
      "source": [
        "Repita mais uma vez, copiando o array e depois ordenando ao longo do eixo 2."
      ]
    },
    {
      "cell_type": "code",
      "execution_count": 61,
      "metadata": {
        "id": "XP5AiSwTXRD-"
      },
      "outputs": [],
      "source": [
        "array_copy = array.copy()"
      ]
    },
    {
      "cell_type": "code",
      "execution_count": 62,
      "metadata": {
        "id": "IrE_8AEVXRD_"
      },
      "outputs": [],
      "source": [
        "array_copy.sort(axis=2)"
      ]
    },
    {
      "cell_type": "code",
      "execution_count": 63,
      "metadata": {
        "colab": {
          "base_uri": "https://localhost:8080/"
        },
        "id": "eE99UqMqXREA",
        "outputId": "31425b04-4c2f-40ca-85df-7ad89e57b458"
      },
      "outputs": [
        {
          "data": {
            "text/plain": [
              "array([[[46.091, 50.991, 51.037, 52.465],\n",
              "        [48.389, 51.339, 51.743, 52.716],\n",
              "        [50.085, 50.882, 51.094, 51.64 ],\n",
              "        [48.554, 49.511, 51.797,    nan],\n",
              "        [47.654, 49.123, 49.228, 50.119]],\n",
              "\n",
              "       [[49.173, 50.024, 53.02 , 53.882],\n",
              "        [41.867, 48.733, 49.476,    nan],\n",
              "        [50.641, 50.652, 56.354,    nan],\n",
              "        [48.867, 51.94 , 51.989, 56.128],\n",
              "        [45.056, 48.458, 50.327, 50.502]],\n",
              "\n",
              "       [[47.166, 47.95 , 49.784,    nan],\n",
              "        [48.481, 49.705, 50.107, 50.286],\n",
              "        [47.545, 50.963, 51.781, 52.674],\n",
              "        [46.785, 48.496, 52.195, 52.637],\n",
              "        [46.254, 49.058, 49.94 , 52.743]]])"
            ]
          },
          "execution_count": 63,
          "metadata": {},
          "output_type": "execute_result"
        }
      ],
      "source": [
        "array_copy"
      ]
    },
    {
      "cell_type": "markdown",
      "metadata": {
        "id": "04Uf8tkYXYCp"
      },
      "source": [
        "👆 A ordenação ocorre ao longo das voltas (que na visualização correspondem às linhas): `46.091 -> 50.991 -> 51.037 -> 52.465`...\n",
        "\n",
        "Desta vez, os valores `nan` estão no último elemento do eixo 2 (última coluna  de cada array que representa os dias)."
      ]
    },
    {
      "cell_type": "markdown",
      "metadata": {
        "id": "Nyacp0JcZep_"
      },
      "source": [
        "#### `argsort`"
      ]
    },
    {
      "cell_type": "markdown",
      "metadata": {
        "id": "n2OmEc8AZg-I"
      },
      "source": [
        "Repita o exercício com `sort`, mas agora, ao invés de ordenar os valores *inplace*, recupere e exiba os índices necessários para ordenar o array. Isto é feito com o método `argsort`.\n",
        "\n",
        "Desta vez, como não há modificação do array, você não precisa da cópia."
      ]
    },
    {
      "cell_type": "code",
      "execution_count": 64,
      "metadata": {
        "id": "uS_B3Y7XXwj6"
      },
      "outputs": [],
      "source": [
        "indices_axis_0 = array.argsort(axis=0)"
      ]
    },
    {
      "cell_type": "code",
      "execution_count": 65,
      "metadata": {
        "colab": {
          "base_uri": "https://localhost:8080/"
        },
        "id": "3rOG5MjVZwDu",
        "outputId": "4ad93523-822d-47dc-b107-5edac4454c2e"
      },
      "outputs": [
        {
          "data": {
            "text/plain": [
              "array([[[1, 2, 2, 0],\n",
              "        [1, 2, 0, 2],\n",
              "        [1, 1, 0, 2],\n",
              "        [1, 2, 0, 2],\n",
              "        [1, 1, 2, 2]],\n",
              "\n",
              "       [[0, 1, 0, 2],\n",
              "        [2, 0, 1, 1],\n",
              "        [0, 0, 2, 0],\n",
              "        [2, 0, 1, 0],\n",
              "        [0, 0, 0, 0]],\n",
              "\n",
              "       [[2, 0, 1, 1],\n",
              "        [0, 1, 2, 0],\n",
              "        [2, 2, 1, 1],\n",
              "        [0, 1, 2, 1],\n",
              "        [2, 2, 1, 1]]])"
            ]
          },
          "execution_count": 65,
          "metadata": {},
          "output_type": "execute_result"
        }
      ],
      "source": [
        "indices_axis_0"
      ]
    },
    {
      "cell_type": "markdown",
      "metadata": {
        "id": "pj66wYaGZzfw"
      },
      "source": [
        "👆 Observe que o valor máximo neste array que representa os índices é 2, porque o eixo 0 só contém 3 elementos (3 dias)."
      ]
    },
    {
      "cell_type": "code",
      "execution_count": 66,
      "metadata": {
        "id": "bJmVm401Z_y5"
      },
      "outputs": [],
      "source": [
        "indices_axis_1 = array.argsort(axis=1)"
      ]
    },
    {
      "cell_type": "code",
      "execution_count": 67,
      "metadata": {
        "colab": {
          "base_uri": "https://localhost:8080/"
        },
        "id": "dSaUMOMZZ_y6",
        "outputId": "3bf63294-47df-414f-b5fd-dcd228315ed8"
      },
      "outputs": [
        {
          "data": {
            "text/plain": [
              "array([[[4, 4, 4, 0],\n",
              "        [0, 3, 1, 4],\n",
              "        [2, 2, 3, 2],\n",
              "        [1, 1, 2, 1],\n",
              "        [3, 0, 0, 3]],\n",
              "\n",
              "       [[1, 4, 1, 1],\n",
              "        [4, 0, 4, 4],\n",
              "        [3, 2, 3, 3],\n",
              "        [0, 3, 0, 0],\n",
              "        [2, 1, 2, 2]],\n",
              "\n",
              "       [[1, 0, 4, 3],\n",
              "        [2, 3, 0, 0],\n",
              "        [3, 4, 1, 2],\n",
              "        [4, 1, 2, 1],\n",
              "        [0, 2, 3, 4]]])"
            ]
          },
          "execution_count": 67,
          "metadata": {},
          "output_type": "execute_result"
        }
      ],
      "source": [
        "indices_axis_1"
      ]
    },
    {
      "cell_type": "markdown",
      "metadata": {
        "id": "ZbhKDrUGaCxa"
      },
      "source": [
        "👆 Agora o valor máximo é 4, pois o eixo 1 tem 5 elementos (5 atletas)."
      ]
    },
    {
      "cell_type": "code",
      "execution_count": 68,
      "metadata": {
        "id": "uIhAsL6eX5-Q"
      },
      "outputs": [],
      "source": [
        "indices_axis_2 = array.argsort(axis=2)"
      ]
    },
    {
      "cell_type": "code",
      "execution_count": 69,
      "metadata": {
        "colab": {
          "base_uri": "https://localhost:8080/"
        },
        "id": "M64Fsv0-X5-g",
        "outputId": "7c73fc71-f01d-4d05-fb38-3d353c8a61b4"
      },
      "outputs": [
        {
          "data": {
            "text/plain": [
              "array([[[3, 2, 0, 1],\n",
              "        [2, 1, 3, 0],\n",
              "        [2, 1, 0, 3],\n",
              "        [2, 1, 3, 0],\n",
              "        [2, 1, 3, 0]],\n",
              "\n",
              "       [[1, 0, 3, 2],\n",
              "        [0, 3, 2, 1],\n",
              "        [0, 1, 2, 3],\n",
              "        [0, 2, 3, 1],\n",
              "        [1, 0, 3, 2]],\n",
              "\n",
              "       [[3, 1, 2, 0],\n",
              "        [3, 0, 2, 1],\n",
              "        [3, 2, 0, 1],\n",
              "        [3, 1, 0, 2],\n",
              "        [2, 3, 1, 0]]])"
            ]
          },
          "execution_count": 69,
          "metadata": {},
          "output_type": "execute_result"
        }
      ],
      "source": [
        "indices_axis_2"
      ]
    },
    {
      "cell_type": "markdown",
      "metadata": {
        "id": "PebMHT6FX5-h"
      },
      "source": [
        "👆 O valor máximo é 3, pois o eixo 2 tem 4 elementos (4 voltas)."
      ]
    },
    {
      "cell_type": "markdown",
      "metadata": {
        "id": "SgS_GAXIaLzy"
      },
      "source": [
        "#### `searchsorted`"
      ]
    },
    {
      "cell_type": "markdown",
      "metadata": {
        "id": "JPSHH5xuaZ3r"
      },
      "source": [
        "Este método só funciona para arrays 1D que já estejam ordenados.\n",
        "\n",
        "Então, primeiro linearize `array` com `flatten`, depois ordene com `sort` (lembre-se que o método `sort` altera o array *inplace*, ou seja, ele não retorna nada, então você não precisa armazenar o resultado em uma nova variável), e utilize indexação para recuperar os primeiros 15 elementos."
      ]
    },
    {
      "cell_type": "code",
      "execution_count": 70,
      "metadata": {
        "id": "6su6Be8NZxUF"
      },
      "outputs": [],
      "source": [
        "array_flatten = array.flatten()"
      ]
    },
    {
      "cell_type": "code",
      "execution_count": 71,
      "metadata": {
        "id": "ty6RKS7xat9X"
      },
      "outputs": [],
      "source": [
        "array_flatten.sort()"
      ]
    },
    {
      "cell_type": "code",
      "execution_count": 72,
      "metadata": {
        "id": "vMal93qfavv4"
      },
      "outputs": [],
      "source": [
        "array_filtered = array_flatten[:15]"
      ]
    },
    {
      "cell_type": "code",
      "execution_count": 73,
      "metadata": {
        "colab": {
          "base_uri": "https://localhost:8080/"
        },
        "id": "h16GWEU_ayrO",
        "outputId": "c518ba39-ad19-4b3f-ae06-b298e2efee10"
      },
      "outputs": [
        {
          "data": {
            "text/plain": [
              "array([41.867, 45.056, 46.091, 46.254, 46.785, 47.166, 47.545, 47.654,\n",
              "       47.95 , 48.389, 48.458, 48.481, 48.496, 48.554, 48.733])"
            ]
          },
          "execution_count": 73,
          "metadata": {},
          "output_type": "execute_result"
        }
      ],
      "source": [
        "array_filtered"
      ]
    },
    {
      "cell_type": "markdown",
      "metadata": {
        "id": "I7flt5m_bN59"
      },
      "source": [
        "Utilizando `searchsorted`, descubra em que posições deveriam ser inseridos os valores 40.50, 42.357, 47.025 e 48.952 deveriam ser inseridos para manter a ordenação."
      ]
    },
    {
      "cell_type": "code",
      "execution_count": 74,
      "metadata": {
        "id": "Scl0KHngbLFk"
      },
      "outputs": [],
      "source": [
        "indices = array_filtered.searchsorted([40.50, 42.357, 47.025, 48.952])"
      ]
    },
    {
      "cell_type": "code",
      "execution_count": 75,
      "metadata": {
        "colab": {
          "base_uri": "https://localhost:8080/"
        },
        "id": "eBJS9z0JbjLB",
        "outputId": "85588d31-4877-46ab-f0a9-752f89525ac3"
      },
      "outputs": [
        {
          "data": {
            "text/plain": [
              "array([ 0,  1,  5, 15])"
            ]
          },
          "execution_count": 75,
          "metadata": {},
          "output_type": "execute_result"
        }
      ],
      "source": [
        "indices"
      ]
    },
    {
      "cell_type": "markdown",
      "metadata": {
        "id": "onCHIiqlYgz_"
      },
      "source": [
        "👆 Inspecione o array e os índices encontrados para confirmar a resposta."
      ]
    },
    {
      "cell_type": "markdown",
      "metadata": {
        "id": "K5vw2BWXcH4X"
      },
      "source": [
        "#### `diagonal`"
      ]
    },
    {
      "cell_type": "markdown",
      "metadata": {
        "id": "ciodeUGscKLe"
      },
      "source": [
        "O entendimento de diagonais é facilitado trabalhando com arrays 2D.\n",
        "\n",
        "Por isso, primeiro obtenha com indexação uma view do array correspondente ao primeiro dia."
      ]
    },
    {
      "cell_type": "code",
      "execution_count": 76,
      "metadata": {
        "id": "fqkkR9BIbtzB"
      },
      "outputs": [],
      "source": [
        "array_2D = array[0]"
      ]
    },
    {
      "cell_type": "code",
      "execution_count": 77,
      "metadata": {
        "colab": {
          "base_uri": "https://localhost:8080/"
        },
        "id": "9tl_IIcscijH",
        "outputId": "1fca223f-67f4-48cb-eaab-7b3e8066fba0"
      },
      "outputs": [
        {
          "data": {
            "text/plain": [
              "array([[51.037, 52.465, 50.991, 46.091],\n",
              "       [52.716, 51.339, 48.389, 51.743],\n",
              "       [51.094, 50.882, 50.085, 51.64 ],\n",
              "       [   nan, 49.511, 48.554, 51.797],\n",
              "       [50.119, 49.123, 47.654, 49.228]])"
            ]
          },
          "execution_count": 77,
          "metadata": {},
          "output_type": "execute_result"
        }
      ],
      "source": [
        "array_2D"
      ]
    },
    {
      "cell_type": "code",
      "execution_count": 78,
      "metadata": {
        "colab": {
          "base_uri": "https://localhost:8080/"
        },
        "id": "XygiEHVWcoc5",
        "outputId": "29f61af4-8350-44e6-e8c3-6a36475eacf3"
      },
      "outputs": [
        {
          "data": {
            "text/plain": [
              "(5, 4)"
            ]
          },
          "execution_count": 78,
          "metadata": {},
          "output_type": "execute_result"
        }
      ],
      "source": [
        "array_2D.shape"
      ]
    },
    {
      "cell_type": "markdown",
      "metadata": {
        "id": "_oFruyxicrdD"
      },
      "source": [
        "Agora, recupere e exiba a diagonal deste array."
      ]
    },
    {
      "cell_type": "code",
      "execution_count": 79,
      "metadata": {
        "colab": {
          "base_uri": "https://localhost:8080/"
        },
        "id": "hANKXYvUbjo9",
        "outputId": "91eb9812-a181-4f16-b678-282027f53077"
      },
      "outputs": [
        {
          "data": {
            "text/plain": [
              "array([51.037, 51.339, 50.085, 51.797])"
            ]
          },
          "execution_count": 79,
          "metadata": {},
          "output_type": "execute_result"
        }
      ],
      "source": [
        "array_2D.diagonal()"
      ]
    },
    {
      "cell_type": "markdown",
      "metadata": {
        "id": "wxLdBG1VcxiG"
      },
      "source": [
        "👆 Não é difícil encontrar visualmente esta diagonal em `array_2D`.\n",
        "\n",
        "Observe que, como `array_2D` é **retangular** (como demonstra seu `shape`), nenhum valor da última linha é retornado na diagonal, pois ele tem mais linhas que colunas."
      ]
    }
  ],
  "metadata": {
    "colab": {
      "provenance": []
    },
    "kernelspec": {
      "display_name": ".venv",
      "language": "python",
      "name": "python3"
    },
    "language_info": {
      "codemirror_mode": {
        "name": "ipython",
        "version": 3
      },
      "file_extension": ".py",
      "mimetype": "text/x-python",
      "name": "python",
      "nbconvert_exporter": "python",
      "pygments_lexer": "ipython3",
      "version": "3.12.11"
    }
  },
  "nbformat": 4,
  "nbformat_minor": 0
}
