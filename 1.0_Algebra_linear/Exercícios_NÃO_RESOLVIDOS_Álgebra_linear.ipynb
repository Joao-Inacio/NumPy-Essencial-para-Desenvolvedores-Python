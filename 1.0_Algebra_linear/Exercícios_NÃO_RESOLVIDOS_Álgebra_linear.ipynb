{
  "cells": [
    {
      "cell_type": "code",
      "execution_count": 1,
      "metadata": {
        "colab": {
          "base_uri": "https://localhost:8080/",
          "height": 35
        },
        "id": "9U5fHsTXmTlI",
        "outputId": "41445b42-6440-4b60-99c2-073fc91c0101"
      },
      "outputs": [
        {
          "data": {
            "text/plain": [
              "'2.3.4'"
            ]
          },
          "execution_count": 1,
          "metadata": {},
          "output_type": "execute_result"
        }
      ],
      "source": [
        "import numpy as np\n",
        "np.__version__"
      ]
    },
    {
      "cell_type": "markdown",
      "metadata": {
        "id": "jA1Yy1o-hQFm"
      },
      "source": [
        "### Produtos matriciais e vetoriais"
      ]
    },
    {
      "cell_type": "markdown",
      "metadata": {
        "id": "x3et92EVqR9t"
      },
      "source": [
        "O array abaixo representa as notas de 5 alunos em 4 provas realizadas ao longo de um semestre."
      ]
    },
    {
      "cell_type": "code",
      "execution_count": 2,
      "metadata": {
        "id": "IPPMPJzCqYUO"
      },
      "outputs": [],
      "source": [
        "rng = np.random.default_rng(seed=5)"
      ]
    },
    {
      "cell_type": "code",
      "execution_count": 3,
      "metadata": {
        "id": "wyDF3CSRqdv6"
      },
      "outputs": [],
      "source": [
        "scores = np.clip( # limita as notas para o intervalo [0, 10]\n",
        "    a=np.round( # arredondamento das notas para 1 cada decimal\n",
        "        a=rng.normal(loc=7, scale=2, size=20), # amostra de números com distribuição normal\n",
        "        decimals=1\n",
        "        ),\n",
        "    a_min=0,\n",
        "    a_max=10\n",
        ").reshape(5, 4) # altera para o shape desejado"
      ]
    },
    {
      "cell_type": "code",
      "execution_count": 4,
      "metadata": {
        "colab": {
          "base_uri": "https://localhost:8080/"
        },
        "id": "HVNVVSwWrPVu",
        "outputId": "9ab8d65a-9fb6-4d33-eeee-477851030a18"
      },
      "outputs": [
        {
          "data": {
            "text/plain": [
              "array([[ 5.4,  4.4,  6.5,  7.8],\n",
              "       [ 9.3,  7.2,  5.9,  5.4],\n",
              "       [ 8.5, 10. ,  7.5,  4.5],\n",
              "       [ 5.1, 10. ,  7.4,  3.5],\n",
              "       [ 6.8,  4.7,  5.7,  6. ]])"
            ]
          },
          "execution_count": 4,
          "metadata": {},
          "output_type": "execute_result"
        }
      ],
      "source": [
        "scores"
      ]
    },
    {
      "cell_type": "markdown",
      "metadata": {
        "id": "G5f-amFiqCHH"
      },
      "source": [
        "👆 5 alunos (5 linhas), 4 notas (4 colunas)."
      ]
    },
    {
      "cell_type": "markdown",
      "metadata": {
        "id": "S9HBw-UprSAY"
      },
      "source": [
        "Para calcular a média, o professor decidiu aplicar pesos diferentes a cada prova, conforme o array abaixo."
      ]
    },
    {
      "cell_type": "code",
      "execution_count": 5,
      "metadata": {
        "id": "gGJ_1F7MrQV9"
      },
      "outputs": [],
      "source": [
        "weights = np.array([[0.2],\n",
        "                    [0.3],\n",
        "                    [0.4],\n",
        "                    [0.1]])"
      ]
    },
    {
      "cell_type": "code",
      "execution_count": 6,
      "metadata": {
        "colab": {
          "base_uri": "https://localhost:8080/"
        },
        "id": "jAlnORVBryCd",
        "outputId": "f058cb90-2b4b-404d-c98d-fdd7c8e4bbc3"
      },
      "outputs": [
        {
          "data": {
            "text/plain": [
              "array([[0.2],\n",
              "       [0.3],\n",
              "       [0.4],\n",
              "       [0.1]])"
            ]
          },
          "execution_count": 6,
          "metadata": {},
          "output_type": "execute_result"
        }
      ],
      "source": [
        "weights"
      ]
    },
    {
      "cell_type": "markdown",
      "metadata": {
        "id": "aT_WE5Q4hknW"
      },
      "source": [
        "#### `np.dot`"
      ]
    },
    {
      "cell_type": "markdown",
      "metadata": {
        "id": "b0vnXdo3sHjl"
      },
      "source": [
        "Utilize `np.dot` para calcular o produto entre as matrizes `scores` e `weights`."
      ]
    },
    {
      "cell_type": "code",
      "execution_count": 7,
      "metadata": {
        "colab": {
          "base_uri": "https://localhost:8080/"
        },
        "id": "KDYPrVguryk8",
        "outputId": "c041ab44-0916-48b1-b546-09dd46536646"
      },
      "outputs": [
        {
          "data": {
            "text/plain": [
              "array([[5.78],\n",
              "       [6.92],\n",
              "       [8.15],\n",
              "       [7.33],\n",
              "       [5.65]])"
            ]
          },
          "execution_count": 7,
          "metadata": {},
          "output_type": "execute_result"
        }
      ],
      "source": [
        "np.dot(a=scores, b=weights)"
      ]
    },
    {
      "cell_type": "markdown",
      "metadata": {
        "id": "IUUyWv8csVzP"
      },
      "source": [
        "Observe que o resultado representa a **média ponderada** dos alunos."
      ]
    },
    {
      "cell_type": "markdown",
      "metadata": {
        "id": "ATOAsqMfkGRj"
      },
      "source": [
        "#### `np.vdot`"
      ]
    },
    {
      "cell_type": "markdown",
      "metadata": {
        "id": "0UNKZpLqs1-C"
      },
      "source": [
        "Utilize indexação para separar as notas do aluno de índice 2 em uma nova variável."
      ]
    },
    {
      "cell_type": "code",
      "execution_count": 8,
      "metadata": {
        "id": "pmXfVHkdsvGZ"
      },
      "outputs": [],
      "source": [
        "scores_2 = scores[2]"
      ]
    },
    {
      "cell_type": "code",
      "execution_count": 9,
      "metadata": {
        "colab": {
          "base_uri": "https://localhost:8080/"
        },
        "id": "HF2xFsXctCQm",
        "outputId": "10f98244-0bfe-4b6b-ce3b-6e5da57b3ebe"
      },
      "outputs": [
        {
          "data": {
            "text/plain": [
              "array([ 8.5, 10. ,  7.5,  4.5])"
            ]
          },
          "execution_count": 9,
          "metadata": {},
          "output_type": "execute_result"
        }
      ],
      "source": [
        "scores_2"
      ]
    },
    {
      "cell_type": "markdown",
      "metadata": {
        "id": "K7SEoTgLtFK_"
      },
      "source": [
        "Agora utilize `np.vdot` para determinar a média ponderada do aluno 2. Lembre-se que, como esta função só aceita vetores, você precisa linearizar `weights`, que está no formato de matriz. Pode utilizar tanto o método `ravel` quanto `flatten`, e pode aplicar este método no array `weights` diretamente na chamada da função `np.vdot`."
      ]
    },
    {
      "cell_type": "code",
      "execution_count": 10,
      "metadata": {
        "colab": {
          "base_uri": "https://localhost:8080/"
        },
        "id": "2Qo8h2KisYVV",
        "outputId": "063a3a12-ea03-4ab7-f10e-906ddf18ad7d"
      },
      "outputs": [
        {
          "data": {
            "text/plain": [
              "np.float64(8.15)"
            ]
          },
          "execution_count": 10,
          "metadata": {},
          "output_type": "execute_result"
        }
      ],
      "source": [
        "np.vdot(scores_2, weights.flatten())"
      ]
    },
    {
      "cell_type": "markdown",
      "metadata": {
        "id": "DWTYsqrRtfWe"
      },
      "source": [
        "Observe que é o mesmo resultado obtido para o aluno 2 no exercício utilizando `np.dot`."
      ]
    },
    {
      "cell_type": "markdown",
      "metadata": {
        "id": "rpyF6PrQtn8j"
      },
      "source": [
        "####  `np.inner`"
      ]
    },
    {
      "cell_type": "markdown",
      "metadata": {
        "id": "mnKocWsMtrkS"
      },
      "source": [
        "Refaça o mesmo cálculo mas utilizando a função `np.inner`."
      ]
    },
    {
      "cell_type": "code",
      "execution_count": 11,
      "metadata": {
        "colab": {
          "base_uri": "https://localhost:8080/"
        },
        "id": "TGQhMCqEtkty",
        "outputId": "e03b2d8a-f004-460a-a9a9-26a685979419"
      },
      "outputs": [
        {
          "data": {
            "text/plain": [
              "np.float64(8.15)"
            ]
          },
          "execution_count": 11,
          "metadata": {},
          "output_type": "execute_result"
        }
      ],
      "source": [
        "np.inner(scores_2, weights.flatten())"
      ]
    },
    {
      "cell_type": "markdown",
      "metadata": {
        "id": "z1qhZ0xmtxaw"
      },
      "source": [
        "Lembre-se que, para dois vetores, o produto interno (`inner`) é igual ao produto vetorial (`dot` ou `vdot`)."
      ]
    },
    {
      "cell_type": "markdown",
      "metadata": {
        "id": "xgY-MCh7uDpG"
      },
      "source": [
        "#### `np.matmul`"
      ]
    },
    {
      "cell_type": "markdown",
      "metadata": {
        "id": "hg3pTAKQuIT1"
      },
      "source": [
        "Mais uma vez refaça o cálculo usando `np.matmul`."
      ]
    },
    {
      "cell_type": "code",
      "execution_count": 12,
      "metadata": {
        "colab": {
          "base_uri": "https://localhost:8080/"
        },
        "id": "CI1GXxnntwQV",
        "outputId": "6c454197-779b-4d11-8f54-243403bb2c2e"
      },
      "outputs": [
        {
          "data": {
            "text/plain": [
              "np.float64(8.15)"
            ]
          },
          "execution_count": 12,
          "metadata": {},
          "output_type": "execute_result"
        }
      ],
      "source": [
        "np.matmul(scores_2, weights.flatten())"
      ]
    },
    {
      "cell_type": "markdown",
      "metadata": {
        "id": "QzxmvaXMuPWi"
      },
      "source": [
        "A multiplicação \"matricial\" entre dois vetores também corresponde ao produto vetorial entre eles."
      ]
    },
    {
      "cell_type": "markdown",
      "metadata": {
        "id": "9aCHP2cXuWou"
      },
      "source": [
        "#### `np.outer`"
      ]
    },
    {
      "cell_type": "markdown",
      "metadata": {
        "id": "2BJ2LPm0ucbM"
      },
      "source": [
        "Esta função é útil quando queremos montar uma matriz a partir da multiplicação de dois vetores, onde os valores sejam o resultado da mutiplicação de todos os valores dos vetores."
      ]
    },
    {
      "cell_type": "markdown",
      "metadata": {
        "id": "kTVyatcovQf8"
      },
      "source": [
        "Dados os dois vetores abaixo:"
      ]
    },
    {
      "cell_type": "code",
      "execution_count": 13,
      "metadata": {
        "id": "tLmFXDaeuNAw"
      },
      "outputs": [],
      "source": [
        "array_0 = np.array([2, 3, 7])\n",
        "array_1 = np.array([0.7, 0.2, 0.3, 0.4])"
      ]
    },
    {
      "cell_type": "markdown",
      "metadata": {
        "id": "mP22cWTbvasd"
      },
      "source": [
        "Determine a matriz que é obtida pela operação discriminada acima."
      ]
    },
    {
      "cell_type": "code",
      "execution_count": 14,
      "metadata": {
        "colab": {
          "base_uri": "https://localhost:8080/"
        },
        "id": "UagKzolHvZ4o",
        "outputId": "70f09993-cedf-4471-f661-2dc5f7d2e7d0"
      },
      "outputs": [
        {
          "data": {
            "text/plain": [
              "array([[1.4, 0.4, 0.6, 0.8],\n",
              "       [2.1, 0.6, 0.9, 1.2],\n",
              "       [4.9, 1.4, 2.1, 2.8]])"
            ]
          },
          "execution_count": 14,
          "metadata": {},
          "output_type": "execute_result"
        }
      ],
      "source": [
        "np.outer(array_0, array_1)"
      ]
    },
    {
      "cell_type": "markdown",
      "metadata": {
        "id": "ChioXrvHvjR8"
      },
      "source": [
        "Observe que o formato da matriz reflete os comprimentos dos vetores: 3x4."
      ]
    },
    {
      "cell_type": "markdown",
      "metadata": {
        "id": "DSGxD49HnxFa"
      },
      "source": [
        "#### `np.linalg.det`"
      ]
    },
    {
      "cell_type": "markdown",
      "metadata": {
        "id": "CKlH3vpYvziy"
      },
      "source": [
        "O determinante de uma matriz quadrada é utilizado para calcular sua matriz inversa.\n",
        "\n",
        "Calcule o determinante da matriz abaixo."
      ]
    },
    {
      "cell_type": "code",
      "execution_count": 15,
      "metadata": {
        "id": "qEi2WPf8vuNm"
      },
      "outputs": [],
      "source": [
        "array_2 = rng.normal(loc=5, scale=2, size=16).reshape(4, 4)"
      ]
    },
    {
      "cell_type": "code",
      "execution_count": 16,
      "metadata": {
        "colab": {
          "base_uri": "https://localhost:8080/"
        },
        "id": "FB5vW56owEwS",
        "outputId": "a38b1b09-3071-4bc6-95fe-8302aa993e85"
      },
      "outputs": [
        {
          "data": {
            "text/plain": [
              "array([[3.57337326, 6.10675694, 4.87382806, 3.82113748],\n",
              "       [5.81927565, 6.65971061, 1.71395326, 4.48653975],\n",
              "       [3.03850529, 4.65368955, 2.42116251, 5.04138079],\n",
              "       [4.92422852, 4.3913245 , 2.90414699, 4.20761934]])"
            ]
          },
          "execution_count": 16,
          "metadata": {},
          "output_type": "execute_result"
        }
      ],
      "source": [
        "array_2"
      ]
    },
    {
      "cell_type": "code",
      "execution_count": 17,
      "metadata": {
        "colab": {
          "base_uri": "https://localhost:8080/"
        },
        "id": "fnAp2wJ6wGuF",
        "outputId": "0c6b8341-cb40-405e-c16f-1cc070ccacaa"
      },
      "outputs": [
        {
          "data": {
            "text/plain": [
              "np.float64(101.71871198583534)"
            ]
          },
          "execution_count": 17,
          "metadata": {},
          "output_type": "execute_result"
        }
      ],
      "source": [
        "np.linalg.det(array_2)"
      ]
    },
    {
      "cell_type": "markdown",
      "metadata": {
        "id": "PxqtOMCfougW"
      },
      "source": [
        "#### `np.linalg.inv`"
      ]
    },
    {
      "cell_type": "markdown",
      "metadata": {
        "id": "oTLk-qxJwM_L"
      },
      "source": [
        "Mas você também pode obter a inversa diretamente com a função `np.linalg.inv`. Faça isso para `array_2`."
      ]
    },
    {
      "cell_type": "code",
      "execution_count": 18,
      "metadata": {
        "id": "OR2JRVgavusu"
      },
      "outputs": [],
      "source": [
        "array_2_inv = np.linalg.inv(array_2)"
      ]
    },
    {
      "cell_type": "code",
      "execution_count": 19,
      "metadata": {
        "colab": {
          "base_uri": "https://localhost:8080/"
        },
        "id": "pUP9I1dDwkAG",
        "outputId": "57a9ea03-c0f8-4d7a-d5da-510fc248f6db"
      },
      "outputs": [
        {
          "data": {
            "text/plain": [
              "array([[-0.12133586,  0.03653967, -0.30410658,  0.43559582],\n",
              "       [ 0.18856179,  0.30405942,  0.00121017, -0.49690715],\n",
              "       [ 0.21974751, -0.27338361, -0.12332989,  0.2397113 ],\n",
              "       [-0.20646582, -0.17140502,  0.43976035,  0.08103165]])"
            ]
          },
          "execution_count": 19,
          "metadata": {},
          "output_type": "execute_result"
        }
      ],
      "source": [
        "array_2_inv"
      ]
    },
    {
      "cell_type": "markdown",
      "metadata": {
        "id": "FEQBg7wywk6-"
      },
      "source": [
        "Utilize `np.matmul` para confirmar que a multiplicação matricial entre uma matriz e sua inversa resulta na matriz identidade, onde os valores da diagonal são iguais a 1 e os demais são 0."
      ]
    },
    {
      "cell_type": "code",
      "execution_count": 20,
      "metadata": {
        "id": "2FY-VB9EwYeD"
      },
      "outputs": [],
      "source": [
        "array_mul = np.matmul(array_2, array_2_inv)"
      ]
    },
    {
      "cell_type": "code",
      "execution_count": 21,
      "metadata": {
        "colab": {
          "base_uri": "https://localhost:8080/"
        },
        "id": "_kb8y4N-w7a3",
        "outputId": "1a3fad66-dfdc-474f-e54f-3d81026f4584"
      },
      "outputs": [
        {
          "data": {
            "text/plain": [
              "array([[ 1.00000000e+00, -2.28370863e-16, -4.34034021e-17,\n",
              "        -1.88323981e-16],\n",
              "       [-1.56417331e-16,  1.00000000e+00,  2.45108307e-16,\n",
              "         3.63683316e-17],\n",
              "       [-1.72780463e-16, -2.91534209e-16,  1.00000000e+00,\n",
              "        -1.67128393e-16],\n",
              "       [ 3.04949725e-17, -3.01842060e-16, -1.31248302e-16,\n",
              "         1.00000000e+00]])"
            ]
          },
          "execution_count": 21,
          "metadata": {},
          "output_type": "execute_result"
        }
      ],
      "source": [
        "array_mul"
      ]
    },
    {
      "cell_type": "markdown",
      "metadata": {
        "id": "NHCtPjtcxYSx"
      },
      "source": [
        "Estes valores estão difíceis de interpretar por causa dos arredondamentos que o NumPy fez."
      ]
    },
    {
      "cell_type": "markdown",
      "metadata": {
        "id": "ttZHRaGNw_oh"
      },
      "source": [
        "Vamos instanciar uma matriz identidade no mesmo formato de `array_mul`. Isto é feito com a função `np.identity`."
      ]
    },
    {
      "cell_type": "code",
      "execution_count": 22,
      "metadata": {
        "id": "e7b2owtuwzY4"
      },
      "outputs": [],
      "source": [
        "array_identity = np.identity(n=4)"
      ]
    },
    {
      "cell_type": "code",
      "execution_count": 23,
      "metadata": {
        "colab": {
          "base_uri": "https://localhost:8080/"
        },
        "id": "dpS6kmWcxHKm",
        "outputId": "fc6d4690-be6a-470a-837a-2c78bd6ce594"
      },
      "outputs": [
        {
          "data": {
            "text/plain": [
              "array([[1., 0., 0., 0.],\n",
              "       [0., 1., 0., 0.],\n",
              "       [0., 0., 1., 0.],\n",
              "       [0., 0., 0., 1.]])"
            ]
          },
          "execution_count": 23,
          "metadata": {},
          "output_type": "execute_result"
        }
      ],
      "source": [
        "array_identity"
      ]
    },
    {
      "cell_type": "markdown",
      "metadata": {
        "id": "TrMIAyCcxIfQ"
      },
      "source": [
        "Por fim, utilize `np.allclose` para verificar que os valores de `array_mul` são virtualmente iguais a `array_identity`."
      ]
    },
    {
      "cell_type": "code",
      "execution_count": 24,
      "metadata": {
        "colab": {
          "base_uri": "https://localhost:8080/"
        },
        "id": "QdJXYe-2xQ6s",
        "outputId": "9431e478-c5f9-433a-a0b3-0734994fb4d5"
      },
      "outputs": [
        {
          "data": {
            "text/plain": [
              "True"
            ]
          },
          "execution_count": 24,
          "metadata": {},
          "output_type": "execute_result"
        }
      ],
      "source": [
        "np.allclose(a=array_mul, b=array_identity)"
      ]
    }
  ],
  "metadata": {
    "colab": {
      "provenance": []
    },
    "kernelspec": {
      "display_name": ".venv",
      "language": "python",
      "name": "python3"
    },
    "language_info": {
      "codemirror_mode": {
        "name": "ipython",
        "version": 3
      },
      "file_extension": ".py",
      "mimetype": "text/x-python",
      "name": "python",
      "nbconvert_exporter": "python",
      "pygments_lexer": "ipython3",
      "version": "3.12.12"
    }
  },
  "nbformat": 4,
  "nbformat_minor": 0
}
