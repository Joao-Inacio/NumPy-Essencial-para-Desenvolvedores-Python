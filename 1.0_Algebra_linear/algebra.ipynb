{
 "cells": [
  {
   "cell_type": "markdown",
   "id": "f13017bb",
   "metadata": {},
   "source": [
    "# **Álgebra Linear**"
   ]
  },
  {
   "cell_type": "code",
   "execution_count": 1,
   "id": "5055d0d6",
   "metadata": {},
   "outputs": [],
   "source": [
    "import numpy as np"
   ]
  },
  {
   "cell_type": "markdown",
   "id": "50adb200",
   "metadata": {},
   "source": [
    "## Produto matriciais e vetores"
   ]
  },
  {
   "cell_type": "code",
   "execution_count": 2,
   "id": "76adc92c",
   "metadata": {},
   "outputs": [],
   "source": [
    "rng = np.random.default_rng(seed=2)"
   ]
  },
  {
   "cell_type": "code",
   "execution_count": 3,
   "id": "408730b2",
   "metadata": {},
   "outputs": [
    {
     "data": {
      "text/plain": [
       "array([ 6, -5, -8, -5])"
      ]
     },
     "execution_count": 3,
     "metadata": {},
     "output_type": "execute_result"
    }
   ],
   "source": [
    "vector_1 = rng.integers(low=-10, high=10, size=4)\n",
    "vector_1"
   ]
  },
  {
   "cell_type": "code",
   "execution_count": 4,
   "id": "26d8db80",
   "metadata": {},
   "outputs": [
    {
     "data": {
      "text/plain": [
       "array([-2,  6, -1, -9])"
      ]
     },
     "execution_count": 4,
     "metadata": {},
     "output_type": "execute_result"
    }
   ],
   "source": [
    "vector_2 = rng.integers(low=-10, high=10, size=4)\n",
    "vector_2"
   ]
  },
  {
   "cell_type": "code",
   "execution_count": 5,
   "id": "2b4e2948",
   "metadata": {},
   "outputs": [
    {
     "data": {
      "text/plain": [
       "array([[-4,  2,  6],\n",
       "       [ 4,  9, -7],\n",
       "       [ 7, -9,  1],\n",
       "       [-5, -6,  3]])"
      ]
     },
     "execution_count": 5,
     "metadata": {},
     "output_type": "execute_result"
    }
   ],
   "source": [
    "matrix_1 = rng.integers(low=-10, high=10, size=(4, 3))\n",
    "matrix_1"
   ]
  },
  {
   "cell_type": "code",
   "execution_count": 6,
   "id": "febb5ce7",
   "metadata": {},
   "outputs": [
    {
     "data": {
      "text/plain": [
       "array([[-4,  1, -5, -7],\n",
       "       [ 4, -2,  3,  3],\n",
       "       [ 8, -2, -6,  2]])"
      ]
     },
     "execution_count": 6,
     "metadata": {},
     "output_type": "execute_result"
    }
   ],
   "source": [
    "matrix_2 = rng.integers(low=-10, high=10, size=(3, 4))\n",
    "matrix_2"
   ]
  },
  {
   "cell_type": "code",
   "execution_count": 7,
   "id": "a38ed27c",
   "metadata": {},
   "outputs": [
    {
     "data": {
      "text/plain": [
       "array([[  8,   9,   7],\n",
       "       [  3,  -3,  -3],\n",
       "       [-10,  -7,  -4],\n",
       "       [ -4,   1,   0]])"
      ]
     },
     "execution_count": 7,
     "metadata": {},
     "output_type": "execute_result"
    }
   ],
   "source": [
    "matrix_3 = rng.integers(low=-10, high=10, size=(4, 3))\n",
    "matrix_3"
   ]
  },
  {
   "cell_type": "code",
   "execution_count": 8,
   "id": "05eda904",
   "metadata": {},
   "outputs": [
    {
     "data": {
      "text/plain": [
       "array([[ 3,  7,  7],\n",
       "       [ 5,  9, -4],\n",
       "       [ 8,  8, -6]])"
      ]
     },
     "execution_count": 8,
     "metadata": {},
     "output_type": "execute_result"
    }
   ],
   "source": [
    "matrix_4 = rng.integers(low=-10, high=10, size=(3, 3))\n",
    "matrix_4"
   ]
  },
  {
   "cell_type": "markdown",
   "id": "9583d91a",
   "metadata": {},
   "source": [
    "## np.dot"
   ]
  },
  {
   "cell_type": "code",
   "execution_count": 9,
   "id": "5e6dd97d",
   "metadata": {},
   "outputs": [
    {
     "data": {
      "text/plain": [
       "(array([ 6, -5, -8, -5]), array([-2,  6, -1, -9]))"
      ]
     },
     "execution_count": 9,
     "metadata": {},
     "output_type": "execute_result"
    }
   ],
   "source": [
    "vector_1, vector_2"
   ]
  },
  {
   "cell_type": "code",
   "execution_count": 10,
   "id": "43b0a5ab",
   "metadata": {},
   "outputs": [
    {
     "data": {
      "text/plain": [
       "np.int64(11)"
      ]
     },
     "execution_count": 10,
     "metadata": {},
     "output_type": "execute_result"
    }
   ],
   "source": [
    "np.dot(a=vector_1, b=vector_2)"
   ]
  },
  {
   "cell_type": "code",
   "execution_count": 11,
   "id": "3b95490c",
   "metadata": {},
   "outputs": [
    {
     "data": {
      "text/plain": [
       "(array([[-4,  2,  6],\n",
       "        [ 4,  9, -7],\n",
       "        [ 7, -9,  1],\n",
       "        [-5, -6,  3]]),\n",
       " array([[-4,  1, -5, -7],\n",
       "        [ 4, -2,  3,  3],\n",
       "        [ 8, -2, -6,  2]]))"
      ]
     },
     "execution_count": 11,
     "metadata": {},
     "output_type": "execute_result"
    }
   ],
   "source": [
    "matrix_1, matrix_2"
   ]
  },
  {
   "cell_type": "code",
   "execution_count": 12,
   "id": "dd8b4f9e",
   "metadata": {},
   "outputs": [
    {
     "data": {
      "text/plain": [
       "array([[ 72, -20, -10,  46],\n",
       "       [-36,   0,  49, -15],\n",
       "       [-56,  23, -68, -74],\n",
       "       [ 20,   1, -11,  23]])"
      ]
     },
     "execution_count": 12,
     "metadata": {},
     "output_type": "execute_result"
    }
   ],
   "source": [
    "np.dot(a=matrix_1, b=matrix_2)"
   ]
  },
  {
   "cell_type": "code",
   "execution_count": 13,
   "id": "57c3ff12",
   "metadata": {},
   "outputs": [
    {
     "data": {
      "text/plain": [
       "(array([[-4,  1, -5, -7],\n",
       "        [ 4, -2,  3,  3],\n",
       "        [ 8, -2, -6,  2]]),\n",
       " array([ 6, -5, -8, -5]))"
      ]
     },
     "execution_count": 13,
     "metadata": {},
     "output_type": "execute_result"
    }
   ],
   "source": [
    "matrix_2, vector_1"
   ]
  },
  {
   "cell_type": "code",
   "execution_count": 14,
   "id": "afce186a",
   "metadata": {},
   "outputs": [
    {
     "data": {
      "text/plain": [
       "array([46, -5, 96])"
      ]
     },
     "execution_count": 14,
     "metadata": {},
     "output_type": "execute_result"
    }
   ],
   "source": [
    "np.dot(matrix_2, vector_1)"
   ]
  },
  {
   "cell_type": "markdown",
   "id": "5a8cf103",
   "metadata": {},
   "source": [
    "## np.vdot"
   ]
  },
  {
   "cell_type": "code",
   "execution_count": 15,
   "id": "245ce9f3",
   "metadata": {},
   "outputs": [
    {
     "data": {
      "text/plain": [
       "np.int64(11)"
      ]
     },
     "execution_count": 15,
     "metadata": {},
     "output_type": "execute_result"
    }
   ],
   "source": [
    "np.vdot(vector_1, vector_2)"
   ]
  },
  {
   "cell_type": "markdown",
   "id": "df53380c",
   "metadata": {},
   "source": [
    "## np.inner"
   ]
  },
  {
   "cell_type": "code",
   "execution_count": 16,
   "id": "be7e7302",
   "metadata": {},
   "outputs": [
    {
     "data": {
      "text/plain": [
       "np.int64(11)"
      ]
     },
     "execution_count": 16,
     "metadata": {},
     "output_type": "execute_result"
    }
   ],
   "source": [
    "np.inner(vector_1, vector_2)"
   ]
  },
  {
   "cell_type": "code",
   "execution_count": 17,
   "id": "6081aa08",
   "metadata": {},
   "outputs": [
    {
     "data": {
      "text/plain": [
       "array([[ 28, -36,   2,  18],\n",
       "       [ 64,   6, -75,  -7],\n",
       "       [-18,  45, -11, -37],\n",
       "       [-73,  -6,  80,  14]])"
      ]
     },
     "execution_count": 17,
     "metadata": {},
     "output_type": "execute_result"
    }
   ],
   "source": [
    "np.inner(matrix_1, matrix_3)"
   ]
  },
  {
   "cell_type": "markdown",
   "id": "d48d2736",
   "metadata": {},
   "source": [
    "## np.outer"
   ]
  },
  {
   "cell_type": "code",
   "execution_count": 18,
   "id": "eb5bd0fc",
   "metadata": {},
   "outputs": [
    {
     "data": {
      "text/plain": [
       "(array([ 6, -5, -8, -5]), array([-2,  6, -1, -9]))"
      ]
     },
     "execution_count": 18,
     "metadata": {},
     "output_type": "execute_result"
    }
   ],
   "source": [
    "vector_1, vector_2"
   ]
  },
  {
   "cell_type": "code",
   "execution_count": 19,
   "id": "e90f015f",
   "metadata": {},
   "outputs": [
    {
     "data": {
      "text/plain": [
       "array([[-12,  36,  -6, -54],\n",
       "       [ 10, -30,   5,  45],\n",
       "       [ 16, -48,   8,  72],\n",
       "       [ 10, -30,   5,  45]])"
      ]
     },
     "execution_count": 19,
     "metadata": {},
     "output_type": "execute_result"
    }
   ],
   "source": [
    "np.outer(a=vector_1, b=vector_2)"
   ]
  },
  {
   "cell_type": "markdown",
   "id": "2cd390e3",
   "metadata": {},
   "source": [
    "## np.matmul"
   ]
  },
  {
   "cell_type": "code",
   "execution_count": 20,
   "id": "eabc7892",
   "metadata": {},
   "outputs": [
    {
     "data": {
      "text/plain": [
       "np.int64(11)"
      ]
     },
     "execution_count": 20,
     "metadata": {},
     "output_type": "execute_result"
    }
   ],
   "source": [
    "np.matmul(vector_1, vector_2)"
   ]
  },
  {
   "cell_type": "code",
   "execution_count": 21,
   "id": "0e041e3c",
   "metadata": {},
   "outputs": [
    {
     "data": {
      "text/plain": [
       "(array([[-4,  2,  6],\n",
       "        [ 4,  9, -7],\n",
       "        [ 7, -9,  1],\n",
       "        [-5, -6,  3]]),\n",
       " array([[-4,  1, -5, -7],\n",
       "        [ 4, -2,  3,  3],\n",
       "        [ 8, -2, -6,  2]]))"
      ]
     },
     "execution_count": 21,
     "metadata": {},
     "output_type": "execute_result"
    }
   ],
   "source": [
    "matrix_1, matrix_2"
   ]
  },
  {
   "cell_type": "code",
   "execution_count": 22,
   "id": "00a61974",
   "metadata": {},
   "outputs": [
    {
     "data": {
      "text/plain": [
       "array([[ 72, -20, -10,  46],\n",
       "       [-36,   0,  49, -15],\n",
       "       [-56,  23, -68, -74],\n",
       "       [ 20,   1, -11,  23]])"
      ]
     },
     "execution_count": 22,
     "metadata": {},
     "output_type": "execute_result"
    }
   ],
   "source": [
    "np.matmul(matrix_1, matrix_2)"
   ]
  },
  {
   "cell_type": "markdown",
   "id": "472ad203",
   "metadata": {},
   "source": [
    "## np.linalg.det"
   ]
  },
  {
   "cell_type": "code",
   "execution_count": 23,
   "id": "827d701c",
   "metadata": {},
   "outputs": [
    {
     "data": {
      "text/plain": [
       "array([[ 3,  7,  7],\n",
       "       [ 5,  9, -4],\n",
       "       [ 8,  8, -6]])"
      ]
     },
     "execution_count": 23,
     "metadata": {},
     "output_type": "execute_result"
    }
   ],
   "source": [
    "matrix_4"
   ]
  },
  {
   "cell_type": "code",
   "execution_count": 24,
   "id": "87a4121c",
   "metadata": {},
   "outputs": [
    {
     "data": {
      "text/plain": [
       "np.float64(-304.00000000000006)"
      ]
     },
     "execution_count": 24,
     "metadata": {},
     "output_type": "execute_result"
    }
   ],
   "source": [
    "np.linalg.det(matrix_4)"
   ]
  },
  {
   "cell_type": "markdown",
   "id": "f68be80f",
   "metadata": {},
   "source": [
    "## np.linalg.inv"
   ]
  },
  {
   "cell_type": "code",
   "execution_count": 25,
   "id": "d642725a",
   "metadata": {},
   "outputs": [
    {
     "data": {
      "text/plain": [
       "array([[ 0.07236842, -0.32236842,  0.29934211],\n",
       "       [ 0.00657895,  0.24342105, -0.15460526],\n",
       "       [ 0.10526316, -0.10526316,  0.02631579]])"
      ]
     },
     "execution_count": 25,
     "metadata": {},
     "output_type": "execute_result"
    }
   ],
   "source": [
    "np.linalg.inv(matrix_4)"
   ]
  }
 ],
 "metadata": {
  "kernelspec": {
   "display_name": ".venv",
   "language": "python",
   "name": "python3"
  },
  "language_info": {
   "codemirror_mode": {
    "name": "ipython",
    "version": 3
   },
   "file_extension": ".py",
   "mimetype": "text/x-python",
   "name": "python",
   "nbconvert_exporter": "python",
   "pygments_lexer": "ipython3",
   "version": "3.12.12"
  }
 },
 "nbformat": 4,
 "nbformat_minor": 5
}
