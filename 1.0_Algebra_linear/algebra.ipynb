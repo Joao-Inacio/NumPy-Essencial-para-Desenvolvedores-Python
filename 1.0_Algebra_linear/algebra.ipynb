{
 "cells": [
  {
   "cell_type": "markdown",
   "id": "f13017bb",
   "metadata": {},
   "source": [
    "# **Álgebra Linear**"
   ]
  },
  {
   "cell_type": "code",
   "execution_count": 1,
   "id": "5055d0d6",
   "metadata": {},
   "outputs": [],
   "source": [
    "import numpy as np"
   ]
  },
  {
   "cell_type": "markdown",
   "id": "50adb200",
   "metadata": {},
   "source": [
    "## Produto matriciais e vetores"
   ]
  },
  {
   "cell_type": "code",
   "execution_count": 2,
   "id": "76adc92c",
   "metadata": {},
   "outputs": [],
   "source": [
    "rng = np.random.default_rng(seed=2)"
   ]
  },
  {
   "cell_type": "code",
   "execution_count": 3,
   "id": "408730b2",
   "metadata": {},
   "outputs": [
    {
     "data": {
      "text/plain": [
       "array([ 6, -5, -8, -5])"
      ]
     },
     "execution_count": 3,
     "metadata": {},
     "output_type": "execute_result"
    }
   ],
   "source": [
    "vector_1 = rng.integers(low=-10, high=10, size=4)\n",
    "vector_1"
   ]
  },
  {
   "cell_type": "code",
   "execution_count": 4,
   "id": "26d8db80",
   "metadata": {},
   "outputs": [
    {
     "data": {
      "text/plain": [
       "array([-2,  6, -1, -9])"
      ]
     },
     "execution_count": 4,
     "metadata": {},
     "output_type": "execute_result"
    }
   ],
   "source": [
    "vector_2 = rng.integers(low=-10, high=10, size=4)\n",
    "vector_2"
   ]
  },
  {
   "cell_type": "code",
   "execution_count": 5,
   "id": "2b4e2948",
   "metadata": {},
   "outputs": [
    {
     "data": {
      "text/plain": [
       "array([[-4,  2,  6],\n",
       "       [ 4,  9, -7],\n",
       "       [ 7, -9,  1],\n",
       "       [-5, -6,  3]])"
      ]
     },
     "execution_count": 5,
     "metadata": {},
     "output_type": "execute_result"
    }
   ],
   "source": [
    "matrix_1 = rng.integers(low=-10, high=10, size=(4, 3))\n",
    "matrix_1"
   ]
  },
  {
   "cell_type": "code",
   "execution_count": 7,
   "id": "febb5ce7",
   "metadata": {},
   "outputs": [
    {
     "data": {
      "text/plain": [
       "array([[  8,   9,   7,   3],\n",
       "       [ -3,  -3, -10,  -7],\n",
       "       [ -4,  -4,   1,   0]])"
      ]
     },
     "execution_count": 7,
     "metadata": {},
     "output_type": "execute_result"
    }
   ],
   "source": [
    "matrix_2 = rng.integers(low=-10, high=10, size=(3, 4))\n",
    "matrix_2"
   ]
  },
  {
   "cell_type": "code",
   "execution_count": 8,
   "id": "a38ed27c",
   "metadata": {},
   "outputs": [
    {
     "data": {
      "text/plain": [
       "array([[ 3,  7,  7],\n",
       "       [ 5,  9, -4],\n",
       "       [ 8,  8, -6],\n",
       "       [-1,  1,  3]])"
      ]
     },
     "execution_count": 8,
     "metadata": {},
     "output_type": "execute_result"
    }
   ],
   "source": [
    "matrix_3 = rng.integers(low=-10, high=10, size=(4, 3))\n",
    "matrix_3"
   ]
  },
  {
   "cell_type": "code",
   "execution_count": 9,
   "id": "05eda904",
   "metadata": {},
   "outputs": [
    {
     "data": {
      "text/plain": [
       "array([[ 4, -8, -1],\n",
       "       [-8,  9, -6],\n",
       "       [-2,  7,  0]])"
      ]
     },
     "execution_count": 9,
     "metadata": {},
     "output_type": "execute_result"
    }
   ],
   "source": [
    "matrix_4 = rng.integers(low=-10, high=10, size=(3, 3))\n",
    "matrix_4"
   ]
  },
  {
   "cell_type": "markdown",
   "id": "9583d91a",
   "metadata": {},
   "source": [
    "## np.dot"
   ]
  },
  {
   "cell_type": "code",
   "execution_count": 10,
   "id": "5e6dd97d",
   "metadata": {},
   "outputs": [
    {
     "data": {
      "text/plain": [
       "(array([ 6, -5, -8, -5]), array([-2,  6, -1, -9]))"
      ]
     },
     "execution_count": 10,
     "metadata": {},
     "output_type": "execute_result"
    }
   ],
   "source": [
    "vector_1, vector_2"
   ]
  },
  {
   "cell_type": "code",
   "execution_count": 11,
   "id": "43b0a5ab",
   "metadata": {},
   "outputs": [
    {
     "data": {
      "text/plain": [
       "np.int64(11)"
      ]
     },
     "execution_count": 11,
     "metadata": {},
     "output_type": "execute_result"
    }
   ],
   "source": [
    "np.dot(a=vector_1, b=vector_2)"
   ]
  },
  {
   "cell_type": "code",
   "execution_count": 12,
   "id": "3b95490c",
   "metadata": {},
   "outputs": [
    {
     "data": {
      "text/plain": [
       "(array([[-4,  2,  6],\n",
       "        [ 4,  9, -7],\n",
       "        [ 7, -9,  1],\n",
       "        [-5, -6,  3]]),\n",
       " array([[  8,   9,   7,   3],\n",
       "        [ -3,  -3, -10,  -7],\n",
       "        [ -4,  -4,   1,   0]]))"
      ]
     },
     "execution_count": 12,
     "metadata": {},
     "output_type": "execute_result"
    }
   ],
   "source": [
    "matrix_1, matrix_2"
   ]
  },
  {
   "cell_type": "code",
   "execution_count": 13,
   "id": "dd8b4f9e",
   "metadata": {},
   "outputs": [
    {
     "data": {
      "text/plain": [
       "array([[-62, -66, -42, -26],\n",
       "       [ 33,  37, -69, -51],\n",
       "       [ 79,  86, 140,  84],\n",
       "       [-34, -39,  28,  27]])"
      ]
     },
     "execution_count": 13,
     "metadata": {},
     "output_type": "execute_result"
    }
   ],
   "source": [
    "np.dot(a=matrix_1, b=matrix_2)"
   ]
  },
  {
   "cell_type": "code",
   "execution_count": 14,
   "id": "57c3ff12",
   "metadata": {},
   "outputs": [
    {
     "data": {
      "text/plain": [
       "(array([[  8,   9,   7,   3],\n",
       "        [ -3,  -3, -10,  -7],\n",
       "        [ -4,  -4,   1,   0]]),\n",
       " array([ 6, -5, -8, -5]))"
      ]
     },
     "execution_count": 14,
     "metadata": {},
     "output_type": "execute_result"
    }
   ],
   "source": [
    "matrix_2, vector_1"
   ]
  },
  {
   "cell_type": "code",
   "execution_count": 15,
   "id": "afce186a",
   "metadata": {},
   "outputs": [
    {
     "data": {
      "text/plain": [
       "array([-68, 112, -12])"
      ]
     },
     "execution_count": 15,
     "metadata": {},
     "output_type": "execute_result"
    }
   ],
   "source": [
    "np.dot(matrix_2, vector_1)"
   ]
  },
  {
   "cell_type": "markdown",
   "id": "5a8cf103",
   "metadata": {},
   "source": [
    "## np.vdot"
   ]
  },
  {
   "cell_type": "code",
   "execution_count": 16,
   "id": "245ce9f3",
   "metadata": {},
   "outputs": [
    {
     "data": {
      "text/plain": [
       "np.int64(11)"
      ]
     },
     "execution_count": 16,
     "metadata": {},
     "output_type": "execute_result"
    }
   ],
   "source": [
    "np.vdot(vector_1, vector_2)"
   ]
  },
  {
   "cell_type": "markdown",
   "id": "df53380c",
   "metadata": {},
   "source": [
    "## np.inner"
   ]
  },
  {
   "cell_type": "code",
   "execution_count": 17,
   "id": "be7e7302",
   "metadata": {},
   "outputs": [
    {
     "data": {
      "text/plain": [
       "np.int64(11)"
      ]
     },
     "execution_count": 17,
     "metadata": {},
     "output_type": "execute_result"
    }
   ],
   "source": [
    "np.inner(vector_1, vector_2)"
   ]
  },
  {
   "cell_type": "code",
   "execution_count": 18,
   "id": "6081aa08",
   "metadata": {},
   "outputs": [
    {
     "data": {
      "text/plain": [
       "array([[  44,  -26,  -52,   24],\n",
       "       [  26,  129,  146,  -16],\n",
       "       [ -35,  -50,  -22,  -13],\n",
       "       [ -36,  -91, -106,    8]])"
      ]
     },
     "execution_count": 18,
     "metadata": {},
     "output_type": "execute_result"
    }
   ],
   "source": [
    "np.inner(matrix_1, matrix_3)"
   ]
  },
  {
   "cell_type": "markdown",
   "id": "d48d2736",
   "metadata": {},
   "source": [
    "## np.outer"
   ]
  },
  {
   "cell_type": "markdown",
   "id": "2cd390e3",
   "metadata": {},
   "source": [
    "## np.matmul"
   ]
  },
  {
   "cell_type": "markdown",
   "id": "472ad203",
   "metadata": {},
   "source": [
    "## np.linalg.det"
   ]
  }
 ],
 "metadata": {
  "kernelspec": {
   "display_name": ".venv",
   "language": "python",
   "name": "python3"
  },
  "language_info": {
   "codemirror_mode": {
    "name": "ipython",
    "version": 3
   },
   "file_extension": ".py",
   "mimetype": "text/x-python",
   "name": "python",
   "nbconvert_exporter": "python",
   "pygments_lexer": "ipython3",
   "version": "3.12.12"
  }
 },
 "nbformat": 4,
 "nbformat_minor": 5
}
