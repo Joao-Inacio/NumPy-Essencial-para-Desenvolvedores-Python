{
 "cells": [
  {
   "cell_type": "markdown",
   "id": "b60b9fba",
   "metadata": {},
   "source": [
    "# **Números aleatórios**"
   ]
  },
  {
   "cell_type": "code",
   "execution_count": 1,
   "id": "4a1dfcfa",
   "metadata": {},
   "outputs": [],
   "source": [
    "import numpy as np\n",
    "import matplotlib.pyplot as plt"
   ]
  },
  {
   "cell_type": "markdown",
   "id": "c4218396",
   "metadata": {},
   "source": [
    "## Gerador de dados aleatórios"
   ]
  },
  {
   "cell_type": "markdown",
   "id": "36eb23c4",
   "metadata": {},
   "source": [
    "### rng.random"
   ]
  },
  {
   "cell_type": "code",
   "execution_count": 2,
   "id": "47d457f6",
   "metadata": {},
   "outputs": [
    {
     "data": {
      "text/plain": [
       "0.5118216247002567"
      ]
     },
     "execution_count": 2,
     "metadata": {},
     "output_type": "execute_result"
    }
   ],
   "source": [
    "rng = np.random.default_rng(seed=1)\n",
    "rng.random()"
   ]
  },
  {
   "cell_type": "code",
   "execution_count": 3,
   "id": "2cfffbc1",
   "metadata": {},
   "outputs": [
    {
     "data": {
      "text/plain": [
       "array([0.51182162, 0.9504637 , 0.14415961, 0.94864945, 0.31183145,\n",
       "       0.42332645, 0.82770259, 0.40919914, 0.54959369, 0.02755911])"
      ]
     },
     "execution_count": 3,
     "metadata": {},
     "output_type": "execute_result"
    }
   ],
   "source": [
    "rng = np.random.default_rng(seed=1)\n",
    "rng.random(size=10)"
   ]
  },
  {
   "cell_type": "code",
   "execution_count": 4,
   "id": "9cc37287",
   "metadata": {},
   "outputs": [
    {
     "data": {
      "text/plain": [
       "array([[0.51182162, 0.9504637 ],\n",
       "       [0.14415961, 0.94864945],\n",
       "       [0.31183145, 0.42332645],\n",
       "       [0.82770259, 0.40919914],\n",
       "       [0.54959369, 0.02755911]])"
      ]
     },
     "execution_count": 4,
     "metadata": {},
     "output_type": "execute_result"
    }
   ],
   "source": [
    "rng = np.random.default_rng(seed=1)\n",
    "rng.random(size=(5, 2))"
   ]
  },
  {
   "cell_type": "markdown",
   "id": "7c0ff7d4",
   "metadata": {},
   "source": [
    "### rgn.intergers"
   ]
  },
  {
   "cell_type": "code",
   "execution_count": 5,
   "id": "5de62897",
   "metadata": {},
   "outputs": [
    {
     "data": {
      "text/plain": [
       "array([3, 3, 3, 2, 3])"
      ]
     },
     "execution_count": 5,
     "metadata": {},
     "output_type": "execute_result"
    }
   ],
   "source": [
    "rng.integers(4, size=5)"
   ]
  },
  {
   "cell_type": "code",
   "execution_count": 6,
   "id": "b8fd7a7b",
   "metadata": {},
   "outputs": [
    {
     "data": {
      "text/plain": [
       "array([23, 28, 41, 14, 22])"
      ]
     },
     "execution_count": 6,
     "metadata": {},
     "output_type": "execute_result"
    }
   ],
   "source": [
    "rng.integers(low=10, high=50, size=5)"
   ]
  },
  {
   "cell_type": "code",
   "execution_count": 7,
   "id": "53a9b2ff",
   "metadata": {},
   "outputs": [
    {
     "data": {
      "text/plain": [
       "array([10, 29, 97])"
      ]
     },
     "execution_count": 7,
     "metadata": {},
     "output_type": "execute_result"
    }
   ],
   "source": [
    "rng.integers(low=10,high=[15, 54, 100])"
   ]
  },
  {
   "cell_type": "markdown",
   "id": "fa43c13e",
   "metadata": {},
   "source": [
    "### rgn.choice"
   ]
  },
  {
   "cell_type": "code",
   "execution_count": 8,
   "id": "c9bfcda5",
   "metadata": {},
   "outputs": [
    {
     "data": {
      "text/plain": [
       "array([0, 1, 2, 3, 4, 5, 6, 7, 8, 9])"
      ]
     },
     "execution_count": 8,
     "metadata": {},
     "output_type": "execute_result"
    }
   ],
   "source": [
    "array = np.arange(0, 10)\n",
    "array"
   ]
  },
  {
   "cell_type": "code",
   "execution_count": 9,
   "id": "3b84f660",
   "metadata": {},
   "outputs": [
    {
     "data": {
      "text/plain": [
       "np.int64(1)"
      ]
     },
     "execution_count": 9,
     "metadata": {},
     "output_type": "execute_result"
    }
   ],
   "source": [
    "rng.choice(a=array)"
   ]
  },
  {
   "cell_type": "code",
   "execution_count": 10,
   "id": "9f7548b6",
   "metadata": {},
   "outputs": [
    {
     "data": {
      "text/plain": [
       "array([3, 4, 9, 2, 5])"
      ]
     },
     "execution_count": 10,
     "metadata": {},
     "output_type": "execute_result"
    }
   ],
   "source": [
    "rng.choice(a=array, size=5)"
   ]
  },
  {
   "cell_type": "code",
   "execution_count": 11,
   "id": "5a79f9a0",
   "metadata": {},
   "outputs": [
    {
     "data": {
      "text/plain": [
       "array([4, 6, 9, 3, 2, 1, 5, 0, 8, 7])"
      ]
     },
     "execution_count": 11,
     "metadata": {},
     "output_type": "execute_result"
    }
   ],
   "source": [
    "rng.choice(a=array, size=10, replace=False)"
   ]
  },
  {
   "cell_type": "code",
   "execution_count": 12,
   "id": "e85663b5",
   "metadata": {},
   "outputs": [],
   "source": [
    "array = np.array([1, 2, 3])\n",
    "p = np.array([0.5, 0.4, 0.1])"
   ]
  },
  {
   "cell_type": "code",
   "execution_count": 13,
   "id": "e0ddaf59",
   "metadata": {},
   "outputs": [
    {
     "data": {
      "text/plain": [
       "array([3, 2, 1, 2, 2, 2, 3, 1, 2, 1])"
      ]
     },
     "execution_count": 13,
     "metadata": {},
     "output_type": "execute_result"
    }
   ],
   "source": [
    "rng.choice(a=array, size=10, p=p)"
   ]
  },
  {
   "cell_type": "code",
   "execution_count": 14,
   "id": "f826fec9",
   "metadata": {},
   "outputs": [
    {
     "data": {
      "text/plain": [
       "array([[ 0,  1,  2,  3,  4],\n",
       "       [ 5,  6,  7,  8,  9],\n",
       "       [10, 11, 12, 13, 14],\n",
       "       [15, 16, 17, 18, 19]])"
      ]
     },
     "execution_count": 14,
     "metadata": {},
     "output_type": "execute_result"
    }
   ],
   "source": [
    "array_2d = np.arange(0, 20).reshape(4, 5)\n",
    "array_2d"
   ]
  },
  {
   "cell_type": "code",
   "execution_count": 15,
   "id": "065331d2",
   "metadata": {},
   "outputs": [
    {
     "data": {
      "text/plain": [
       "array([[0, 1, 2, 3, 4],\n",
       "       [5, 6, 7, 8, 9]])"
      ]
     },
     "execution_count": 15,
     "metadata": {},
     "output_type": "execute_result"
    }
   ],
   "source": [
    "rng.choice(a=array_2d, size=2, axis=0)"
   ]
  },
  {
   "cell_type": "code",
   "execution_count": 16,
   "id": "8d19b4ed",
   "metadata": {},
   "outputs": [
    {
     "data": {
      "text/plain": [
       "array([[ 0,  2],\n",
       "       [ 5,  7],\n",
       "       [10, 12],\n",
       "       [15, 17]])"
      ]
     },
     "execution_count": 16,
     "metadata": {},
     "output_type": "execute_result"
    }
   ],
   "source": [
    "rng.choice(a=array_2d, size=2, axis=1)"
   ]
  },
  {
   "cell_type": "markdown",
   "id": "d9679ad4",
   "metadata": {},
   "source": [
    "## Permutações"
   ]
  },
  {
   "cell_type": "markdown",
   "id": "45b23fde",
   "metadata": {},
   "source": [
    "### rgn.shuffle"
   ]
  },
  {
   "cell_type": "code",
   "execution_count": 17,
   "id": "44c24ad7",
   "metadata": {},
   "outputs": [
    {
     "data": {
      "text/plain": [
       "array([0, 1, 2, 3, 4, 5, 6, 7, 8, 9])"
      ]
     },
     "execution_count": 17,
     "metadata": {},
     "output_type": "execute_result"
    }
   ],
   "source": [
    "array = np.arange(10)\n",
    "array"
   ]
  },
  {
   "cell_type": "code",
   "execution_count": 18,
   "id": "0b0ad81f",
   "metadata": {},
   "outputs": [
    {
     "data": {
      "text/plain": [
       "array([6, 3, 2, 0, 5, 4, 1, 9, 7, 8])"
      ]
     },
     "execution_count": 18,
     "metadata": {},
     "output_type": "execute_result"
    }
   ],
   "source": [
    "rng.shuffle(array)\n",
    "array"
   ]
  },
  {
   "cell_type": "code",
   "execution_count": 19,
   "id": "855df2e7",
   "metadata": {},
   "outputs": [
    {
     "data": {
      "text/plain": [
       "array([[ 0,  1,  2,  3,  4],\n",
       "       [ 5,  6,  7,  8,  9],\n",
       "       [10, 11, 12, 13, 14],\n",
       "       [15, 16, 17, 18, 19]])"
      ]
     },
     "execution_count": 19,
     "metadata": {},
     "output_type": "execute_result"
    }
   ],
   "source": [
    "array = np.arange(20).reshape(4, 5)\n",
    "array"
   ]
  },
  {
   "cell_type": "code",
   "execution_count": 20,
   "id": "3c4edcd3",
   "metadata": {},
   "outputs": [
    {
     "data": {
      "text/plain": [
       "array([[ 5,  6,  7,  8,  9],\n",
       "       [ 0,  1,  2,  3,  4],\n",
       "       [15, 16, 17, 18, 19],\n",
       "       [10, 11, 12, 13, 14]])"
      ]
     },
     "execution_count": 20,
     "metadata": {},
     "output_type": "execute_result"
    }
   ],
   "source": [
    "rng.shuffle(array, axis=0)\n",
    "array"
   ]
  },
  {
   "cell_type": "code",
   "execution_count": 21,
   "id": "d042a64f",
   "metadata": {},
   "outputs": [
    {
     "data": {
      "text/plain": [
       "array([[ 0,  1,  2,  3,  4],\n",
       "       [ 5,  6,  7,  8,  9],\n",
       "       [10, 11, 12, 13, 14],\n",
       "       [15, 16, 17, 18, 19]])"
      ]
     },
     "execution_count": 21,
     "metadata": {},
     "output_type": "execute_result"
    }
   ],
   "source": [
    "array = np.arange(20).reshape(4, 5)\n",
    "array"
   ]
  },
  {
   "cell_type": "code",
   "execution_count": 22,
   "id": "63763a13",
   "metadata": {},
   "outputs": [
    {
     "data": {
      "text/plain": [
       "array([[ 3,  0,  2,  1,  4],\n",
       "       [ 8,  5,  7,  6,  9],\n",
       "       [13, 10, 12, 11, 14],\n",
       "       [18, 15, 17, 16, 19]])"
      ]
     },
     "execution_count": 22,
     "metadata": {},
     "output_type": "execute_result"
    }
   ],
   "source": [
    "rng.shuffle(array, axis=1)\n",
    "array"
   ]
  },
  {
   "cell_type": "markdown",
   "id": "5993c12c",
   "metadata": {},
   "source": [
    "### rgn.permutation"
   ]
  },
  {
   "cell_type": "code",
   "execution_count": 23,
   "id": "fd0512d9",
   "metadata": {},
   "outputs": [
    {
     "data": {
      "text/plain": [
       "array([6, 2, 3, 1, 9, 4, 8, 5, 7, 0])"
      ]
     },
     "execution_count": 23,
     "metadata": {},
     "output_type": "execute_result"
    }
   ],
   "source": [
    "rng.permutation(10)"
   ]
  },
  {
   "cell_type": "code",
   "execution_count": 24,
   "id": "aef577dc",
   "metadata": {},
   "outputs": [
    {
     "data": {
      "text/plain": [
       "array([[ 0,  1,  2,  3,  4],\n",
       "       [ 5,  6,  7,  8,  9],\n",
       "       [10, 11, 12, 13, 14],\n",
       "       [15, 16, 17, 18, 19]])"
      ]
     },
     "execution_count": 24,
     "metadata": {},
     "output_type": "execute_result"
    }
   ],
   "source": [
    "array = np.arange(20).reshape(4, 5)\n",
    "array"
   ]
  },
  {
   "cell_type": "code",
   "execution_count": 25,
   "id": "93180ad8",
   "metadata": {},
   "outputs": [
    {
     "data": {
      "text/plain": [
       "array([[ 5,  6,  7,  8,  9],\n",
       "       [15, 16, 17, 18, 19],\n",
       "       [10, 11, 12, 13, 14],\n",
       "       [ 0,  1,  2,  3,  4]])"
      ]
     },
     "execution_count": 25,
     "metadata": {},
     "output_type": "execute_result"
    }
   ],
   "source": [
    "rng.permutation(array, axis=0)"
   ]
  },
  {
   "cell_type": "code",
   "execution_count": 26,
   "id": "9fcf2fd5",
   "metadata": {},
   "outputs": [
    {
     "data": {
      "text/plain": [
       "array([[ 1,  0,  2,  4,  3],\n",
       "       [ 6,  5,  7,  9,  8],\n",
       "       [11, 10, 12, 14, 13],\n",
       "       [16, 15, 17, 19, 18]])"
      ]
     },
     "execution_count": 26,
     "metadata": {},
     "output_type": "execute_result"
    }
   ],
   "source": [
    "rng.permutation(array, axis=1)"
   ]
  },
  {
   "cell_type": "markdown",
   "id": "e09f0853",
   "metadata": {},
   "source": [
    "### rgn.permuted"
   ]
  },
  {
   "cell_type": "code",
   "execution_count": 27,
   "id": "29b5bfa1",
   "metadata": {},
   "outputs": [
    {
     "data": {
      "text/plain": [
       "array([[ 0,  1,  2,  3,  4],\n",
       "       [ 5,  6,  7,  8,  9],\n",
       "       [10, 11, 12, 13, 14],\n",
       "       [15, 16, 17, 18, 19]])"
      ]
     },
     "execution_count": 27,
     "metadata": {},
     "output_type": "execute_result"
    }
   ],
   "source": [
    "array = np.arange(20).reshape(4, 5)\n",
    "array"
   ]
  },
  {
   "cell_type": "code",
   "execution_count": 28,
   "id": "3c51d28b",
   "metadata": {},
   "outputs": [
    {
     "data": {
      "text/plain": [
       "array([[ 5,  6, 17,  3, 19],\n",
       "       [15, 16,  7, 13,  9],\n",
       "       [ 0, 11,  2, 18, 14],\n",
       "       [10,  1, 12,  8,  4]])"
      ]
     },
     "execution_count": 28,
     "metadata": {},
     "output_type": "execute_result"
    }
   ],
   "source": [
    "rng.permuted(array, axis=0)"
   ]
  },
  {
   "cell_type": "code",
   "execution_count": 29,
   "id": "87b730c6",
   "metadata": {},
   "outputs": [
    {
     "data": {
      "text/plain": [
       "array([[ 2,  3,  4,  1,  0],\n",
       "       [ 5,  6,  8,  9,  7],\n",
       "       [11, 10, 13, 12, 14],\n",
       "       [15, 17, 19, 18, 16]])"
      ]
     },
     "execution_count": 29,
     "metadata": {},
     "output_type": "execute_result"
    }
   ],
   "source": [
    "rng.permuted(array, axis=1)"
   ]
  },
  {
   "cell_type": "markdown",
   "id": "c9e8923e",
   "metadata": {},
   "source": [
    "## Distribuições"
   ]
  },
  {
   "cell_type": "markdown",
   "id": "42d9d6c3",
   "metadata": {},
   "source": [
    "### rgn.beta"
   ]
  },
  {
   "cell_type": "code",
   "execution_count": 30,
   "id": "d403297b",
   "metadata": {},
   "outputs": [
    {
     "data": {
      "text/plain": [
       "array([0.00666359, 0.02616551, 0.00068447, 0.01342606, 0.0057631 ,\n",
       "       0.00217393, 0.01585823, 0.02075122, 0.03253959, 0.01045925])"
      ]
     },
     "execution_count": 30,
     "metadata": {},
     "output_type": "execute_result"
    }
   ],
   "source": [
    "rng.beta(a=1, b=100, size=10)"
   ]
  },
  {
   "cell_type": "code",
   "execution_count": 31,
   "id": "0c871321",
   "metadata": {},
   "outputs": [
    {
     "data": {
      "image/png": "[encoded data removed]",
      "text/plain": [
       "<Figure size 640x480 with 1 Axes>"
      ]
     },
     "metadata": {},
     "output_type": "display_data"
    }
   ],
   "source": [
    "plt.hist(rng.beta(a=1, b=100, size=100_000), bins=100);"
   ]
  },
  {
   "cell_type": "markdown",
   "id": "3d693400",
   "metadata": {},
   "source": [
    "### rng.binomial"
   ]
  },
  {
   "cell_type": "code",
   "execution_count": 32,
   "id": "1a00e513",
   "metadata": {},
   "outputs": [
    {
     "data": {
      "text/plain": [
       "array([2, 1, 4, 5, 1, 4, 2, 2, 3, 2])"
      ]
     },
     "execution_count": 32,
     "metadata": {},
     "output_type": "execute_result"
    }
   ],
   "source": [
    "rng.binomial(n=10, p=0.25, size=10)"
   ]
  },
  {
   "cell_type": "code",
   "execution_count": 33,
   "id": "80a72d6b",
   "metadata": {},
   "outputs": [
    {
     "data": {
      "image/png": "[encoded data removed]",
      "text/plain": [
       "<Figure size 640x480 with 1 Axes>"
      ]
     },
     "metadata": {},
     "output_type": "display_data"
    }
   ],
   "source": [
    "plt.hist(rng.binomial(n=10, p=0.25, size=100_000), bins=100);"
   ]
  },
  {
   "cell_type": "markdown",
   "id": "13a85029",
   "metadata": {},
   "source": [
    "### rgn.chisquare"
   ]
  },
  {
   "cell_type": "code",
   "execution_count": 34,
   "id": "56cc0ea4",
   "metadata": {},
   "outputs": [
    {
     "data": {
      "text/plain": [
       "array([5.49418199, 7.30318127, 6.62910281, 2.36717543, 3.76213274,\n",
       "       5.23392937, 5.44504576, 6.71247081, 2.31974866, 3.46192286])"
      ]
     },
     "execution_count": 34,
     "metadata": {},
     "output_type": "execute_result"
    }
   ],
   "source": [
    "rng.chisquare(df=5, size=10)"
   ]
  },
  {
   "cell_type": "code",
   "execution_count": 35,
   "id": "29f9d484",
   "metadata": {},
   "outputs": [
    {
     "data": {
      "image/png": "[encoded data removed]",
      "text/plain": [
       "<Figure size 640x480 with 1 Axes>"
      ]
     },
     "metadata": {},
     "output_type": "display_data"
    }
   ],
   "source": [
    "plt.hist(rng.chisquare(df=5, size=100_000), bins=100);"
   ]
  },
  {
   "cell_type": "markdown",
   "id": "47f5cb5a",
   "metadata": {},
   "source": [
    "### rgn.exponential"
   ]
  },
  {
   "cell_type": "code",
   "execution_count": 36,
   "id": "98c21bb2",
   "metadata": {},
   "outputs": [
    {
     "data": {
      "text/plain": [
       "array([ 1.97065711,  1.14220849,  4.77061061,  8.13436385,  1.98333296,\n",
       "        7.7217047 ,  5.68039567, 11.20571232, 14.42314984,  1.86593352])"
      ]
     },
     "execution_count": 36,
     "metadata": {},
     "output_type": "execute_result"
    }
   ],
   "source": [
    "rng.exponential(scale=5, size=10)"
   ]
  },
  {
   "cell_type": "code",
   "execution_count": 37,
   "id": "81c045f2",
   "metadata": {},
   "outputs": [
    {
     "data": {
      "image/png": "[encoded data removed]",
      "text/plain": [
       "<Figure size 640x480 with 1 Axes>"
      ]
     },
     "metadata": {},
     "output_type": "display_data"
    }
   ],
   "source": [
    "plt.hist(rng.exponential(scale=5, size=100_000), bins=100);"
   ]
  },
  {
   "cell_type": "markdown",
   "id": "e659c6dd",
   "metadata": {},
   "source": [
    "### rgn.gamma"
   ]
  },
  {
   "cell_type": "code",
   "execution_count": 38,
   "id": "79dad39b",
   "metadata": {},
   "outputs": [
    {
     "data": {
      "text/plain": [
       "array([12.2498785 , 10.4627509 , 10.55471347,  8.5601091 ,  5.1364252 ,\n",
       "       10.14569882,  8.7292475 , 13.74505113, 10.88262178,  8.91751433])"
      ]
     },
     "execution_count": 38,
     "metadata": {},
     "output_type": "execute_result"
    }
   ],
   "source": [
    "rng.gamma(shape=4, scale=2, size=10)"
   ]
  },
  {
   "cell_type": "code",
   "execution_count": 39,
   "id": "5879f88f",
   "metadata": {},
   "outputs": [
    {
     "data": {
      "image/png": "[encoded data removed]",
      "text/plain": [
       "<Figure size 640x480 with 1 Axes>"
      ]
     },
     "metadata": {},
     "output_type": "display_data"
    }
   ],
   "source": [
    "plt.hist(rng.gamma(shape=4, scale=2, size=100_000), bins=100);"
   ]
  },
  {
   "cell_type": "markdown",
   "id": "57878b9d",
   "metadata": {},
   "source": [
    "### rgn.logistic"
   ]
  },
  {
   "cell_type": "code",
   "execution_count": 40,
   "id": "73165ba7",
   "metadata": {},
   "outputs": [
    {
     "data": {
      "text/plain": [
       "array([17.60977655, -4.40812201, 11.8321239 ,  5.13704192,  6.07502321,\n",
       "       19.49865433,  3.83375805, -0.770391  , -8.13252433,  6.75529607])"
      ]
     },
     "execution_count": 40,
     "metadata": {},
     "output_type": "execute_result"
    }
   ],
   "source": [
    "rng.logistic(loc=2, scale=5, size=10)"
   ]
  },
  {
   "cell_type": "code",
   "execution_count": 41,
   "id": "055dbc6a",
   "metadata": {},
   "outputs": [
    {
     "data": {
      "image/png": "[encoded data removed]",
      "text/plain": [
       "<Figure size 640x480 with 1 Axes>"
      ]
     },
     "metadata": {},
     "output_type": "display_data"
    }
   ],
   "source": [
    "plt.hist(rng.logistic(loc=2, scale=5, size=100_000), bins=100);"
   ]
  },
  {
   "cell_type": "markdown",
   "id": "aba1507f",
   "metadata": {},
   "source": [
    "### rgn.normal"
   ]
  },
  {
   "cell_type": "code",
   "execution_count": 42,
   "id": "ec9b7084",
   "metadata": {},
   "outputs": [
    {
     "data": {
      "text/plain": [
       "array([-0.10277444,  0.45487032,  1.961394  ,  0.11631429, -0.79313006,\n",
       "       -0.59800815, -2.25749303,  0.66931335,  0.47911872, -0.23597911])"
      ]
     },
     "execution_count": 42,
     "metadata": {},
     "output_type": "execute_result"
    }
   ],
   "source": [
    "rng.normal(loc=0, scale=1, size=10)"
   ]
  },
  {
   "cell_type": "code",
   "execution_count": 43,
   "id": "d9a5ec93",
   "metadata": {},
   "outputs": [
    {
     "data": {
      "image/png": "[encoded data removed]",
      "text/plain": [
       "<Figure size 640x480 with 1 Axes>"
      ]
     },
     "metadata": {},
     "output_type": "display_data"
    }
   ],
   "source": [
    "plt.hist(rng.normal(loc=0, scale=1, size=100_00), bins=100);"
   ]
  },
  {
   "cell_type": "markdown",
   "id": "b3259515",
   "metadata": {},
   "source": [
    "### rgn.uniform"
   ]
  },
  {
   "cell_type": "code",
   "execution_count": 44,
   "id": "07777017",
   "metadata": {},
   "outputs": [
    {
     "data": {
      "text/plain": [
       "array([11.31766437, 49.1874449 , 19.54996809, 41.34280257, 42.30608576,\n",
       "       16.85408389, 11.95647691, 41.83463273, 17.39152332, 22.20658161])"
      ]
     },
     "execution_count": 44,
     "metadata": {},
     "output_type": "execute_result"
    }
   ],
   "source": [
    "rng.uniform(low=10, high=50, size=10)"
   ]
  },
  {
   "cell_type": "code",
   "execution_count": 45,
   "id": "bfaab825",
   "metadata": {},
   "outputs": [
    {
     "data": {
      "image/png": "[encoded data removed]",
      "text/plain": [
       "<Figure size 640x480 with 1 Axes>"
      ]
     },
     "metadata": {},
     "output_type": "display_data"
    }
   ],
   "source": [
    "plt.hist(rng.uniform(low=10, high=50, size=100_00), bins=100);"
   ]
  }
 ],
 "metadata": {
  "kernelspec": {
   "display_name": ".venv",
   "language": "python",
   "name": "python3"
  },
  "language_info": {
   "codemirror_mode": {
    "name": "ipython",
    "version": 3
   },
   "file_extension": ".py",
   "mimetype": "text/x-python",
   "name": "python",
   "nbconvert_exporter": "python",
   "pygments_lexer": "ipython3",
   "version": "3.12.11"
  }
 },
 "nbformat": 4,
 "nbformat_minor": 5
}
