{
  "cells": [
    {
      "cell_type": "code",
      "execution_count": 1,
      "metadata": {
        "colab": {
          "base_uri": "https://localhost:8080/",
          "height": 35
        },
        "id": "sgYgpXPEmTmW",
        "outputId": "94f92f9c-9682-4365-c74c-03443b92a1ee"
      },
      "outputs": [
        {
          "data": {
            "text/plain": [
              "'2.3.2'"
            ]
          },
          "execution_count": 1,
          "metadata": {},
          "output_type": "execute_result"
        }
      ],
      "source": [
        "import numpy as np\n",
        "np.__version__"
      ]
    },
    {
      "cell_type": "code",
      "execution_count": 2,
      "metadata": {
        "colab": {
          "base_uri": "https://localhost:8080/",
          "height": 35
        },
        "id": "lMhTgSxyvie6",
        "outputId": "097b449c-c26b-4646-f918-baa155167d4f"
      },
      "outputs": [
        {
          "data": {
            "text/plain": [
              "'3.10.6'"
            ]
          },
          "execution_count": 2,
          "metadata": {},
          "output_type": "execute_result"
        }
      ],
      "source": [
        "import matplotlib\n",
        "import matplotlib.pyplot as plt\n",
        "matplotlib.__version__"
      ]
    },
    {
      "cell_type": "markdown",
      "metadata": {
        "id": "cB4Em7Hnoevi"
      },
      "source": [
        "Neste módulo, você vai repetir a chamada de algumas funções apresentadas na aula para auxiliar na fixação do conteúdo."
      ]
    },
    {
      "cell_type": "markdown",
      "metadata": {
        "id": "s0ecZq_2nrNn"
      },
      "source": [
        "#### `np.random.default_rng`"
      ]
    },
    {
      "cell_type": "markdown",
      "metadata": {
        "id": "ZlPxReXAoqak"
      },
      "source": [
        "Utilize a função `np.random.default_rng` para instanciar um gerador de números aleatórios. Utilize o parâmetro `seed=101` para garantir a reprodutibilidade do código."
      ]
    },
    {
      "cell_type": "code",
      "execution_count": 3,
      "metadata": {
        "id": "5l8ZK_5Vwnyt"
      },
      "outputs": [],
      "source": [
        "rng = np.random.default_rng(seed=101)"
      ]
    },
    {
      "cell_type": "markdown",
      "metadata": {
        "id": "AOw87-oEmbEs"
      },
      "source": [
        "#### `rng.random`\n"
      ]
    },
    {
      "cell_type": "markdown",
      "metadata": {
        "id": "3b-Xcgp7o_gh"
      },
      "source": [
        "Utilize `rng.random` para gerar um número aleatório no intervalo [0, 1)."
      ]
    },
    {
      "cell_type": "code",
      "execution_count": 4,
      "metadata": {
        "colab": {
          "base_uri": "https://localhost:8080/"
        },
        "id": "J3ZQwZbeo-m9",
        "outputId": "e4225a5e-3192-4080-a87d-394809e4b3df"
      },
      "outputs": [
        {
          "data": {
            "text/plain": [
              "0.9435325056105539"
            ]
          },
          "execution_count": 4,
          "metadata": {},
          "output_type": "execute_result"
        }
      ],
      "source": [
        "rng.random()"
      ]
    },
    {
      "cell_type": "markdown",
      "metadata": {
        "id": "klCwPoYfpI9k"
      },
      "source": [
        "Agora gere 5 valores aleatórios neste mesmo intervalo."
      ]
    },
    {
      "cell_type": "code",
      "execution_count": 5,
      "metadata": {
        "colab": {
          "base_uri": "https://localhost:8080/"
        },
        "id": "kOxCbfcLpGP7",
        "outputId": "d2a6c61d-ad50-4698-c7d5-2528c5899604"
      },
      "outputs": [
        {
          "data": {
            "text/plain": [
              "array([0.35942103, 0.78480541, 0.59127819, 0.29432856, 0.92272569])"
            ]
          },
          "execution_count": 5,
          "metadata": {},
          "output_type": "execute_result"
        }
      ],
      "source": [
        "rng.random(size=5)"
      ]
    },
    {
      "cell_type": "markdown",
      "metadata": {
        "id": "BgOJyDLtpNnL"
      },
      "source": [
        "Gere um array 2D com 3 linhas e 4 colunas, populado com valores aleatórios."
      ]
    },
    {
      "cell_type": "code",
      "execution_count": 6,
      "metadata": {
        "colab": {
          "base_uri": "https://localhost:8080/"
        },
        "id": "EZbnnJSKo48m",
        "outputId": "e4c2c23d-a6a9-41aa-9066-d50875022128"
      },
      "outputs": [
        {
          "data": {
            "text/plain": [
              "array([[0.86933154, 0.36413843, 0.97317681, 0.22452433],\n",
              "       [0.80549587, 0.68089623, 0.47106052, 0.03080547],\n",
              "       [0.8947982 , 0.57363252, 0.39030826, 0.35467904]])"
            ]
          },
          "execution_count": 6,
          "metadata": {},
          "output_type": "execute_result"
        }
      ],
      "source": [
        "rng.random(size=(3, 4))"
      ]
    },
    {
      "cell_type": "markdown",
      "metadata": {
        "id": "qdKrXwCTm5od"
      },
      "source": [
        "#### `rng.integers`"
      ]
    },
    {
      "cell_type": "markdown",
      "metadata": {
        "id": "hF0_D_VBo699"
      },
      "source": [
        "Gere 8 números inteiros aleatórios, cujo valor máximo (excluído) deve ser 10."
      ]
    },
    {
      "cell_type": "code",
      "execution_count": 7,
      "metadata": {
        "colab": {
          "base_uri": "https://localhost:8080/"
        },
        "id": "B13IvF7XplB-",
        "outputId": "59474b5f-5c84-46f8-e342-80a43f64467f"
      },
      "outputs": [
        {
          "data": {
            "text/plain": [
              "array([4, 6, 4, 3, 6, 5, 0, 3])"
            ]
          },
          "execution_count": 7,
          "metadata": {},
          "output_type": "execute_result"
        }
      ],
      "source": [
        "rng.integers(10, size=8)"
      ]
    },
    {
      "cell_type": "markdown",
      "metadata": {
        "id": "voIX9YAOpkvu"
      },
      "source": [
        "Gere 7 números inteiros aleatórios cujo valor mínimo (incluído) seja 3 e máximo (excluído) seja 20."
      ]
    },
    {
      "cell_type": "code",
      "execution_count": 8,
      "metadata": {
        "colab": {
          "base_uri": "https://localhost:8080/"
        },
        "id": "lnVfcFROqK9P",
        "outputId": "b605302e-9961-43c6-a889-b62d2ce2e4f5"
      },
      "outputs": [
        {
          "data": {
            "text/plain": [
              "array([ 8,  3,  3,  7,  7, 17, 18])"
            ]
          },
          "execution_count": 8,
          "metadata": {},
          "output_type": "execute_result"
        }
      ],
      "source": [
        "rng.integers(low=3, high=20, size=7)"
      ]
    },
    {
      "cell_type": "markdown",
      "metadata": {
        "id": "KV4MD9x4qVjf"
      },
      "source": [
        "Gere 3 números inteiros aleatórios onde o primeiro esteja no intervalo [2, 10), o segundo no intervalo [7, 15), e o terceiro no intervalo [14, 25)."
      ]
    },
    {
      "cell_type": "code",
      "execution_count": 9,
      "metadata": {},
      "outputs": [
        {
          "data": {
            "text/plain": [
              "array([ 8, 10, 21])"
            ]
          },
          "execution_count": 9,
          "metadata": {},
          "output_type": "execute_result"
        }
      ],
      "source": [
        "rng.integers(low=[2, 7, 14], high=[10, 15, 25], size=3)"
      ]
    },
    {
      "cell_type": "markdown",
      "metadata": {
        "id": "MwkvlmEeq1aj"
      },
      "source": [
        "#### `rng.choice`"
      ]
    },
    {
      "cell_type": "markdown",
      "metadata": {
        "id": "0u9f46BTq3_R"
      },
      "source": [
        "Perceba que `rng.integers` pode retornar valores repetidos. Mas você pode gerar números inteiros aleatórios sem repetição com `rng.choice`.\n",
        "\n",
        "Primeiro, utilize `np.arange` para gerar um array contendo valores entre 5 e 20 (excluído)."
      ]
    },
    {
      "cell_type": "code",
      "execution_count": 10,
      "metadata": {
        "id": "qvo0_EKwqiFY"
      },
      "outputs": [],
      "source": [
        "array = np.arange(5, 20)"
      ]
    },
    {
      "cell_type": "code",
      "execution_count": 11,
      "metadata": {
        "colab": {
          "base_uri": "https://localhost:8080/"
        },
        "id": "OrNtV4RLrSMr",
        "outputId": "e3d4a32b-32b0-4959-935b-bf4162afcb4c"
      },
      "outputs": [
        {
          "data": {
            "text/plain": [
              "array([ 5,  6,  7,  8,  9, 10, 11, 12, 13, 14, 15, 16, 17, 18, 19])"
            ]
          },
          "execution_count": 11,
          "metadata": {},
          "output_type": "execute_result"
        }
      ],
      "source": [
        "array"
      ]
    },
    {
      "cell_type": "markdown",
      "metadata": {
        "id": "8uMu1gcgrUIN"
      },
      "source": [
        "Agora, utilize `rng.choice` para selecionar 7 valores deste array, sem repetição. Você garante que não haverá repetição passando o parâmetro `replace=False`."
      ]
    },
    {
      "cell_type": "code",
      "execution_count": 12,
      "metadata": {
        "colab": {
          "base_uri": "https://localhost:8080/"
        },
        "id": "J6PKPDXcrScv",
        "outputId": "1ddd34b3-098d-4229-fc1c-594d1d8da87d"
      },
      "outputs": [
        {
          "data": {
            "text/plain": [
              "array([19, 11, 16, 10, 15, 18,  9])"
            ]
          },
          "execution_count": 12,
          "metadata": {},
          "output_type": "execute_result"
        }
      ],
      "source": [
        "rng.choice(a=array, size=7, replace=False)"
      ]
    },
    {
      "cell_type": "markdown",
      "metadata": {
        "id": "C_wJMWhlr3da"
      },
      "source": [
        "#### `rng.shuffle`"
      ]
    },
    {
      "cell_type": "markdown",
      "metadata": {
        "id": "ThGhQdx3r6eT"
      },
      "source": [
        "Utilize `rng.shuffle` para permutar o `array` criado anteriormente. Lembre-se que a permutação ocorre *inplace*, ou seja, o array é modificado e a função não retorna nada."
      ]
    },
    {
      "cell_type": "code",
      "execution_count": 13,
      "metadata": {
        "id": "nG3C69C0r5uf"
      },
      "outputs": [],
      "source": [
        "rng.shuffle(array)"
      ]
    },
    {
      "cell_type": "code",
      "execution_count": 14,
      "metadata": {
        "colab": {
          "base_uri": "https://localhost:8080/"
        },
        "id": "8fhzY0CtsE6T",
        "outputId": "3a880e8a-0bc9-484d-e124-9ae51863613b"
      },
      "outputs": [
        {
          "data": {
            "text/plain": [
              "array([ 6, 19,  9, 10, 11,  7, 18, 12, 15, 14, 13, 16, 17,  5,  8])"
            ]
          },
          "execution_count": 14,
          "metadata": {},
          "output_type": "execute_result"
        }
      ],
      "source": [
        "array"
      ]
    },
    {
      "cell_type": "markdown",
      "metadata": {
        "id": "e_AKuttUsJIj"
      },
      "source": [
        "#### `rng.permutation`"
      ]
    },
    {
      "cell_type": "markdown",
      "metadata": {
        "id": "Nqn-EO9TsLN6"
      },
      "source": [
        "Agora permute `array` novamente, mas com a função `rng.permutation`. Neste caso, a operação retorna uma cópia do array permutado."
      ]
    },
    {
      "cell_type": "code",
      "execution_count": 15,
      "metadata": {
        "colab": {
          "base_uri": "https://localhost:8080/"
        },
        "id": "5oMu2RODsFQ1",
        "outputId": "b8b80271-6d22-4f6f-82b4-5b967a46cc8d"
      },
      "outputs": [
        {
          "data": {
            "text/plain": [
              "array([12, 10, 19, 13,  9, 15,  7,  6,  8, 16, 14, 17, 11,  5, 18])"
            ]
          },
          "execution_count": 15,
          "metadata": {},
          "output_type": "execute_result"
        }
      ],
      "source": [
        "rng.permutation(array)"
      ]
    },
    {
      "cell_type": "markdown",
      "metadata": {
        "id": "8McqBfOCwTAE"
      },
      "source": [
        "### Distribuições"
      ]
    },
    {
      "cell_type": "markdown",
      "metadata": {
        "id": "zmHeCXVsuoAt"
      },
      "source": [
        "Cada distribuição tem seus próprios parâmetros, que indicam como os dados serão distribuídos. Como amostras pequenas de distribuições são difíceis de interpretar somente pelos seus valores, aqui você será convidado a plotar grandes amostras aleatórias de algumas das distribuições mostradas na aula, mas mudando os parâmetros de forma livre. Observe as diferenças entre os gráficos plotados aqui, e aqueles apresentados na aula. Atente para as diferenças tanto no formato do gráfico, quanto nos valores dos eixos."
      ]
    },
    {
      "cell_type": "code",
      "execution_count": 16,
      "metadata": {
        "colab": {
          "base_uri": "https://localhost:8080/",
          "height": 430
        },
        "id": "YW1cqXTRsTzU",
        "outputId": "e5c29815-2714-4560-cbac-57df754d9fed"
      },
      "outputs": [
        {
          "data": {
            "image/png": "[encoded data removed]",
            "text/plain": [
              "<Figure size 640x480 with 1 Axes>"
            ]
          },
          "metadata": {},
          "output_type": "display_data"
        }
      ],
      "source": [
        "plt.hist(rng.beta(a=7, b=50, size=100_000), bins=100);"
      ]
    },
    {
      "cell_type": "code",
      "execution_count": 17,
      "metadata": {
        "colab": {
          "base_uri": "https://localhost:8080/",
          "height": 430
        },
        "id": "fxbhL8_fv3ch",
        "outputId": "89213eb9-8d42-468b-e943-cf1b657253b8"
      },
      "outputs": [
        {
          "data": {
            "image/png": "[encoded data removed]",
            "text/plain": [
              "<Figure size 640x480 with 1 Axes>"
            ]
          },
          "metadata": {},
          "output_type": "display_data"
        }
      ],
      "source": [
        "plt.hist(rng.binomial(n=7, p=0.32, size=100_000), bins=100);"
      ]
    },
    {
      "cell_type": "code",
      "execution_count": 18,
      "metadata": {
        "colab": {
          "base_uri": "https://localhost:8080/",
          "height": 430
        },
        "id": "eGehTeVuv_rz",
        "outputId": "dcca36f9-0aba-4b36-b820-33241d6960f9"
      },
      "outputs": [
        {
          "data": {
            "image/png": "[encoded data removed]",
            "text/plain": [
              "<Figure size 640x480 with 1 Axes>"
            ]
          },
          "metadata": {},
          "output_type": "display_data"
        }
      ],
      "source": [
        "plt.hist(rng.chisquare(df=12, size=100_000), bins=100);"
      ]
    },
    {
      "cell_type": "code",
      "execution_count": 19,
      "metadata": {
        "colab": {
          "base_uri": "https://localhost:8080/",
          "height": 430
        },
        "id": "fJQJqeITwG1J",
        "outputId": "24078f5d-924a-4c84-b202-29f84e1b45c6"
      },
      "outputs": [
        {
          "data": {
            "image/png": "[encoded data removed]",
            "text/plain": [
              "<Figure size 640x480 with 1 Axes>"
            ]
          },
          "metadata": {},
          "output_type": "display_data"
        }
      ],
      "source": [
        "plt.hist(rng.exponential(scale=12, size=100_000), bins=100);"
      ]
    },
    {
      "cell_type": "code",
      "execution_count": 20,
      "metadata": {
        "colab": {
          "base_uri": "https://localhost:8080/",
          "height": 430
        },
        "id": "UXtF2f8FwMsb",
        "outputId": "49567499-ff4d-47f6-9c53-e4f07083edd4"
      },
      "outputs": [
        {
          "data": {
            "image/png": "[encoded data removed]",
            "text/plain": [
              "<Figure size 640x480 with 1 Axes>"
            ]
          },
          "metadata": {},
          "output_type": "display_data"
        }
      ],
      "source": [
        "plt.hist(rng.normal(loc=10, scale=5, size=100_00), bins=100);"
      ]
    },
    {
      "cell_type": "code",
      "execution_count": 21,
      "metadata": {
        "colab": {
          "base_uri": "https://localhost:8080/",
          "height": 430
        },
        "id": "wclTycpqwSoA",
        "outputId": "7a212b77-c306-43d3-d0a3-9f0b1547c714"
      },
      "outputs": [
        {
          "data": {
            "image/png": "[encoded data removed]",
            "text/plain": [
              "<Figure size 640x480 with 1 Axes>"
            ]
          },
          "metadata": {},
          "output_type": "display_data"
        }
      ],
      "source": [
        "plt.hist(rng.uniform(low=20, high=25, size=100_00), bins=100);"
      ]
    }
  ],
  "metadata": {
    "colab": {
      "provenance": []
    },
    "kernelspec": {
      "display_name": ".venv",
      "language": "python",
      "name": "python3"
    },
    "language_info": {
      "codemirror_mode": {
        "name": "ipython",
        "version": 3
      },
      "file_extension": ".py",
      "mimetype": "text/x-python",
      "name": "python",
      "nbconvert_exporter": "python",
      "pygments_lexer": "ipython3",
      "version": "3.12.11"
    }
  },
  "nbformat": 4,
  "nbformat_minor": 0
}
