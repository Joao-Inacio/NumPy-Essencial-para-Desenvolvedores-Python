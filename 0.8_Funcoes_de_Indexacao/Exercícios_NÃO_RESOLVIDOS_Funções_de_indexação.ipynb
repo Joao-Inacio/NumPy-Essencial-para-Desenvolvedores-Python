{
  "cells": [
    {
      "cell_type": "code",
      "execution_count": 1,
      "metadata": {
        "colab": {
          "base_uri": "https://localhost:8080/",
          "height": 35
        },
        "id": "IBRti16i-IgV",
        "outputId": "e880fe8f-04be-442e-f625-d6de744bccc0"
      },
      "outputs": [
        {
          "data": {
            "text/plain": [
              "'2.3.3'"
            ]
          },
          "execution_count": 1,
          "metadata": {},
          "output_type": "execute_result"
        }
      ],
      "source": [
        "import numpy as np\n",
        "np.__version__"
      ]
    },
    {
      "cell_type": "code",
      "execution_count": 2,
      "metadata": {
        "colab": {
          "base_uri": "https://localhost:8080/",
          "height": 35
        },
        "id": "XYa6AvznM1qh",
        "outputId": "e2504709-d79d-4e9e-a377-82c395249c37"
      },
      "outputs": [
        {
          "data": {
            "text/plain": [
              "'3.10.6'"
            ]
          },
          "execution_count": 2,
          "metadata": {},
          "output_type": "execute_result"
        }
      ],
      "source": [
        "import matplotlib\n",
        "import matplotlib.pyplot as plt\n",
        "matplotlib.__version__"
      ]
    },
    {
      "cell_type": "code",
      "execution_count": 3,
      "metadata": {
        "colab": {
          "base_uri": "https://localhost:8080/",
          "height": 35
        },
        "id": "HAvpkZ-aPG8l",
        "outputId": "95a02226-4883-4a2d-f0ae-400fdc635bb9"
      },
      "outputs": [
        {
          "data": {
            "text/plain": [
              "'1.7.2'"
            ]
          },
          "execution_count": 3,
          "metadata": {},
          "output_type": "execute_result"
        }
      ],
      "source": [
        "import sklearn\n",
        "from sklearn.metrics import pairwise_distances\n",
        "sklearn.__version__"
      ]
    },
    {
      "cell_type": "markdown",
      "metadata": {
        "id": "9D9XlJHBRtOF"
      },
      "source": [
        "#### `np.nonzero`"
      ]
    },
    {
      "cell_type": "markdown",
      "metadata": {
        "id": "ilkL-AjHDWtt"
      },
      "source": [
        "Vamos começar gerando um array de números inteiros aleatórios onde alguns certamente vão ser iguais a 0."
      ]
    },
    {
      "cell_type": "markdown",
      "metadata": {
        "id": "047LdnVDDcV0"
      },
      "source": [
        "Instancie um gerador de números aleatórios com `np.random.default_rng` e `seed=60`."
      ]
    },
    {
      "cell_type": "code",
      "execution_count": 4,
      "metadata": {
        "id": "e0AwEZUxDpRF"
      },
      "outputs": [],
      "source": [
        "rng = np.random.default_rng(seed=60)"
      ]
    },
    {
      "cell_type": "markdown",
      "metadata": {
        "id": "Bkz5JyFkDo6Z"
      },
      "source": [
        "Agora, com `rng.integers`, obtenha 50 valores inteiros aleatórios no intervalo [0, 7). Use `reshape` para que este array seja apresentado no formato (2, 5, 5)."
      ]
    },
    {
      "cell_type": "code",
      "execution_count": 5,
      "metadata": {
        "id": "SsSeFi-BD_XE"
      },
      "outputs": [],
      "source": [
        "array = rng.integers(low=0, high=7, size=50).reshape(2, 5, 5)"
      ]
    },
    {
      "cell_type": "code",
      "execution_count": 6,
      "metadata": {
        "colab": {
          "base_uri": "https://localhost:8080/"
        },
        "id": "10GRj4hFEJhT",
        "outputId": "7550f3bb-511d-40d9-b843-0e3729724ff3"
      },
      "outputs": [
        {
          "data": {
            "text/plain": [
              "array([[[1, 2, 2, 0, 6],\n",
              "        [0, 6, 6, 6, 6],\n",
              "        [6, 3, 1, 6, 6],\n",
              "        [6, 0, 2, 3, 2],\n",
              "        [6, 4, 4, 0, 2]],\n",
              "\n",
              "       [[3, 3, 5, 2, 4],\n",
              "        [0, 4, 2, 3, 5],\n",
              "        [1, 6, 3, 5, 0],\n",
              "        [5, 2, 0, 3, 2],\n",
              "        [0, 1, 3, 0, 6]]])"
            ]
          },
          "execution_count": 6,
          "metadata": {},
          "output_type": "execute_result"
        }
      ],
      "source": [
        "array"
      ]
    },
    {
      "cell_type": "markdown",
      "metadata": {
        "id": "XiTxyBzqENio"
      },
      "source": [
        "Com `np.nonzero`, recupere os índices necessários para filtrar os valores diferentes de 0."
      ]
    },
    {
      "cell_type": "code",
      "execution_count": 7,
      "metadata": {
        "id": "zEJGm12oEST0"
      },
      "outputs": [],
      "source": [
        "indices = np.nonzero(array)"
      ]
    },
    {
      "cell_type": "code",
      "execution_count": 8,
      "metadata": {
        "colab": {
          "base_uri": "https://localhost:8080/"
        },
        "id": "jXd2-9T4EWPC",
        "outputId": "e0b63ba1-d80c-4959-ebd2-f39fb3b771aa"
      },
      "outputs": [
        {
          "data": {
            "text/plain": [
              "(array([0, 0, 0, 0, 0, 0, 0, 0, 0, 0, 0, 0, 0, 0, 0, 0, 0, 0, 0, 0, 0, 1,\n",
              "        1, 1, 1, 1, 1, 1, 1, 1, 1, 1, 1, 1, 1, 1, 1, 1, 1, 1, 1]),\n",
              " array([0, 0, 0, 0, 1, 1, 1, 1, 2, 2, 2, 2, 2, 3, 3, 3, 3, 4, 4, 4, 4, 0,\n",
              "        0, 0, 0, 0, 1, 1, 1, 1, 2, 2, 2, 2, 3, 3, 3, 3, 4, 4, 4]),\n",
              " array([0, 1, 2, 4, 1, 2, 3, 4, 0, 1, 2, 3, 4, 0, 2, 3, 4, 0, 1, 2, 4, 0,\n",
              "        1, 2, 3, 4, 1, 2, 3, 4, 0, 1, 2, 3, 0, 1, 3, 4, 1, 2, 4]))"
            ]
          },
          "execution_count": 8,
          "metadata": {},
          "output_type": "execute_result"
        }
      ],
      "source": [
        "indices"
      ]
    },
    {
      "cell_type": "markdown",
      "metadata": {
        "id": "3Gj3YiPdfFKb"
      },
      "source": [
        "👆 Como `array` tem 3 eixos, `np.nonzero` retorna uma tupla com 3 elementos: os índices no eixo 0, os índices no eixo 1 e os índices no eixo 2."
      ]
    },
    {
      "cell_type": "markdown",
      "metadata": {
        "id": "eKuNb-UwEX27"
      },
      "source": [
        "Utilize `indices` para recuperar, por indexação, os valores diferentes de 0 de `array`."
      ]
    },
    {
      "cell_type": "code",
      "execution_count": 9,
      "metadata": {
        "colab": {
          "base_uri": "https://localhost:8080/"
        },
        "id": "BlRsnWoEEeTp",
        "outputId": "26435da5-24f1-4dec-e8cf-34aa77f4bd79"
      },
      "outputs": [
        {
          "data": {
            "text/plain": [
              "array([1, 2, 2, 6, 6, 6, 6, 6, 6, 3, 1, 6, 6, 6, 2, 3, 2, 6, 4, 4, 2, 3,\n",
              "       3, 5, 2, 4, 4, 2, 3, 5, 1, 6, 3, 5, 5, 2, 3, 2, 1, 3, 6])"
            ]
          },
          "execution_count": 9,
          "metadata": {},
          "output_type": "execute_result"
        }
      ],
      "source": [
        "array[indices]"
      ]
    },
    {
      "cell_type": "markdown",
      "metadata": {
        "id": "5VT4hTMaSXh2"
      },
      "source": [
        "#### `np.where`"
      ]
    },
    {
      "cell_type": "markdown",
      "metadata": {
        "id": "JLOktx-aEoyQ"
      },
      "source": [
        "Com `np.where`, substitua os valores de `array` iguais a 0 por `np.nan`; para os demais valores, substitua por seu dobro."
      ]
    },
    {
      "cell_type": "code",
      "execution_count": 10,
      "metadata": {
        "id": "tinfDahQE0Y4"
      },
      "outputs": [],
      "source": [
        "array_where = np.where(array == 0, np.nan, array * 2)"
      ]
    },
    {
      "cell_type": "code",
      "execution_count": 11,
      "metadata": {
        "colab": {
          "base_uri": "https://localhost:8080/"
        },
        "id": "B0hgTObbE4zt",
        "outputId": "db2edfcd-f6b5-4b6a-bd1a-e9a138414b57"
      },
      "outputs": [
        {
          "data": {
            "text/plain": [
              "array([[[ 2.,  4.,  4., nan, 12.],\n",
              "        [nan, 12., 12., 12., 12.],\n",
              "        [12.,  6.,  2., 12., 12.],\n",
              "        [12., nan,  4.,  6.,  4.],\n",
              "        [12.,  8.,  8., nan,  4.]],\n",
              "\n",
              "       [[ 6.,  6., 10.,  4.,  8.],\n",
              "        [nan,  8.,  4.,  6., 10.],\n",
              "        [ 2., 12.,  6., 10., nan],\n",
              "        [10.,  4., nan,  6.,  4.],\n",
              "        [nan,  2.,  6., nan, 12.]]])"
            ]
          },
          "execution_count": 11,
          "metadata": {},
          "output_type": "execute_result"
        }
      ],
      "source": [
        "array_where"
      ]
    },
    {
      "cell_type": "markdown",
      "metadata": {
        "id": "AmbMGz3cT1Lu"
      },
      "source": [
        "#### `np.argwhere`"
      ]
    },
    {
      "cell_type": "markdown",
      "metadata": {
        "id": "tPKWZs4YFEkG"
      },
      "source": [
        "Utilize `np.argwhere` para recuperar os índices dos valores de `array` que são diferentes de 0."
      ]
    },
    {
      "cell_type": "code",
      "execution_count": 12,
      "metadata": {
        "id": "tEGlE7bUFJz8"
      },
      "outputs": [],
      "source": [
        "indices = np.argwhere(array != 0)"
      ]
    },
    {
      "cell_type": "code",
      "execution_count": 13,
      "metadata": {
        "colab": {
          "base_uri": "https://localhost:8080/"
        },
        "id": "H-ZG1Jn3FM_Z",
        "outputId": "0565be4a-17af-4bd1-88c5-9b3e2979b40b"
      },
      "outputs": [
        {
          "data": {
            "text/plain": [
              "array([[0, 0, 0],\n",
              "       [0, 0, 1],\n",
              "       [0, 0, 2],\n",
              "       [0, 0, 4],\n",
              "       [0, 1, 1],\n",
              "       [0, 1, 2],\n",
              "       [0, 1, 3],\n",
              "       [0, 1, 4],\n",
              "       [0, 2, 0],\n",
              "       [0, 2, 1],\n",
              "       [0, 2, 2],\n",
              "       [0, 2, 3],\n",
              "       [0, 2, 4],\n",
              "       [0, 3, 0],\n",
              "       [0, 3, 2],\n",
              "       [0, 3, 3],\n",
              "       [0, 3, 4],\n",
              "       [0, 4, 0],\n",
              "       [0, 4, 1],\n",
              "       [0, 4, 2],\n",
              "       [0, 4, 4],\n",
              "       [1, 0, 0],\n",
              "       [1, 0, 1],\n",
              "       [1, 0, 2],\n",
              "       [1, 0, 3],\n",
              "       [1, 0, 4],\n",
              "       [1, 1, 1],\n",
              "       [1, 1, 2],\n",
              "       [1, 1, 3],\n",
              "       [1, 1, 4],\n",
              "       [1, 2, 0],\n",
              "       [1, 2, 1],\n",
              "       [1, 2, 2],\n",
              "       [1, 2, 3],\n",
              "       [1, 3, 0],\n",
              "       [1, 3, 1],\n",
              "       [1, 3, 3],\n",
              "       [1, 3, 4],\n",
              "       [1, 4, 1],\n",
              "       [1, 4, 2],\n",
              "       [1, 4, 4]])"
            ]
          },
          "execution_count": 13,
          "metadata": {},
          "output_type": "execute_result"
        }
      ],
      "source": [
        "indices"
      ]
    },
    {
      "cell_type": "markdown",
      "metadata": {
        "id": "sZKZ3gMzFSoD"
      },
      "source": [
        "👆 Observe que, para esta condição (valores diferentes de 0), `np.argwhere` retorna os mesmos índices que `np.nonzero`, mas organizados de forma diferente. Enquanto que `nonzero` retorna 3 arrays, cada um representando as posições dentro de um eixo do array, `np.argwhere` retorna os próprios índices organizados como um array único."
      ]
    },
    {
      "cell_type": "markdown",
      "metadata": {
        "id": "Ck1fwH_DZTCq"
      },
      "source": [
        "#### `np.select`"
      ]
    },
    {
      "cell_type": "markdown",
      "metadata": {
        "id": "veV02BjdF6Xw"
      },
      "source": [
        "Repita o exercício de `np.where`, mas com a função `np.select`. Neste caso, a segunda condição será `array != 0`. Como as duas condiçoes cobrem 100% das possibilidades, não há necessidade de informar um valor para o parâmetro `default`."
      ]
    },
    {
      "cell_type": "code",
      "execution_count": 14,
      "metadata": {
        "id": "fNhd2vaeGFWs"
      },
      "outputs": [],
      "source": [
        "array_select = np.select(\n",
        "    condlist=[array == 0, array != 0],\n",
        "    choicelist=[np.nan, array * 2]\n",
        "    )"
      ]
    },
    {
      "cell_type": "code",
      "execution_count": 15,
      "metadata": {
        "colab": {
          "base_uri": "https://localhost:8080/"
        },
        "id": "LQq9Wq8KGc_6",
        "outputId": "ab3feb13-11a6-46b5-de78-1a82572218c0"
      },
      "outputs": [
        {
          "data": {
            "text/plain": [
              "array([[[ 2.,  4.,  4., nan, 12.],\n",
              "        [nan, 12., 12., 12., 12.],\n",
              "        [12.,  6.,  2., 12., 12.],\n",
              "        [12., nan,  4.,  6.,  4.],\n",
              "        [12.,  8.,  8., nan,  4.]],\n",
              "\n",
              "       [[ 6.,  6., 10.,  4.,  8.],\n",
              "        [nan,  8.,  4.,  6., 10.],\n",
              "        [ 2., 12.,  6., 10., nan],\n",
              "        [10.,  4., nan,  6.,  4.],\n",
              "        [nan,  2.,  6., nan, 12.]]])"
            ]
          },
          "execution_count": 15,
          "metadata": {},
          "output_type": "execute_result"
        }
      ],
      "source": [
        "array_select"
      ]
    },
    {
      "cell_type": "markdown",
      "metadata": {
        "id": "DwCt7BjVV5GE"
      },
      "source": [
        "#### `np.unravel_index`"
      ]
    },
    {
      "cell_type": "markdown",
      "metadata": {
        "id": "bfl271lkGhyM"
      },
      "source": [
        "Recupere o índice correspondente ao valor de número 35 de `array`. Você pode utilizar `array.shape` para informar `shape` na chamada da função."
      ]
    },
    {
      "cell_type": "code",
      "execution_count": 16,
      "metadata": {
        "id": "eKNhx5hNGqaX"
      },
      "outputs": [],
      "source": [
        "index = np.unravel_index(indices=35, shape=array.shape)"
      ]
    },
    {
      "cell_type": "code",
      "execution_count": 17,
      "metadata": {
        "colab": {
          "base_uri": "https://localhost:8080/"
        },
        "id": "h0TvqYFqG2gt",
        "outputId": "cdb8bbce-3a9f-4113-8bf5-e21356bb380f"
      },
      "outputs": [
        {
          "data": {
            "text/plain": [
              "(np.int64(1), np.int64(2), np.int64(0))"
            ]
          },
          "execution_count": 17,
          "metadata": {},
          "output_type": "execute_result"
        }
      ],
      "source": [
        "index"
      ]
    },
    {
      "cell_type": "markdown",
      "metadata": {
        "id": "H_MpAy0NW_lR"
      },
      "source": [
        "#### `np.diag_indices` / `np.tril_indices` / `np.triu_indices`"
      ]
    },
    {
      "cell_type": "markdown",
      "metadata": {
        "id": "2ySchkTWLS_G"
      },
      "source": [
        "Estas funções se aplicam a matrizes quadradas.\n",
        "\n",
        "Comece gerando um array 2D de números inteiros aleatórios, amostrados no intervalo [0, 50), no formato 6x2."
      ]
    },
    {
      "cell_type": "code",
      "execution_count": 18,
      "metadata": {
        "id": "BHJsJr93Ll1f"
      },
      "outputs": [],
      "source": [
        "array = rng.integers(low=0 ,high=50, size=12).reshape(6, 2)"
      ]
    },
    {
      "cell_type": "code",
      "execution_count": 19,
      "metadata": {
        "colab": {
          "base_uri": "https://localhost:8080/"
        },
        "id": "GQcM3ciRMNlw",
        "outputId": "489db06f-6762-4f86-f295-7412e46221ca"
      },
      "outputs": [
        {
          "data": {
            "text/plain": [
              "array([[29, 45],\n",
              "       [31, 49],\n",
              "       [37, 47],\n",
              "       [32, 23],\n",
              "       [39, 28],\n",
              "       [17,  3]])"
            ]
          },
          "execution_count": 19,
          "metadata": {},
          "output_type": "execute_result"
        }
      ],
      "source": [
        "array"
      ]
    },
    {
      "cell_type": "markdown",
      "metadata": {
        "id": "gdkbcxjUMoeg"
      },
      "source": [
        "Esta é uma forma bastante comum pra representar pontos em um plano cartesiano; cada linha representa um ponto, a primeira coluna é a coordenada x e a segunda é a coordenada y. No nosso exemplo, são 6 pontos.\n",
        "\n",
        "Com o auxílio da biblioteca `matplotlib`, vamos visualizar esses pontos."
      ]
    },
    {
      "cell_type": "code",
      "execution_count": 20,
      "metadata": {
        "colab": {
          "base_uri": "https://localhost:8080/",
          "height": 430
        },
        "id": "kujuuBElNBx8",
        "outputId": "c82b2ea0-3f9f-46c2-f127-1cf3455b71ab"
      },
      "outputs": [
        {
          "data": {
            "image/png": "[encoded data removed]",
            "text/plain": [
              "<Figure size 640x480 with 1 Axes>"
            ]
          },
          "metadata": {},
          "output_type": "display_data"
        }
      ],
      "source": [
        "plt.scatter(array[:, 0], array[:, 1]);"
      ]
    },
    {
      "cell_type": "markdown",
      "metadata": {
        "id": "w_nKztEmNgFG"
      },
      "source": [
        "Às vezes nós queremos calcular a distância, par a par, entre todos os pontos de um banco de dados. Para isso, vamos usar uma função da biblioteca `sklearn`."
      ]
    },
    {
      "cell_type": "code",
      "execution_count": 21,
      "metadata": {
        "id": "8CufJ0CpOfmF"
      },
      "outputs": [],
      "source": [
        "dist = pairwise_distances(array, array)"
      ]
    },
    {
      "cell_type": "code",
      "execution_count": 22,
      "metadata": {
        "colab": {
          "base_uri": "https://localhost:8080/"
        },
        "id": "lLzcxjszPwAZ",
        "outputId": "3cb83509-a804-4cfa-cd9c-25c243dbc07a"
      },
      "outputs": [
        {
          "data": {
            "text/plain": [
              "array([[ 0.        ,  4.47213595,  8.24621125, 22.20360331, 19.72308292,\n",
              "        43.68065934],\n",
              "       [ 4.47213595,  0.        ,  6.32455532, 26.01922366, 22.47220505,\n",
              "        48.08326112],\n",
              "       [ 8.24621125,  6.32455532,  0.        , 24.51530134, 19.10497317,\n",
              "        48.33218389],\n",
              "       [22.20360331, 26.01922366, 24.51530134,  0.        ,  8.60232527,\n",
              "        25.        ],\n",
              "       [19.72308292, 22.47220505, 19.10497317,  8.60232527,  0.        ,\n",
              "        33.30165161],\n",
              "       [43.68065934, 48.08326112, 48.33218389, 25.        , 33.30165161,\n",
              "         0.        ]])"
            ]
          },
          "execution_count": 22,
          "metadata": {},
          "output_type": "execute_result"
        }
      ],
      "source": [
        "dist"
      ]
    },
    {
      "cell_type": "code",
      "execution_count": 23,
      "metadata": {
        "colab": {
          "base_uri": "https://localhost:8080/"
        },
        "id": "9za09ABVPyGh",
        "outputId": "5886bdc3-56ff-49de-8400-4d2c54215209"
      },
      "outputs": [
        {
          "data": {
            "text/plain": [
              "(6, 6)"
            ]
          },
          "execution_count": 23,
          "metadata": {},
          "output_type": "execute_result"
        }
      ],
      "source": [
        "dist.shape"
      ]
    },
    {
      "cell_type": "markdown",
      "metadata": {
        "id": "njHVugOVP1Ox"
      },
      "source": [
        "Observe que a matriz de distâncias tem formato 6x6. Isso porque ela representa a distância dos 6 pontos entre si. A ordem dos pontos é a mesma do array: a primeira linha/coluna representa o primeiro ponto (primeira linha de `array`), a segunda linha/coluna representa o segundo ponto, e assim por diante."
      ]
    },
    {
      "cell_type": "markdown",
      "metadata": {
        "id": "dbHdZ2BmQJ26"
      },
      "source": [
        "Também observe que os valores na diagonal principal são todos iguais a 0. Isto ocorre porque esta diagonal representa a distância de cada ponto para si mesmo, que é obviamente zero."
      ]
    },
    {
      "cell_type": "markdown",
      "metadata": {
        "id": "gU1CQxa7Qa4n"
      },
      "source": [
        "Neste caso, como temos poucos pontos, é fácil verificar visualmente esta propriedade da matriz de distâncias. Mas suponha que você tenha uma matriz enorme, correspondente a milhares de pontos. Como pode ser feita essa verificação?"
      ]
    },
    {
      "cell_type": "markdown",
      "metadata": {
        "id": "lyKMdEUtHubT"
      },
      "source": [
        "Utilize `np.diag_indices` para recuperar os índices da diagonal desta matriz."
      ]
    },
    {
      "cell_type": "code",
      "execution_count": 24,
      "metadata": {
        "id": "8ka8m-XdH4f2"
      },
      "outputs": [],
      "source": [
        "indices = np.diag_indices(n=6, ndim=2)"
      ]
    },
    {
      "cell_type": "code",
      "execution_count": 25,
      "metadata": {
        "colab": {
          "base_uri": "https://localhost:8080/"
        },
        "id": "6Yk32kEiH8_U",
        "outputId": "d0762dfb-d4e2-42ff-cab9-8363b9ce85bf"
      },
      "outputs": [
        {
          "data": {
            "text/plain": [
              "(array([0, 1, 2, 3, 4, 5]), array([0, 1, 2, 3, 4, 5]))"
            ]
          },
          "execution_count": 25,
          "metadata": {},
          "output_type": "execute_result"
        }
      ],
      "source": [
        "indices"
      ]
    },
    {
      "cell_type": "markdown",
      "metadata": {
        "id": "SO3zm37iQqzX"
      },
      "source": [
        "Agora, utilizando `indices`, recupere os valores de `dist` na diagonal, usando indexação."
      ]
    },
    {
      "cell_type": "code",
      "execution_count": 26,
      "metadata": {
        "id": "1lpYXfHKQzo_"
      },
      "outputs": [],
      "source": [
        "values_diag = dist[indices]"
      ]
    },
    {
      "cell_type": "code",
      "execution_count": 27,
      "metadata": {
        "colab": {
          "base_uri": "https://localhost:8080/"
        },
        "id": "3WLyKNZvQ3lI",
        "outputId": "0d824545-7cd4-40da-e43a-a5c3532bc0aa"
      },
      "outputs": [
        {
          "data": {
            "text/plain": [
              "array([0., 0., 0., 0., 0., 0.])"
            ]
          },
          "execution_count": 27,
          "metadata": {},
          "output_type": "execute_result"
        }
      ],
      "source": [
        "values_diag"
      ]
    },
    {
      "cell_type": "markdown",
      "metadata": {
        "id": "GZczkJ7eQ5bC"
      },
      "source": [
        "Crie uma máscara booleana para verificar quais valores de `values_diag` são iguais a 0."
      ]
    },
    {
      "cell_type": "code",
      "execution_count": 28,
      "metadata": {
        "id": "rlshsOr7Q-c3"
      },
      "outputs": [],
      "source": [
        "mask = values_diag == 0"
      ]
    },
    {
      "cell_type": "code",
      "execution_count": 29,
      "metadata": {
        "colab": {
          "base_uri": "https://localhost:8080/"
        },
        "id": "Cg84W9mSRBMN",
        "outputId": "ffa73e8a-5722-4839-a119-24129e13322f"
      },
      "outputs": [
        {
          "data": {
            "text/plain": [
              "array([ True,  True,  True,  True,  True,  True])"
            ]
          },
          "execution_count": 29,
          "metadata": {},
          "output_type": "execute_result"
        }
      ],
      "source": [
        "mask"
      ]
    },
    {
      "cell_type": "markdown",
      "metadata": {
        "id": "SPYGAb6mRCuR"
      },
      "source": [
        "Agora utilize o método `all` para verificar que todos os valores de `mask` são realmente iguais a `True`."
      ]
    },
    {
      "cell_type": "code",
      "execution_count": 30,
      "metadata": {
        "colab": {
          "base_uri": "https://localhost:8080/"
        },
        "id": "9vh4Kbr0RIY0",
        "outputId": "276d192e-8a60-4926-a200-fbeaa3db4e1d"
      },
      "outputs": [
        {
          "data": {
            "text/plain": [
              "np.True_"
            ]
          },
          "execution_count": 30,
          "metadata": {},
          "output_type": "execute_result"
        }
      ],
      "source": [
        "mask.all()"
      ]
    },
    {
      "cell_type": "markdown",
      "metadata": {
        "id": "wkmgApDMQ2xb"
      },
      "source": [
        "Isto confirma que todos os valores da diagonal principal de `dist` são mesmo 0."
      ]
    },
    {
      "cell_type": "markdown",
      "metadata": {
        "id": "NnIzV6fHQyX5"
      },
      "source": [
        "Vamos exibir a matriz `dist` de novo."
      ]
    },
    {
      "cell_type": "code",
      "execution_count": 31,
      "metadata": {
        "colab": {
          "base_uri": "https://localhost:8080/"
        },
        "id": "B_CE61U3JJkO",
        "outputId": "6837390a-be73-4057-dcce-35b389835dfc"
      },
      "outputs": [
        {
          "data": {
            "text/plain": [
              "array([[ 0.        ,  4.47213595,  8.24621125, 22.20360331, 19.72308292,\n",
              "        43.68065934],\n",
              "       [ 4.47213595,  0.        ,  6.32455532, 26.01922366, 22.47220505,\n",
              "        48.08326112],\n",
              "       [ 8.24621125,  6.32455532,  0.        , 24.51530134, 19.10497317,\n",
              "        48.33218389],\n",
              "       [22.20360331, 26.01922366, 24.51530134,  0.        ,  8.60232527,\n",
              "        25.        ],\n",
              "       [19.72308292, 22.47220505, 19.10497317,  8.60232527,  0.        ,\n",
              "        33.30165161],\n",
              "       [43.68065934, 48.08326112, 48.33218389, 25.        , 33.30165161,\n",
              "         0.        ]])"
            ]
          },
          "execution_count": 31,
          "metadata": {},
          "output_type": "execute_result"
        }
      ],
      "source": [
        "dist"
      ]
    },
    {
      "cell_type": "markdown",
      "metadata": {
        "id": "dBOq3XL1RVQb"
      },
      "source": [
        "Agora observe que essa matriz é espelhada. O valor no índice [1, 2]  é igual ao valor no índice [2, 1]; o valor no índice [1, 3] é igual a [3, 1]; [4, 5] é igual a [5, 4] e assim por diante. Isso acontece porque, obviamente, a distância entre os pontos 1 e 2 é igual à distância entre os pontos 2 e 1."
      ]
    },
    {
      "cell_type": "markdown",
      "metadata": {
        "id": "HEdxKmtxRkBu"
      },
      "source": [
        "Por isso, para economizar memória, é comum que as matrizes de distância tenham os valores no triângulo inferior zerados, já que ela contém valores redundantes."
      ]
    },
    {
      "cell_type": "markdown",
      "metadata": {
        "id": "E899kVmOR7cy"
      },
      "source": [
        "Utilize `np.tril_indices` para recuperar os índices do triângulo inferior da matriz `dist`."
      ]
    },
    {
      "cell_type": "code",
      "execution_count": 32,
      "metadata": {
        "id": "uTjXYjA3II4e"
      },
      "outputs": [],
      "source": [
        "indices = np.tril_indices(n=6, m=6)"
      ]
    },
    {
      "cell_type": "code",
      "execution_count": 33,
      "metadata": {
        "colab": {
          "base_uri": "https://localhost:8080/"
        },
        "id": "U6BFB8mTSIqm",
        "outputId": "b68b7fa1-2220-4e51-a71e-0791efe83b82"
      },
      "outputs": [
        {
          "data": {
            "text/plain": [
              "(array([0, 1, 1, 2, 2, 2, 3, 3, 3, 3, 4, 4, 4, 4, 4, 5, 5, 5, 5, 5, 5]),\n",
              " array([0, 0, 1, 0, 1, 2, 0, 1, 2, 3, 0, 1, 2, 3, 4, 0, 1, 2, 3, 4, 5]))"
            ]
          },
          "execution_count": 33,
          "metadata": {},
          "output_type": "execute_result"
        }
      ],
      "source": [
        "indices"
      ]
    },
    {
      "cell_type": "markdown",
      "metadata": {
        "id": "oTOimF6_SNVD"
      },
      "source": [
        "Agora utilize `indices` como índices de indexação para mudar estes valores de `dist` para serem iguais a 0."
      ]
    },
    {
      "cell_type": "code",
      "execution_count": 34,
      "metadata": {
        "id": "jVohb0yCScEk"
      },
      "outputs": [],
      "source": [
        "dist[indices] = 0"
      ]
    },
    {
      "cell_type": "code",
      "execution_count": 35,
      "metadata": {
        "colab": {
          "base_uri": "https://localhost:8080/"
        },
        "id": "XjSg1-doSq7H",
        "outputId": "a8c425af-43fc-4513-f493-67ba776f06c5"
      },
      "outputs": [
        {
          "data": {
            "text/plain": [
              "array([[ 0.        ,  4.47213595,  8.24621125, 22.20360331, 19.72308292,\n",
              "        43.68065934],\n",
              "       [ 0.        ,  0.        ,  6.32455532, 26.01922366, 22.47220505,\n",
              "        48.08326112],\n",
              "       [ 0.        ,  0.        ,  0.        , 24.51530134, 19.10497317,\n",
              "        48.33218389],\n",
              "       [ 0.        ,  0.        ,  0.        ,  0.        ,  8.60232527,\n",
              "        25.        ],\n",
              "       [ 0.        ,  0.        ,  0.        ,  0.        ,  0.        ,\n",
              "        33.30165161],\n",
              "       [ 0.        ,  0.        ,  0.        ,  0.        ,  0.        ,\n",
              "         0.        ]])"
            ]
          },
          "execution_count": 35,
          "metadata": {},
          "output_type": "execute_result"
        }
      ],
      "source": [
        "dist"
      ]
    },
    {
      "cell_type": "markdown",
      "metadata": {
        "id": "1dC7JmERS33z"
      },
      "source": [
        "Esta é uma das aplicações práticas das funções de indexação do NumPy voltadas a matrizes quadradas. Se você quiser, pode refazer o exercício, agora zerando o triângulo superior ao invés do inferior."
      ]
    }
  ],
  "metadata": {
    "colab": {
      "provenance": []
    },
    "kernelspec": {
      "display_name": ".venv",
      "language": "python",
      "name": "python3"
    },
    "language_info": {
      "codemirror_mode": {
        "name": "ipython",
        "version": 3
      },
      "file_extension": ".py",
      "mimetype": "text/x-python",
      "name": "python",
      "nbconvert_exporter": "python",
      "pygments_lexer": "ipython3",
      "version": "3.12.11"
    }
  },
  "nbformat": 4,
  "nbformat_minor": 0
}
