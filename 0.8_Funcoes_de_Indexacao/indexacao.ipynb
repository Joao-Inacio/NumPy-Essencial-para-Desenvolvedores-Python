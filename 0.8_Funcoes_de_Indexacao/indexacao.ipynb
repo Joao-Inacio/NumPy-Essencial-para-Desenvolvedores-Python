{
 "cells": [
  {
   "cell_type": "markdown",
   "id": "c2967785",
   "metadata": {},
   "source": [
    "# **Funções de Indexação**"
   ]
  },
  {
   "cell_type": "code",
   "execution_count": 1,
   "id": "525a2c2f",
   "metadata": {},
   "outputs": [],
   "source": [
    "import numpy as np"
   ]
  },
  {
   "cell_type": "markdown",
   "id": "c3dfb223",
   "metadata": {},
   "source": [
    "## np.nonzero"
   ]
  },
  {
   "cell_type": "code",
   "execution_count": 2,
   "id": "8464d1a3",
   "metadata": {},
   "outputs": [],
   "source": [
    "array = np.array([\n",
    "    [1, 0, 0],\n",
    "    [0, 2, 0],\n",
    "    [3, 4, 0]\n",
    "])"
   ]
  },
  {
   "cell_type": "code",
   "execution_count": 3,
   "id": "454f5cf1",
   "metadata": {},
   "outputs": [
    {
     "data": {
      "text/plain": [
       "(array([0, 1, 2, 2]), array([0, 1, 0, 1]))"
      ]
     },
     "execution_count": 3,
     "metadata": {},
     "output_type": "execute_result"
    }
   ],
   "source": [
    "indices = np.nonzero(array)\n",
    "indices"
   ]
  },
  {
   "cell_type": "code",
   "execution_count": 4,
   "id": "c577ec34",
   "metadata": {},
   "outputs": [
    {
     "data": {
      "text/plain": [
       "array([1, 2, 3, 4])"
      ]
     },
     "execution_count": 4,
     "metadata": {},
     "output_type": "execute_result"
    }
   ],
   "source": [
    "array[indices]"
   ]
  },
  {
   "cell_type": "markdown",
   "id": "3d0cdb5f",
   "metadata": {},
   "source": [
    "## np.where"
   ]
  },
  {
   "cell_type": "code",
   "execution_count": 5,
   "id": "7124ec2f",
   "metadata": {},
   "outputs": [
    {
     "data": {
      "text/plain": [
       "array([0, 1, 2, 3, 4, 5, 6, 7, 8, 9])"
      ]
     },
     "execution_count": 5,
     "metadata": {},
     "output_type": "execute_result"
    }
   ],
   "source": [
    "array_1d = np.arange(10)\n",
    "array_1d"
   ]
  },
  {
   "cell_type": "code",
   "execution_count": 6,
   "id": "0606b828",
   "metadata": {},
   "outputs": [
    {
     "data": {
      "text/plain": [
       "(array([0, 1, 2, 3]),)"
      ]
     },
     "execution_count": 6,
     "metadata": {},
     "output_type": "execute_result"
    }
   ],
   "source": [
    "np.where(array_1d < 4)"
   ]
  },
  {
   "cell_type": "code",
   "execution_count": 7,
   "id": "93d8843b",
   "metadata": {},
   "outputs": [
    {
     "data": {
      "text/plain": [
       "array([0, 0, 0, 0, 1, 1, 1, 1, 1, 1])"
      ]
     },
     "execution_count": 7,
     "metadata": {},
     "output_type": "execute_result"
    }
   ],
   "source": [
    "np.where(array_1d < 4, 0, 1)"
   ]
  },
  {
   "cell_type": "code",
   "execution_count": 8,
   "id": "14f92c49",
   "metadata": {},
   "outputs": [
    {
     "data": {
      "text/plain": [
       "array([ 0,  1,  2,  3, 14, 15, 16, 17, 18, 19])"
      ]
     },
     "execution_count": 8,
     "metadata": {},
     "output_type": "execute_result"
    }
   ],
   "source": [
    "np.where(array_1d < 4, array_1d, array_1d + 10)"
   ]
  },
  {
   "cell_type": "code",
   "execution_count": 9,
   "id": "2d489ae8",
   "metadata": {},
   "outputs": [
    {
     "data": {
      "text/plain": [
       "array([50, 51, 52, 53, 54, 55, 56, 57, 58, 59])"
      ]
     },
     "execution_count": 9,
     "metadata": {},
     "output_type": "execute_result"
    }
   ],
   "source": [
    "other_array_1d = np.arange(50, 60)\n",
    "other_array_1d"
   ]
  },
  {
   "cell_type": "code",
   "execution_count": 10,
   "id": "70669cec",
   "metadata": {},
   "outputs": [
    {
     "data": {
      "text/plain": [
       "array([ 0,  1,  2,  3, 54, 55, 56, 57, 58, 59])"
      ]
     },
     "execution_count": 10,
     "metadata": {},
     "output_type": "execute_result"
    }
   ],
   "source": [
    "np.where(array_1d < 4, array_1d, other_array_1d)"
   ]
  },
  {
   "cell_type": "code",
   "execution_count": 11,
   "id": "998d4ff5",
   "metadata": {},
   "outputs": [
    {
     "data": {
      "text/plain": [
       "array([[ 0,  1,  2,  3,  4],\n",
       "       [ 5,  6,  7,  8,  9],\n",
       "       [10, 11, 12, 13, 14],\n",
       "       [15, 16, 17, 18, 19]])"
      ]
     },
     "execution_count": 11,
     "metadata": {},
     "output_type": "execute_result"
    }
   ],
   "source": [
    "array_2d = np.arange(0, 20).reshape(4, 5)\n",
    "array_2d"
   ]
  },
  {
   "cell_type": "code",
   "execution_count": 12,
   "id": "365dc0c4",
   "metadata": {},
   "outputs": [
    {
     "data": {
      "text/plain": [
       "array([[ 0, -1,  2, -1,  4],\n",
       "       [-1,  6, -1,  8, -1],\n",
       "       [10, -1, 12, -1, 14],\n",
       "       [-1, 16, -1, 18, -1]])"
      ]
     },
     "execution_count": 12,
     "metadata": {},
     "output_type": "execute_result"
    }
   ],
   "source": [
    "np.where(array_2d % 2 == 0, array_2d, -1)"
   ]
  },
  {
   "cell_type": "markdown",
   "id": "4441c361",
   "metadata": {},
   "source": [
    "## np.argwhere"
   ]
  },
  {
   "cell_type": "code",
   "execution_count": 13,
   "id": "470fecf8",
   "metadata": {},
   "outputs": [
    {
     "data": {
      "text/plain": [
       "array([[ 0,  1,  2,  3,  4],\n",
       "       [ 5,  6,  7,  8,  9],\n",
       "       [10, 11, 12, 13, 14],\n",
       "       [15, 16, 17, 18, 19]])"
      ]
     },
     "execution_count": 13,
     "metadata": {},
     "output_type": "execute_result"
    }
   ],
   "source": [
    "array_2d"
   ]
  },
  {
   "cell_type": "code",
   "execution_count": 14,
   "id": "2e6cbab1",
   "metadata": {},
   "outputs": [
    {
     "data": {
      "text/plain": [
       "array([[0, 0],\n",
       "       [0, 2],\n",
       "       [0, 4],\n",
       "       [1, 1],\n",
       "       [1, 3],\n",
       "       [2, 0],\n",
       "       [2, 2],\n",
       "       [2, 4],\n",
       "       [3, 1],\n",
       "       [3, 3]])"
      ]
     },
     "execution_count": 14,
     "metadata": {},
     "output_type": "execute_result"
    }
   ],
   "source": [
    "np.argwhere(array_2d % 2 ==0)"
   ]
  },
  {
   "cell_type": "markdown",
   "id": "7baf98a1",
   "metadata": {},
   "source": [
    "## np.selectc"
   ]
  },
  {
   "cell_type": "markdown",
   "id": "4f579ef8",
   "metadata": {},
   "source": [
    "## np.unravel_index"
   ]
  }
 ],
 "metadata": {
  "kernelspec": {
   "display_name": ".venv",
   "language": "python",
   "name": "python3"
  },
  "language_info": {
   "codemirror_mode": {
    "name": "ipython",
    "version": 3
   },
   "file_extension": ".py",
   "mimetype": "text/x-python",
   "name": "python",
   "nbconvert_exporter": "python",
   "pygments_lexer": "ipython3",
   "version": "3.12.11"
  }
 },
 "nbformat": 4,
 "nbformat_minor": 5
}
