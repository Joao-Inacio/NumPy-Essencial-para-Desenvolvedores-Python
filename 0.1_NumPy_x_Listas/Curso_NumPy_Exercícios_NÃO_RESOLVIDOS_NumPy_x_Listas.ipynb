{
  "cells": [
    {
      "cell_type": "code",
      "execution_count": 1,
      "metadata": {
        "id": "sgYgpXPEmTmW"
      },
      "outputs": [],
      "source": [
        "import numpy as np"
      ]
    },
    {
      "cell_type": "code",
      "execution_count": 2,
      "metadata": {
        "colab": {
          "base_uri": "https://localhost:8080/",
          "height": 35
        },
        "id": "WToUoFxfmkqS",
        "outputId": "2ab0880b-f602-4a1a-faca-65935f1ad504"
      },
      "outputs": [
        {
          "data": {
            "text/plain": [
              "'2.3.2'"
            ]
          },
          "execution_count": 2,
          "metadata": {},
          "output_type": "execute_result"
        }
      ],
      "source": [
        "np.__version__"
      ]
    },
    {
      "cell_type": "markdown",
      "metadata": {
        "id": "qQSiQYijRktN"
      },
      "source": [
        "Neste módulo, você será convidado a refazer alguns dos exemplos apresentados na aula, para fixação dos conceitos."
      ]
    },
    {
      "cell_type": "markdown",
      "metadata": {
        "id": "tKBdhQQHm1vm"
      },
      "source": [
        "### NumPy x Listas"
      ]
    },
    {
      "cell_type": "markdown",
      "metadata": {
        "id": "uEVvDAHfnBMq"
      },
      "source": [
        "#### Tamanho fixo"
      ]
    },
    {
      "cell_type": "markdown",
      "metadata": {
        "id": "vOyZ8mANSbus"
      },
      "source": [
        "Abaixo vamos instanciar um array com 4 elementos."
      ]
    },
    {
      "cell_type": "code",
      "execution_count": 3,
      "metadata": {
        "id": "ps9uf0w2SWMr"
      },
      "outputs": [],
      "source": [
        "array_a = np.array([0, 1, 2, 3])"
      ]
    },
    {
      "cell_type": "markdown",
      "metadata": {
        "id": "rrXB8W-QSoGL"
      },
      "source": [
        "Utilizando a função `np.append`, adicione o elemento `4` no final deste array. Lembre-se que este elemento deve estar \"envelopado\" em uma lista: `[4]`. Coloque o resultado em novo array chamado `array_b` e exiba o resultado."
      ]
    },
    {
      "cell_type": "code",
      "execution_count": 4,
      "metadata": {
        "id": "8YlWbU2SS0ta"
      },
      "outputs": [
        {
          "data": {
            "text/plain": [
              "array([0, 1, 2, 3, 4])"
            ]
          },
          "execution_count": 4,
          "metadata": {},
          "output_type": "execute_result"
        }
      ],
      "source": [
        "array_b = np.append(array_a, [4])\n",
        "array_b"
      ]
    },
    {
      "cell_type": "code",
      "execution_count": null,
      "metadata": {
        "colab": {
          "base_uri": "https://localhost:8080/"
        },
        "id": "2YDy_oncPerW",
        "outputId": "74f67883-498f-445c-97a6-5ca251e3d5b9"
      },
      "outputs": [
        {
          "data": {
            "text/plain": [
              "array([0, 1, 2, 3, 4])"
            ]
          },
          "execution_count": 23,
          "metadata": {},
          "output_type": "execute_result"
        }
      ],
      "source": [
        "array_b"
      ]
    },
    {
      "cell_type": "markdown",
      "metadata": {
        "id": "GtdyCwQHTHJ0"
      },
      "source": [
        "Agora, utilizando a função `id` do Python e o comparador `==`, mostre que os dois arrays têm endereços diferentes na memória, o que mostra que `array_b` é diferente de `array_a`.\n",
        "\n",
        "💡 Isto ocorre porque, no NumPy, os arrays têm **tamanho fixo**. Se você adicionar elementos no array, um novo array é criado."
      ]
    },
    {
      "cell_type": "code",
      "execution_count": 6,
      "metadata": {
        "colab": {
          "base_uri": "https://localhost:8080/"
        },
        "id": "1D3cZLSXTFPz",
        "outputId": "e78d1c32-69ca-46e1-aca2-b35dc63a604d"
      },
      "outputs": [
        {
          "name": "stdout",
          "output_type": "stream",
          "text": [
            "False\n"
          ]
        }
      ],
      "source": [
        "print(id(array_a) == id(array_b))"
      ]
    },
    {
      "cell_type": "markdown",
      "metadata": {
        "id": "-ZoG41JOoFSZ"
      },
      "source": [
        "#### Homogêneo"
      ]
    },
    {
      "cell_type": "markdown",
      "metadata": {
        "id": "vz2ZSUpSTna1"
      },
      "source": [
        "Instancie um array `array_c` com 3 elementos:\n",
        "- o número `3` (inteiro)\n",
        "- o número `7.9` (float)\n",
        "- o valor `False` (booleano)\n",
        "\n",
        "Exiba este array."
      ]
    },
    {
      "cell_type": "code",
      "execution_count": 10,
      "metadata": {
        "id": "c4Eoca1KTmyK"
      },
      "outputs": [
        {
          "data": {
            "text/plain": [
              "array([3. , 7.9, 0. ])"
            ]
          },
          "execution_count": 10,
          "metadata": {},
          "output_type": "execute_result"
        }
      ],
      "source": [
        "array_c = np.array([3, 7.9, False])\n",
        "array_c"
      ]
    },
    {
      "cell_type": "code",
      "execution_count": null,
      "metadata": {
        "colab": {
          "base_uri": "https://localhost:8080/"
        },
        "id": "Dfza8ZPIP0-f",
        "outputId": "cb1a2b73-5c91-44bf-8a9d-717b7382eccf"
      },
      "outputs": [
        {
          "data": {
            "text/plain": [
              "array([3. , 7.9, 0. ])"
            ]
          },
          "execution_count": 26,
          "metadata": {},
          "output_type": "execute_result"
        }
      ],
      "source": [
        "array_c"
      ]
    },
    {
      "cell_type": "markdown",
      "metadata": {
        "id": "9u2fJtYuUIFu"
      },
      "source": [
        "Utilizando um loop `for` para iterar sobre os elementos de `array_c`,  exiba na tela (`print`) o próprio elemento, e o tipo de cada elemento do array, utilizando a função `type`."
      ]
    },
    {
      "cell_type": "code",
      "execution_count": 11,
      "metadata": {
        "colab": {
          "base_uri": "https://localhost:8080/"
        },
        "id": "GNw0o0BPTfff",
        "outputId": "8077a508-1483-433d-9b37-ed040d5d7d76"
      },
      "outputs": [
        {
          "name": "stdout",
          "output_type": "stream",
          "text": [
            "3.0 <class 'numpy.float64'>\n",
            "7.9 <class 'numpy.float64'>\n",
            "0.0 <class 'numpy.float64'>\n"
          ]
        }
      ],
      "source": [
        "for i in array_c:\n",
        "    print(i, type(i))"
      ]
    },
    {
      "cell_type": "markdown",
      "metadata": {
        "id": "StufrPCbUirs"
      },
      "source": [
        "💡 Observe que, para manter a homogeneidade do array, todos os elementos foram convertidos para o tipo `np.float`."
      ]
    },
    {
      "cell_type": "markdown",
      "metadata": {
        "id": "8gLjt4n8Uo5g"
      },
      "source": [
        "Agora, utilizando o método `dtype` do array, exiba o tipo de dado que ele armazena."
      ]
    },
    {
      "cell_type": "code",
      "execution_count": 12,
      "metadata": {
        "colab": {
          "base_uri": "https://localhost:8080/"
        },
        "id": "nQs5KosPUhMy",
        "outputId": "45b17652-5b12-4993-a62b-b1f6997e0ea8"
      },
      "outputs": [
        {
          "data": {
            "text/plain": [
              "dtype('float64')"
            ]
          },
          "execution_count": 12,
          "metadata": {},
          "output_type": "execute_result"
        }
      ],
      "source": [
        "array_c.dtype"
      ]
    },
    {
      "cell_type": "markdown",
      "metadata": {
        "id": "iJMDDGpyUwsQ"
      },
      "source": [
        "💡 Perceba que o array têm o mesmo tipo de dado que seus elementos."
      ]
    },
    {
      "cell_type": "markdown",
      "metadata": {
        "id": "bj8peJXMo8wB"
      },
      "source": [
        "#### Vetorização"
      ]
    },
    {
      "cell_type": "markdown",
      "metadata": {
        "id": "nsWnvPbvVCLQ"
      },
      "source": [
        "Instancie um array `array_d` com os valores `10`, `11`, `12` e `13`, e um array `array_e` com os valores `1`, `2`, `3` e `4`.\n",
        "\n",
        "Exiba estes dois arrays."
      ]
    },
    {
      "cell_type": "code",
      "execution_count": 13,
      "metadata": {
        "colab": {
          "base_uri": "https://localhost:8080/"
        },
        "id": "7sSJIuFJUvW4",
        "outputId": "5382ce52-43fb-40c9-eaf2-3d92d8680342"
      },
      "outputs": [
        {
          "data": {
            "text/plain": [
              "(array([10, 11, 12, 13]), array([1, 2, 3, 4]))"
            ]
          },
          "execution_count": 13,
          "metadata": {},
          "output_type": "execute_result"
        }
      ],
      "source": [
        "array_d = np.array([10, 11, 12, 13])\n",
        "array_e = np.array([1, 2, 3, 4])\n",
        "\n",
        "array_d, array_e"
      ]
    },
    {
      "cell_type": "markdown",
      "metadata": {
        "id": "XG05DWkvVeO4"
      },
      "source": [
        "Agora, realize as 4 operações matemáticas básicas (soma, subtração, multiplicação e divisão) utilizando os operadores nativos do Python (`+`, `-`, `*`, `/`). Exiba os resultados diretamente, sem armazená-los em uma variável antes."
      ]
    },
    {
      "cell_type": "code",
      "execution_count": 14,
      "metadata": {
        "colab": {
          "base_uri": "https://localhost:8080/"
        },
        "id": "0T29UX41VwQ9",
        "outputId": "fa654bbf-1c1d-4847-993a-68e66c92c6f7"
      },
      "outputs": [
        {
          "data": {
            "text/plain": [
              "array([11, 13, 15, 17])"
            ]
          },
          "execution_count": 14,
          "metadata": {},
          "output_type": "execute_result"
        }
      ],
      "source": [
        "array_d + array_e"
      ]
    },
    {
      "cell_type": "code",
      "execution_count": 15,
      "metadata": {
        "colab": {
          "base_uri": "https://localhost:8080/"
        },
        "id": "MAHxG5C3VxoL",
        "outputId": "921cca43-fccf-46de-8449-9b6d809ffe2d"
      },
      "outputs": [
        {
          "data": {
            "text/plain": [
              "array([9, 9, 9, 9])"
            ]
          },
          "execution_count": 15,
          "metadata": {},
          "output_type": "execute_result"
        }
      ],
      "source": [
        "array_d - array_e"
      ]
    },
    {
      "cell_type": "code",
      "execution_count": 16,
      "metadata": {
        "colab": {
          "base_uri": "https://localhost:8080/"
        },
        "id": "pRmhuvthVyw-",
        "outputId": "5888cf5c-8d8e-4a41-a9a2-7e75c78bb337"
      },
      "outputs": [
        {
          "data": {
            "text/plain": [
              "array([10, 22, 36, 52])"
            ]
          },
          "execution_count": 16,
          "metadata": {},
          "output_type": "execute_result"
        }
      ],
      "source": [
        "array_d * array_e"
      ]
    },
    {
      "cell_type": "code",
      "execution_count": 17,
      "metadata": {
        "colab": {
          "base_uri": "https://localhost:8080/"
        },
        "id": "kRO3kGdRVzpA",
        "outputId": "2cce2af2-001a-41ea-f69c-9c2ee5639495"
      },
      "outputs": [
        {
          "data": {
            "text/plain": [
              "array([10.  ,  5.5 ,  4.  ,  3.25])"
            ]
          },
          "execution_count": 17,
          "metadata": {},
          "output_type": "execute_result"
        }
      ],
      "source": [
        "array_d / array_e"
      ]
    },
    {
      "cell_type": "markdown",
      "metadata": {
        "id": "1p2DXweeV2v7"
      },
      "source": [
        "💡 O uso dos operadores básicos só é possível graças à propriedade vetorial dos arrays do NumPy, que permite operações matemáticas elemento-a-elemento entre arrays."
      ]
    },
    {
      "cell_type": "markdown",
      "metadata": {
        "id": "4sgdl_VYrJfz"
      },
      "source": [
        "#### Broadcasting"
      ]
    },
    {
      "cell_type": "markdown",
      "metadata": {
        "id": "Yz5WHX1oWatG"
      },
      "source": [
        "Vamos reutilizar o `array_d` para demonstrar a propriedade de broadcasting.\n",
        "\n",
        "Utilize os 4 operadores matemáticos básicos para somar, subtrair, multiplicar e dividir o valor `2` de cada elemento do array.\n",
        "\n",
        "Printe os resultados diretamente na tela."
      ]
    },
    {
      "cell_type": "code",
      "execution_count": 18,
      "metadata": {
        "colab": {
          "base_uri": "https://localhost:8080/"
        },
        "id": "1Je3FvZQV1HF",
        "outputId": "a7f1412d-c621-42fd-d8aa-a23afebd3bc9"
      },
      "outputs": [
        {
          "data": {
            "text/plain": [
              "array([12, 13, 14, 15])"
            ]
          },
          "execution_count": 18,
          "metadata": {},
          "output_type": "execute_result"
        }
      ],
      "source": [
        "array_d + 2"
      ]
    },
    {
      "cell_type": "code",
      "execution_count": 19,
      "metadata": {
        "colab": {
          "base_uri": "https://localhost:8080/"
        },
        "id": "d8Z1KfgfW5nZ",
        "outputId": "7513fcff-5ee9-476f-d37f-6a7f4cce72a7"
      },
      "outputs": [
        {
          "data": {
            "text/plain": [
              "array([ 8,  9, 10, 11])"
            ]
          },
          "execution_count": 19,
          "metadata": {},
          "output_type": "execute_result"
        }
      ],
      "source": [
        "array_d - 2"
      ]
    },
    {
      "cell_type": "code",
      "execution_count": 20,
      "metadata": {
        "colab": {
          "base_uri": "https://localhost:8080/"
        },
        "id": "LsFdHoDLW6sK",
        "outputId": "7edaa61e-8d5e-4818-be2f-5efd3c88fd45"
      },
      "outputs": [
        {
          "data": {
            "text/plain": [
              "array([20, 22, 24, 26])"
            ]
          },
          "execution_count": 20,
          "metadata": {},
          "output_type": "execute_result"
        }
      ],
      "source": [
        "array_d * 2"
      ]
    },
    {
      "cell_type": "code",
      "execution_count": 21,
      "metadata": {
        "colab": {
          "base_uri": "https://localhost:8080/"
        },
        "id": "XUHz5QL9W8cL",
        "outputId": "fcc55c8f-8ad6-44e0-ea46-f23ad0e973e1"
      },
      "outputs": [
        {
          "data": {
            "text/plain": [
              "array([5. , 5.5, 6. , 6.5])"
            ]
          },
          "execution_count": 21,
          "metadata": {},
          "output_type": "execute_result"
        }
      ],
      "source": [
        "array_d / 2"
      ]
    },
    {
      "cell_type": "markdown",
      "metadata": {
        "id": "3qRwf6htXG9y"
      },
      "source": [
        "💡 Observe que, se você quiser realizar essas operações em todos os elementos do array com um **valor fixo**, é possível utilizar este valor como um escalar, sem a necessidade de transformá-lo em um array. Isto é possível graças à propriedade de broadcasting."
      ]
    }
  ],
  "metadata": {
    "colab": {
      "provenance": []
    },
    "kernelspec": {
      "display_name": ".venv",
      "language": "python",
      "name": "python3"
    },
    "language_info": {
      "codemirror_mode": {
        "name": "ipython",
        "version": 3
      },
      "file_extension": ".py",
      "mimetype": "text/x-python",
      "name": "python",
      "nbconvert_exporter": "python",
      "pygments_lexer": "ipython3",
      "version": "3.12.10"
    }
  },
  "nbformat": 4,
  "nbformat_minor": 0
}
