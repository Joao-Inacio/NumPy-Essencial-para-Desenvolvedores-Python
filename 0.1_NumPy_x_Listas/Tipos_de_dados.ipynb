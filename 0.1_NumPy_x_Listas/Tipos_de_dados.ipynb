{
 "cells": [
  {
   "cell_type": "markdown",
   "id": "0cc4ee49",
   "metadata": {},
   "source": [
    "## Tipos de dados"
   ]
  },
  {
   "cell_type": "code",
   "execution_count": 1,
   "id": "1a880c6a",
   "metadata": {},
   "outputs": [],
   "source": [
    "import numpy as np"
   ]
  },
  {
   "cell_type": "code",
   "execution_count": 3,
   "id": "78ac4605",
   "metadata": {},
   "outputs": [
    {
     "name": "stdout",
     "output_type": "stream",
     "text": [
      "[1, 2.4, 'a', True, 5]\n"
     ]
    }
   ],
   "source": [
    "list_a = [1, 2.4, 'a', True, 5]\n",
    "print(list_a)"
   ]
  },
  {
   "cell_type": "code",
   "execution_count": 6,
   "id": "b61518ec",
   "metadata": {},
   "outputs": [
    {
     "name": "stdout",
     "output_type": "stream",
     "text": [
      "1 = <class 'int'>\n",
      "2.4 = <class 'float'>\n",
      "a = <class 'str'>\n",
      "True = <class 'bool'>\n",
      "5 = <class 'int'>\n"
     ]
    }
   ],
   "source": [
    "for i in list_a:\n",
    "    print(f\"{i} = {type(i)}\")"
   ]
  },
  {
   "cell_type": "code",
   "execution_count": 7,
   "id": "f10d8b54",
   "metadata": {},
   "outputs": [
    {
     "data": {
      "text/plain": [
       "numpy.ndarray"
      ]
     },
     "execution_count": 7,
     "metadata": {},
     "output_type": "execute_result"
    }
   ],
   "source": [
    "arra_a = np.array(list_a)\n",
    "type(arra_a)"
   ]
  },
  {
   "cell_type": "code",
   "execution_count": 8,
   "id": "1a470a86",
   "metadata": {},
   "outputs": [
    {
     "name": "stdout",
     "output_type": "stream",
     "text": [
      "['1' '2.4' 'a' 'True' '5']\n"
     ]
    }
   ],
   "source": [
    "print(arra_a)"
   ]
  },
  {
   "cell_type": "code",
   "execution_count": 9,
   "id": "e023c354",
   "metadata": {},
   "outputs": [
    {
     "name": "stdout",
     "output_type": "stream",
     "text": [
      "<class 'numpy.str_'>\n",
      "<class 'numpy.str_'>\n",
      "<class 'numpy.str_'>\n",
      "<class 'numpy.str_'>\n",
      "<class 'numpy.str_'>\n"
     ]
    }
   ],
   "source": [
    "for i in arra_a:\n",
    "    print(type(i))"
   ]
  },
  {
   "cell_type": "code",
   "execution_count": 10,
   "id": "2f638a52",
   "metadata": {},
   "outputs": [
    {
     "data": {
      "text/plain": [
       "dtype('<U32')"
      ]
     },
     "execution_count": 10,
     "metadata": {},
     "output_type": "execute_result"
    }
   ],
   "source": [
    "arra_a.dtype"
   ]
  }
 ],
 "metadata": {
  "kernelspec": {
   "display_name": ".venv",
   "language": "python",
   "name": "python3"
  },
  "language_info": {
   "codemirror_mode": {
    "name": "ipython",
    "version": 3
   },
   "file_extension": ".py",
   "mimetype": "text/x-python",
   "name": "python",
   "nbconvert_exporter": "python",
   "pygments_lexer": "ipython3",
   "version": "3.12.10"
  }
 },
 "nbformat": 4,
 "nbformat_minor": 5
}
