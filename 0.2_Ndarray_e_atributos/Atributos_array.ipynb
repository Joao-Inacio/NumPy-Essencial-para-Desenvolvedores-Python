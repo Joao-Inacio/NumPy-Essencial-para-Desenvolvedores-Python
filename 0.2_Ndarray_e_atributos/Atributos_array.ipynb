{
 "cells": [
  {
   "cell_type": "code",
   "execution_count": 1,
   "id": "be86ed9f",
   "metadata": {},
   "outputs": [],
   "source": [
    "import numpy as np"
   ]
  },
  {
   "cell_type": "code",
   "execution_count": 2,
   "id": "0471182f",
   "metadata": {},
   "outputs": [
    {
     "data": {
      "text/plain": [
       "array([1, 2, 3])"
      ]
     },
     "execution_count": 2,
     "metadata": {},
     "output_type": "execute_result"
    }
   ],
   "source": [
    "array_from_list = np.array([1, 2, 3])\n",
    "array_from_list"
   ]
  },
  {
   "cell_type": "markdown",
   "id": "6487c384",
   "metadata": {},
   "source": [
    "## Size"
   ]
  },
  {
   "cell_type": "code",
   "execution_count": 3,
   "id": "43f147ca",
   "metadata": {},
   "outputs": [
    {
     "data": {
      "text/plain": [
       "3"
      ]
     },
     "execution_count": 3,
     "metadata": {},
     "output_type": "execute_result"
    }
   ],
   "source": [
    "array_from_list.size"
   ]
  },
  {
   "cell_type": "markdown",
   "id": "048b3a2c",
   "metadata": {},
   "source": [
    "## Ndim"
   ]
  },
  {
   "cell_type": "code",
   "execution_count": 4,
   "id": "871a92c8",
   "metadata": {},
   "outputs": [
    {
     "data": {
      "text/plain": [
       "1"
      ]
     },
     "execution_count": 4,
     "metadata": {},
     "output_type": "execute_result"
    }
   ],
   "source": [
    "array_from_list.ndim"
   ]
  },
  {
   "cell_type": "markdown",
   "id": "1b13a7c0",
   "metadata": {},
   "source": [
    "## shape"
   ]
  },
  {
   "cell_type": "code",
   "execution_count": 5,
   "id": "940baa31",
   "metadata": {},
   "outputs": [
    {
     "data": {
      "text/plain": [
       "(3,)"
      ]
     },
     "execution_count": 5,
     "metadata": {},
     "output_type": "execute_result"
    }
   ],
   "source": [
    "array_from_list.shape"
   ]
  },
  {
   "cell_type": "markdown",
   "id": "e7aad191",
   "metadata": {},
   "source": [
    "## itemsize"
   ]
  },
  {
   "cell_type": "code",
   "execution_count": 6,
   "id": "9289620c",
   "metadata": {},
   "outputs": [
    {
     "data": {
      "text/plain": [
       "8"
      ]
     },
     "execution_count": 6,
     "metadata": {},
     "output_type": "execute_result"
    }
   ],
   "source": [
    "array_from_list.itemsize"
   ]
  },
  {
   "cell_type": "markdown",
   "id": "87b874b8",
   "metadata": {},
   "source": [
    "## nbytes"
   ]
  },
  {
   "cell_type": "code",
   "execution_count": 7,
   "id": "877a5503",
   "metadata": {},
   "outputs": [
    {
     "data": {
      "text/plain": [
       "24"
      ]
     },
     "execution_count": 7,
     "metadata": {},
     "output_type": "execute_result"
    }
   ],
   "source": [
    "array_from_list.nbytes"
   ]
  },
  {
   "cell_type": "markdown",
   "id": "5929814b",
   "metadata": {},
   "source": [
    "## dtype"
   ]
  },
  {
   "cell_type": "code",
   "execution_count": 8,
   "id": "7db4c5d1",
   "metadata": {},
   "outputs": [
    {
     "data": {
      "text/plain": [
       "dtype('int64')"
      ]
     },
     "execution_count": 8,
     "metadata": {},
     "output_type": "execute_result"
    }
   ],
   "source": [
    "array_from_list.dtype"
   ]
  }
 ],
 "metadata": {
  "kernelspec": {
   "display_name": ".venv",
   "language": "python",
   "name": "python3"
  },
  "language_info": {
   "codemirror_mode": {
    "name": "ipython",
    "version": 3
   },
   "file_extension": ".py",
   "mimetype": "text/x-python",
   "name": "python",
   "nbconvert_exporter": "python",
   "pygments_lexer": "ipython3",
   "version": "3.12.11"
  }
 },
 "nbformat": 4,
 "nbformat_minor": 5
}
