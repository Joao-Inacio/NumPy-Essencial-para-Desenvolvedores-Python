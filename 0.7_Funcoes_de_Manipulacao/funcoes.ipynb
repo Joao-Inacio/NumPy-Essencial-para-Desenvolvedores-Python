{
 "cells": [
  {
   "cell_type": "markdown",
   "id": "b8ea40e6",
   "metadata": {},
   "source": [
    "# **Funções de Manipulação**"
   ]
  },
  {
   "cell_type": "code",
   "execution_count": 1,
   "id": "52910659",
   "metadata": {},
   "outputs": [],
   "source": [
    "import numpy as np"
   ]
  },
  {
   "cell_type": "markdown",
   "id": "c019e6e5",
   "metadata": {},
   "source": [
    "## Agrupando e dividindo arrays"
   ]
  },
  {
   "cell_type": "code",
   "execution_count": 2,
   "id": "dbf878e1",
   "metadata": {},
   "outputs": [
    {
     "data": {
      "text/plain": [
       "array([0, 1, 2, 3, 4, 5, 6, 7, 8, 9])"
      ]
     },
     "execution_count": 2,
     "metadata": {},
     "output_type": "execute_result"
    }
   ],
   "source": [
    "array_1d = np.arange(0, 10)\n",
    "array_1d"
   ]
  },
  {
   "cell_type": "code",
   "execution_count": 3,
   "id": "9f519f41",
   "metadata": {},
   "outputs": [
    {
     "data": {
      "text/plain": [
       "array([[ 0,  1,  2,  3,  4,  5],\n",
       "       [ 6,  7,  8,  9, 10, 11],\n",
       "       [12, 13, 14, 15, 16, 17]])"
      ]
     },
     "execution_count": 3,
     "metadata": {},
     "output_type": "execute_result"
    }
   ],
   "source": [
    "array_2d_0 = np.arange(0, 18).reshape(3, 6)\n",
    "array_2d_0"
   ]
  },
  {
   "cell_type": "code",
   "execution_count": 4,
   "id": "ec4e09dc",
   "metadata": {},
   "outputs": [
    {
     "data": {
      "text/plain": [
       "array([[18, 19, 20, 21, 22, 23],\n",
       "       [24, 25, 26, 27, 28, 29],\n",
       "       [30, 31, 32, 33, 34, 35]])"
      ]
     },
     "execution_count": 4,
     "metadata": {},
     "output_type": "execute_result"
    }
   ],
   "source": [
    "array_2d_1 = np.arange(18, 36).reshape(3, 6)\n",
    "array_2d_1"
   ]
  },
  {
   "cell_type": "markdown",
   "id": "c3c6a8e7",
   "metadata": {},
   "source": [
    "### np.concatenate"
   ]
  },
  {
   "cell_type": "code",
   "execution_count": 5,
   "id": "d00e2dfe",
   "metadata": {},
   "outputs": [
    {
     "data": {
      "text/plain": [
       "array([[ 0,  1,  2,  3,  4,  5],\n",
       "       [ 6,  7,  8,  9, 10, 11],\n",
       "       [12, 13, 14, 15, 16, 17],\n",
       "       [18, 19, 20, 21, 22, 23],\n",
       "       [24, 25, 26, 27, 28, 29],\n",
       "       [30, 31, 32, 33, 34, 35]])"
      ]
     },
     "execution_count": 5,
     "metadata": {},
     "output_type": "execute_result"
    }
   ],
   "source": [
    "np.concatenate([array_2d_0, array_2d_1])"
   ]
  },
  {
   "cell_type": "code",
   "execution_count": 6,
   "id": "cb324043",
   "metadata": {},
   "outputs": [
    {
     "data": {
      "text/plain": [
       "array([[ 0,  1,  2,  3,  4,  5, 18, 19, 20, 21, 22, 23],\n",
       "       [ 6,  7,  8,  9, 10, 11, 24, 25, 26, 27, 28, 29],\n",
       "       [12, 13, 14, 15, 16, 17, 30, 31, 32, 33, 34, 35]])"
      ]
     },
     "execution_count": 6,
     "metadata": {},
     "output_type": "execute_result"
    }
   ],
   "source": [
    "np.concatenate([array_2d_0, array_2d_1], axis=1)"
   ]
  },
  {
   "cell_type": "markdown",
   "id": "b65a4d65",
   "metadata": {},
   "source": [
    "### np.stack"
   ]
  },
  {
   "cell_type": "code",
   "execution_count": 7,
   "id": "bf1a5da9",
   "metadata": {},
   "outputs": [
    {
     "data": {
      "text/plain": [
       "array([[[ 0,  1,  2,  3,  4,  5],\n",
       "        [ 6,  7,  8,  9, 10, 11],\n",
       "        [12, 13, 14, 15, 16, 17]],\n",
       "\n",
       "       [[18, 19, 20, 21, 22, 23],\n",
       "        [24, 25, 26, 27, 28, 29],\n",
       "        [30, 31, 32, 33, 34, 35]]])"
      ]
     },
     "execution_count": 7,
     "metadata": {},
     "output_type": "execute_result"
    }
   ],
   "source": [
    "array_stacked = np.stack(arrays=[array_2d_0, array_2d_1])\n",
    "array_stacked"
   ]
  },
  {
   "cell_type": "code",
   "execution_count": 8,
   "id": "0158802f",
   "metadata": {},
   "outputs": [
    {
     "data": {
      "text/plain": [
       "(2, 3, 6)"
      ]
     },
     "execution_count": 8,
     "metadata": {},
     "output_type": "execute_result"
    }
   ],
   "source": [
    "array_stacked.shape"
   ]
  },
  {
   "cell_type": "code",
   "execution_count": 9,
   "id": "54c3a82d",
   "metadata": {},
   "outputs": [
    {
     "data": {
      "text/plain": [
       "array([[[ 0,  1,  2,  3,  4,  5],\n",
       "        [18, 19, 20, 21, 22, 23]],\n",
       "\n",
       "       [[ 6,  7,  8,  9, 10, 11],\n",
       "        [24, 25, 26, 27, 28, 29]],\n",
       "\n",
       "       [[12, 13, 14, 15, 16, 17],\n",
       "        [30, 31, 32, 33, 34, 35]]])"
      ]
     },
     "execution_count": 9,
     "metadata": {},
     "output_type": "execute_result"
    }
   ],
   "source": [
    "array_stacked = np.stack(arrays=[array_2d_0, array_2d_1], axis=1)\n",
    "array_stacked"
   ]
  },
  {
   "cell_type": "code",
   "execution_count": 10,
   "id": "7e9b28ae",
   "metadata": {},
   "outputs": [
    {
     "data": {
      "text/plain": [
       "(3, 2, 6)"
      ]
     },
     "execution_count": 10,
     "metadata": {},
     "output_type": "execute_result"
    }
   ],
   "source": [
    "array_stacked.shape"
   ]
  },
  {
   "cell_type": "code",
   "execution_count": 11,
   "id": "94602018",
   "metadata": {},
   "outputs": [
    {
     "data": {
      "text/plain": [
       "array([[[ 0, 18],\n",
       "        [ 1, 19],\n",
       "        [ 2, 20],\n",
       "        [ 3, 21],\n",
       "        [ 4, 22],\n",
       "        [ 5, 23]],\n",
       "\n",
       "       [[ 6, 24],\n",
       "        [ 7, 25],\n",
       "        [ 8, 26],\n",
       "        [ 9, 27],\n",
       "        [10, 28],\n",
       "        [11, 29]],\n",
       "\n",
       "       [[12, 30],\n",
       "        [13, 31],\n",
       "        [14, 32],\n",
       "        [15, 33],\n",
       "        [16, 34],\n",
       "        [17, 35]]])"
      ]
     },
     "execution_count": 11,
     "metadata": {},
     "output_type": "execute_result"
    }
   ],
   "source": [
    "array_stacked = np.stack(arrays=[array_2d_0, array_2d_1], axis=-1)\n",
    "array_stacked"
   ]
  },
  {
   "cell_type": "code",
   "execution_count": 12,
   "id": "116accd9",
   "metadata": {},
   "outputs": [
    {
     "data": {
      "text/plain": [
       "(3, 6, 2)"
      ]
     },
     "execution_count": 12,
     "metadata": {},
     "output_type": "execute_result"
    }
   ],
   "source": [
    "array_stacked.shape"
   ]
  },
  {
   "cell_type": "markdown",
   "id": "b3545b45",
   "metadata": {},
   "source": [
    "### np.vsstack e np.hstack"
   ]
  },
  {
   "cell_type": "code",
   "execution_count": 13,
   "id": "1ba4e4f0",
   "metadata": {},
   "outputs": [
    {
     "data": {
      "text/plain": [
       "array([[ 0,  1,  2,  3,  4,  5],\n",
       "       [ 6,  7,  8,  9, 10, 11],\n",
       "       [12, 13, 14, 15, 16, 17],\n",
       "       [18, 19, 20, 21, 22, 23],\n",
       "       [24, 25, 26, 27, 28, 29],\n",
       "       [30, 31, 32, 33, 34, 35]])"
      ]
     },
     "execution_count": 13,
     "metadata": {},
     "output_type": "execute_result"
    }
   ],
   "source": [
    "np.vstack(tup=[array_2d_0, array_2d_1])"
   ]
  },
  {
   "cell_type": "code",
   "execution_count": 14,
   "id": "c9835b1b",
   "metadata": {},
   "outputs": [
    {
     "data": {
      "text/plain": [
       "array([[ 0,  1,  2,  3,  4,  5, 18, 19, 20, 21, 22, 23],\n",
       "       [ 6,  7,  8,  9, 10, 11, 24, 25, 26, 27, 28, 29],\n",
       "       [12, 13, 14, 15, 16, 17, 30, 31, 32, 33, 34, 35]])"
      ]
     },
     "execution_count": 14,
     "metadata": {},
     "output_type": "execute_result"
    }
   ],
   "source": [
    "np.hstack(tup=[array_2d_0, array_2d_1])"
   ]
  },
  {
   "cell_type": "markdown",
   "id": "1b84b889",
   "metadata": {},
   "source": [
    "### np.split"
   ]
  },
  {
   "cell_type": "code",
   "execution_count": 15,
   "id": "a846642b",
   "metadata": {},
   "outputs": [
    {
     "data": {
      "text/plain": [
       "[array([0, 1, 2, 3, 4]), array([5, 6, 7, 8, 9])]"
      ]
     },
     "execution_count": 15,
     "metadata": {},
     "output_type": "execute_result"
    }
   ],
   "source": [
    "np.split(ary=array_1d, indices_or_sections=2)"
   ]
  },
  {
   "cell_type": "code",
   "execution_count": 16,
   "id": "c3f7a2d7",
   "metadata": {},
   "outputs": [
    {
     "data": {
      "text/plain": [
       "[array([[ 0,  1],\n",
       "        [ 6,  7],\n",
       "        [12, 13]]),\n",
       " array([[ 2,  3],\n",
       "        [ 8,  9],\n",
       "        [14, 15]]),\n",
       " array([[ 4,  5],\n",
       "        [10, 11],\n",
       "        [16, 17]])]"
      ]
     },
     "execution_count": 16,
     "metadata": {},
     "output_type": "execute_result"
    }
   ],
   "source": [
    "np.split(ary=array_2d_0, indices_or_sections=3, axis=1)"
   ]
  },
  {
   "cell_type": "markdown",
   "id": "3f70af64",
   "metadata": {},
   "source": [
    "### np.vsplit e np.hsplit"
   ]
  },
  {
   "cell_type": "code",
   "execution_count": 17,
   "id": "1e61cd66",
   "metadata": {},
   "outputs": [
    {
     "data": {
      "text/plain": [
       "[array([[0, 1, 2, 3, 4, 5]]),\n",
       " array([[ 6,  7,  8,  9, 10, 11]]),\n",
       " array([[12, 13, 14, 15, 16, 17]])]"
      ]
     },
     "execution_count": 17,
     "metadata": {},
     "output_type": "execute_result"
    }
   ],
   "source": [
    "np.vsplit(ary=array_2d_0, indices_or_sections=3)"
   ]
  },
  {
   "cell_type": "code",
   "execution_count": 18,
   "id": "e43601df",
   "metadata": {},
   "outputs": [
    {
     "data": {
      "text/plain": [
       "[array([[ 0,  1],\n",
       "        [ 6,  7],\n",
       "        [12, 13]]),\n",
       " array([[ 2,  3],\n",
       "        [ 8,  9],\n",
       "        [14, 15]]),\n",
       " array([[ 4,  5],\n",
       "        [10, 11],\n",
       "        [16, 17]])]"
      ]
     },
     "execution_count": 18,
     "metadata": {},
     "output_type": "execute_result"
    }
   ],
   "source": [
    "np.hsplit(ary=array_2d_0, indices_or_sections=3)"
   ]
  }
 ],
 "metadata": {
  "kernelspec": {
   "display_name": ".venv",
   "language": "python",
   "name": "python3"
  },
  "language_info": {
   "codemirror_mode": {
    "name": "ipython",
    "version": 3
   },
   "file_extension": ".py",
   "mimetype": "text/x-python",
   "name": "python",
   "nbconvert_exporter": "python",
   "pygments_lexer": "ipython3",
   "version": "3.12.11"
  }
 },
 "nbformat": 4,
 "nbformat_minor": 5
}
