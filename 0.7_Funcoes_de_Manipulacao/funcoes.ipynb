{
 "cells": [
  {
   "cell_type": "markdown",
   "id": "b8ea40e6",
   "metadata": {},
   "source": [
    "# **Funções de Manipulação**"
   ]
  },
  {
   "cell_type": "code",
   "execution_count": 1,
   "id": "52910659",
   "metadata": {},
   "outputs": [],
   "source": [
    "import numpy as np"
   ]
  },
  {
   "cell_type": "markdown",
   "id": "c019e6e5",
   "metadata": {},
   "source": [
    "## Agrupando e dividindo arrays"
   ]
  },
  {
   "cell_type": "code",
   "execution_count": 2,
   "id": "dbf878e1",
   "metadata": {},
   "outputs": [
    {
     "data": {
      "text/plain": [
       "array([0, 1, 2, 3, 4, 5, 6, 7, 8, 9])"
      ]
     },
     "execution_count": 2,
     "metadata": {},
     "output_type": "execute_result"
    }
   ],
   "source": [
    "array_1d = np.arange(0, 10)\n",
    "array_1d"
   ]
  },
  {
   "cell_type": "code",
   "execution_count": 3,
   "id": "9f519f41",
   "metadata": {},
   "outputs": [
    {
     "data": {
      "text/plain": [
       "array([[ 0,  1,  2,  3,  4,  5],\n",
       "       [ 6,  7,  8,  9, 10, 11],\n",
       "       [12, 13, 14, 15, 16, 17]])"
      ]
     },
     "execution_count": 3,
     "metadata": {},
     "output_type": "execute_result"
    }
   ],
   "source": [
    "array_2d_0 = np.arange(0, 18).reshape(3, 6)\n",
    "array_2d_0"
   ]
  },
  {
   "cell_type": "code",
   "execution_count": 4,
   "id": "ec4e09dc",
   "metadata": {},
   "outputs": [
    {
     "data": {
      "text/plain": [
       "array([[18, 19, 20, 21, 22, 23],\n",
       "       [24, 25, 26, 27, 28, 29],\n",
       "       [30, 31, 32, 33, 34, 35]])"
      ]
     },
     "execution_count": 4,
     "metadata": {},
     "output_type": "execute_result"
    }
   ],
   "source": [
    "array_2d_1 = np.arange(18, 36).reshape(3, 6)\n",
    "array_2d_1"
   ]
  },
  {
   "cell_type": "markdown",
   "id": "c3c6a8e7",
   "metadata": {},
   "source": [
    "### np.concatenate"
   ]
  },
  {
   "cell_type": "code",
   "execution_count": 5,
   "id": "d00e2dfe",
   "metadata": {},
   "outputs": [
    {
     "data": {
      "text/plain": [
       "array([[ 0,  1,  2,  3,  4,  5],\n",
       "       [ 6,  7,  8,  9, 10, 11],\n",
       "       [12, 13, 14, 15, 16, 17],\n",
       "       [18, 19, 20, 21, 22, 23],\n",
       "       [24, 25, 26, 27, 28, 29],\n",
       "       [30, 31, 32, 33, 34, 35]])"
      ]
     },
     "execution_count": 5,
     "metadata": {},
     "output_type": "execute_result"
    }
   ],
   "source": [
    "np.concatenate([array_2d_0, array_2d_1])"
   ]
  },
  {
   "cell_type": "code",
   "execution_count": 6,
   "id": "cb324043",
   "metadata": {},
   "outputs": [
    {
     "data": {
      "text/plain": [
       "array([[ 0,  1,  2,  3,  4,  5, 18, 19, 20, 21, 22, 23],\n",
       "       [ 6,  7,  8,  9, 10, 11, 24, 25, 26, 27, 28, 29],\n",
       "       [12, 13, 14, 15, 16, 17, 30, 31, 32, 33, 34, 35]])"
      ]
     },
     "execution_count": 6,
     "metadata": {},
     "output_type": "execute_result"
    }
   ],
   "source": [
    "np.concatenate([array_2d_0, array_2d_1], axis=1)"
   ]
  },
  {
   "cell_type": "markdown",
   "id": "b65a4d65",
   "metadata": {},
   "source": [
    "### np.stack"
   ]
  },
  {
   "cell_type": "code",
   "execution_count": 7,
   "id": "bf1a5da9",
   "metadata": {},
   "outputs": [
    {
     "data": {
      "text/plain": [
       "array([[[ 0,  1,  2,  3,  4,  5],\n",
       "        [ 6,  7,  8,  9, 10, 11],\n",
       "        [12, 13, 14, 15, 16, 17]],\n",
       "\n",
       "       [[18, 19, 20, 21, 22, 23],\n",
       "        [24, 25, 26, 27, 28, 29],\n",
       "        [30, 31, 32, 33, 34, 35]]])"
      ]
     },
     "execution_count": 7,
     "metadata": {},
     "output_type": "execute_result"
    }
   ],
   "source": [
    "array_stacked = np.stack(arrays=[array_2d_0, array_2d_1])\n",
    "array_stacked"
   ]
  },
  {
   "cell_type": "code",
   "execution_count": 8,
   "id": "0158802f",
   "metadata": {},
   "outputs": [
    {
     "data": {
      "text/plain": [
       "(2, 3, 6)"
      ]
     },
     "execution_count": 8,
     "metadata": {},
     "output_type": "execute_result"
    }
   ],
   "source": [
    "array_stacked.shape"
   ]
  },
  {
   "cell_type": "code",
   "execution_count": 9,
   "id": "54c3a82d",
   "metadata": {},
   "outputs": [
    {
     "data": {
      "text/plain": [
       "array([[[ 0,  1,  2,  3,  4,  5],\n",
       "        [18, 19, 20, 21, 22, 23]],\n",
       "\n",
       "       [[ 6,  7,  8,  9, 10, 11],\n",
       "        [24, 25, 26, 27, 28, 29]],\n",
       "\n",
       "       [[12, 13, 14, 15, 16, 17],\n",
       "        [30, 31, 32, 33, 34, 35]]])"
      ]
     },
     "execution_count": 9,
     "metadata": {},
     "output_type": "execute_result"
    }
   ],
   "source": [
    "array_stacked = np.stack(arrays=[array_2d_0, array_2d_1], axis=1)\n",
    "array_stacked"
   ]
  },
  {
   "cell_type": "code",
   "execution_count": 10,
   "id": "7e9b28ae",
   "metadata": {},
   "outputs": [
    {
     "data": {
      "text/plain": [
       "(3, 2, 6)"
      ]
     },
     "execution_count": 10,
     "metadata": {},
     "output_type": "execute_result"
    }
   ],
   "source": [
    "array_stacked.shape"
   ]
  },
  {
   "cell_type": "code",
   "execution_count": 11,
   "id": "94602018",
   "metadata": {},
   "outputs": [
    {
     "data": {
      "text/plain": [
       "array([[[ 0, 18],\n",
       "        [ 1, 19],\n",
       "        [ 2, 20],\n",
       "        [ 3, 21],\n",
       "        [ 4, 22],\n",
       "        [ 5, 23]],\n",
       "\n",
       "       [[ 6, 24],\n",
       "        [ 7, 25],\n",
       "        [ 8, 26],\n",
       "        [ 9, 27],\n",
       "        [10, 28],\n",
       "        [11, 29]],\n",
       "\n",
       "       [[12, 30],\n",
       "        [13, 31],\n",
       "        [14, 32],\n",
       "        [15, 33],\n",
       "        [16, 34],\n",
       "        [17, 35]]])"
      ]
     },
     "execution_count": 11,
     "metadata": {},
     "output_type": "execute_result"
    }
   ],
   "source": [
    "array_stacked = np.stack(arrays=[array_2d_0, array_2d_1], axis=-1)\n",
    "array_stacked"
   ]
  },
  {
   "cell_type": "code",
   "execution_count": 12,
   "id": "116accd9",
   "metadata": {},
   "outputs": [
    {
     "data": {
      "text/plain": [
       "(3, 6, 2)"
      ]
     },
     "execution_count": 12,
     "metadata": {},
     "output_type": "execute_result"
    }
   ],
   "source": [
    "array_stacked.shape"
   ]
  },
  {
   "cell_type": "markdown",
   "id": "b3545b45",
   "metadata": {},
   "source": [
    "### np.vsstack e np.hstack"
   ]
  },
  {
   "cell_type": "code",
   "execution_count": 13,
   "id": "1ba4e4f0",
   "metadata": {},
   "outputs": [
    {
     "data": {
      "text/plain": [
       "array([[ 0,  1,  2,  3,  4,  5],\n",
       "       [ 6,  7,  8,  9, 10, 11],\n",
       "       [12, 13, 14, 15, 16, 17],\n",
       "       [18, 19, 20, 21, 22, 23],\n",
       "       [24, 25, 26, 27, 28, 29],\n",
       "       [30, 31, 32, 33, 34, 35]])"
      ]
     },
     "execution_count": 13,
     "metadata": {},
     "output_type": "execute_result"
    }
   ],
   "source": [
    "np.vstack(tup=[array_2d_0, array_2d_1])"
   ]
  },
  {
   "cell_type": "code",
   "execution_count": 14,
   "id": "c9835b1b",
   "metadata": {},
   "outputs": [
    {
     "data": {
      "text/plain": [
       "array([[ 0,  1,  2,  3,  4,  5, 18, 19, 20, 21, 22, 23],\n",
       "       [ 6,  7,  8,  9, 10, 11, 24, 25, 26, 27, 28, 29],\n",
       "       [12, 13, 14, 15, 16, 17, 30, 31, 32, 33, 34, 35]])"
      ]
     },
     "execution_count": 14,
     "metadata": {},
     "output_type": "execute_result"
    }
   ],
   "source": [
    "np.hstack(tup=[array_2d_0, array_2d_1])"
   ]
  },
  {
   "cell_type": "markdown",
   "id": "1b84b889",
   "metadata": {},
   "source": [
    "### np.split"
   ]
  },
  {
   "cell_type": "code",
   "execution_count": 15,
   "id": "a846642b",
   "metadata": {},
   "outputs": [
    {
     "data": {
      "text/plain": [
       "[array([0, 1, 2, 3, 4]), array([5, 6, 7, 8, 9])]"
      ]
     },
     "execution_count": 15,
     "metadata": {},
     "output_type": "execute_result"
    }
   ],
   "source": [
    "np.split(ary=array_1d, indices_or_sections=2)"
   ]
  },
  {
   "cell_type": "code",
   "execution_count": 16,
   "id": "c3f7a2d7",
   "metadata": {},
   "outputs": [
    {
     "data": {
      "text/plain": [
       "[array([[ 0,  1],\n",
       "        [ 6,  7],\n",
       "        [12, 13]]),\n",
       " array([[ 2,  3],\n",
       "        [ 8,  9],\n",
       "        [14, 15]]),\n",
       " array([[ 4,  5],\n",
       "        [10, 11],\n",
       "        [16, 17]])]"
      ]
     },
     "execution_count": 16,
     "metadata": {},
     "output_type": "execute_result"
    }
   ],
   "source": [
    "np.split(ary=array_2d_0, indices_or_sections=3, axis=1)"
   ]
  },
  {
   "cell_type": "markdown",
   "id": "3f70af64",
   "metadata": {},
   "source": [
    "### np.vsplit e np.hsplit"
   ]
  },
  {
   "cell_type": "code",
   "execution_count": 17,
   "id": "1e61cd66",
   "metadata": {},
   "outputs": [
    {
     "data": {
      "text/plain": [
       "[array([[0, 1, 2, 3, 4, 5]]),\n",
       " array([[ 6,  7,  8,  9, 10, 11]]),\n",
       " array([[12, 13, 14, 15, 16, 17]])]"
      ]
     },
     "execution_count": 17,
     "metadata": {},
     "output_type": "execute_result"
    }
   ],
   "source": [
    "np.vsplit(ary=array_2d_0, indices_or_sections=3)"
   ]
  },
  {
   "cell_type": "code",
   "execution_count": 18,
   "id": "e43601df",
   "metadata": {},
   "outputs": [
    {
     "data": {
      "text/plain": [
       "[array([[ 0,  1],\n",
       "        [ 6,  7],\n",
       "        [12, 13]]),\n",
       " array([[ 2,  3],\n",
       "        [ 8,  9],\n",
       "        [14, 15]]),\n",
       " array([[ 4,  5],\n",
       "        [10, 11],\n",
       "        [16, 17]])]"
      ]
     },
     "execution_count": 18,
     "metadata": {},
     "output_type": "execute_result"
    }
   ],
   "source": [
    "np.hsplit(ary=array_2d_0, indices_or_sections=3)"
   ]
  },
  {
   "cell_type": "markdown",
   "id": "65bd83cf",
   "metadata": {},
   "source": [
    "## Adicionando eixos"
   ]
  },
  {
   "cell_type": "markdown",
   "id": "e4204ff1",
   "metadata": {},
   "source": [
    "### np.expand_dims"
   ]
  },
  {
   "cell_type": "code",
   "execution_count": 19,
   "id": "f4bbb60d",
   "metadata": {},
   "outputs": [
    {
     "data": {
      "text/plain": [
       "2"
      ]
     },
     "execution_count": 19,
     "metadata": {},
     "output_type": "execute_result"
    }
   ],
   "source": [
    "array_2d_0.ndim"
   ]
  },
  {
   "cell_type": "code",
   "execution_count": 20,
   "id": "0c711792",
   "metadata": {},
   "outputs": [
    {
     "data": {
      "text/plain": [
       "(3, 6)"
      ]
     },
     "execution_count": 20,
     "metadata": {},
     "output_type": "execute_result"
    }
   ],
   "source": [
    "array_2d_0.shape"
   ]
  },
  {
   "cell_type": "code",
   "execution_count": 21,
   "id": "3a9688b1",
   "metadata": {},
   "outputs": [
    {
     "data": {
      "text/plain": [
       "array([[[ 0,  1,  2,  3,  4,  5],\n",
       "        [ 6,  7,  8,  9, 10, 11],\n",
       "        [12, 13, 14, 15, 16, 17]]])"
      ]
     },
     "execution_count": 21,
     "metadata": {},
     "output_type": "execute_result"
    }
   ],
   "source": [
    "new_array_2d_0 = np.expand_dims(a=array_2d_0, axis=0)\n",
    "new_array_2d_0"
   ]
  },
  {
   "cell_type": "code",
   "execution_count": 22,
   "id": "24f46185",
   "metadata": {},
   "outputs": [
    {
     "data": {
      "text/plain": [
       "(3, (1, 3, 6))"
      ]
     },
     "execution_count": 22,
     "metadata": {},
     "output_type": "execute_result"
    }
   ],
   "source": [
    "new_array_2d_0.ndim, new_array_2d_0.shape"
   ]
  },
  {
   "cell_type": "code",
   "execution_count": 23,
   "id": "0e7238b7",
   "metadata": {},
   "outputs": [
    {
     "data": {
      "text/plain": [
       "(3, 6)"
      ]
     },
     "execution_count": 23,
     "metadata": {},
     "output_type": "execute_result"
    }
   ],
   "source": [
    "np.squeeze(new_array_2d_0).shape"
   ]
  },
  {
   "cell_type": "code",
   "execution_count": 24,
   "id": "ec75dcbb",
   "metadata": {},
   "outputs": [
    {
     "data": {
      "text/plain": [
       "array([[[ 0,  1,  2,  3,  4,  5]],\n",
       "\n",
       "       [[ 6,  7,  8,  9, 10, 11]],\n",
       "\n",
       "       [[12, 13, 14, 15, 16, 17]]])"
      ]
     },
     "execution_count": 24,
     "metadata": {},
     "output_type": "execute_result"
    }
   ],
   "source": [
    "new_array_2d_0 = np.expand_dims(a=array_2d_0, axis=1)\n",
    "new_array_2d_0"
   ]
  },
  {
   "cell_type": "code",
   "execution_count": 25,
   "id": "59d3234b",
   "metadata": {},
   "outputs": [
    {
     "data": {
      "text/plain": [
       "(3, (3, 1, 6))"
      ]
     },
     "execution_count": 25,
     "metadata": {},
     "output_type": "execute_result"
    }
   ],
   "source": [
    "new_array_2d_0.ndim, new_array_2d_0.shape"
   ]
  },
  {
   "cell_type": "code",
   "execution_count": 26,
   "id": "bff66258",
   "metadata": {},
   "outputs": [
    {
     "data": {
      "text/plain": [
       "array([[ 0,  1,  2,  3,  4,  5],\n",
       "       [ 6,  7,  8,  9, 10, 11],\n",
       "       [12, 13, 14, 15, 16, 17]])"
      ]
     },
     "execution_count": 26,
     "metadata": {},
     "output_type": "execute_result"
    }
   ],
   "source": [
    "array_2d_0"
   ]
  },
  {
   "cell_type": "code",
   "execution_count": 27,
   "id": "07c16815",
   "metadata": {},
   "outputs": [
    {
     "data": {
      "text/plain": [
       "(array([[[ 0,  1,  2,  3,  4,  5],\n",
       "         [ 6,  7,  8,  9, 10, 11],\n",
       "         [12, 13, 14, 15, 16, 17]]]),\n",
       " (1, 3, 6))"
      ]
     },
     "execution_count": 27,
     "metadata": {},
     "output_type": "execute_result"
    }
   ],
   "source": [
    "array_2d_0[np.newaxis, :], array_2d_0[np.newaxis, :].shape"
   ]
  },
  {
   "cell_type": "code",
   "execution_count": 28,
   "id": "42031b9e",
   "metadata": {},
   "outputs": [
    {
     "data": {
      "text/plain": [
       "(array([[[ 0,  1,  2,  3,  4,  5]],\n",
       " \n",
       "        [[ 6,  7,  8,  9, 10, 11]],\n",
       " \n",
       "        [[12, 13, 14, 15, 16, 17]]]),\n",
       " (3, 1, 6))"
      ]
     },
     "execution_count": 28,
     "metadata": {},
     "output_type": "execute_result"
    }
   ],
   "source": [
    "array_2d_0[:, np.newaxis, :], array_2d_0[:, np.newaxis, :].shape"
   ]
  },
  {
   "cell_type": "code",
   "execution_count": 29,
   "id": "9a7ca76b",
   "metadata": {},
   "outputs": [
    {
     "data": {
      "text/plain": [
       "array([[[ 0,  1,  2,  3,  4,  5]],\n",
       "\n",
       "       [[ 6,  7,  8,  9, 10, 11]],\n",
       "\n",
       "       [[12, 13, 14, 15, 16, 17]]])"
      ]
     },
     "execution_count": 29,
     "metadata": {},
     "output_type": "execute_result"
    }
   ],
   "source": [
    "array_2d_0.reshape(3, 1, 6)"
   ]
  },
  {
   "cell_type": "markdown",
   "id": "6f9ebc50",
   "metadata": {},
   "source": [
    "## Rearranjando elementos"
   ]
  },
  {
   "cell_type": "markdown",
   "id": "0523f4ce",
   "metadata": {},
   "source": [
    "### np.flip"
   ]
  },
  {
   "cell_type": "code",
   "execution_count": 30,
   "id": "880d6ee9",
   "metadata": {},
   "outputs": [
    {
     "data": {
      "text/plain": [
       "array([0, 1, 2, 3, 4, 5, 6, 7, 8, 9])"
      ]
     },
     "execution_count": 30,
     "metadata": {},
     "output_type": "execute_result"
    }
   ],
   "source": [
    "array_1d"
   ]
  },
  {
   "cell_type": "code",
   "execution_count": 31,
   "id": "4adb4641",
   "metadata": {},
   "outputs": [
    {
     "data": {
      "text/plain": [
       "array([9, 8, 7, 6, 5, 4, 3, 2, 1, 0])"
      ]
     },
     "execution_count": 31,
     "metadata": {},
     "output_type": "execute_result"
    }
   ],
   "source": [
    "np.flip(array_1d)"
   ]
  },
  {
   "cell_type": "code",
   "execution_count": 32,
   "id": "664c06c5",
   "metadata": {},
   "outputs": [
    {
     "data": {
      "text/plain": [
       "array([9, 8, 7, 6, 5, 4, 3, 2, 1, 0])"
      ]
     },
     "execution_count": 32,
     "metadata": {},
     "output_type": "execute_result"
    }
   ],
   "source": [
    "array_1d[:: -1]"
   ]
  },
  {
   "cell_type": "code",
   "execution_count": 33,
   "id": "79b6999e",
   "metadata": {},
   "outputs": [
    {
     "data": {
      "text/plain": [
       "array([[ 0,  1,  2,  3,  4,  5],\n",
       "       [ 6,  7,  8,  9, 10, 11],\n",
       "       [12, 13, 14, 15, 16, 17]])"
      ]
     },
     "execution_count": 33,
     "metadata": {},
     "output_type": "execute_result"
    }
   ],
   "source": [
    "array_2d_0"
   ]
  },
  {
   "cell_type": "code",
   "execution_count": 34,
   "id": "92feb3d9",
   "metadata": {},
   "outputs": [
    {
     "data": {
      "text/plain": [
       "array([[17, 16, 15, 14, 13, 12],\n",
       "       [11, 10,  9,  8,  7,  6],\n",
       "       [ 5,  4,  3,  2,  1,  0]])"
      ]
     },
     "execution_count": 34,
     "metadata": {},
     "output_type": "execute_result"
    }
   ],
   "source": [
    "np.flip(array_2d_0)"
   ]
  },
  {
   "cell_type": "code",
   "execution_count": 35,
   "id": "0aae1297",
   "metadata": {},
   "outputs": [
    {
     "data": {
      "text/plain": [
       "array([[12, 13, 14, 15, 16, 17],\n",
       "       [ 6,  7,  8,  9, 10, 11],\n",
       "       [ 0,  1,  2,  3,  4,  5]])"
      ]
     },
     "execution_count": 35,
     "metadata": {},
     "output_type": "execute_result"
    }
   ],
   "source": [
    "np.flip(array_2d_0, axis=0)"
   ]
  },
  {
   "cell_type": "code",
   "execution_count": 36,
   "id": "4798512f",
   "metadata": {},
   "outputs": [
    {
     "data": {
      "text/plain": [
       "array([[ 5,  4,  3,  2,  1,  0],\n",
       "       [11, 10,  9,  8,  7,  6],\n",
       "       [17, 16, 15, 14, 13, 12]])"
      ]
     },
     "execution_count": 36,
     "metadata": {},
     "output_type": "execute_result"
    }
   ],
   "source": [
    "np.flip(array_2d_0, axis=1)"
   ]
  },
  {
   "cell_type": "markdown",
   "id": "f74dfb08",
   "metadata": {},
   "source": [
    "### np.resize"
   ]
  },
  {
   "cell_type": "code",
   "execution_count": 37,
   "id": "42a61364",
   "metadata": {},
   "outputs": [
    {
     "data": {
      "text/plain": [
       "array([[ 0,  1,  2,  3,  4,  5],\n",
       "       [ 6,  7,  8,  9, 10, 11],\n",
       "       [12, 13, 14, 15, 16, 17]])"
      ]
     },
     "execution_count": 37,
     "metadata": {},
     "output_type": "execute_result"
    }
   ],
   "source": [
    "array_2d_0"
   ]
  },
  {
   "cell_type": "code",
   "execution_count": 38,
   "id": "c6801749",
   "metadata": {},
   "outputs": [
    {
     "data": {
      "text/plain": [
       "array([0, 1, 2, 3, 4, 5, 6, 7, 8, 9])"
      ]
     },
     "execution_count": 38,
     "metadata": {},
     "output_type": "execute_result"
    }
   ],
   "source": [
    "np.resize(a=array_2d_0, new_shape=10)"
   ]
  },
  {
   "cell_type": "code",
   "execution_count": 39,
   "id": "c4c854d6",
   "metadata": {},
   "outputs": [
    {
     "data": {
      "text/plain": [
       "array([[0, 1],\n",
       "       [2, 3],\n",
       "       [4, 5],\n",
       "       [6, 7]])"
      ]
     },
     "execution_count": 39,
     "metadata": {},
     "output_type": "execute_result"
    }
   ],
   "source": [
    "np.resize(a=array_2d_0, new_shape=(4, 2))"
   ]
  },
  {
   "cell_type": "code",
   "execution_count": 40,
   "id": "0fbf03b1",
   "metadata": {},
   "outputs": [
    {
     "data": {
      "text/plain": [
       "array([[ 0,  1,  2,  3],\n",
       "       [ 4,  5,  6,  7],\n",
       "       [ 8,  9, 10, 11],\n",
       "       [12, 13, 14, 15],\n",
       "       [16, 17,  0,  1],\n",
       "       [ 2,  3,  4,  5],\n",
       "       [ 6,  7,  8,  9],\n",
       "       [10, 11, 12, 13]])"
      ]
     },
     "execution_count": 40,
     "metadata": {},
     "output_type": "execute_result"
    }
   ],
   "source": [
    "np.resize(a=array_2d_0, new_shape=(8, 4))"
   ]
  },
  {
   "cell_type": "code",
   "execution_count": 41,
   "id": "7c4e6853",
   "metadata": {},
   "outputs": [
    {
     "data": {
      "text/plain": [
       "array([[[ 0,  1,  2],\n",
       "        [ 3,  4,  5],\n",
       "        [ 6,  7,  8],\n",
       "        [ 9, 10, 11],\n",
       "        [12, 13, 14]],\n",
       "\n",
       "       [[15, 16, 17],\n",
       "        [ 0,  1,  2],\n",
       "        [ 3,  4,  5],\n",
       "        [ 6,  7,  8],\n",
       "        [ 9, 10, 11]]])"
      ]
     },
     "execution_count": 41,
     "metadata": {},
     "output_type": "execute_result"
    }
   ],
   "source": [
    "np.resize(a=array_2d_0, new_shape=(2, 5, 3))"
   ]
  },
  {
   "cell_type": "markdown",
   "id": "efa56ffd",
   "metadata": {},
   "source": [
    "## Adicionando ou removendo elemento"
   ]
  },
  {
   "cell_type": "markdown",
   "id": "3f7119a0",
   "metadata": {},
   "source": [
    "### np.insert"
   ]
  },
  {
   "cell_type": "code",
   "execution_count": 42,
   "id": "0c3c725b",
   "metadata": {},
   "outputs": [
    {
     "data": {
      "text/plain": [
       "array([0, 1, 2, 3, 4, 5, 6, 7, 8, 9])"
      ]
     },
     "execution_count": 42,
     "metadata": {},
     "output_type": "execute_result"
    }
   ],
   "source": [
    "array_1d"
   ]
  },
  {
   "cell_type": "code",
   "execution_count": 43,
   "id": "5f2edf27",
   "metadata": {},
   "outputs": [
    {
     "data": {
      "text/plain": [
       "array([0, 1, 2, 3, 1, 4, 5, 6, 7, 8, 9])"
      ]
     },
     "execution_count": 43,
     "metadata": {},
     "output_type": "execute_result"
    }
   ],
   "source": [
    "np.insert(arr=array_1d, obj=4, values=1)"
   ]
  },
  {
   "cell_type": "code",
   "execution_count": 44,
   "id": "0aad9cee",
   "metadata": {},
   "outputs": [
    {
     "data": {
      "text/plain": [
       "array([[ 0,  1,  2,  3,  4,  5],\n",
       "       [ 6,  7,  8,  9, 10, 11],\n",
       "       [12, 13, 14, 15, 16, 17]])"
      ]
     },
     "execution_count": 44,
     "metadata": {},
     "output_type": "execute_result"
    }
   ],
   "source": [
    "array_2d_0"
   ]
  },
  {
   "cell_type": "code",
   "execution_count": 45,
   "id": "63c8395b",
   "metadata": {},
   "outputs": [
    {
     "data": {
      "text/plain": [
       "array([[ 0, -1,  1,  2,  3,  4,  5],\n",
       "       [ 6, -1,  7,  8,  9, 10, 11],\n",
       "       [12, -1, 13, 14, 15, 16, 17]])"
      ]
     },
     "execution_count": 45,
     "metadata": {},
     "output_type": "execute_result"
    }
   ],
   "source": [
    "np.insert(arr=array_2d_0, obj=1, values=-1, axis=1)"
   ]
  },
  {
   "cell_type": "code",
   "execution_count": 46,
   "id": "aec996ed",
   "metadata": {},
   "outputs": [
    {
     "data": {
      "text/plain": [
       "array([[ 0, -1,  1,  2,  3,  4,  5],\n",
       "       [ 6, -2,  7,  8,  9, 10, 11],\n",
       "       [12, -3, 13, 14, 15, 16, 17]])"
      ]
     },
     "execution_count": 46,
     "metadata": {},
     "output_type": "execute_result"
    }
   ],
   "source": [
    "np.insert(arr=array_2d_0, obj=1, values=[-1, -2, -3], axis=1)"
   ]
  },
  {
   "cell_type": "markdown",
   "id": "14a00019",
   "metadata": {},
   "source": [
    "### np.delete"
   ]
  },
  {
   "cell_type": "code",
   "execution_count": 47,
   "id": "1a509b41",
   "metadata": {},
   "outputs": [
    {
     "data": {
      "text/plain": [
       "array([0, 1, 2, 3, 4, 5, 6, 7, 8, 9])"
      ]
     },
     "execution_count": 47,
     "metadata": {},
     "output_type": "execute_result"
    }
   ],
   "source": [
    "array_1d"
   ]
  },
  {
   "cell_type": "code",
   "execution_count": 48,
   "id": "ed31d127",
   "metadata": {},
   "outputs": [
    {
     "data": {
      "text/plain": [
       "array([0, 1, 2, 3, 5, 6, 7, 8, 9])"
      ]
     },
     "execution_count": 48,
     "metadata": {},
     "output_type": "execute_result"
    }
   ],
   "source": [
    "np.delete(arr=array_1d, obj=4)"
   ]
  },
  {
   "cell_type": "code",
   "execution_count": 49,
   "id": "17328e95",
   "metadata": {},
   "outputs": [
    {
     "data": {
      "text/plain": [
       "array([[ 0,  1,  2,  3,  4,  5],\n",
       "       [ 6,  7,  8,  9, 10, 11],\n",
       "       [12, 13, 14, 15, 16, 17]])"
      ]
     },
     "execution_count": 49,
     "metadata": {},
     "output_type": "execute_result"
    }
   ],
   "source": [
    "array_2d_0"
   ]
  },
  {
   "cell_type": "code",
   "execution_count": 50,
   "id": "1aebd700",
   "metadata": {},
   "outputs": [
    {
     "data": {
      "text/plain": [
       "array([[ 0,  2,  3,  4,  5],\n",
       "       [ 6,  8,  9, 10, 11],\n",
       "       [12, 14, 15, 16, 17]])"
      ]
     },
     "execution_count": 50,
     "metadata": {},
     "output_type": "execute_result"
    }
   ],
   "source": [
    "np.delete(arr=array_2d_0, obj=1, axis=1)"
   ]
  },
  {
   "cell_type": "markdown",
   "id": "1caf6fd2",
   "metadata": {},
   "source": [
    "### np.append"
   ]
  },
  {
   "cell_type": "code",
   "execution_count": 51,
   "id": "1346a161",
   "metadata": {},
   "outputs": [
    {
     "data": {
      "text/plain": [
       "array([0, 1, 2, 3, 4, 5, 6, 7, 8, 9])"
      ]
     },
     "execution_count": 51,
     "metadata": {},
     "output_type": "execute_result"
    }
   ],
   "source": [
    "array_1d"
   ]
  },
  {
   "cell_type": "code",
   "execution_count": 52,
   "id": "203cccc7",
   "metadata": {},
   "outputs": [
    {
     "data": {
      "text/plain": [
       "array([0, 1, 2, 3, 4, 5, 6, 7, 8, 9, 0, 1, 2])"
      ]
     },
     "execution_count": 52,
     "metadata": {},
     "output_type": "execute_result"
    }
   ],
   "source": [
    "np.append(arr=array_1d, values=[0, 1, 2])"
   ]
  },
  {
   "cell_type": "code",
   "execution_count": 53,
   "id": "cca20e47",
   "metadata": {},
   "outputs": [
    {
     "data": {
      "text/plain": [
       "array([[ 0,  1,  2,  3,  4,  5],\n",
       "       [ 6,  7,  8,  9, 10, 11],\n",
       "       [12, 13, 14, 15, 16, 17]])"
      ]
     },
     "execution_count": 53,
     "metadata": {},
     "output_type": "execute_result"
    }
   ],
   "source": [
    "array_2d_0"
   ]
  },
  {
   "cell_type": "code",
   "execution_count": 54,
   "id": "de3e491b",
   "metadata": {},
   "outputs": [
    {
     "data": {
      "text/plain": [
       "array([[ 0,  1,  2,  3,  4,  5],\n",
       "       [ 6,  7,  8,  9, 10, 11],\n",
       "       [12, 13, 14, 15, 16, 17],\n",
       "       [ 0,  1,  2,  3,  4,  5]])"
      ]
     },
     "execution_count": 54,
     "metadata": {},
     "output_type": "execute_result"
    }
   ],
   "source": [
    "np.append(arr=array_2d_0, values=[[0, 1, 2, 3, 4, 5]], axis=0)"
   ]
  },
  {
   "cell_type": "code",
   "execution_count": 55,
   "id": "81bc98cb",
   "metadata": {},
   "outputs": [
    {
     "data": {
      "text/plain": [
       "array([[ 0,  1,  2,  3,  4,  5,  0],\n",
       "       [ 6,  7,  8,  9, 10, 11,  6],\n",
       "       [12, 13, 14, 15, 16, 17, 12]])"
      ]
     },
     "execution_count": 55,
     "metadata": {},
     "output_type": "execute_result"
    }
   ],
   "source": [
    "np.append(arr=array_2d_0, values=[[0], [6], [12]], axis=1)"
   ]
  },
  {
   "cell_type": "markdown",
   "id": "9a9b8e1c",
   "metadata": {},
   "source": [
    "### np.tile"
   ]
  },
  {
   "cell_type": "code",
   "execution_count": 56,
   "id": "c3787675",
   "metadata": {},
   "outputs": [
    {
     "data": {
      "text/plain": [
       "array([0, 1, 2, 3, 4, 5, 6, 7, 8, 9])"
      ]
     },
     "execution_count": 56,
     "metadata": {},
     "output_type": "execute_result"
    }
   ],
   "source": [
    "array_1d"
   ]
  },
  {
   "cell_type": "code",
   "execution_count": 57,
   "id": "dfc944c4",
   "metadata": {},
   "outputs": [
    {
     "data": {
      "text/plain": [
       "array([0, 1, 2, 3, 4, 5, 6, 7, 8, 9, 0, 1, 2, 3, 4, 5, 6, 7, 8, 9])"
      ]
     },
     "execution_count": 57,
     "metadata": {},
     "output_type": "execute_result"
    }
   ],
   "source": [
    "np.tile(A=array_1d, reps=2)"
   ]
  },
  {
   "cell_type": "code",
   "execution_count": 58,
   "id": "f662eb30",
   "metadata": {},
   "outputs": [
    {
     "data": {
      "text/plain": [
       "array([[0, 1, 2, 3, 4, 5, 6, 7, 8, 9, 0, 1, 2, 3, 4, 5, 6, 7, 8, 9],\n",
       "       [0, 1, 2, 3, 4, 5, 6, 7, 8, 9, 0, 1, 2, 3, 4, 5, 6, 7, 8, 9]])"
      ]
     },
     "execution_count": 58,
     "metadata": {},
     "output_type": "execute_result"
    }
   ],
   "source": [
    "np.tile(A=array_1d, reps=(2,2))"
   ]
  },
  {
   "cell_type": "code",
   "execution_count": 59,
   "id": "9a644cb1",
   "metadata": {},
   "outputs": [
    {
     "data": {
      "text/plain": [
       "array([[ 0,  1,  2,  3,  4,  5,  0,  1,  2,  3,  4,  5],\n",
       "       [ 6,  7,  8,  9, 10, 11,  6,  7,  8,  9, 10, 11],\n",
       "       [12, 13, 14, 15, 16, 17, 12, 13, 14, 15, 16, 17],\n",
       "       [ 0,  1,  2,  3,  4,  5,  0,  1,  2,  3,  4,  5],\n",
       "       [ 6,  7,  8,  9, 10, 11,  6,  7,  8,  9, 10, 11],\n",
       "       [12, 13, 14, 15, 16, 17, 12, 13, 14, 15, 16, 17],\n",
       "       [ 0,  1,  2,  3,  4,  5,  0,  1,  2,  3,  4,  5],\n",
       "       [ 6,  7,  8,  9, 10, 11,  6,  7,  8,  9, 10, 11],\n",
       "       [12, 13, 14, 15, 16, 17, 12, 13, 14, 15, 16, 17]])"
      ]
     },
     "execution_count": 59,
     "metadata": {},
     "output_type": "execute_result"
    }
   ],
   "source": [
    "np.tile(A=array_2d_0, reps=(3,2))"
   ]
  },
  {
   "cell_type": "markdown",
   "id": "64a8f28e",
   "metadata": {},
   "source": [
    "### np.pad"
   ]
  },
  {
   "cell_type": "code",
   "execution_count": 60,
   "id": "9f57879c",
   "metadata": {},
   "outputs": [],
   "source": [
    "array_pad_1d = np.array([1, 2, 3])"
   ]
  },
  {
   "cell_type": "code",
   "execution_count": 61,
   "id": "21d542c2",
   "metadata": {},
   "outputs": [
    {
     "data": {
      "text/plain": [
       "array([10,  1,  2,  3, 20, 20])"
      ]
     },
     "execution_count": 61,
     "metadata": {},
     "output_type": "execute_result"
    }
   ],
   "source": [
    "np.pad(array=array_pad_1d, pad_width=(1, 2), mode='constant', constant_values=(10, 20))"
   ]
  },
  {
   "cell_type": "code",
   "execution_count": 62,
   "id": "11af07f7",
   "metadata": {},
   "outputs": [
    {
     "data": {
      "text/plain": [
       "array([1, 1, 2, 3, 3, 3])"
      ]
     },
     "execution_count": 62,
     "metadata": {},
     "output_type": "execute_result"
    }
   ],
   "source": [
    "np.pad(array=array_pad_1d, pad_width=(1, 2), mode='edge')"
   ]
  },
  {
   "cell_type": "code",
   "execution_count": 63,
   "id": "791d17e4",
   "metadata": {},
   "outputs": [
    {
     "data": {
      "text/plain": [
       "array([1, 1, 2, 3, 1, 1])"
      ]
     },
     "execution_count": 63,
     "metadata": {},
     "output_type": "execute_result"
    }
   ],
   "source": [
    "np.pad(array=array_pad_1d, pad_width=(1, 2), mode='minimum')"
   ]
  },
  {
   "cell_type": "code",
   "execution_count": 64,
   "id": "39c47828",
   "metadata": {},
   "outputs": [
    {
     "data": {
      "text/plain": [
       "array([3, 1, 2, 3, 3, 3])"
      ]
     },
     "execution_count": 64,
     "metadata": {},
     "output_type": "execute_result"
    }
   ],
   "source": [
    "np.pad(array=array_pad_1d, pad_width=(1, 2), mode='maximum')"
   ]
  },
  {
   "cell_type": "code",
   "execution_count": 65,
   "id": "42f75f0d",
   "metadata": {},
   "outputs": [
    {
     "data": {
      "text/plain": [
       "array([2, 1, 2, 3, 2, 2])"
      ]
     },
     "execution_count": 65,
     "metadata": {},
     "output_type": "execute_result"
    }
   ],
   "source": [
    "np.pad(array=array_pad_1d, pad_width=(1, 2), mode='mean')"
   ]
  },
  {
   "cell_type": "code",
   "execution_count": 66,
   "id": "2a939974",
   "metadata": {},
   "outputs": [],
   "source": [
    "array_pad_2d = np.array([\n",
    "    [1, 2],\n",
    "    [3, 4]\n",
    "])"
   ]
  },
  {
   "cell_type": "code",
   "execution_count": 67,
   "id": "0d209a5e",
   "metadata": {},
   "outputs": [
    {
     "data": {
      "text/plain": [
       "array([[4, 3, 4, 3, 4],\n",
       "       [2, 1, 2, 1, 2],\n",
       "       [4, 3, 4, 3, 4],\n",
       "       [2, 1, 2, 1, 2],\n",
       "       [4, 3, 4, 3, 4]])"
      ]
     },
     "execution_count": 67,
     "metadata": {},
     "output_type": "execute_result"
    }
   ],
   "source": [
    "np.pad(array=array_pad_2d, pad_width=(1,2), mode='reflect')"
   ]
  },
  {
   "cell_type": "markdown",
   "id": "929cd7b2",
   "metadata": {},
   "source": [
    "### np.trim_zeros"
   ]
  },
  {
   "cell_type": "code",
   "execution_count": 68,
   "id": "084686a0",
   "metadata": {},
   "outputs": [
    {
     "data": {
      "text/plain": [
       "array([0, 0, 1, 2, 3, 4, 5, 0, 0, 0])"
      ]
     },
     "execution_count": 68,
     "metadata": {},
     "output_type": "execute_result"
    }
   ],
   "source": [
    "array_with_zeros = np.array([0, 0, 1, 2, 3, 4, 5, 0, 0, 0])\n",
    "array_with_zeros"
   ]
  },
  {
   "cell_type": "code",
   "execution_count": 69,
   "id": "1630fe73",
   "metadata": {},
   "outputs": [
    {
     "data": {
      "text/plain": [
       "array([1, 2, 3, 4, 5])"
      ]
     },
     "execution_count": 69,
     "metadata": {},
     "output_type": "execute_result"
    }
   ],
   "source": [
    "np.trim_zeros(filt=array_with_zeros)"
   ]
  },
  {
   "cell_type": "code",
   "execution_count": 70,
   "id": "f1642666",
   "metadata": {},
   "outputs": [
    {
     "data": {
      "text/plain": [
       "array([1, 2, 3, 4, 5, 0, 0, 0])"
      ]
     },
     "execution_count": 70,
     "metadata": {},
     "output_type": "execute_result"
    }
   ],
   "source": [
    "np.trim_zeros(filt=array_with_zeros, trim='f')"
   ]
  },
  {
   "cell_type": "code",
   "execution_count": 71,
   "id": "666c8bee",
   "metadata": {},
   "outputs": [
    {
     "data": {
      "text/plain": [
       "array([0, 0, 1, 2, 3, 4, 5])"
      ]
     },
     "execution_count": 71,
     "metadata": {},
     "output_type": "execute_result"
    }
   ],
   "source": [
    "np.trim_zeros(filt=array_with_zeros, trim='b')"
   ]
  },
  {
   "cell_type": "markdown",
   "id": "a900b777",
   "metadata": {},
   "source": [
    "## Obtendo valores únicos"
   ]
  },
  {
   "cell_type": "markdown",
   "id": "a50c328b",
   "metadata": {},
   "source": [
    "### np.unique"
   ]
  },
  {
   "cell_type": "code",
   "execution_count": 72,
   "id": "7014dafe",
   "metadata": {},
   "outputs": [],
   "source": [
    "array_unique = np.array([7, 8, 8, 6, 8, 7, 7])"
   ]
  },
  {
   "cell_type": "code",
   "execution_count": 73,
   "id": "513219fb",
   "metadata": {},
   "outputs": [
    {
     "data": {
      "text/plain": [
       "array([6, 7, 8])"
      ]
     },
     "execution_count": 73,
     "metadata": {},
     "output_type": "execute_result"
    }
   ],
   "source": [
    "np.unique(ar=array_unique)"
   ]
  },
  {
   "cell_type": "code",
   "execution_count": 74,
   "id": "b9eba689",
   "metadata": {},
   "outputs": [
    {
     "data": {
      "text/plain": [
       "(array([6, 7, 8]), array([3, 0, 1]))"
      ]
     },
     "execution_count": 74,
     "metadata": {},
     "output_type": "execute_result"
    }
   ],
   "source": [
    "np.unique(ar=array_unique, return_index=True)"
   ]
  },
  {
   "cell_type": "code",
   "execution_count": 75,
   "id": "86092850",
   "metadata": {},
   "outputs": [
    {
     "data": {
      "text/plain": [
       "(array([6, 7, 8]), array([1, 2, 2, 0, 2, 1, 1]))"
      ]
     },
     "execution_count": 75,
     "metadata": {},
     "output_type": "execute_result"
    }
   ],
   "source": [
    "unique_values, indices = np.unique(ar=array_unique, return_inverse=True)\n",
    "unique_values, indices"
   ]
  },
  {
   "cell_type": "code",
   "execution_count": 76,
   "id": "0642add7",
   "metadata": {},
   "outputs": [
    {
     "data": {
      "text/plain": [
       "array([6, 7, 8])"
      ]
     },
     "execution_count": 76,
     "metadata": {},
     "output_type": "execute_result"
    }
   ],
   "source": [
    "unique_values"
   ]
  },
  {
   "cell_type": "code",
   "execution_count": 77,
   "id": "3f4bd606",
   "metadata": {},
   "outputs": [
    {
     "data": {
      "text/plain": [
       "array([7, 8, 8, 6, 8, 7, 7])"
      ]
     },
     "execution_count": 77,
     "metadata": {},
     "output_type": "execute_result"
    }
   ],
   "source": [
    "unique_values[indices]"
   ]
  },
  {
   "cell_type": "code",
   "execution_count": 78,
   "id": "b29fc22b",
   "metadata": {},
   "outputs": [
    {
     "data": {
      "text/plain": [
       "(array([6, 7, 8]), array([1, 3, 3]))"
      ]
     },
     "execution_count": 78,
     "metadata": {},
     "output_type": "execute_result"
    }
   ],
   "source": [
    "np.unique(ar=array_unique, return_counts=True)"
   ]
  },
  {
   "cell_type": "code",
   "execution_count": 79,
   "id": "6c5d26c3",
   "metadata": {},
   "outputs": [],
   "source": [
    "array_unique_2d = np.array([\n",
    "    [0, 1, 2],\n",
    "    [3, 4, 5],\n",
    "    [0, 1, 2]\n",
    "])"
   ]
  },
  {
   "cell_type": "code",
   "execution_count": 80,
   "id": "a7251b50",
   "metadata": {},
   "outputs": [
    {
     "data": {
      "text/plain": [
       "(array([0, 1, 2, 3, 4, 5]), array([2, 2, 2, 1, 1, 1]))"
      ]
     },
     "execution_count": 80,
     "metadata": {},
     "output_type": "execute_result"
    }
   ],
   "source": [
    "np.unique(ar=array_unique_2d, return_counts=True)"
   ]
  },
  {
   "cell_type": "code",
   "execution_count": 81,
   "id": "abebbb71",
   "metadata": {},
   "outputs": [
    {
     "data": {
      "text/plain": [
       "(array([[0, 1, 2],\n",
       "        [3, 4, 5]]),\n",
       " array([2, 1]))"
      ]
     },
     "execution_count": 81,
     "metadata": {},
     "output_type": "execute_result"
    }
   ],
   "source": [
    "np.unique(ar=array_unique_2d, return_counts=True, axis=0)"
   ]
  }
 ],
 "metadata": {
  "kernelspec": {
   "display_name": ".venv",
   "language": "python",
   "name": "python3"
  },
  "language_info": {
   "codemirror_mode": {
    "name": "ipython",
    "version": 3
   },
   "file_extension": ".py",
   "mimetype": "text/x-python",
   "name": "python",
   "nbconvert_exporter": "python",
   "pygments_lexer": "ipython3",
   "version": "3.12.11"
  }
 },
 "nbformat": 4,
 "nbformat_minor": 5
}
