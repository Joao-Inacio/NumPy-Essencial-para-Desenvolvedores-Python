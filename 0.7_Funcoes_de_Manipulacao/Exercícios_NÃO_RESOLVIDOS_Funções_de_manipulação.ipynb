{
  "cells": [
    {
      "cell_type": "code",
      "execution_count": 1,
      "metadata": {
        "colab": {
          "base_uri": "https://localhost:8080/",
          "height": 35
        },
        "id": "IBRti16i-IgV",
        "outputId": "acc4732f-551e-484b-b2b1-8ad47cc09324"
      },
      "outputs": [
        {
          "data": {
            "text/plain": [
              "'2.3.2'"
            ]
          },
          "execution_count": 1,
          "metadata": {},
          "output_type": "execute_result"
        }
      ],
      "source": [
        "import numpy as np\n",
        "np.__version__"
      ]
    },
    {
      "cell_type": "markdown",
      "metadata": {
        "id": "RSD5vTUpYcWp"
      },
      "source": [
        "### Agrupando e dividindo arrays"
      ]
    },
    {
      "cell_type": "markdown",
      "metadata": {
        "id": "IP6872izYf-N"
      },
      "source": [
        "#### `np.concatenate` / `np.stack` / `np.vstack` / `np.hstack`"
      ]
    },
    {
      "cell_type": "markdown",
      "metadata": {
        "id": "ldlUbGEQxyW9"
      },
      "source": [
        "Primeiro utilize `np.arange` e `reshape` para criar um array 2D com valores entre 0 e 1, e step igual a 0.1, organizados como uma matriz de 2 linhas e 5 colunas."
      ]
    },
    {
      "cell_type": "code",
      "execution_count": 2,
      "metadata": {
        "id": "RLMIckfxxvt5"
      },
      "outputs": [],
      "source": [
        "array_0 = np.arange(start=0, step=0.1, stop=1).reshape(2, 5)"
      ]
    },
    {
      "cell_type": "code",
      "execution_count": 3,
      "metadata": {
        "colab": {
          "base_uri": "https://localhost:8080/"
        },
        "id": "3BZAjFveyKrE",
        "outputId": "201d8ffb-ca12-48de-cf27-68927941c740"
      },
      "outputs": [
        {
          "data": {
            "text/plain": [
              "array([[0. , 0.1, 0.2, 0.3, 0.4],\n",
              "       [0.5, 0.6, 0.7, 0.8, 0.9]])"
            ]
          },
          "execution_count": 3,
          "metadata": {},
          "output_type": "execute_result"
        }
      ],
      "source": [
        "array_0"
      ]
    },
    {
      "cell_type": "markdown",
      "metadata": {
        "id": "XfjFIlqTyNx_"
      },
      "source": [
        "Agora crie um segundo array com valores entre 1 e 2, e step 0.1, no mesmo formato."
      ]
    },
    {
      "cell_type": "code",
      "execution_count": 4,
      "metadata": {
        "id": "1QKxHt6cyLvM"
      },
      "outputs": [],
      "source": [
        "array_1 = np.arange(start=1, step=0.1, stop=2).reshape(2, 5)"
      ]
    },
    {
      "cell_type": "code",
      "execution_count": 5,
      "metadata": {
        "colab": {
          "base_uri": "https://localhost:8080/"
        },
        "id": "9EJvejQEyVur",
        "outputId": "0edc99cc-6ccf-483c-82a1-38ca43984d06"
      },
      "outputs": [
        {
          "data": {
            "text/plain": [
              "array([[1. , 1.1, 1.2, 1.3, 1.4],\n",
              "       [1.5, 1.6, 1.7, 1.8, 1.9]])"
            ]
          },
          "execution_count": 5,
          "metadata": {},
          "output_type": "execute_result"
        }
      ],
      "source": [
        "array_1"
      ]
    },
    {
      "cell_type": "markdown",
      "metadata": {
        "id": "cmSLqRzqyYde"
      },
      "source": [
        "Utilize `np.concatenate` para concatenar os dois arrays ao longo das linhas, ou seja, do eixo 0."
      ]
    },
    {
      "cell_type": "code",
      "execution_count": 6,
      "metadata": {
        "colab": {
          "base_uri": "https://localhost:8080/"
        },
        "id": "hnq6ad-3yWJ8",
        "outputId": "1a2905f8-7393-4874-df93-05915d49b5e8"
      },
      "outputs": [
        {
          "data": {
            "text/plain": [
              "array([[0. , 0.1, 0.2, 0.3, 0.4],\n",
              "       [0.5, 0.6, 0.7, 0.8, 0.9],\n",
              "       [1. , 1.1, 1.2, 1.3, 1.4],\n",
              "       [1.5, 1.6, 1.7, 1.8, 1.9]])"
            ]
          },
          "execution_count": 6,
          "metadata": {},
          "output_type": "execute_result"
        }
      ],
      "source": [
        "np.concatenate([array_0, array_1])"
      ]
    },
    {
      "cell_type": "markdown",
      "metadata": {
        "id": "08UAYchOyz0V"
      },
      "source": [
        "👆 Observe que o novo array tem agora 4 linhas e 5 colunas."
      ]
    },
    {
      "cell_type": "markdown",
      "metadata": {
        "id": "s8Ciz_2GzbvA"
      },
      "source": [
        "Utilize `np.vstack` para empilhar os dois arrays verticalmente, e observe que o resultado é o mesmo que aquele de `np.concatenate` com `axis=0`."
      ]
    },
    {
      "cell_type": "code",
      "execution_count": 7,
      "metadata": {
        "colab": {
          "base_uri": "https://localhost:8080/"
        },
        "id": "JqGtVFj4yrfD",
        "outputId": "5dcf557d-66c3-4c35-c511-2b40b0b7b09d"
      },
      "outputs": [
        {
          "data": {
            "text/plain": [
              "array([[0. , 0.1, 0.2, 0.3, 0.4],\n",
              "       [0.5, 0.6, 0.7, 0.8, 0.9],\n",
              "       [1. , 1.1, 1.2, 1.3, 1.4],\n",
              "       [1.5, 1.6, 1.7, 1.8, 1.9]])"
            ]
          },
          "execution_count": 7,
          "metadata": {},
          "output_type": "execute_result"
        }
      ],
      "source": [
        "np.vstack(tup=[array_0, array_1])"
      ]
    },
    {
      "cell_type": "markdown",
      "metadata": {
        "id": "VSXBKH2Dy5BJ"
      },
      "source": [
        "Utilize `np.stack` para empilhar os dois arrays no eixo 0, mas observe que neste caso, uma nova dimensão é criada."
      ]
    },
    {
      "cell_type": "code",
      "execution_count": 12,
      "metadata": {
        "colab": {
          "base_uri": "https://localhost:8080/"
        },
        "id": "v0LCroyIynve",
        "outputId": "641d87fc-d359-4fdf-b12c-b12912b8c1a3"
      },
      "outputs": [
        {
          "data": {
            "text/plain": [
              "array([[[0. , 0.1, 0.2, 0.3, 0.4],\n",
              "        [0.5, 0.6, 0.7, 0.8, 0.9]],\n",
              "\n",
              "       [[1. , 1.1, 1.2, 1.3, 1.4],\n",
              "        [1.5, 1.6, 1.7, 1.8, 1.9]]])"
            ]
          },
          "execution_count": 12,
          "metadata": {},
          "output_type": "execute_result"
        }
      ],
      "source": [
        "array_stacked = np.stack(arrays=[array_0, array_1])\n",
        "array_stacked"
      ]
    },
    {
      "cell_type": "markdown",
      "metadata": {
        "id": "ZMyzjtYVzP1D"
      },
      "source": [
        "Agora repita o procedimento em relação ao eixo 1. Neste caso, você deve usar `np.hstack`."
      ]
    },
    {
      "cell_type": "code",
      "execution_count": 9,
      "metadata": {
        "colab": {
          "base_uri": "https://localhost:8080/"
        },
        "id": "5AAOgUyVz77o",
        "outputId": "29146a4e-f7fa-48ca-f54f-77706304df81"
      },
      "outputs": [
        {
          "data": {
            "text/plain": [
              "array([[0. , 0.1, 0.2, 0.3, 0.4, 1. , 1.1, 1.2, 1.3, 1.4],\n",
              "       [0.5, 0.6, 0.7, 0.8, 0.9, 1.5, 1.6, 1.7, 1.8, 1.9]])"
            ]
          },
          "execution_count": 9,
          "metadata": {},
          "output_type": "execute_result"
        }
      ],
      "source": [
        "np.hstack(tup=[array_0, array_1])"
      ]
    },
    {
      "cell_type": "code",
      "execution_count": 10,
      "metadata": {
        "colab": {
          "base_uri": "https://localhost:8080/"
        },
        "id": "gxVrK25Az_wu",
        "outputId": "db808293-2dd3-4fae-ae1b-b5a5ff951337"
      },
      "outputs": [
        {
          "data": {
            "text/plain": [
              "array([[0. , 0.1, 0.2, 0.3, 0.4, 1. , 1.1, 1.2, 1.3, 1.4],\n",
              "       [0.5, 0.6, 0.7, 0.8, 0.9, 1.5, 1.6, 1.7, 1.8, 1.9]])"
            ]
          },
          "execution_count": 10,
          "metadata": {},
          "output_type": "execute_result"
        }
      ],
      "source": [
        "np.hstack(tup=[array_0, array_1])"
      ]
    },
    {
      "cell_type": "code",
      "execution_count": 15,
      "metadata": {
        "colab": {
          "base_uri": "https://localhost:8080/"
        },
        "id": "1O9Ygtn50Cnz",
        "outputId": "da02d6fe-291c-4f2f-b825-14d2116b4bf0"
      },
      "outputs": [
        {
          "data": {
            "text/plain": [
              "array([[[1. , 1.1, 1.2, 1.3, 1.4],\n",
              "        [1.5, 1.6, 1.7, 1.8, 1.9]],\n",
              "\n",
              "       [[0. , 0.1, 0.2, 0.3, 0.4],\n",
              "        [0.5, 0.6, 0.7, 0.8, 0.9]]])"
            ]
          },
          "execution_count": 15,
          "metadata": {},
          "output_type": "execute_result"
        }
      ],
      "source": [
        "np.stack(arrays=[array_1, array_0])"
      ]
    },
    {
      "cell_type": "markdown",
      "metadata": {
        "id": "dN7s90XVdoCU"
      },
      "source": [
        "### Adicionando eixos"
      ]
    },
    {
      "cell_type": "markdown",
      "metadata": {
        "id": "t_2xBNNe1oMV"
      },
      "source": [
        "#### `np.expand_dims`"
      ]
    },
    {
      "cell_type": "markdown",
      "metadata": {
        "id": "e5uw2Ze914BY"
      },
      "source": [
        "Adicione uma dimensão no eixo 0 de `array_0`.\n",
        "\n",
        "Exiba o array resultante e seu `shape` para observar o efeito que esta operação teve."
      ]
    },
    {
      "cell_type": "code",
      "execution_count": 16,
      "metadata": {
        "id": "WcC-YkWH0E-B"
      },
      "outputs": [],
      "source": [
        "array_0_ed_0 = np.expand_dims(a=array_0, axis=0)"
      ]
    },
    {
      "cell_type": "code",
      "execution_count": 17,
      "metadata": {
        "colab": {
          "base_uri": "https://localhost:8080/"
        },
        "id": "2hVwTtKy2bq3",
        "outputId": "fdd716bf-6825-44e0-d2a4-c8bc3d6442e3"
      },
      "outputs": [
        {
          "data": {
            "text/plain": [
              "array([[[0. , 0.1, 0.2, 0.3, 0.4],\n",
              "        [0.5, 0.6, 0.7, 0.8, 0.9]]])"
            ]
          },
          "execution_count": 17,
          "metadata": {},
          "output_type": "execute_result"
        }
      ],
      "source": [
        "array_0_ed_0"
      ]
    },
    {
      "cell_type": "code",
      "execution_count": 18,
      "metadata": {
        "colab": {
          "base_uri": "https://localhost:8080/"
        },
        "id": "iZTSPgXj2cWf",
        "outputId": "6b18674b-54e3-4335-f37d-04b0bfdc2616"
      },
      "outputs": [
        {
          "data": {
            "text/plain": [
              "(1, 2, 5)"
            ]
          },
          "execution_count": 18,
          "metadata": {},
          "output_type": "execute_result"
        }
      ],
      "source": [
        "array_0_ed_0.shape"
      ]
    },
    {
      "cell_type": "markdown",
      "metadata": {
        "id": "MkcDIX_y2_C0"
      },
      "source": [
        "Agora repita para o eixo 1."
      ]
    },
    {
      "cell_type": "code",
      "execution_count": 22,
      "metadata": {
        "id": "8vsiNK1A2FJq"
      },
      "outputs": [],
      "source": [
        "array_0_ed_1 = np.expand_dims(a=array_0, axis=1)"
      ]
    },
    {
      "cell_type": "code",
      "execution_count": 23,
      "metadata": {
        "colab": {
          "base_uri": "https://localhost:8080/"
        },
        "id": "DTlNxKvy2hCE",
        "outputId": "8f42e6e7-8377-4e90-dae3-67e5f901a3bf"
      },
      "outputs": [
        {
          "data": {
            "text/plain": [
              "array([[[0. , 0.1, 0.2, 0.3, 0.4]],\n",
              "\n",
              "       [[0.5, 0.6, 0.7, 0.8, 0.9]]])"
            ]
          },
          "execution_count": 23,
          "metadata": {},
          "output_type": "execute_result"
        }
      ],
      "source": [
        "array_0_ed_1"
      ]
    },
    {
      "cell_type": "code",
      "execution_count": 24,
      "metadata": {
        "colab": {
          "base_uri": "https://localhost:8080/"
        },
        "id": "FHR4ogWk2jDG",
        "outputId": "b715b91d-9f8d-4012-e62f-9eabf135e372"
      },
      "outputs": [
        {
          "data": {
            "text/plain": [
              "(2, 1, 5)"
            ]
          },
          "execution_count": 24,
          "metadata": {},
          "output_type": "execute_result"
        }
      ],
      "source": [
        "array_0_ed_1.shape"
      ]
    },
    {
      "cell_type": "markdown",
      "metadata": {
        "id": "7VY_De26dgeK"
      },
      "source": [
        "Repita para o eixo 2."
      ]
    },
    {
      "cell_type": "code",
      "execution_count": 25,
      "metadata": {
        "id": "FU_Kl6OE2Gxe"
      },
      "outputs": [],
      "source": [
        "array_0_ed_2 = np.expand_dims(a=array_0, axis=2)"
      ]
    },
    {
      "cell_type": "code",
      "execution_count": 26,
      "metadata": {
        "colab": {
          "base_uri": "https://localhost:8080/"
        },
        "id": "6BV1J0vc2mCo",
        "outputId": "0d4772b2-9236-49bb-fb6b-6bc652dce855"
      },
      "outputs": [
        {
          "data": {
            "text/plain": [
              "array([[[0. ],\n",
              "        [0.1],\n",
              "        [0.2],\n",
              "        [0.3],\n",
              "        [0.4]],\n",
              "\n",
              "       [[0.5],\n",
              "        [0.6],\n",
              "        [0.7],\n",
              "        [0.8],\n",
              "        [0.9]]])"
            ]
          },
          "execution_count": 26,
          "metadata": {},
          "output_type": "execute_result"
        }
      ],
      "source": [
        "array_0_ed_2"
      ]
    },
    {
      "cell_type": "code",
      "execution_count": 27,
      "metadata": {
        "colab": {
          "base_uri": "https://localhost:8080/"
        },
        "id": "gtxMn8gj2qVW",
        "outputId": "e459945f-e6ef-472e-99bf-4ae1c29ef1a6"
      },
      "outputs": [
        {
          "data": {
            "text/plain": [
              "(2, 5, 1)"
            ]
          },
          "execution_count": 27,
          "metadata": {},
          "output_type": "execute_result"
        }
      ],
      "source": [
        "array_0_ed_2.shape"
      ]
    },
    {
      "cell_type": "markdown",
      "metadata": {
        "id": "jcOkiasjJPtI"
      },
      "source": [
        "### Rearranjando elementos"
      ]
    },
    {
      "cell_type": "markdown",
      "metadata": {
        "id": "EpgwbWI0gJkH"
      },
      "source": [
        "#### `np.flip`"
      ]
    },
    {
      "cell_type": "markdown",
      "metadata": {
        "id": "PO8PaXwh3ZS1"
      },
      "source": [
        "Inverta `array_0` inteiro, exibindo o resultado para visualizar a alteração."
      ]
    },
    {
      "cell_type": "code",
      "execution_count": 28,
      "metadata": {
        "colab": {
          "base_uri": "https://localhost:8080/"
        },
        "id": "fKYoq7Db2rOE",
        "outputId": "6362513a-a7b1-41a2-9e77-d0e180cbba54"
      },
      "outputs": [
        {
          "data": {
            "text/plain": [
              "array([[0.9, 0.8, 0.7, 0.6, 0.5],\n",
              "       [0.4, 0.3, 0.2, 0.1, 0. ]])"
            ]
          },
          "execution_count": 28,
          "metadata": {},
          "output_type": "execute_result"
        }
      ],
      "source": [
        "np.flip(array_0)"
      ]
    },
    {
      "cell_type": "markdown",
      "metadata": {
        "id": "0LXL_HVX31hq"
      },
      "source": [
        "👆 As linhas e as colunas foram invertidas."
      ]
    },
    {
      "cell_type": "markdown",
      "metadata": {
        "id": "bm2qESfB3io_"
      },
      "source": [
        "Inverta `array_0` somente no eixo 0."
      ]
    },
    {
      "cell_type": "code",
      "execution_count": 29,
      "metadata": {
        "colab": {
          "base_uri": "https://localhost:8080/"
        },
        "id": "9XpG-VdV3hj9",
        "outputId": "aea02638-162b-4f09-bd45-a1f2a9f556d4"
      },
      "outputs": [
        {
          "data": {
            "text/plain": [
              "array([[0.5, 0.6, 0.7, 0.8, 0.9],\n",
              "       [0. , 0.1, 0.2, 0.3, 0.4]])"
            ]
          },
          "execution_count": 29,
          "metadata": {},
          "output_type": "execute_result"
        }
      ],
      "source": [
        "np.flip(array_0, axis=0)"
      ]
    },
    {
      "cell_type": "markdown",
      "metadata": {
        "id": "JlobeG0p3q_M"
      },
      "source": [
        "👆 Somente as linhas foram invertidas."
      ]
    },
    {
      "cell_type": "markdown",
      "metadata": {
        "id": "bnpagBXW3uiz"
      },
      "source": [
        "Inverta `array_0` somente no eixo 1."
      ]
    },
    {
      "cell_type": "code",
      "execution_count": 30,
      "metadata": {
        "colab": {
          "base_uri": "https://localhost:8080/"
        },
        "id": "2s_5VdH63mAx",
        "outputId": "7f5c81f9-b51e-4750-f24d-876d21b379ae"
      },
      "outputs": [
        {
          "data": {
            "text/plain": [
              "array([[0.4, 0.3, 0.2, 0.1, 0. ],\n",
              "       [0.9, 0.8, 0.7, 0.6, 0.5]])"
            ]
          },
          "execution_count": 30,
          "metadata": {},
          "output_type": "execute_result"
        }
      ],
      "source": [
        "np.flip(array_0, axis=1)"
      ]
    },
    {
      "cell_type": "markdown",
      "metadata": {
        "id": "fyTGQ-gQ3yFA"
      },
      "source": [
        "👆 Somente as colunas foram invertidas."
      ]
    },
    {
      "cell_type": "markdown",
      "metadata": {
        "id": "vDMRU2ZI399R"
      },
      "source": [
        "#### `np.resize`"
      ]
    },
    {
      "cell_type": "markdown",
      "metadata": {
        "id": "_h4jiJZh4AWD"
      },
      "source": [
        "Redimensione `array_0` para o formato linearizado com 8 elementos."
      ]
    },
    {
      "cell_type": "code",
      "execution_count": 31,
      "metadata": {
        "colab": {
          "base_uri": "https://localhost:8080/"
        },
        "id": "0rF7Ar0V3wxM",
        "outputId": "9cfcd25d-af85-4beb-fd27-05ec407ade46"
      },
      "outputs": [
        {
          "data": {
            "text/plain": [
              "array([0. , 0.1, 0.2, 0.3, 0.4, 0.5, 0.6, 0.7])"
            ]
          },
          "execution_count": 31,
          "metadata": {},
          "output_type": "execute_result"
        }
      ],
      "source": [
        "np.resize(a=array_0, new_shape=8)"
      ]
    },
    {
      "cell_type": "markdown",
      "metadata": {
        "id": "nrVhJOEG4S-A"
      },
      "source": [
        "👆 Como o novo tamanho é menor que o anterior, o array original é truncado."
      ]
    },
    {
      "cell_type": "markdown",
      "metadata": {
        "id": "YTZRAsK64Yay"
      },
      "source": [
        "Redimensione `array_0` para o formato linearizado com 15 elementos."
      ]
    },
    {
      "cell_type": "code",
      "execution_count": 32,
      "metadata": {
        "colab": {
          "base_uri": "https://localhost:8080/"
        },
        "id": "xxBTFiw44YEo",
        "outputId": "e8f50a10-dd00-46ca-836a-bd6f602b0807"
      },
      "outputs": [
        {
          "data": {
            "text/plain": [
              "array([0. , 0.1, 0.2, 0.3, 0.4, 0.5, 0.6, 0.7, 0.8, 0.9, 0. , 0.1, 0.2,\n",
              "       0.3, 0.4])"
            ]
          },
          "execution_count": 32,
          "metadata": {},
          "output_type": "execute_result"
        }
      ],
      "source": [
        "np.resize(a=array_0, new_shape=15)"
      ]
    },
    {
      "cell_type": "markdown",
      "metadata": {
        "id": "Dmna_Ux94eAt"
      },
      "source": [
        "👆 Como o novo tamanho é maior que o anterior, o array original é repetido até o novo tamanho."
      ]
    },
    {
      "cell_type": "markdown",
      "metadata": {
        "id": "O_CgsBJy4jbG"
      },
      "source": [
        "Redimensione `array_0` para conter 3 linhas e 6 colunas."
      ]
    },
    {
      "cell_type": "code",
      "execution_count": 33,
      "metadata": {
        "colab": {
          "base_uri": "https://localhost:8080/"
        },
        "id": "PlTIrcp44Rzf",
        "outputId": "7e2c8c08-9eb4-4d44-f87d-c91009a1ef2e"
      },
      "outputs": [
        {
          "data": {
            "text/plain": [
              "array([[0. , 0.1, 0.2, 0.3, 0.4, 0.5],\n",
              "       [0.6, 0.7, 0.8, 0.9, 0. , 0.1],\n",
              "       [0.2, 0.3, 0.4, 0.5, 0.6, 0.7]])"
            ]
          },
          "execution_count": 33,
          "metadata": {},
          "output_type": "execute_result"
        }
      ],
      "source": [
        "np.resize(a=array_0, new_shape=(3, 6))"
      ]
    },
    {
      "cell_type": "markdown",
      "metadata": {
        "id": "6ZHhKLP64vaS"
      },
      "source": [
        "👆 Lembre-se que o array é primeiro linearizado, depois truncado ou completado até o novo tamanho, depois o formato é ajustado."
      ]
    },
    {
      "cell_type": "markdown",
      "metadata": {
        "id": "bfmQgM-6JWuD"
      },
      "source": [
        "### Adicionando ou removendo elementos"
      ]
    },
    {
      "cell_type": "markdown",
      "metadata": {
        "id": "Yx8tDYf4Jkys"
      },
      "source": [
        "#### `np.insert`"
      ]
    },
    {
      "cell_type": "markdown",
      "metadata": {
        "id": "Qs36vrTp5Ltu"
      },
      "source": [
        "Insira uma nova coluna (eixo 1) em `array_0` na posição 2 com o valor 9."
      ]
    },
    {
      "cell_type": "code",
      "execution_count": 35,
      "metadata": {
        "colab": {
          "base_uri": "https://localhost:8080/"
        },
        "id": "sWSABn9F4okY",
        "outputId": "25838920-c5b9-4be7-b98e-abe9bc6441a1"
      },
      "outputs": [
        {
          "data": {
            "text/plain": [
              "array([[0. , 0.1, 9. , 0.2, 0.3, 0.4],\n",
              "       [0.5, 0.6, 9. , 0.7, 0.8, 0.9]])"
            ]
          },
          "execution_count": 35,
          "metadata": {},
          "output_type": "execute_result"
        }
      ],
      "source": [
        "np.insert(arr=array_0, obj=2, values=9, axis=1)"
      ]
    },
    {
      "cell_type": "markdown",
      "metadata": {
        "id": "EIFru79x5f1B"
      },
      "source": [
        "Repita a inserção, mas com os valores 8 e 9."
      ]
    },
    {
      "cell_type": "code",
      "execution_count": 36,
      "metadata": {
        "colab": {
          "base_uri": "https://localhost:8080/"
        },
        "id": "2Q501NNt5igQ",
        "outputId": "13109ce9-16a3-4ad7-f231-667e30115960"
      },
      "outputs": [
        {
          "data": {
            "text/plain": [
              "array([[0. , 0.1, 8. , 0.2, 0.3, 0.4],\n",
              "       [0.5, 0.6, 9. , 0.7, 0.8, 0.9]])"
            ]
          },
          "execution_count": 36,
          "metadata": {},
          "output_type": "execute_result"
        }
      ],
      "source": [
        "np.insert(arr=array_0, obj=2, values=[8, 9], axis=1)"
      ]
    },
    {
      "cell_type": "markdown",
      "metadata": {
        "id": "9QWQM-gD5sCY"
      },
      "source": [
        "Agora insira uma linha (eixo 0) em `array_0` na posição 0 com o valor 9."
      ]
    },
    {
      "cell_type": "code",
      "execution_count": 38,
      "metadata": {
        "colab": {
          "base_uri": "https://localhost:8080/"
        },
        "id": "1GHuLGnB5rtS",
        "outputId": "373582a6-8039-4005-ae81-3a8d264b871f"
      },
      "outputs": [
        {
          "data": {
            "text/plain": [
              "array([[9. , 9. , 9. , 9. , 9. ],\n",
              "       [0. , 0.1, 0.2, 0.3, 0.4],\n",
              "       [0.5, 0.6, 0.7, 0.8, 0.9]])"
            ]
          },
          "execution_count": 38,
          "metadata": {},
          "output_type": "execute_result"
        }
      ],
      "source": [
        "np.insert(arr=array_0, obj=0, values=9, axis=0)"
      ]
    },
    {
      "cell_type": "markdown",
      "metadata": {
        "id": "ec-uUZ38Kjzi"
      },
      "source": [
        "#### `np.delete`"
      ]
    },
    {
      "cell_type": "markdown",
      "metadata": {
        "id": "gJ-XbTrK5693"
      },
      "source": [
        "Delete a coluna 2 de `array_0`."
      ]
    },
    {
      "cell_type": "code",
      "execution_count": 39,
      "metadata": {
        "colab": {
          "base_uri": "https://localhost:8080/"
        },
        "id": "8XbL35bt50Xe",
        "outputId": "311bae84-2ce8-4f1c-934d-bff2d3f563d2"
      },
      "outputs": [
        {
          "data": {
            "text/plain": [
              "array([[0. , 0.1, 0.3, 0.4],\n",
              "       [0.5, 0.6, 0.8, 0.9]])"
            ]
          },
          "execution_count": 39,
          "metadata": {},
          "output_type": "execute_result"
        }
      ],
      "source": [
        "np.delete(arr=array_0, obj=2, axis=1)"
      ]
    },
    {
      "cell_type": "markdown",
      "metadata": {
        "id": "7MGl2fp26C6y"
      },
      "source": [
        "Delete a linha 1 de `array_1`."
      ]
    },
    {
      "cell_type": "code",
      "execution_count": 41,
      "metadata": {
        "colab": {
          "base_uri": "https://localhost:8080/"
        },
        "id": "AM4TRVVw5_fT",
        "outputId": "596324ab-a91e-4589-8a56-97b219e7e4d0"
      },
      "outputs": [
        {
          "data": {
            "text/plain": [
              "array([[0.5, 0.6, 0.7, 0.8, 0.9]])"
            ]
          },
          "execution_count": 41,
          "metadata": {},
          "output_type": "execute_result"
        }
      ],
      "source": [
        "np.delete(arr=array_0, obj=0, axis=0)"
      ]
    },
    {
      "cell_type": "markdown",
      "metadata": {
        "id": "BZRhJI0v6eAL"
      },
      "source": [
        "#### `np.append`"
      ]
    },
    {
      "cell_type": "markdown",
      "metadata": {
        "id": "2qZU328c6gZl"
      },
      "source": [
        "Adicione `array_1` ao final de `array_0`, no eixo 0."
      ]
    },
    {
      "cell_type": "code",
      "execution_count": 45,
      "metadata": {
        "colab": {
          "base_uri": "https://localhost:8080/"
        },
        "id": "DLTXmpsX6fMX",
        "outputId": "ce947868-4938-45c3-a377-9b6566667375"
      },
      "outputs": [
        {
          "data": {
            "text/plain": [
              "array([[0. , 0.1, 0.2, 0.3, 0.4],\n",
              "       [0.5, 0.6, 0.7, 0.8, 0.9],\n",
              "       [1. , 1.1, 1.2, 1.3, 1.4],\n",
              "       [1.5, 1.6, 1.7, 1.8, 1.9]])"
            ]
          },
          "execution_count": 45,
          "metadata": {},
          "output_type": "execute_result"
        }
      ],
      "source": [
        "np.append(arr=array_0, values=array_1, axis=0)"
      ]
    },
    {
      "cell_type": "markdown",
      "metadata": {
        "id": "b9q_880W6uPs"
      },
      "source": [
        "👆 O resultado é o mesmo de `np.concatenate` com `axis=0`."
      ]
    },
    {
      "cell_type": "markdown",
      "metadata": {
        "id": "blyuyvKS6-ub"
      },
      "source": [
        "Adicione `array_1` ao final de `array_0`, no eixo 1."
      ]
    },
    {
      "cell_type": "code",
      "execution_count": 46,
      "metadata": {
        "colab": {
          "base_uri": "https://localhost:8080/"
        },
        "id": "k54eEvpI6-ui",
        "outputId": "e2889f4f-e130-4a43-88ab-e099eba76bf0"
      },
      "outputs": [
        {
          "data": {
            "text/plain": [
              "array([[0. , 0.1, 0.2, 0.3, 0.4, 1. , 1.1, 1.2, 1.3, 1.4],\n",
              "       [0.5, 0.6, 0.7, 0.8, 0.9, 1.5, 1.6, 1.7, 1.8, 1.9]])"
            ]
          },
          "execution_count": 46,
          "metadata": {},
          "output_type": "execute_result"
        }
      ],
      "source": [
        "np.append(arr=array_0, values=array_1, axis=1)"
      ]
    },
    {
      "cell_type": "markdown",
      "metadata": {
        "id": "awoYNDQL7mNp"
      },
      "source": [
        "👆 O resultado é o mesmo de `np.concatenate` com `axis=1`."
      ]
    },
    {
      "cell_type": "markdown",
      "metadata": {
        "id": "48pg9UxwHUHu"
      },
      "source": [
        "#### `np.tile`"
      ]
    },
    {
      "cell_type": "markdown",
      "metadata": {
        "id": "oyrNZu7k8JzX"
      },
      "source": [
        "Utilize `np.tile` para repetir `array_0`, 2 vezes no eixo 0, e 4 vezes no eixo 1."
      ]
    },
    {
      "cell_type": "code",
      "execution_count": 47,
      "metadata": {
        "colab": {
          "base_uri": "https://localhost:8080/"
        },
        "id": "W7KiUNQb64WG",
        "outputId": "1514cbd6-977e-4ba0-b4de-f03a3b995373"
      },
      "outputs": [
        {
          "data": {
            "text/plain": [
              "array([[0. , 0.1, 0.2, 0.3, 0.4, 0. , 0.1, 0.2, 0.3, 0.4, 0. , 0.1, 0.2,\n",
              "        0.3, 0.4, 0. , 0.1, 0.2, 0.3, 0.4],\n",
              "       [0.5, 0.6, 0.7, 0.8, 0.9, 0.5, 0.6, 0.7, 0.8, 0.9, 0.5, 0.6, 0.7,\n",
              "        0.8, 0.9, 0.5, 0.6, 0.7, 0.8, 0.9],\n",
              "       [0. , 0.1, 0.2, 0.3, 0.4, 0. , 0.1, 0.2, 0.3, 0.4, 0. , 0.1, 0.2,\n",
              "        0.3, 0.4, 0. , 0.1, 0.2, 0.3, 0.4],\n",
              "       [0.5, 0.6, 0.7, 0.8, 0.9, 0.5, 0.6, 0.7, 0.8, 0.9, 0.5, 0.6, 0.7,\n",
              "        0.8, 0.9, 0.5, 0.6, 0.7, 0.8, 0.9]])"
            ]
          },
          "execution_count": 47,
          "metadata": {},
          "output_type": "execute_result"
        }
      ],
      "source": [
        "np.tile(A=array_0, reps=(2, 4))"
      ]
    },
    {
      "cell_type": "markdown",
      "metadata": {
        "id": "pkqKEDFv8jBD"
      },
      "source": [
        "E se você quiser repetir `array_0` somente 3 vezes no eixo 0?"
      ]
    },
    {
      "cell_type": "code",
      "execution_count": 50,
      "metadata": {
        "colab": {
          "base_uri": "https://localhost:8080/"
        },
        "id": "yd3oclGS8m_0",
        "outputId": "1d00401a-46e8-4d75-a5af-f1a463db157a"
      },
      "outputs": [
        {
          "data": {
            "text/plain": [
              "array([[0. , 0.1, 0.2, 0.3, 0.4],\n",
              "       [0.5, 0.6, 0.7, 0.8, 0.9],\n",
              "       [0. , 0.1, 0.2, 0.3, 0.4],\n",
              "       [0.5, 0.6, 0.7, 0.8, 0.9],\n",
              "       [0. , 0.1, 0.2, 0.3, 0.4],\n",
              "       [0.5, 0.6, 0.7, 0.8, 0.9]])"
            ]
          },
          "execution_count": 50,
          "metadata": {},
          "output_type": "execute_result"
        }
      ],
      "source": [
        "np.tile(A=array_0, reps=(3, 1))"
      ]
    },
    {
      "cell_type": "markdown",
      "metadata": {
        "id": "9qQomJR68seb"
      },
      "source": [
        "#### `np.pad`"
      ]
    },
    {
      "cell_type": "markdown",
      "metadata": {
        "id": "NgrF8AAE8x09"
      },
      "source": [
        "Preencha `array_1` com 3 valores antes e 4 valores depois. O valor deve ser a constante 0."
      ]
    },
    {
      "cell_type": "code",
      "execution_count": 6,
      "metadata": {
        "colab": {
          "base_uri": "https://localhost:8080/"
        },
        "id": "RvWPJu2W8tnR",
        "outputId": "21b00c40-7973-4bc6-a272-5e2ff88bdd71"
      },
      "outputs": [
        {
          "data": {
            "text/plain": [
              "array([[0. , 0. , 0. , 0. , 0. , 0. , 0. , 0. , 0. , 0. , 0. , 0. ],\n",
              "       [0. , 0. , 0. , 0. , 0. , 0. , 0. , 0. , 0. , 0. , 0. , 0. ],\n",
              "       [0. , 0. , 0. , 0. , 0. , 0. , 0. , 0. , 0. , 0. , 0. , 0. ],\n",
              "       [0. , 0. , 0. , 1. , 1.1, 1.2, 1.3, 1.4, 0. , 0. , 0. , 0. ],\n",
              "       [0. , 0. , 0. , 1.5, 1.6, 1.7, 1.8, 1.9, 0. , 0. , 0. , 0. ],\n",
              "       [0. , 0. , 0. , 0. , 0. , 0. , 0. , 0. , 0. , 0. , 0. , 0. ],\n",
              "       [0. , 0. , 0. , 0. , 0. , 0. , 0. , 0. , 0. , 0. , 0. , 0. ],\n",
              "       [0. , 0. , 0. , 0. , 0. , 0. , 0. , 0. , 0. , 0. , 0. , 0. ],\n",
              "       [0. , 0. , 0. , 0. , 0. , 0. , 0. , 0. , 0. , 0. , 0. , 0. ]])"
            ]
          },
          "execution_count": 6,
          "metadata": {},
          "output_type": "execute_result"
        }
      ],
      "source": [
        "np.pad(array=array_1, pad_width=(3, 4), mode='constant', constant_values=(0))"
      ]
    },
    {
      "cell_type": "markdown",
      "metadata": {
        "id": "PQ7Nq8UX9Hvh"
      },
      "source": [
        "👆 Foram adicionadas 3 linhas e 3 colunas \"antes\" de `array_1`, e 4 linhas/4 colunas \"depois\"."
      ]
    },
    {
      "cell_type": "markdown",
      "metadata": {
        "id": "sDn8DYCn9aO2"
      },
      "source": [
        "Repita, mas preenchendo com os valores da borda (\"edge\")."
      ]
    },
    {
      "cell_type": "code",
      "execution_count": 8,
      "metadata": {
        "colab": {
          "base_uri": "https://localhost:8080/"
        },
        "id": "b8Zr1q3z9QHR",
        "outputId": "d699182f-ab8e-4306-e94f-41b232872d56"
      },
      "outputs": [
        {
          "data": {
            "text/plain": [
              "array([[1. , 1. , 1. , 1. , 1.1, 1.2, 1.3, 1.4, 1.4, 1.4, 1.4, 1.4],\n",
              "       [1. , 1. , 1. , 1. , 1.1, 1.2, 1.3, 1.4, 1.4, 1.4, 1.4, 1.4],\n",
              "       [1. , 1. , 1. , 1. , 1.1, 1.2, 1.3, 1.4, 1.4, 1.4, 1.4, 1.4],\n",
              "       [1. , 1. , 1. , 1. , 1.1, 1.2, 1.3, 1.4, 1.4, 1.4, 1.4, 1.4],\n",
              "       [1.5, 1.5, 1.5, 1.5, 1.6, 1.7, 1.8, 1.9, 1.9, 1.9, 1.9, 1.9],\n",
              "       [1.5, 1.5, 1.5, 1.5, 1.6, 1.7, 1.8, 1.9, 1.9, 1.9, 1.9, 1.9],\n",
              "       [1.5, 1.5, 1.5, 1.5, 1.6, 1.7, 1.8, 1.9, 1.9, 1.9, 1.9, 1.9],\n",
              "       [1.5, 1.5, 1.5, 1.5, 1.6, 1.7, 1.8, 1.9, 1.9, 1.9, 1.9, 1.9],\n",
              "       [1.5, 1.5, 1.5, 1.5, 1.6, 1.7, 1.8, 1.9, 1.9, 1.9, 1.9, 1.9]])"
            ]
          },
          "execution_count": 8,
          "metadata": {},
          "output_type": "execute_result"
        }
      ],
      "source": [
        "np.pad(array=array_1, pad_width=(3, 4), mode='edge')"
      ]
    },
    {
      "cell_type": "markdown",
      "metadata": {
        "id": "aBWUq3tb9iHl"
      },
      "source": [
        "Repita com o valor mínimo."
      ]
    },
    {
      "cell_type": "code",
      "execution_count": 9,
      "metadata": {
        "colab": {
          "base_uri": "https://localhost:8080/"
        },
        "id": "IGqucneF9gPR",
        "outputId": "60634a6e-b93f-4c9f-b4b0-3602237b9d53"
      },
      "outputs": [
        {
          "data": {
            "text/plain": [
              "array([[1. , 1. , 1. , 1. , 1.1, 1.2, 1.3, 1.4, 1. , 1. , 1. , 1. ],\n",
              "       [1. , 1. , 1. , 1. , 1.1, 1.2, 1.3, 1.4, 1. , 1. , 1. , 1. ],\n",
              "       [1. , 1. , 1. , 1. , 1.1, 1.2, 1.3, 1.4, 1. , 1. , 1. , 1. ],\n",
              "       [1. , 1. , 1. , 1. , 1.1, 1.2, 1.3, 1.4, 1. , 1. , 1. , 1. ],\n",
              "       [1.5, 1.5, 1.5, 1.5, 1.6, 1.7, 1.8, 1.9, 1.5, 1.5, 1.5, 1.5],\n",
              "       [1. , 1. , 1. , 1. , 1.1, 1.2, 1.3, 1.4, 1. , 1. , 1. , 1. ],\n",
              "       [1. , 1. , 1. , 1. , 1.1, 1.2, 1.3, 1.4, 1. , 1. , 1. , 1. ],\n",
              "       [1. , 1. , 1. , 1. , 1.1, 1.2, 1.3, 1.4, 1. , 1. , 1. , 1. ],\n",
              "       [1. , 1. , 1. , 1. , 1.1, 1.2, 1.3, 1.4, 1. , 1. , 1. , 1. ]])"
            ]
          },
          "execution_count": 9,
          "metadata": {},
          "output_type": "execute_result"
        }
      ],
      "source": [
        "np.pad(array=array_1, pad_width=(3, 4), mode='minimum')"
      ]
    },
    {
      "cell_type": "markdown",
      "metadata": {
        "id": "F_vLc8xG93nt"
      },
      "source": [
        "Repita com o valor máximo."
      ]
    },
    {
      "cell_type": "code",
      "execution_count": 10,
      "metadata": {
        "colab": {
          "base_uri": "https://localhost:8080/"
        },
        "id": "263NmgtG93nu",
        "outputId": "dac4b148-5da5-4a28-8b33-b4b53b6c418a"
      },
      "outputs": [
        {
          "data": {
            "text/plain": [
              "array([[1.9, 1.9, 1.9, 1.5, 1.6, 1.7, 1.8, 1.9, 1.9, 1.9, 1.9, 1.9],\n",
              "       [1.9, 1.9, 1.9, 1.5, 1.6, 1.7, 1.8, 1.9, 1.9, 1.9, 1.9, 1.9],\n",
              "       [1.9, 1.9, 1.9, 1.5, 1.6, 1.7, 1.8, 1.9, 1.9, 1.9, 1.9, 1.9],\n",
              "       [1.4, 1.4, 1.4, 1. , 1.1, 1.2, 1.3, 1.4, 1.4, 1.4, 1.4, 1.4],\n",
              "       [1.9, 1.9, 1.9, 1.5, 1.6, 1.7, 1.8, 1.9, 1.9, 1.9, 1.9, 1.9],\n",
              "       [1.9, 1.9, 1.9, 1.5, 1.6, 1.7, 1.8, 1.9, 1.9, 1.9, 1.9, 1.9],\n",
              "       [1.9, 1.9, 1.9, 1.5, 1.6, 1.7, 1.8, 1.9, 1.9, 1.9, 1.9, 1.9],\n",
              "       [1.9, 1.9, 1.9, 1.5, 1.6, 1.7, 1.8, 1.9, 1.9, 1.9, 1.9, 1.9],\n",
              "       [1.9, 1.9, 1.9, 1.5, 1.6, 1.7, 1.8, 1.9, 1.9, 1.9, 1.9, 1.9]])"
            ]
          },
          "execution_count": 10,
          "metadata": {},
          "output_type": "execute_result"
        }
      ],
      "source": [
        "np.pad(array=array_1, pad_width=(3, 4), mode='maximum')"
      ]
    },
    {
      "cell_type": "markdown",
      "metadata": {
        "id": "uI01s8HKMKUB"
      },
      "source": [
        "#### `np.trim_zeros`"
      ]
    },
    {
      "cell_type": "markdown",
      "metadata": {
        "id": "yj1rpgBE905Z"
      },
      "source": [
        "Esta função só funciona com arrays 1D."
      ]
    },
    {
      "cell_type": "markdown",
      "metadata": {
        "id": "kS1aXNT8-qfM"
      },
      "source": [
        "Primeiro crie um array 1D com valores entre 1 e 5, e step = 0.5. Utilize `np.arange` para isso."
      ]
    },
    {
      "cell_type": "code",
      "execution_count": 11,
      "metadata": {
        "id": "olMlUl_h-3Vs"
      },
      "outputs": [],
      "source": [
        "array = np.arange(start=1, step=0.5, stop=5)"
      ]
    },
    {
      "cell_type": "code",
      "execution_count": 12,
      "metadata": {
        "colab": {
          "base_uri": "https://localhost:8080/"
        },
        "id": "Hfm8oevY-7rS",
        "outputId": "1236d136-aa6b-4752-b210-8962dd83a548"
      },
      "outputs": [
        {
          "data": {
            "text/plain": [
              "array([1. , 1.5, 2. , 2.5, 3. , 3.5, 4. , 4.5])"
            ]
          },
          "execution_count": 12,
          "metadata": {},
          "output_type": "execute_result"
        }
      ],
      "source": [
        "array"
      ]
    },
    {
      "cell_type": "markdown",
      "metadata": {
        "id": "jLxw1ZFV-9VZ"
      },
      "source": [
        "Agora utilize `np.pad` para adicionar 6 valores 0 à esquerda e 4 valores 0 à direita de `array`."
      ]
    },
    {
      "cell_type": "code",
      "execution_count": 15,
      "metadata": {
        "id": "RdQ-Yvl9_Eex"
      },
      "outputs": [],
      "source": [
        "array_pad = np.pad(array=array, pad_width=(6, 4), mode='constant', constant_values=(0))"
      ]
    },
    {
      "cell_type": "code",
      "execution_count": 16,
      "metadata": {
        "colab": {
          "base_uri": "https://localhost:8080/"
        },
        "id": "QWMP6B-S_LDq",
        "outputId": "5855aac3-7bbe-4ebb-e5aa-c4782070e2f9"
      },
      "outputs": [
        {
          "data": {
            "text/plain": [
              "array([0. , 0. , 0. , 0. , 0. , 0. , 1. , 1.5, 2. , 2.5, 3. , 3.5, 4. ,\n",
              "       4.5, 0. , 0. , 0. , 0. ])"
            ]
          },
          "execution_count": 16,
          "metadata": {},
          "output_type": "execute_result"
        }
      ],
      "source": [
        "array_pad"
      ]
    },
    {
      "cell_type": "markdown",
      "metadata": {
        "id": "P6K-854P_NVQ"
      },
      "source": [
        "Aplique `np.trim` em `array_pad` para retirar os valores 0 das extremidades, assim recuperando `array`."
      ]
    },
    {
      "cell_type": "code",
      "execution_count": 17,
      "metadata": {
        "id": "j1wX-YWW9oWc"
      },
      "outputs": [],
      "source": [
        "array_trim = np.trim_zeros(filt=array_pad)"
      ]
    },
    {
      "cell_type": "code",
      "execution_count": 18,
      "metadata": {
        "colab": {
          "base_uri": "https://localhost:8080/"
        },
        "id": "-Fseqx_W-MsR",
        "outputId": "13445e8d-fc0b-471e-efb9-d6043f1fd654"
      },
      "outputs": [
        {
          "data": {
            "text/plain": [
              "array([1. , 1.5, 2. , 2.5, 3. , 3.5, 4. , 4.5])"
            ]
          },
          "execution_count": 18,
          "metadata": {},
          "output_type": "execute_result"
        }
      ],
      "source": [
        "array_trim"
      ]
    },
    {
      "cell_type": "markdown",
      "metadata": {
        "id": "En1yDEwD-OMW"
      },
      "source": [
        "Repita a operação utilizando o parâmetro `trim` para remover somente os valores 0 da \"frente\" (`f`) de `array_pad`."
      ]
    },
    {
      "cell_type": "code",
      "execution_count": 19,
      "metadata": {
        "id": "OUlmIfCU-NOf"
      },
      "outputs": [],
      "source": [
        "array_trim = np.trim_zeros(filt=array_pad, trim='f')"
      ]
    },
    {
      "cell_type": "code",
      "execution_count": 20,
      "metadata": {
        "colab": {
          "base_uri": "https://localhost:8080/"
        },
        "id": "JqMz2UoU_nhK",
        "outputId": "9bbc8b18-9cef-487c-c75d-a7de2d14b637"
      },
      "outputs": [
        {
          "data": {
            "text/plain": [
              "array([1. , 1.5, 2. , 2.5, 3. , 3.5, 4. , 4.5, 0. , 0. , 0. , 0. ])"
            ]
          },
          "execution_count": 20,
          "metadata": {},
          "output_type": "execute_result"
        }
      ],
      "source": [
        "array_trim"
      ]
    },
    {
      "cell_type": "markdown",
      "metadata": {
        "id": "VthvAkSZNnXx"
      },
      "source": [
        "#### `np.unique`"
      ]
    },
    {
      "cell_type": "markdown",
      "metadata": {
        "id": "uPxJHTNF_zsx"
      },
      "source": [
        "Vamos começar criando um array grande de números inteiros aleatórios, onde certamente vão existir repetições."
      ]
    },
    {
      "cell_type": "markdown",
      "metadata": {
        "id": "wU2J1ABWADq8"
      },
      "source": [
        "Primeiro, instancie um gerador de números aleatórios com `np.random.default_rng`. Configure a `seed` para o valor 75."
      ]
    },
    {
      "cell_type": "code",
      "execution_count": 21,
      "metadata": {
        "id": "2GjNUl3I_yd0"
      },
      "outputs": [],
      "source": [
        "rng = np.random.default_rng(seed=75)"
      ]
    },
    {
      "cell_type": "markdown",
      "metadata": {
        "id": "upy21f1jARRV"
      },
      "source": [
        "Agora gere um array com 200 valores inteiros aleatórios no intervalo [50, 75)."
      ]
    },
    {
      "cell_type": "code",
      "execution_count": 24,
      "metadata": {
        "id": "U1pMqPQaAQRj"
      },
      "outputs": [],
      "source": [
        "array_unique = rng.integers(low=50, high=75, size=200)"
      ]
    },
    {
      "cell_type": "code",
      "execution_count": 25,
      "metadata": {
        "colab": {
          "base_uri": "https://localhost:8080/"
        },
        "id": "wVMHQQkUAhx9",
        "outputId": "1b2188a7-b41b-46cc-f8f8-9777f5e06c0a"
      },
      "outputs": [
        {
          "data": {
            "text/plain": [
              "array([66, 55, 55, 53, 73, 66, 58, 67, 68, 73, 58, 68, 69, 73, 69, 73, 67,\n",
              "       71, 50, 50, 66, 60, 54, 70, 63, 50, 63, 53, 67, 74, 65, 74, 51, 70,\n",
              "       50, 71, 60, 60, 73, 66, 59, 70, 62, 74, 71, 55, 53, 58, 67, 60, 50,\n",
              "       54, 69, 74, 68, 72, 69, 56, 67, 52, 51, 70, 68, 54, 71, 54, 57, 69,\n",
              "       66, 69, 62, 61, 64, 74, 73, 70, 63, 64, 55, 50, 71, 63, 67, 60, 56,\n",
              "       61, 66, 61, 70, 56, 67, 53, 68, 61, 69, 69, 58, 68, 65, 58, 67, 67,\n",
              "       57, 69, 63, 68, 66, 70, 68, 74, 60, 62, 50, 66, 72, 66, 66, 55, 73,\n",
              "       51, 69, 58, 72, 67, 57, 67, 52, 72, 61, 55, 65, 73, 50, 66, 63, 69,\n",
              "       59, 50, 69, 51, 72, 67, 64, 58, 71, 64, 52, 67, 60, 60, 62, 63, 61,\n",
              "       67, 61, 57, 60, 57, 73, 62, 74, 71, 57, 62, 58, 59, 72, 71, 62, 67,\n",
              "       52, 68, 74, 55, 61, 67, 62, 61, 55, 54, 57, 63, 51, 55, 72, 55, 70,\n",
              "       52, 55, 51, 52, 51, 66, 74, 62, 53, 50, 70, 50, 52])"
            ]
          },
          "execution_count": 25,
          "metadata": {},
          "output_type": "execute_result"
        }
      ],
      "source": [
        "array_unique"
      ]
    },
    {
      "cell_type": "markdown",
      "metadata": {
        "id": "9mfPAMf8Avps"
      },
      "source": [
        "Com uma única chamada de `np.unique`, recupere:\n",
        "- os valores únicos\n",
        "- os índices onde cada valor aparece pela primeira vez (parâmetro `return_index`)\n",
        "- os índices que podem ser utilizados para reconstruir o array original a partir dos valores únicos (parâmetro `return_inverse`)\n",
        "- a contagem dos valores únicos (parâmetro `return_counts`)"
      ]
    },
    {
      "cell_type": "code",
      "execution_count": 26,
      "metadata": {
        "id": "aa8VH9RXAmao"
      },
      "outputs": [],
      "source": [
        "unique_values, indices_first, indices_redo, counts = np.unique(ar=array_unique, return_index=True, return_inverse=True, return_counts=True)"
      ]
    },
    {
      "cell_type": "code",
      "execution_count": 27,
      "metadata": {
        "colab": {
          "base_uri": "https://localhost:8080/"
        },
        "id": "q8gopUkLBKBA",
        "outputId": "70fea32d-0ff2-42b9-9a06-10a1949a4e34"
      },
      "outputs": [
        {
          "data": {
            "text/plain": [
              "array([50, 51, 52, 53, 54, 55, 56, 57, 58, 59, 60, 61, 62, 63, 64, 65, 66,\n",
              "       67, 68, 69, 70, 71, 72, 73, 74])"
            ]
          },
          "execution_count": 27,
          "metadata": {},
          "output_type": "execute_result"
        }
      ],
      "source": [
        "unique_values"
      ]
    },
    {
      "cell_type": "code",
      "execution_count": 28,
      "metadata": {
        "colab": {
          "base_uri": "https://localhost:8080/"
        },
        "id": "7RCHdy4Deok3",
        "outputId": "ee994613-82a9-484a-c304-dcb8dd0036c0"
      },
      "outputs": [
        {
          "data": {
            "text/plain": [
              "array([18, 32, 59,  3, 22,  1, 57, 66,  6, 40, 21, 71, 42, 24, 72, 30,  0,\n",
              "        7,  8, 12, 23, 17, 55,  4, 29])"
            ]
          },
          "execution_count": 28,
          "metadata": {},
          "output_type": "execute_result"
        }
      ],
      "source": [
        "indices_first"
      ]
    },
    {
      "cell_type": "code",
      "execution_count": 29,
      "metadata": {
        "colab": {
          "base_uri": "https://localhost:8080/"
        },
        "id": "nTQeSjWfer6g",
        "outputId": "c729203e-5242-4c74-c051-ffa0e231b3b0"
      },
      "outputs": [
        {
          "data": {
            "text/plain": [
              "array([16,  5,  5,  3, 23, 16,  8, 17, 18, 23,  8, 18, 19, 23, 19, 23, 17,\n",
              "       21,  0,  0, 16, 10,  4, 20, 13,  0, 13,  3, 17, 24, 15, 24,  1, 20,\n",
              "        0, 21, 10, 10, 23, 16,  9, 20, 12, 24, 21,  5,  3,  8, 17, 10,  0,\n",
              "        4, 19, 24, 18, 22, 19,  6, 17,  2,  1, 20, 18,  4, 21,  4,  7, 19,\n",
              "       16, 19, 12, 11, 14, 24, 23, 20, 13, 14,  5,  0, 21, 13, 17, 10,  6,\n",
              "       11, 16, 11, 20,  6, 17,  3, 18, 11, 19, 19,  8, 18, 15,  8, 17, 17,\n",
              "        7, 19, 13, 18, 16, 20, 18, 24, 10, 12,  0, 16, 22, 16, 16,  5, 23,\n",
              "        1, 19,  8, 22, 17,  7, 17,  2, 22, 11,  5, 15, 23,  0, 16, 13, 19,\n",
              "        9,  0, 19,  1, 22, 17, 14,  8, 21, 14,  2, 17, 10, 10, 12, 13, 11,\n",
              "       17, 11,  7, 10,  7, 23, 12, 24, 21,  7, 12,  8,  9, 22, 21, 12, 17,\n",
              "        2, 18, 24,  5, 11, 17, 12, 11,  5,  4,  7, 13,  1,  5, 22,  5, 20,\n",
              "        2,  5,  1,  2,  1, 16, 24, 12,  3,  0, 20,  0,  2])"
            ]
          },
          "execution_count": 29,
          "metadata": {},
          "output_type": "execute_result"
        }
      ],
      "source": [
        "indices_redo"
      ]
    },
    {
      "cell_type": "code",
      "execution_count": 30,
      "metadata": {
        "colab": {
          "base_uri": "https://localhost:8080/"
        },
        "id": "uj4-_3ixeu71",
        "outputId": "2cfe7f54-a0cf-48a2-8d98-dc73d1ac8a1b"
      },
      "outputs": [
        {
          "data": {
            "text/plain": [
              "array([11,  7,  7,  5,  5, 11,  3,  7,  8,  3,  9,  9,  9,  8,  4,  3, 12,\n",
              "       16,  9, 12,  9,  8,  7,  9,  9])"
            ]
          },
          "execution_count": 30,
          "metadata": {},
          "output_type": "execute_result"
        }
      ],
      "source": [
        "counts"
      ]
    },
    {
      "cell_type": "markdown",
      "metadata": {
        "id": "foJqnlnYBW9p"
      },
      "source": [
        "Utilize `unique_values` e `indices_redo` para reconstruir o array original."
      ]
    },
    {
      "cell_type": "code",
      "execution_count": 31,
      "metadata": {
        "colab": {
          "base_uri": "https://localhost:8080/"
        },
        "id": "YCKLIqRCBamk",
        "outputId": "994fb3d0-b652-4751-fb91-5298f0b30872"
      },
      "outputs": [
        {
          "data": {
            "text/plain": [
              "array([66, 55, 55, 53, 73, 66, 58, 67, 68, 73, 58, 68, 69, 73, 69, 73, 67,\n",
              "       71, 50, 50, 66, 60, 54, 70, 63, 50, 63, 53, 67, 74, 65, 74, 51, 70,\n",
              "       50, 71, 60, 60, 73, 66, 59, 70, 62, 74, 71, 55, 53, 58, 67, 60, 50,\n",
              "       54, 69, 74, 68, 72, 69, 56, 67, 52, 51, 70, 68, 54, 71, 54, 57, 69,\n",
              "       66, 69, 62, 61, 64, 74, 73, 70, 63, 64, 55, 50, 71, 63, 67, 60, 56,\n",
              "       61, 66, 61, 70, 56, 67, 53, 68, 61, 69, 69, 58, 68, 65, 58, 67, 67,\n",
              "       57, 69, 63, 68, 66, 70, 68, 74, 60, 62, 50, 66, 72, 66, 66, 55, 73,\n",
              "       51, 69, 58, 72, 67, 57, 67, 52, 72, 61, 55, 65, 73, 50, 66, 63, 69,\n",
              "       59, 50, 69, 51, 72, 67, 64, 58, 71, 64, 52, 67, 60, 60, 62, 63, 61,\n",
              "       67, 61, 57, 60, 57, 73, 62, 74, 71, 57, 62, 58, 59, 72, 71, 62, 67,\n",
              "       52, 68, 74, 55, 61, 67, 62, 61, 55, 54, 57, 63, 51, 55, 72, 55, 70,\n",
              "       52, 55, 51, 52, 51, 66, 74, 62, 53, 50, 70, 50, 52])"
            ]
          },
          "execution_count": 31,
          "metadata": {},
          "output_type": "execute_result"
        }
      ],
      "source": [
        "unique_values[indices_redo]"
      ]
    }
  ],
  "metadata": {
    "colab": {
      "provenance": []
    },
    "kernelspec": {
      "display_name": ".venv",
      "language": "python",
      "name": "python3"
    },
    "language_info": {
      "codemirror_mode": {
        "name": "ipython",
        "version": 3
      },
      "file_extension": ".py",
      "mimetype": "text/x-python",
      "name": "python",
      "nbconvert_exporter": "python",
      "pygments_lexer": "ipython3",
      "version": "3.12.11"
    }
  },
  "nbformat": 4,
  "nbformat_minor": 0
}
