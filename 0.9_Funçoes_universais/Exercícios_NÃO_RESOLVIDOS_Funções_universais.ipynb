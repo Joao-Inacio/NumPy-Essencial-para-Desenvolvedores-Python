{
  "cells": [
    {
      "cell_type": "code",
      "execution_count": 1,
      "metadata": {
        "colab": {
          "base_uri": "https://localhost:8080/",
          "height": 35
        },
        "id": "LC029ODRTe04",
        "outputId": "c9953f39-48ab-42a7-fe52-35e82f88afa1"
      },
      "outputs": [
        {
          "data": {
            "text/plain": [
              "'2.3.4'"
            ]
          },
          "execution_count": 1,
          "metadata": {},
          "output_type": "execute_result"
        }
      ],
      "source": [
        "import numpy as np\n",
        "np.__version__"
      ]
    },
    {
      "cell_type": "markdown",
      "metadata": {
        "id": "C8bG_AEFT1Ro"
      },
      "source": [
        "## Ufuncs"
      ]
    },
    {
      "cell_type": "markdown",
      "metadata": {
        "id": "He8uXTemUGz_"
      },
      "source": [
        "Vamos começar gerando 2 arrays de números inteiros para utilizarmos nos exercícios."
      ]
    },
    {
      "cell_type": "code",
      "execution_count": 2,
      "metadata": {
        "id": "EJK5TKtzodFu"
      },
      "outputs": [],
      "source": [
        "rng = np.random.default_rng(seed=2)"
      ]
    },
    {
      "cell_type": "code",
      "execution_count": 3,
      "metadata": {
        "colab": {
          "base_uri": "https://localhost:8080/"
        },
        "id": "57FVNktjoLTq",
        "outputId": "47082be3-47e5-44ce-b2df-bcb63eebcbed"
      },
      "outputs": [
        {
          "data": {
            "text/plain": [
              "array([[ 6, -5],\n",
              "       [-8, -5],\n",
              "       [-2,  6]])"
            ]
          },
          "execution_count": 3,
          "metadata": {},
          "output_type": "execute_result"
        }
      ],
      "source": [
        "array_1 = rng.integers(low=-10, high=10, size=6).reshape(3, 2)\n",
        "array_1"
      ]
    },
    {
      "cell_type": "code",
      "execution_count": 4,
      "metadata": {
        "colab": {
          "base_uri": "https://localhost:8080/"
        },
        "id": "Xft8V9MvoomD",
        "outputId": "41b3c9f2-987b-417d-f822-dd856a3d0736"
      },
      "outputs": [
        {
          "data": {
            "text/plain": [
              "array([[-1, -9],\n",
              "       [-4,  2],\n",
              "       [ 6,  4]])"
            ]
          },
          "execution_count": 4,
          "metadata": {},
          "output_type": "execute_result"
        }
      ],
      "source": [
        "array_2 = rng.integers(low=-10, high=10, size=6).reshape(3,2)\n",
        "array_2"
      ]
    },
    {
      "cell_type": "markdown",
      "metadata": {
        "id": "r3beGXt9oEXt"
      },
      "source": [
        "### Funções matemáticas"
      ]
    },
    {
      "cell_type": "markdown",
      "metadata": {
        "id": "gFzB1RpHov3X"
      },
      "source": [
        "#### `np.add`, `np.subtract`, `np.multiply`, `np.divide`"
      ]
    },
    {
      "cell_type": "markdown",
      "metadata": {
        "id": "vcp4V7s0UUKL"
      },
      "source": [
        "Utilize as 4 funções universais correspondentes às operações matemáticas básicas, utilizando `array_1` e `array_2`, nesta ordem.\n",
        "\n",
        "Logo na sequência da chamada de cada função, repita a operação com os operadores matemáticos nativos do Python, `+`, `-`, `*` e `/`, para verificar que o resultado é o mesmo."
      ]
    },
    {
      "cell_type": "code",
      "execution_count": 5,
      "metadata": {
        "colab": {
          "base_uri": "https://localhost:8080/"
        },
        "id": "gghIuOR_UfMs",
        "outputId": "dda29847-383a-4e26-cda3-979abf431118"
      },
      "outputs": [
        {
          "data": {
            "text/plain": [
              "array([[  5, -14],\n",
              "       [-12,  -3],\n",
              "       [  4,  10]])"
            ]
          },
          "execution_count": 5,
          "metadata": {},
          "output_type": "execute_result"
        }
      ],
      "source": [
        "np.add(array_1, array_2)"
      ]
    },
    {
      "cell_type": "code",
      "execution_count": 6,
      "metadata": {
        "colab": {
          "base_uri": "https://localhost:8080/"
        },
        "id": "Qfu2vhY3U2Lg",
        "outputId": "065d28e5-5557-4baf-f2b2-55933550b375"
      },
      "outputs": [
        {
          "data": {
            "text/plain": [
              "array([[  5, -14],\n",
              "       [-12,  -3],\n",
              "       [  4,  10]])"
            ]
          },
          "execution_count": 6,
          "metadata": {},
          "output_type": "execute_result"
        }
      ],
      "source": [
        "array_1 + array_2"
      ]
    },
    {
      "cell_type": "code",
      "execution_count": 7,
      "metadata": {
        "colab": {
          "base_uri": "https://localhost:8080/"
        },
        "id": "Wi5491lJUjj1",
        "outputId": "453d527b-fdea-4a94-bd5d-70ed970c2216"
      },
      "outputs": [
        {
          "data": {
            "text/plain": [
              "array([[ 7,  4],\n",
              "       [-4, -7],\n",
              "       [-8,  2]])"
            ]
          },
          "execution_count": 7,
          "metadata": {},
          "output_type": "execute_result"
        }
      ],
      "source": [
        "np.subtract(array_1, array_2)"
      ]
    },
    {
      "cell_type": "code",
      "execution_count": 8,
      "metadata": {
        "colab": {
          "base_uri": "https://localhost:8080/"
        },
        "id": "yaQyk56LU5b6",
        "outputId": "aa99b8cc-4081-4a8c-c35f-06723e9f51c2"
      },
      "outputs": [
        {
          "data": {
            "text/plain": [
              "array([[ 7,  4],\n",
              "       [-4, -7],\n",
              "       [-8,  2]])"
            ]
          },
          "execution_count": 8,
          "metadata": {},
          "output_type": "execute_result"
        }
      ],
      "source": [
        "array_1 - array_2"
      ]
    },
    {
      "cell_type": "code",
      "execution_count": 9,
      "metadata": {
        "colab": {
          "base_uri": "https://localhost:8080/"
        },
        "id": "fF4tHNPkUldb",
        "outputId": "2bb37c4d-b238-4c96-ac9d-7ac1c131a210"
      },
      "outputs": [
        {
          "data": {
            "text/plain": [
              "array([[ -6,  45],\n",
              "       [ 32, -10],\n",
              "       [-12,  24]])"
            ]
          },
          "execution_count": 9,
          "metadata": {},
          "output_type": "execute_result"
        }
      ],
      "source": [
        "np.multiply(array_1, array_2)"
      ]
    },
    {
      "cell_type": "code",
      "execution_count": 10,
      "metadata": {
        "colab": {
          "base_uri": "https://localhost:8080/"
        },
        "id": "7WPJtZtZU7V4",
        "outputId": "98d15b76-04c6-4a3d-91be-10a49225f724"
      },
      "outputs": [
        {
          "data": {
            "text/plain": [
              "array([[ -6,  45],\n",
              "       [ 32, -10],\n",
              "       [-12,  24]])"
            ]
          },
          "execution_count": 10,
          "metadata": {},
          "output_type": "execute_result"
        }
      ],
      "source": [
        "array_1 * array_2"
      ]
    },
    {
      "cell_type": "code",
      "execution_count": 11,
      "metadata": {
        "colab": {
          "base_uri": "https://localhost:8080/"
        },
        "id": "Unlh7s65UnoQ",
        "outputId": "c543c557-ee4c-4066-c834-360098cd2a89"
      },
      "outputs": [
        {
          "data": {
            "text/plain": [
              "array([[-6.        ,  0.55555556],\n",
              "       [ 2.        , -2.5       ],\n",
              "       [-0.33333333,  1.5       ]])"
            ]
          },
          "execution_count": 11,
          "metadata": {},
          "output_type": "execute_result"
        }
      ],
      "source": [
        "np.divide(array_1, array_2)"
      ]
    },
    {
      "cell_type": "code",
      "execution_count": 12,
      "metadata": {
        "colab": {
          "base_uri": "https://localhost:8080/"
        },
        "id": "TKoYVFR_U948",
        "outputId": "83e053fd-fc98-4b71-e0ae-ab9691539409"
      },
      "outputs": [
        {
          "data": {
            "text/plain": [
              "array([[-6.        ,  0.55555556],\n",
              "       [ 2.        , -2.5       ],\n",
              "       [-0.33333333,  1.5       ]])"
            ]
          },
          "execution_count": 12,
          "metadata": {},
          "output_type": "execute_result"
        }
      ],
      "source": [
        "array_1 / array_2"
      ]
    },
    {
      "cell_type": "markdown",
      "metadata": {
        "id": "BI-D2CJbVFX_"
      },
      "source": [
        "#### `np.mod`"
      ]
    },
    {
      "cell_type": "markdown",
      "metadata": {
        "id": "XygVNk40VJZI"
      },
      "source": [
        "A forma mais comum de verificar se um número é *par* é observar se o seu *módulo* da divisão por 2 é igual a 0.\n",
        "\n",
        "Utilize a função `np.mod` para verificar o módulo dos valores de `array_1` quando divididos por 2."
      ]
    },
    {
      "cell_type": "code",
      "execution_count": 13,
      "metadata": {
        "id": "lRWnUmsBUp8j"
      },
      "outputs": [],
      "source": [
        "array_mod = np.mod(array_1, 2)"
      ]
    },
    {
      "cell_type": "code",
      "execution_count": 14,
      "metadata": {
        "colab": {
          "base_uri": "https://localhost:8080/"
        },
        "id": "NK0GiBbwVd-E",
        "outputId": "f3af3992-3d29-4c7b-9dbf-891ae895617b"
      },
      "outputs": [
        {
          "data": {
            "text/plain": [
              "array([[0, 1],\n",
              "       [0, 1],\n",
              "       [0, 0]])"
            ]
          },
          "execution_count": 14,
          "metadata": {},
          "output_type": "execute_result"
        }
      ],
      "source": [
        "array_mod"
      ]
    },
    {
      "cell_type": "markdown",
      "metadata": {
        "id": "BaWtV0c8VfWq"
      },
      "source": [
        "Agora utilize o operador básico `==` para confirmar quais valores de `array_mod` são iguais a 0."
      ]
    },
    {
      "cell_type": "code",
      "execution_count": 15,
      "metadata": {
        "colab": {
          "base_uri": "https://localhost:8080/"
        },
        "id": "wACGq58rVdfj",
        "outputId": "4c029512-7ff3-43ae-fb2d-b64346b7b138"
      },
      "outputs": [
        {
          "data": {
            "text/plain": [
              "array([[ True, False],\n",
              "       [ True, False],\n",
              "       [ True,  True]])"
            ]
          },
          "execution_count": 15,
          "metadata": {},
          "output_type": "execute_result"
        }
      ],
      "source": [
        "array_mod == 0"
      ]
    },
    {
      "cell_type": "markdown",
      "metadata": {
        "id": "T_kHQPHrVuCP"
      },
      "source": [
        "Esta comparação indica quais valores são pares (`True`)."
      ]
    },
    {
      "cell_type": "markdown",
      "metadata": {
        "id": "2xauHxHRV_jm"
      },
      "source": [
        "#### `np.divmod`"
      ]
    },
    {
      "cell_type": "markdown",
      "metadata": {
        "id": "Ra-Sb_rVWCeH"
      },
      "source": [
        "Muitas operações de divisão resultam em valores \"quebrados\". Às vezes nós queremos representar o resultado como valores inteiros, em um formato truncado, onde descartamos a parte decimal.\n",
        "\n",
        "Utilize `np.divmod` para verificar qual a parte inteira e o resto da divisão de `array_1` por 4."
      ]
    },
    {
      "cell_type": "code",
      "execution_count": 16,
      "metadata": {
        "id": "rLtq4I6vVq8v"
      },
      "outputs": [],
      "source": [
        "array_int, array_rest = np.divmod(array_1, 4)"
      ]
    },
    {
      "cell_type": "code",
      "execution_count": 17,
      "metadata": {
        "colab": {
          "base_uri": "https://localhost:8080/"
        },
        "id": "wI7KgDmUWXw7",
        "outputId": "cc5e0fea-4e45-4744-ce0b-2ff2d81ff308"
      },
      "outputs": [
        {
          "data": {
            "text/plain": [
              "array([[ 1, -2],\n",
              "       [-2, -2],\n",
              "       [-1,  1]])"
            ]
          },
          "execution_count": 17,
          "metadata": {},
          "output_type": "execute_result"
        }
      ],
      "source": [
        "array_int"
      ]
    },
    {
      "cell_type": "markdown",
      "metadata": {
        "id": "P3CUOKuDWaDS"
      },
      "source": [
        "👆 Este array representa o arredondamento por truncação dos resultados da operação."
      ]
    },
    {
      "cell_type": "code",
      "execution_count": 18,
      "metadata": {
        "colab": {
          "base_uri": "https://localhost:8080/"
        },
        "id": "y4CX4Gpcixeh",
        "outputId": "196b1a29-32fa-49d9-9b90-58b79cde6bab"
      },
      "outputs": [
        {
          "data": {
            "text/plain": [
              "array([[2, 3],\n",
              "       [0, 3],\n",
              "       [2, 2]])"
            ]
          },
          "execution_count": 18,
          "metadata": {},
          "output_type": "execute_result"
        }
      ],
      "source": [
        "array_rest"
      ]
    },
    {
      "cell_type": "markdown",
      "metadata": {
        "id": "t7BaCmw3i7uZ"
      },
      "source": [
        "👆 Este é o resto da divisão."
      ]
    },
    {
      "cell_type": "markdown",
      "metadata": {
        "id": "IVoavZs9qz-l"
      },
      "source": [
        "#### `np.absolute`"
      ]
    },
    {
      "cell_type": "markdown",
      "metadata": {
        "id": "NV2HHfHYWv_C"
      },
      "source": [
        "Verifique quais são os valores absolutos de `array_2`."
      ]
    },
    {
      "cell_type": "code",
      "execution_count": 19,
      "metadata": {
        "colab": {
          "base_uri": "https://localhost:8080/"
        },
        "id": "FcKopFS3W1gf",
        "outputId": "0ea42b12-dd08-4e4e-ccc9-0b956fea83a6"
      },
      "outputs": [
        {
          "data": {
            "text/plain": [
              "array([[1, 9],\n",
              "       [4, 2],\n",
              "       [6, 4]])"
            ]
          },
          "execution_count": 19,
          "metadata": {},
          "output_type": "execute_result"
        }
      ],
      "source": [
        "np.absolute(array_2)"
      ]
    },
    {
      "cell_type": "markdown",
      "metadata": {
        "id": "ZhF0ZqQat212"
      },
      "source": [
        "#### `np.diff`"
      ]
    },
    {
      "cell_type": "markdown",
      "metadata": {
        "id": "MMv6vm8OW_-L"
      },
      "source": [
        "Verifique a diferença entre os valores das colunas de `array_1`."
      ]
    },
    {
      "cell_type": "code",
      "execution_count": 20,
      "metadata": {
        "colab": {
          "base_uri": "https://localhost:8080/"
        },
        "id": "v_Ar1QyWW_P3",
        "outputId": "7abc3dac-8dae-48a9-ad66-e19eb268edf3"
      },
      "outputs": [
        {
          "data": {
            "text/plain": [
              "array([[-11],\n",
              "       [  3],\n",
              "       [  8]])"
            ]
          },
          "execution_count": 20,
          "metadata": {},
          "output_type": "execute_result"
        }
      ],
      "source": [
        "np.diff(array_1)"
      ]
    },
    {
      "cell_type": "markdown",
      "metadata": {
        "id": "SICbKceMXFHm"
      },
      "source": [
        "Verifique a diferença entre os valores das linhas de `array_2`."
      ]
    },
    {
      "cell_type": "code",
      "execution_count": 21,
      "metadata": {
        "colab": {
          "base_uri": "https://localhost:8080/"
        },
        "id": "cPinYTwEXKTz",
        "outputId": "4af5581d-b8ae-4ec5-a595-bf7c99f7e15a"
      },
      "outputs": [
        {
          "data": {
            "text/plain": [
              "array([[-3, 11],\n",
              "       [10,  2]])"
            ]
          },
          "execution_count": 21,
          "metadata": {},
          "output_type": "execute_result"
        }
      ],
      "source": [
        "np.diff(array_2, axis=0)"
      ]
    },
    {
      "cell_type": "markdown",
      "metadata": {
        "id": "WvITVrFgrBtl"
      },
      "source": [
        "#### `np.power`, `np.exp`, `np.log`"
      ]
    },
    {
      "cell_type": "markdown",
      "metadata": {
        "id": "VUAJcr9bXYTb"
      },
      "source": [
        "Calcule os valores de `array_2` elevados ao cubo."
      ]
    },
    {
      "cell_type": "code",
      "execution_count": 22,
      "metadata": {
        "colab": {
          "base_uri": "https://localhost:8080/"
        },
        "id": "YearXLOZXXor",
        "outputId": "56b784c5-68d9-46fc-ece1-ebd6167f374c"
      },
      "outputs": [
        {
          "data": {
            "text/plain": [
              "array([[  -1, -729],\n",
              "       [ -64,    8],\n",
              "       [ 216,   64]])"
            ]
          },
          "execution_count": 22,
          "metadata": {},
          "output_type": "execute_result"
        }
      ],
      "source": [
        "np.power(array_2, 3)"
      ]
    },
    {
      "cell_type": "markdown",
      "metadata": {
        "id": "zdXVI6b-Xi1r"
      },
      "source": [
        "Calcule o valor do número natural *e* elevado aos valores de `array_1`."
      ]
    },
    {
      "cell_type": "code",
      "execution_count": 23,
      "metadata": {
        "colab": {
          "base_uri": "https://localhost:8080/"
        },
        "id": "xoCE_Z8YXiPU",
        "outputId": "d880d219-c9b7-4ff2-8fb1-01a1d7758f0e"
      },
      "outputs": [
        {
          "data": {
            "text/plain": [
              "array([[4.03428793e+02, 6.73794700e-03],\n",
              "       [3.35462628e-04, 6.73794700e-03],\n",
              "       [1.35335283e-01, 4.03428793e+02]])"
            ]
          },
          "execution_count": 23,
          "metadata": {},
          "output_type": "execute_result"
        }
      ],
      "source": [
        "np.exp(array_1)"
      ]
    },
    {
      "cell_type": "markdown",
      "metadata": {
        "id": "eOwHgXdVXspb"
      },
      "source": [
        "Calcule o logaritmo natural dos valores de `array_2`."
      ]
    },
    {
      "cell_type": "code",
      "execution_count": 24,
      "metadata": {
        "colab": {
          "base_uri": "https://localhost:8080/"
        },
        "id": "_HcsoDXSXtBs",
        "outputId": "3d3670d5-902f-4541-f3f4-45c2a6480f04"
      },
      "outputs": [
        {
          "name": "stderr",
          "output_type": "stream",
          "text": [
            "C:\\Users\\joaoi\\AppData\\Local\\Temp\\ipykernel_17052\\1547543613.py:1: RuntimeWarning: invalid value encountered in log\n",
            "  np.log(array_2)\n"
          ]
        },
        {
          "data": {
            "text/plain": [
              "array([[       nan,        nan],\n",
              "       [       nan, 0.69314718],\n",
              "       [1.79175947, 1.38629436]])"
            ]
          },
          "execution_count": 24,
          "metadata": {},
          "output_type": "execute_result"
        }
      ],
      "source": [
        "np.log(array_2)"
      ]
    },
    {
      "cell_type": "markdown",
      "metadata": {
        "id": "YEJHlhQLshrw"
      },
      "source": [
        "#### `np.reciprocal`"
      ]
    },
    {
      "cell_type": "markdown",
      "metadata": {
        "id": "kYTmvcmQX6Hz"
      },
      "source": [
        "Determine os valores recíprocos de `array_1`. Lembre-se que você precisa antes converter os valores do array para float."
      ]
    },
    {
      "cell_type": "code",
      "execution_count": 25,
      "metadata": {
        "colab": {
          "base_uri": "https://localhost:8080/"
        },
        "id": "xAdrw2NZYDWq",
        "outputId": "77bb5bf5-b787-4cc6-c34a-ff2ba55c6519"
      },
      "outputs": [
        {
          "data": {
            "text/plain": [
              "array([[ 0.16666667, -0.2       ],\n",
              "       [-0.125     , -0.2       ],\n",
              "       [-0.5       ,  0.16666667]])"
            ]
          },
          "execution_count": 25,
          "metadata": {},
          "output_type": "execute_result"
        }
      ],
      "source": [
        "np.reciprocal(array_1.astype(float))"
      ]
    },
    {
      "cell_type": "markdown",
      "metadata": {
        "id": "N5wHc1kOt62i"
      },
      "source": [
        "#### `np.sqrt`, `np.cbrt`"
      ]
    },
    {
      "cell_type": "markdown",
      "metadata": {
        "id": "sZU4zL9xYQBX"
      },
      "source": [
        "Obtenha a raiz quadrada dos valores de `array_1`."
      ]
    },
    {
      "cell_type": "code",
      "execution_count": 26,
      "metadata": {
        "colab": {
          "base_uri": "https://localhost:8080/"
        },
        "id": "puIcM3HCYZPs",
        "outputId": "0aba9b44-c0cc-4b75-acb7-d085ee27e5a4"
      },
      "outputs": [
        {
          "name": "stderr",
          "output_type": "stream",
          "text": [
            "C:\\Users\\joaoi\\AppData\\Local\\Temp\\ipykernel_17052\\3607161969.py:1: RuntimeWarning: invalid value encountered in sqrt\n",
            "  np.sqrt(array_1)\n"
          ]
        },
        {
          "data": {
            "text/plain": [
              "array([[2.44948974,        nan],\n",
              "       [       nan,        nan],\n",
              "       [       nan, 2.44948974]])"
            ]
          },
          "execution_count": 26,
          "metadata": {},
          "output_type": "execute_result"
        }
      ],
      "source": [
        "np.sqrt(array_1)"
      ]
    },
    {
      "cell_type": "markdown",
      "metadata": {
        "id": "nlIjGZnxYcjZ"
      },
      "source": [
        "Obtenha a raiz cúbica dos valores de `array_2`."
      ]
    },
    {
      "cell_type": "code",
      "execution_count": 27,
      "metadata": {
        "colab": {
          "base_uri": "https://localhost:8080/"
        },
        "id": "i5uJ0QhuYbqz",
        "outputId": "4070caf1-364e-4e36-fefb-061e7b6e9549"
      },
      "outputs": [
        {
          "data": {
            "text/plain": [
              "array([[-1.        , -2.08008382],\n",
              "       [-1.58740105,  1.25992105],\n",
              "       [ 1.81712059,  1.58740105]])"
            ]
          },
          "execution_count": 27,
          "metadata": {},
          "output_type": "execute_result"
        }
      ],
      "source": [
        "np.cbrt(array_2)"
      ]
    },
    {
      "cell_type": "markdown",
      "metadata": {
        "id": "Po3yJhmVucFe"
      },
      "source": [
        "#### `np.gcd`, `np.lcm`\n",
        "\n",
        "Calcule o maior divisor comum e o mínimo múltiplo comum entre `array_1` e `array_2`."
      ]
    },
    {
      "cell_type": "code",
      "execution_count": 28,
      "metadata": {
        "colab": {
          "base_uri": "https://localhost:8080/"
        },
        "id": "f2x5eYm8WYnH",
        "outputId": "cc341cb6-9e65-4b7c-cd54-5bf4f8cdf564"
      },
      "outputs": [
        {
          "data": {
            "text/plain": [
              "array([[1, 1],\n",
              "       [4, 1],\n",
              "       [2, 2]])"
            ]
          },
          "execution_count": 28,
          "metadata": {},
          "output_type": "execute_result"
        }
      ],
      "source": [
        "np.gcd(array_1, array_2)"
      ]
    },
    {
      "cell_type": "code",
      "execution_count": 29,
      "metadata": {
        "colab": {
          "base_uri": "https://localhost:8080/"
        },
        "id": "xqo4d3snYoYg",
        "outputId": "a3f067f3-cd56-4801-8e12-c914a963b530"
      },
      "outputs": [
        {
          "data": {
            "text/plain": [
              "array([[ 6, 45],\n",
              "       [ 8, 10],\n",
              "       [ 6, 12]])"
            ]
          },
          "execution_count": 29,
          "metadata": {},
          "output_type": "execute_result"
        }
      ],
      "source": [
        "np.lcm(array_1, array_2)"
      ]
    },
    {
      "cell_type": "markdown",
      "metadata": {
        "id": "T8S64YQnu8Le"
      },
      "source": [
        "### Funções trigonométricas"
      ]
    },
    {
      "cell_type": "markdown",
      "metadata": {
        "id": "MA6wtScTY9NJ"
      },
      "source": [
        "Calcule o seno, o cosseno e a tangente de alguns ângulos importantes: 30, 45 e 90 graus. Lembre-se que você precisa antes coverter o ângulo para radianos."
      ]
    },
    {
      "cell_type": "code",
      "execution_count": 30,
      "metadata": {
        "id": "5df6cvL2ZLlm"
      },
      "outputs": [],
      "source": [
        "radians_30 = np.radians(30)"
      ]
    },
    {
      "cell_type": "code",
      "execution_count": 31,
      "metadata": {
        "colab": {
          "base_uri": "https://localhost:8080/"
        },
        "id": "1RQrpXC0YxHv",
        "outputId": "c0249510-1f08-4b9c-fdfb-9ed9cb552803"
      },
      "outputs": [
        {
          "data": {
            "text/plain": [
              "np.float64(0.49999999999999994)"
            ]
          },
          "execution_count": 31,
          "metadata": {},
          "output_type": "execute_result"
        }
      ],
      "source": [
        "np.sin(radians_30)"
      ]
    },
    {
      "cell_type": "markdown",
      "metadata": {
        "id": "G4zCjqsRaOl2"
      },
      "source": [
        "👆 O valor exato é igual a 0.5."
      ]
    },
    {
      "cell_type": "code",
      "execution_count": 32,
      "metadata": {
        "colab": {
          "base_uri": "https://localhost:8080/"
        },
        "id": "_1fBeTNaZPAg",
        "outputId": "e906fafa-358d-4da4-ef56-202c73ad42dd"
      },
      "outputs": [
        {
          "data": {
            "text/plain": [
              "np.float64(0.8660254037844387)"
            ]
          },
          "execution_count": 32,
          "metadata": {},
          "output_type": "execute_result"
        }
      ],
      "source": [
        "np.cos(radians_30)"
      ]
    },
    {
      "cell_type": "code",
      "execution_count": 33,
      "metadata": {
        "colab": {
          "base_uri": "https://localhost:8080/"
        },
        "id": "dg5dcAGVZRD9",
        "outputId": "b2954e6e-bc83-4a8d-a65c-ee26603723fe"
      },
      "outputs": [
        {
          "data": {
            "text/plain": [
              "np.float64(0.5773502691896257)"
            ]
          },
          "execution_count": 33,
          "metadata": {},
          "output_type": "execute_result"
        }
      ],
      "source": [
        "np.tan(radians_30)"
      ]
    },
    {
      "cell_type": "code",
      "execution_count": 34,
      "metadata": {
        "id": "U5Q8pZ4_ZUSc"
      },
      "outputs": [],
      "source": [
        "radians_45 = np.radians(45)"
      ]
    },
    {
      "cell_type": "code",
      "execution_count": 35,
      "metadata": {
        "colab": {
          "base_uri": "https://localhost:8080/"
        },
        "id": "y4SvzEFsZUSc",
        "outputId": "55126e6d-bc4e-4fd7-9e1e-00dacabcd97c"
      },
      "outputs": [
        {
          "name": "stdout",
          "output_type": "stream",
          "text": [
            "0.7071067811865476\n"
          ]
        }
      ],
      "source": [
        "print(np.sin(radians_45))"
      ]
    },
    {
      "cell_type": "code",
      "execution_count": 36,
      "metadata": {
        "colab": {
          "base_uri": "https://localhost:8080/"
        },
        "id": "AxvzkAeAZUSd",
        "outputId": "cd6cf1d7-cdd8-415a-ba0c-a25977ea7c17"
      },
      "outputs": [
        {
          "name": "stdout",
          "output_type": "stream",
          "text": [
            "0.7071067811865476\n"
          ]
        }
      ],
      "source": [
        "print(np.cos(radians_45))"
      ]
    },
    {
      "cell_type": "code",
      "execution_count": 37,
      "metadata": {
        "colab": {
          "base_uri": "https://localhost:8080/"
        },
        "id": "w3m3GlxFZUSe",
        "outputId": "dab5b203-b683-41a0-9014-61213f0aeeb0"
      },
      "outputs": [
        {
          "name": "stdout",
          "output_type": "stream",
          "text": [
            "0.9999999999999999\n"
          ]
        }
      ],
      "source": [
        "print(np.tan(radians_45))"
      ]
    },
    {
      "cell_type": "markdown",
      "metadata": {
        "id": "tOLx2kcAaS8S"
      },
      "source": [
        "👆 O valor exato é igual a 1."
      ]
    },
    {
      "cell_type": "code",
      "execution_count": 38,
      "metadata": {
        "id": "Fw3HJiu4ZSHQ"
      },
      "outputs": [],
      "source": [
        "radians_90 = np.radians(90)"
      ]
    },
    {
      "cell_type": "code",
      "execution_count": 39,
      "metadata": {
        "colab": {
          "base_uri": "https://localhost:8080/"
        },
        "id": "R5odkHo7ZdFo",
        "outputId": "cb4b6c7d-a5a8-45dd-d273-853d5bed8042"
      },
      "outputs": [
        {
          "name": "stdout",
          "output_type": "stream",
          "text": [
            "1.0\n"
          ]
        }
      ],
      "source": [
        "print(np.sin(radians_90))"
      ]
    },
    {
      "cell_type": "code",
      "execution_count": 40,
      "metadata": {
        "colab": {
          "base_uri": "https://localhost:8080/"
        },
        "id": "qpqSwo-kZdGA",
        "outputId": "46b19b02-9631-474a-a46e-bb29d473aa89"
      },
      "outputs": [
        {
          "name": "stdout",
          "output_type": "stream",
          "text": [
            "6.123233995736766e-17\n"
          ]
        }
      ],
      "source": [
        "print(np.cos(radians_90))"
      ]
    },
    {
      "cell_type": "markdown",
      "metadata": {
        "id": "c58OpDoXaKv0"
      },
      "source": [
        "👆 O valor exato é igual a 0."
      ]
    },
    {
      "cell_type": "code",
      "execution_count": 41,
      "metadata": {
        "colab": {
          "base_uri": "https://localhost:8080/"
        },
        "id": "Oykz94zQZdGB",
        "outputId": "43f6f962-e39c-443e-bfcb-9fc197f4aa28"
      },
      "outputs": [
        {
          "name": "stdout",
          "output_type": "stream",
          "text": [
            "1.633123935319537e+16\n"
          ]
        }
      ],
      "source": [
        "print(np.tan(radians_90))"
      ]
    },
    {
      "cell_type": "markdown",
      "metadata": {
        "id": "a-BKC5sSZpRp"
      },
      "source": [
        "👆 O valor exato é *infinito*, pois $$tan(x) = \\frac{sen(x)}{cos(x)}$$ e o cosseno de 90 graus é igual a 0. Por questões de arredondamento, o NumPy retorna um valor \"muito alto\" ao invés de expressar infinito."
      ]
    },
    {
      "cell_type": "markdown",
      "metadata": {
        "id": "tW_zxrOAxXrR"
      },
      "source": [
        "### Funções de comparação"
      ]
    },
    {
      "cell_type": "markdown",
      "metadata": {
        "id": "JWbqh8OVzI7e"
      },
      "source": [
        "#### `np.maximum`,  `np.minimum`"
      ]
    },
    {
      "cell_type": "markdown",
      "metadata": {
        "id": "GlyBmeiGb3mH"
      },
      "source": [
        "Obtenha os valores máximos e mínimos comparando `array_1` com `array_2`."
      ]
    },
    {
      "cell_type": "code",
      "execution_count": 42,
      "metadata": {
        "colab": {
          "base_uri": "https://localhost:8080/"
        },
        "id": "kEdf28D5cAGo",
        "outputId": "4a2e9858-5743-44eb-a111-fdd033fa61c7"
      },
      "outputs": [
        {
          "data": {
            "text/plain": [
              "array([[ 6, -5],\n",
              "       [-4,  2],\n",
              "       [ 6,  6]])"
            ]
          },
          "execution_count": 42,
          "metadata": {},
          "output_type": "execute_result"
        }
      ],
      "source": [
        "np.maximum(array_1, array_2)"
      ]
    },
    {
      "cell_type": "code",
      "execution_count": 43,
      "metadata": {
        "colab": {
          "base_uri": "https://localhost:8080/"
        },
        "id": "HKFq76KbcCm2",
        "outputId": "47facecd-fe0d-4da7-f0c1-0b27eb4d97cb"
      },
      "outputs": [
        {
          "data": {
            "text/plain": [
              "array([[-1, -9],\n",
              "       [-8, -5],\n",
              "       [-2,  4]])"
            ]
          },
          "execution_count": 43,
          "metadata": {},
          "output_type": "execute_result"
        }
      ],
      "source": [
        "np.minimum(array_1, array_2)"
      ]
    },
    {
      "cell_type": "markdown",
      "metadata": {
        "id": "4PRplpcFxepd"
      },
      "source": [
        "#### `np.greater`,  `np.greater_equal`, `np.less`,  `np.less_equal`,  `np.not_equal`, `np.equal`"
      ]
    },
    {
      "cell_type": "markdown",
      "metadata": {
        "id": "xvczeaC-cKEm"
      },
      "source": [
        "Compare `array_1` com `array_2` para verificar se seus valores são...\n",
        "\n",
        "... maiores:"
      ]
    },
    {
      "cell_type": "code",
      "execution_count": 44,
      "metadata": {
        "colab": {
          "base_uri": "https://localhost:8080/"
        },
        "id": "P7hTM-VMcSOA",
        "outputId": "52d71606-0038-4f70-d485-8b8eb43b4c90"
      },
      "outputs": [
        {
          "data": {
            "text/plain": [
              "array([[ True,  True],\n",
              "       [False, False],\n",
              "       [False,  True]])"
            ]
          },
          "execution_count": 44,
          "metadata": {},
          "output_type": "execute_result"
        }
      ],
      "source": [
        "np.greater(array_1, array_2)"
      ]
    },
    {
      "cell_type": "markdown",
      "metadata": {
        "id": "irQtryZocVHo"
      },
      "source": [
        "... menores ou iguais:"
      ]
    },
    {
      "cell_type": "code",
      "execution_count": 45,
      "metadata": {
        "colab": {
          "base_uri": "https://localhost:8080/"
        },
        "id": "heda8YYBcXKc",
        "outputId": "6d432a23-7092-4aa8-caf4-495925887037"
      },
      "outputs": [
        {
          "data": {
            "text/plain": [
              "array([[False, False],\n",
              "       [ True,  True],\n",
              "       [ True, False]])"
            ]
          },
          "execution_count": 45,
          "metadata": {},
          "output_type": "execute_result"
        }
      ],
      "source": [
        "np.less_equal(array_1, array_2)"
      ]
    },
    {
      "cell_type": "markdown",
      "metadata": {
        "id": "A8qWG5wmcau9"
      },
      "source": [
        "... diferentes:"
      ]
    },
    {
      "cell_type": "code",
      "execution_count": 46,
      "metadata": {
        "colab": {
          "base_uri": "https://localhost:8080/"
        },
        "id": "DwUVO7aRccE0",
        "outputId": "5967ee73-4446-4b5a-a9e9-a0be424b3e62"
      },
      "outputs": [
        {
          "data": {
            "text/plain": [
              "array([[ True,  True],\n",
              "       [ True,  True],\n",
              "       [ True,  True]])"
            ]
          },
          "execution_count": 46,
          "metadata": {},
          "output_type": "execute_result"
        }
      ],
      "source": [
        "np.not_equal(array_1, array_2)"
      ]
    },
    {
      "cell_type": "markdown",
      "metadata": {
        "id": "8lgWD7mvyIQB"
      },
      "source": [
        "#### `logical_and`, `logical_or`, `logical_xor`, `logical_not`"
      ]
    },
    {
      "cell_type": "markdown",
      "metadata": {
        "id": "qVjc8Ql2dpz_"
      },
      "source": [
        "Primeiro gere uma máscara booleana para verificar quais valores em `array_1` e `array_2` são pares."
      ]
    },
    {
      "cell_type": "code",
      "execution_count": 47,
      "metadata": {
        "id": "QJ_UAVr1dw46"
      },
      "outputs": [],
      "source": [
        "array_1_mask = np.mod(array_1, 2) == 0"
      ]
    },
    {
      "cell_type": "code",
      "execution_count": 48,
      "metadata": {
        "colab": {
          "base_uri": "https://localhost:8080/"
        },
        "id": "VbJS_X5Ed5zz",
        "outputId": "18038310-501b-438a-ebdc-a887bfe5564b"
      },
      "outputs": [
        {
          "data": {
            "text/plain": [
              "array([[ True, False],\n",
              "       [ True, False],\n",
              "       [ True,  True]])"
            ]
          },
          "execution_count": 48,
          "metadata": {},
          "output_type": "execute_result"
        }
      ],
      "source": [
        "array_1_mask"
      ]
    },
    {
      "cell_type": "code",
      "execution_count": 49,
      "metadata": {
        "id": "xpou0xX4d5tf"
      },
      "outputs": [],
      "source": [
        "array_2_mask = np.mod(array_2, 2) == 0"
      ]
    },
    {
      "cell_type": "code",
      "execution_count": 50,
      "metadata": {
        "colab": {
          "base_uri": "https://localhost:8080/"
        },
        "id": "sCzJHZiAd5ez",
        "outputId": "76e8c77f-42bc-4ec9-de63-b1ab5048d56e"
      },
      "outputs": [
        {
          "data": {
            "text/plain": [
              "array([[False, False],\n",
              "       [ True,  True],\n",
              "       [ True,  True]])"
            ]
          },
          "execution_count": 50,
          "metadata": {},
          "output_type": "execute_result"
        }
      ],
      "source": [
        "array_2_mask"
      ]
    },
    {
      "cell_type": "markdown",
      "metadata": {
        "id": "vDkgepPHd5Ln"
      },
      "source": [
        "Agora, com `logical_and`, verifique onde nos dois arrays os valores são pares."
      ]
    },
    {
      "cell_type": "code",
      "execution_count": 51,
      "metadata": {
        "colab": {
          "base_uri": "https://localhost:8080/"
        },
        "id": "--Pu6GKmeL3-",
        "outputId": "f1559475-f064-46dd-f330-c5aad95e1fc5"
      },
      "outputs": [
        {
          "data": {
            "text/plain": [
              "array([[False, False],\n",
              "       [ True, False],\n",
              "       [ True,  True]])"
            ]
          },
          "execution_count": 51,
          "metadata": {},
          "output_type": "execute_result"
        }
      ],
      "source": [
        "np.logical_and(array_1_mask, array_2_mask)"
      ]
    },
    {
      "cell_type": "markdown",
      "metadata": {
        "id": "80BeYedteSh7"
      },
      "source": [
        "Com `logical_or`, você pode verificar onde pelo menos um dos valores é par."
      ]
    },
    {
      "cell_type": "code",
      "execution_count": 52,
      "metadata": {
        "colab": {
          "base_uri": "https://localhost:8080/"
        },
        "id": "Ye5o5wNHeYqH",
        "outputId": "c45dfd6a-a804-44b2-c51e-738f1010d674"
      },
      "outputs": [
        {
          "data": {
            "text/plain": [
              "array([[ True, False],\n",
              "       [ True,  True],\n",
              "       [ True,  True]])"
            ]
          },
          "execution_count": 52,
          "metadata": {},
          "output_type": "execute_result"
        }
      ],
      "source": [
        "np.logical_or(array_1_mask, array_2_mask)"
      ]
    },
    {
      "cell_type": "markdown",
      "metadata": {
        "id": "Cohe9gAmeeWr"
      },
      "source": [
        "Você também pode verificar onde pelo menos um dos valores é ímpar com `logical_not`, sem precisar refazer as máscaras booleanas."
      ]
    },
    {
      "cell_type": "code",
      "execution_count": 53,
      "metadata": {
        "colab": {
          "base_uri": "https://localhost:8080/"
        },
        "id": "vUQw38ZFemyL",
        "outputId": "f26c61de-9f9f-4b1d-c90d-5dc09e79f2d7"
      },
      "outputs": [
        {
          "data": {
            "text/plain": [
              "array([[False,  True],\n",
              "       [False,  True],\n",
              "       [False, False]])"
            ]
          },
          "execution_count": 53,
          "metadata": {},
          "output_type": "execute_result"
        }
      ],
      "source": [
        "np.logical_not(array_1_mask, array_2_mask)"
      ]
    },
    {
      "cell_type": "markdown",
      "metadata": {
        "id": "DjeBtLGj4Iu1"
      },
      "source": [
        "#### `np.isclose`, `np.allclose`"
      ]
    },
    {
      "cell_type": "markdown",
      "metadata": {
        "id": "nFdz7xdNfPTA"
      },
      "source": [
        "Agora vamos gerar 2 novos arrays com valores reais a partir da amostragem de uma distribuição normal, com desvio padrão pequeno."
      ]
    },
    {
      "cell_type": "code",
      "execution_count": 54,
      "metadata": {
        "id": "42QzrInOfZXQ"
      },
      "outputs": [],
      "source": [
        "array_3 = rng.normal(loc=0, scale=0.0001, size=6).reshape(3, 2)"
      ]
    },
    {
      "cell_type": "code",
      "execution_count": 55,
      "metadata": {
        "colab": {
          "base_uri": "https://localhost:8080/"
        },
        "id": "D1KcWRxDfgKJ",
        "outputId": "1a8f6f07-8cc8-4329-cbf3-7495b352c0d6"
      },
      "outputs": [
        {
          "data": {
            "text/plain": [
              "array([[-3.25422837e-05,  7.73806587e-05],\n",
              "       [ 2.81210670e-05, -5.53822836e-05],\n",
              "       [ 9.77567451e-05, -3.10556547e-05]])"
            ]
          },
          "execution_count": 55,
          "metadata": {},
          "output_type": "execute_result"
        }
      ],
      "source": [
        "array_3"
      ]
    },
    {
      "cell_type": "code",
      "execution_count": 56,
      "metadata": {
        "id": "XgFHUbxOkSr2"
      },
      "outputs": [],
      "source": [
        "array_4 = rng.normal(loc=0, scale=0.0001, size=6).reshape(3, 2)"
      ]
    },
    {
      "cell_type": "code",
      "execution_count": 57,
      "metadata": {
        "colab": {
          "base_uri": "https://localhost:8080/"
        },
        "id": "OoXhZLrdkVk0",
        "outputId": "e85adbb4-dc33-4929-fe5a-05feb4d7d491"
      },
      "outputs": [
        {
          "data": {
            "text/plain": [
              "array([[-3.28823904e-05, -7.92146755e-05],\n",
              "       [ 4.54958071e-05, -9.91980517e-06],\n",
              "       [ 5.45288714e-05, -6.07185700e-05]])"
            ]
          },
          "execution_count": 57,
          "metadata": {},
          "output_type": "execute_result"
        }
      ],
      "source": [
        "array_4"
      ]
    },
    {
      "cell_type": "markdown",
      "metadata": {
        "id": "KAD_vww8kcU5"
      },
      "source": [
        "Verifique se os valores de `array_3` são próximos de `array_4` dentro da margem de tolerância 0.001."
      ]
    },
    {
      "cell_type": "code",
      "execution_count": 58,
      "metadata": {
        "colab": {
          "base_uri": "https://localhost:8080/"
        },
        "id": "Vp_b3RD1klH6",
        "outputId": "b89049d2-ab8a-4296-c85d-3384234f8fd5"
      },
      "outputs": [
        {
          "data": {
            "text/plain": [
              "array([[ True,  True],\n",
              "       [ True,  True],\n",
              "       [ True,  True]])"
            ]
          },
          "execution_count": 58,
          "metadata": {},
          "output_type": "execute_result"
        }
      ],
      "source": [
        "np.isclose(a=array_3, b=array_4, atol=0.001)"
      ]
    },
    {
      "cell_type": "markdown",
      "metadata": {
        "id": "ZPoOoFD2kwPK"
      },
      "source": [
        "Verifique se todos os valores atendem a esta condição."
      ]
    },
    {
      "cell_type": "code",
      "execution_count": 59,
      "metadata": {
        "colab": {
          "base_uri": "https://localhost:8080/"
        },
        "id": "6PF6huC9kziX",
        "outputId": "673c4a62-59ad-4a12-bd08-4e5d871f0bb3"
      },
      "outputs": [
        {
          "data": {
            "text/plain": [
              "True"
            ]
          },
          "execution_count": 59,
          "metadata": {},
          "output_type": "execute_result"
        }
      ],
      "source": [
        "np.allclose(a=array_3, b=array_4, atol=0.001)"
      ]
    },
    {
      "cell_type": "markdown",
      "metadata": {
        "id": "OPfD_xDslG6I"
      },
      "source": [
        "👆 Todos os valores são iguais dentro desta margem de tolerância."
      ]
    },
    {
      "cell_type": "markdown",
      "metadata": {
        "id": "zsiyze31k4Yv"
      },
      "source": [
        "E se a margem de tolerância for igual a 0.0001?"
      ]
    },
    {
      "cell_type": "code",
      "execution_count": 60,
      "metadata": {
        "colab": {
          "base_uri": "https://localhost:8080/"
        },
        "id": "60htTJUyk8AV",
        "outputId": "a4c068ff-1013-48e3-fa97-2f042d6ce241"
      },
      "outputs": [
        {
          "data": {
            "text/plain": [
              "array([[ True, False],\n",
              "       [ True,  True],\n",
              "       [ True,  True]])"
            ]
          },
          "execution_count": 60,
          "metadata": {},
          "output_type": "execute_result"
        }
      ],
      "source": [
        "np.isclose(a=array_3, b=array_4, atol=0.0001)"
      ]
    },
    {
      "cell_type": "code",
      "execution_count": 61,
      "metadata": {
        "colab": {
          "base_uri": "https://localhost:8080/"
        },
        "id": "tJccD1TCk8AW",
        "outputId": "9fcf6594-a47d-43bc-ec5f-6fa7f1107e2a"
      },
      "outputs": [
        {
          "data": {
            "text/plain": [
              "False"
            ]
          },
          "execution_count": 61,
          "metadata": {},
          "output_type": "execute_result"
        }
      ],
      "source": [
        "np.allclose(a=array_3, b=array_4, atol=0.0001)"
      ]
    },
    {
      "cell_type": "markdown",
      "metadata": {
        "id": "J8jbc5V_k_IN"
      },
      "source": [
        "👆 Nem todos os valores são iguais dentro desta margem de tolerância."
      ]
    },
    {
      "cell_type": "markdown",
      "metadata": {
        "id": "sjh4cOtX4Nd3"
      },
      "source": [
        "#### `np.array_equal`"
      ]
    },
    {
      "cell_type": "markdown",
      "metadata": {
        "id": "ElOhCcWKlPM-"
      },
      "source": [
        "Gere uma **view** de `array_3` e confirme que a view é igual ao array com a função `np.array_equal`."
      ]
    },
    {
      "cell_type": "code",
      "execution_count": 62,
      "metadata": {
        "id": "BbyAd5FBZbb-"
      },
      "outputs": [],
      "source": [
        "array_3_view = array_3.view()"
      ]
    },
    {
      "cell_type": "code",
      "execution_count": 63,
      "metadata": {
        "colab": {
          "base_uri": "https://localhost:8080/"
        },
        "id": "FSjnKMoulXb3",
        "outputId": "ae5789c2-1983-4ea0-bffe-cf2dedb9e783"
      },
      "outputs": [
        {
          "data": {
            "text/plain": [
              "True"
            ]
          },
          "execution_count": 63,
          "metadata": {},
          "output_type": "execute_result"
        }
      ],
      "source": [
        "np.array_equal(array_3, array_3_view)"
      ]
    },
    {
      "cell_type": "markdown",
      "metadata": {
        "id": "wrEm7n7tzhjH"
      },
      "source": [
        "### Funções float"
      ]
    },
    {
      "cell_type": "markdown",
      "metadata": {
        "id": "pFjoBJvOzuWg"
      },
      "source": [
        "#### `np.isfinite`, `np.isinf`, `np.isneginf`, `np.isnan`"
      ]
    },
    {
      "cell_type": "markdown",
      "metadata": {
        "id": "aElSHS1DmmOv"
      },
      "source": [
        "Comece gerando um array com valores aleatórios inteiros no intervalo [-10, 11), organizados em um array no formato (3, 4)."
      ]
    },
    {
      "cell_type": "code",
      "execution_count": 64,
      "metadata": {
        "id": "g_unMvJ7mxsV"
      },
      "outputs": [],
      "source": [
        "array_5 = rng.integers(low=-11, high=10, size=12).reshape(3, 4)"
      ]
    },
    {
      "cell_type": "code",
      "execution_count": 65,
      "metadata": {
        "colab": {
          "base_uri": "https://localhost:8080/"
        },
        "id": "0kNxa8_vm5LI",
        "outputId": "98e56be2-6f36-4d84-d2f7-4c91e30cd47b"
      },
      "outputs": [
        {
          "data": {
            "text/plain": [
              "array([[ -4,  -3, -11,  -8],\n",
              "       [ -5,  -4,   1,  -1],\n",
              "       [  3,   7,   7,   5]])"
            ]
          },
          "execution_count": 65,
          "metadata": {},
          "output_type": "execute_result"
        }
      ],
      "source": [
        "array_5"
      ]
    },
    {
      "cell_type": "markdown",
      "metadata": {
        "id": "L7qM9Yamm617"
      },
      "source": [
        "Agora gere um novo array somente com valores 0 ou 1, no mesmo formato. Você também pode utilizar `rng.integers` para isso."
      ]
    },
    {
      "cell_type": "code",
      "execution_count": 66,
      "metadata": {
        "id": "o7XrdegjnIQF"
      },
      "outputs": [],
      "source": [
        "array_6 = rng.integers(low=0, high=1, size=(3, 4))"
      ]
    },
    {
      "cell_type": "code",
      "execution_count": 67,
      "metadata": {
        "colab": {
          "base_uri": "https://localhost:8080/"
        },
        "id": "R_6AsM04nN1R",
        "outputId": "369bb76b-1a3c-4a1f-84a6-ca3bfb1ac6ff"
      },
      "outputs": [
        {
          "data": {
            "text/plain": [
              "array([[0, 0, 0, 0],\n",
              "       [0, 0, 0, 0],\n",
              "       [0, 0, 0, 0]])"
            ]
          },
          "execution_count": 67,
          "metadata": {},
          "output_type": "execute_result"
        }
      ],
      "source": [
        "array_6"
      ]
    },
    {
      "cell_type": "markdown",
      "metadata": {
        "id": "6LxTUQLOnSej"
      },
      "source": [
        "Determine a divisão de `array_5` por `array_6`."
      ]
    },
    {
      "cell_type": "code",
      "execution_count": 68,
      "metadata": {
        "colab": {
          "base_uri": "https://localhost:8080/"
        },
        "id": "XQpWG3SSnc8Y",
        "outputId": "b255b07f-c9d4-4d10-d7f9-1480dc8714f4"
      },
      "outputs": [
        {
          "name": "stderr",
          "output_type": "stream",
          "text": [
            "C:\\Users\\joaoi\\AppData\\Local\\Temp\\ipykernel_17052\\2565710344.py:1: RuntimeWarning: divide by zero encountered in divide\n",
            "  array_div = np.divide(array_5, array_6)\n"
          ]
        }
      ],
      "source": [
        "array_div = np.divide(array_5, array_6)"
      ]
    },
    {
      "cell_type": "code",
      "execution_count": 69,
      "metadata": {
        "colab": {
          "base_uri": "https://localhost:8080/"
        },
        "id": "h2JN_ItCnf4b",
        "outputId": "09817f5c-d9be-4a7c-e47b-417a8675c44a"
      },
      "outputs": [
        {
          "data": {
            "text/plain": [
              "array([[-inf, -inf, -inf, -inf],\n",
              "       [-inf, -inf,  inf, -inf],\n",
              "       [ inf,  inf,  inf,  inf]])"
            ]
          },
          "execution_count": 69,
          "metadata": {},
          "output_type": "execute_result"
        }
      ],
      "source": [
        "array_div"
      ]
    },
    {
      "cell_type": "markdown",
      "metadata": {
        "id": "NVBcu2a8ncd_"
      },
      "source": [
        "Verifique quais valores de `array_div` são:"
      ]
    },
    {
      "cell_type": "markdown",
      "metadata": {
        "id": "UIT8MHu5nlh0"
      },
      "source": [
        "... finitos:"
      ]
    },
    {
      "cell_type": "code",
      "execution_count": 70,
      "metadata": {
        "colab": {
          "base_uri": "https://localhost:8080/"
        },
        "id": "DdGYgFnAlZWV",
        "outputId": "00d2345e-261f-4561-f98c-7c053edddd97"
      },
      "outputs": [
        {
          "data": {
            "text/plain": [
              "array([[False, False, False, False],\n",
              "       [False, False, False, False],\n",
              "       [False, False, False, False]])"
            ]
          },
          "execution_count": 70,
          "metadata": {},
          "output_type": "execute_result"
        }
      ],
      "source": [
        "np.isfinite(array_div)"
      ]
    },
    {
      "cell_type": "markdown",
      "metadata": {
        "id": "r-1S0bqtno6O"
      },
      "source": [
        "... infinitos:"
      ]
    },
    {
      "cell_type": "code",
      "execution_count": 71,
      "metadata": {
        "colab": {
          "base_uri": "https://localhost:8080/"
        },
        "id": "4mPBKF49mMcT",
        "outputId": "f8b4cb6c-f4fc-4839-f29d-5fb0443d7940"
      },
      "outputs": [
        {
          "data": {
            "text/plain": [
              "array([[ True,  True,  True,  True],\n",
              "       [ True,  True,  True,  True],\n",
              "       [ True,  True,  True,  True]])"
            ]
          },
          "execution_count": 71,
          "metadata": {},
          "output_type": "execute_result"
        }
      ],
      "source": [
        "np.isinf(array_div)"
      ]
    },
    {
      "cell_type": "markdown",
      "metadata": {
        "id": "QTfq4YvmntrC"
      },
      "source": [
        "... infinitos negativos:"
      ]
    },
    {
      "cell_type": "code",
      "execution_count": 72,
      "metadata": {
        "colab": {
          "base_uri": "https://localhost:8080/"
        },
        "id": "jDEzfyEHmN8i",
        "outputId": "326d067a-e22e-422c-9638-adca36faa781"
      },
      "outputs": [
        {
          "data": {
            "text/plain": [
              "array([[ True,  True,  True,  True],\n",
              "       [ True,  True, False,  True],\n",
              "       [False, False, False, False]])"
            ]
          },
          "execution_count": 72,
          "metadata": {},
          "output_type": "execute_result"
        }
      ],
      "source": [
        "np.isneginf(array_div)"
      ]
    },
    {
      "cell_type": "markdown",
      "metadata": {
        "id": "FqExwHopny68"
      },
      "source": [
        "Agora determine o logaritmo na base 10 de `array_5`."
      ]
    },
    {
      "cell_type": "code",
      "execution_count": 73,
      "metadata": {
        "colab": {
          "base_uri": "https://localhost:8080/"
        },
        "id": "dFj571mWn5U4",
        "outputId": "9bc8b1d4-cafd-499f-87ae-0263ac4f2ddb"
      },
      "outputs": [
        {
          "name": "stderr",
          "output_type": "stream",
          "text": [
            "C:\\Users\\joaoi\\AppData\\Local\\Temp\\ipykernel_17052\\3784087537.py:1: RuntimeWarning: invalid value encountered in log\n",
            "  array_log_10 = np.log(array_5)\n"
          ]
        }
      ],
      "source": [
        "array_log_10 = np.log(array_5)"
      ]
    },
    {
      "cell_type": "code",
      "execution_count": 74,
      "metadata": {
        "colab": {
          "base_uri": "https://localhost:8080/"
        },
        "id": "-5OTYDa-n8AK",
        "outputId": "2cb763dd-07d5-49a1-d68a-fb785d68239c"
      },
      "outputs": [
        {
          "data": {
            "text/plain": [
              "array([[       nan,        nan,        nan,        nan],\n",
              "       [       nan,        nan, 0.        ,        nan],\n",
              "       [1.09861229, 1.94591015, 1.94591015, 1.60943791]])"
            ]
          },
          "execution_count": 74,
          "metadata": {},
          "output_type": "execute_result"
        }
      ],
      "source": [
        "array_log_10"
      ]
    },
    {
      "cell_type": "markdown",
      "metadata": {
        "id": "LuYrazVgn-Tp"
      },
      "source": [
        "Quais desses valores são indeterminados (\"not a number\")?"
      ]
    },
    {
      "cell_type": "code",
      "execution_count": 75,
      "metadata": {
        "colab": {
          "base_uri": "https://localhost:8080/"
        },
        "id": "wIN1emw3mPSW",
        "outputId": "99a4eb1b-42b2-49ce-fe85-d84c1d124c0b"
      },
      "outputs": [
        {
          "data": {
            "text/plain": [
              "array([[False, False, False, False],\n",
              "       [False, False, False, False],\n",
              "       [False, False, False, False]])"
            ]
          },
          "execution_count": 75,
          "metadata": {},
          "output_type": "execute_result"
        }
      ],
      "source": [
        "np.isnan(array_5)"
      ]
    },
    {
      "cell_type": "markdown",
      "metadata": {
        "id": "5DS50gudoKit"
      },
      "source": [
        "### Funções float"
      ]
    },
    {
      "cell_type": "markdown",
      "metadata": {
        "id": "-AtdoukA0YCy"
      },
      "source": [
        "#### `np.floor`, `np.ceil`, `np.trunc`"
      ]
    },
    {
      "cell_type": "markdown",
      "metadata": {
        "id": "UlrTdjS8oWb7"
      },
      "source": [
        "Gere um novo array com 10 valores aleatórios obtidos de uma distribuição normal, com média 0 e desvio padrão 1."
      ]
    },
    {
      "cell_type": "code",
      "execution_count": 76,
      "metadata": {
        "id": "Tc38mqg4mQnt"
      },
      "outputs": [],
      "source": [
        "array_7 = rng.standard_normal(size=10)"
      ]
    },
    {
      "cell_type": "code",
      "execution_count": 77,
      "metadata": {
        "colab": {
          "base_uri": "https://localhost:8080/"
        },
        "id": "pf2tYDQaobyZ",
        "outputId": "20980d74-5ee7-452b-e7a6-89677b402701"
      },
      "outputs": [
        {
          "data": {
            "text/plain": [
              "array([-1.0107575 ,  0.783181  ,  2.05670282, -1.6384425 , -1.72941147,\n",
              "       -1.50483141,  0.84145889,  0.12871566,  1.07834244,  0.72243087])"
            ]
          },
          "execution_count": 77,
          "metadata": {},
          "output_type": "execute_result"
        }
      ],
      "source": [
        "array_7"
      ]
    },
    {
      "cell_type": "markdown",
      "metadata": {
        "id": "9YIYRtLlodkd"
      },
      "source": [
        "Arredonde os valores para..."
      ]
    },
    {
      "cell_type": "markdown",
      "metadata": {
        "id": "W-5vfFLoogHO"
      },
      "source": [
        "... baixo:"
      ]
    },
    {
      "cell_type": "code",
      "execution_count": 78,
      "metadata": {
        "colab": {
          "base_uri": "https://localhost:8080/"
        },
        "id": "4j6OidG3ocr-",
        "outputId": "3896e3c1-4049-4100-a36b-c9b4ed244112"
      },
      "outputs": [
        {
          "data": {
            "text/plain": [
              "array([-1.,  1.,  3., -1., -1., -1.,  1.,  1.,  2.,  1.])"
            ]
          },
          "execution_count": 78,
          "metadata": {},
          "output_type": "execute_result"
        }
      ],
      "source": [
        "np.ceil(array_7)"
      ]
    },
    {
      "cell_type": "markdown",
      "metadata": {
        "id": "c-4i5j5Aokzg"
      },
      "source": [
        "... cima:"
      ]
    },
    {
      "cell_type": "code",
      "execution_count": 79,
      "metadata": {
        "colab": {
          "base_uri": "https://localhost:8080/"
        },
        "id": "x2vdSR68ojZm",
        "outputId": "69f11c3b-6805-4e94-debb-6bcde573577a"
      },
      "outputs": [
        {
          "data": {
            "text/plain": [
              "array([-2.,  0.,  2., -2., -2., -2.,  0.,  0.,  1.,  0.])"
            ]
          },
          "execution_count": 79,
          "metadata": {},
          "output_type": "execute_result"
        }
      ],
      "source": [
        "np.floor(array_7)"
      ]
    },
    {
      "cell_type": "markdown",
      "metadata": {
        "id": "J7VYK-17oomh"
      },
      "source": [
        "... o valor inteiro mais próximo de 0:"
      ]
    },
    {
      "cell_type": "code",
      "execution_count": 80,
      "metadata": {
        "colab": {
          "base_uri": "https://localhost:8080/"
        },
        "id": "mDrigtB7omr8",
        "outputId": "ff5dc7ca-ad36-492e-ba3c-30117138868d"
      },
      "outputs": [
        {
          "data": {
            "text/plain": [
              "array([-1.,  0.,  2., -1., -1., -1.,  0.,  0.,  1.,  0.])"
            ]
          },
          "execution_count": 80,
          "metadata": {},
          "output_type": "execute_result"
        }
      ],
      "source": [
        "np.trunc(array_7)"
      ]
    }
  ],
  "metadata": {
    "colab": {
      "provenance": []
    },
    "kernelspec": {
      "display_name": ".venv",
      "language": "python",
      "name": "python3"
    },
    "language_info": {
      "codemirror_mode": {
        "name": "ipython",
        "version": 3
      },
      "file_extension": ".py",
      "mimetype": "text/x-python",
      "name": "python",
      "nbconvert_exporter": "python",
      "pygments_lexer": "ipython3",
      "version": "3.12.12"
    }
  },
  "nbformat": 4,
  "nbformat_minor": 0
}
