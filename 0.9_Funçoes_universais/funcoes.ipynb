{
 "cells": [
  {
   "cell_type": "markdown",
   "id": "a216f986",
   "metadata": {},
   "source": [
    "# **Funções universais**"
   ]
  },
  {
   "cell_type": "code",
   "execution_count": 1,
   "id": "2f030215",
   "metadata": {},
   "outputs": [],
   "source": [
    "import numpy as np"
   ]
  },
  {
   "cell_type": "code",
   "execution_count": 2,
   "id": "13b2987c",
   "metadata": {},
   "outputs": [],
   "source": [
    "rng = np.random.default_rng(seed=2)"
   ]
  },
  {
   "cell_type": "code",
   "execution_count": 3,
   "id": "90a5ac5f",
   "metadata": {},
   "outputs": [
    {
     "data": {
      "text/plain": [
       "array([[ 6, -5, -8, -5, -2],\n",
       "       [ 6, -1, -9, -4,  2],\n",
       "       [ 6,  4,  9, -7,  7],\n",
       "       [-9,  1, -5, -6,  3]])"
      ]
     },
     "execution_count": 3,
     "metadata": {},
     "output_type": "execute_result"
    }
   ],
   "source": [
    "array_1 = rng.integers(low=-10, high=10, size=20).reshape(4, 5)\n",
    "array_1"
   ]
  },
  {
   "cell_type": "code",
   "execution_count": 4,
   "id": "2d60cf75",
   "metadata": {},
   "outputs": [
    {
     "data": {
      "text/plain": [
       "array([[ -4,   1,  -5,  -7,   4],\n",
       "       [ -2,   3,   3,   8,  -2],\n",
       "       [ -6,   2,   8,   9,   7],\n",
       "       [  3,  -3,  -3, -10,  -7]])"
      ]
     },
     "execution_count": 4,
     "metadata": {},
     "output_type": "execute_result"
    }
   ],
   "source": [
    "array_2 = rng.integers(low=-10, high=10, size=20).reshape(4, 5)\n",
    "array_2"
   ]
  },
  {
   "cell_type": "markdown",
   "id": "22e44e31",
   "metadata": {},
   "source": [
    "## Funções matemáticas"
   ]
  },
  {
   "cell_type": "markdown",
   "id": "e55d3be8",
   "metadata": {},
   "source": [
    "### np.add, np.subtract, np.multiply e np.divide"
   ]
  },
  {
   "cell_type": "code",
   "execution_count": 5,
   "id": "c0ab09a1",
   "metadata": {},
   "outputs": [
    {
     "data": {
      "text/plain": [
       "array([[  2,  -4, -13, -12,   2],\n",
       "       [  4,   2,  -6,   4,   0],\n",
       "       [  0,   6,  17,   2,  14],\n",
       "       [ -6,  -2,  -8, -16,  -4]])"
      ]
     },
     "execution_count": 5,
     "metadata": {},
     "output_type": "execute_result"
    }
   ],
   "source": [
    "np.add(array_1, array_2)"
   ]
  },
  {
   "cell_type": "code",
   "execution_count": 6,
   "id": "6aea0c4e",
   "metadata": {},
   "outputs": [
    {
     "data": {
      "text/plain": [
       "array([[ 10,  -6,  -3,   2,  -6],\n",
       "       [  8,  -4, -12, -12,   4],\n",
       "       [ 12,   2,   1, -16,   0],\n",
       "       [-12,   4,  -2,   4,  10]])"
      ]
     },
     "execution_count": 6,
     "metadata": {},
     "output_type": "execute_result"
    }
   ],
   "source": [
    "np.subtract(array_1, array_2)"
   ]
  },
  {
   "cell_type": "code",
   "execution_count": 7,
   "id": "af217809",
   "metadata": {},
   "outputs": [
    {
     "data": {
      "text/plain": [
       "array([[-24,  -5,  40,  35,  -8],\n",
       "       [-12,  -3, -27, -32,  -4],\n",
       "       [-36,   8,  72, -63,  49],\n",
       "       [-27,  -3,  15,  60, -21]])"
      ]
     },
     "execution_count": 7,
     "metadata": {},
     "output_type": "execute_result"
    }
   ],
   "source": [
    "np.multiply(array_1, array_2)"
   ]
  },
  {
   "cell_type": "code",
   "execution_count": 8,
   "id": "f6acb5e3",
   "metadata": {},
   "outputs": [
    {
     "data": {
      "text/plain": [
       "array([[-1.5       , -5.        ,  1.6       ,  0.71428571, -0.5       ],\n",
       "       [-3.        , -0.33333333, -3.        , -0.5       , -1.        ],\n",
       "       [-1.        ,  2.        ,  1.125     , -0.77777778,  1.        ],\n",
       "       [-3.        , -0.33333333,  1.66666667,  0.6       , -0.42857143]])"
      ]
     },
     "execution_count": 8,
     "metadata": {},
     "output_type": "execute_result"
    }
   ],
   "source": [
    "np.divide(array_1, array_2)"
   ]
  },
  {
   "cell_type": "code",
   "execution_count": 9,
   "id": "27925298",
   "metadata": {},
   "outputs": [
    {
     "data": {
      "text/plain": [
       "array([[106,  95,  92,  95,  98],\n",
       "       [106,  99,  91,  96, 102],\n",
       "       [106, 104, 109,  93, 107],\n",
       "       [ 91, 101,  95,  94, 103]])"
      ]
     },
     "execution_count": 9,
     "metadata": {},
     "output_type": "execute_result"
    }
   ],
   "source": [
    "np.add(array_1, 100)"
   ]
  },
  {
   "cell_type": "markdown",
   "id": "71012fca",
   "metadata": {},
   "source": [
    "### np.mod"
   ]
  },
  {
   "cell_type": "code",
   "execution_count": 10,
   "id": "39a96c7e",
   "metadata": {},
   "outputs": [
    {
     "data": {
      "text/plain": [
       "array([[0, 1, 0, 1, 0],\n",
       "       [0, 1, 1, 0, 0],\n",
       "       [0, 0, 1, 1, 1],\n",
       "       [1, 1, 1, 0, 1]])"
      ]
     },
     "execution_count": 10,
     "metadata": {},
     "output_type": "execute_result"
    }
   ],
   "source": [
    "np.mod(array_1, 2)"
   ]
  },
  {
   "cell_type": "markdown",
   "id": "ff253baf",
   "metadata": {},
   "source": [
    "### np.divmod"
   ]
  },
  {
   "cell_type": "code",
   "execution_count": 11,
   "id": "5be91b0b",
   "metadata": {},
   "outputs": [
    {
     "data": {
      "text/plain": [
       "(array([[ 3, -3, -4, -3, -1],\n",
       "        [ 3, -1, -5, -2,  1],\n",
       "        [ 3,  2,  4, -4,  3],\n",
       "        [-5,  0, -3, -3,  1]]),\n",
       " array([[0, 1, 0, 1, 0],\n",
       "        [0, 1, 1, 0, 0],\n",
       "        [0, 0, 1, 1, 1],\n",
       "        [1, 1, 1, 0, 1]]))"
      ]
     },
     "execution_count": 11,
     "metadata": {},
     "output_type": "execute_result"
    }
   ],
   "source": [
    "np.divmod(array_1, 2)"
   ]
  },
  {
   "cell_type": "markdown",
   "id": "7db36714",
   "metadata": {},
   "source": [
    "### np.absolute"
   ]
  },
  {
   "cell_type": "code",
   "execution_count": 12,
   "id": "8c1ebdff",
   "metadata": {},
   "outputs": [
    {
     "data": {
      "text/plain": [
       "array([[6, 5, 8, 5, 2],\n",
       "       [6, 1, 9, 4, 2],\n",
       "       [6, 4, 9, 7, 7],\n",
       "       [9, 1, 5, 6, 3]])"
      ]
     },
     "execution_count": 12,
     "metadata": {},
     "output_type": "execute_result"
    }
   ],
   "source": [
    "np.absolute(array_1)"
   ]
  },
  {
   "cell_type": "markdown",
   "id": "9426388d",
   "metadata": {},
   "source": [
    "### np.diff"
   ]
  },
  {
   "cell_type": "code",
   "execution_count": 13,
   "id": "3d6846ea",
   "metadata": {},
   "outputs": [
    {
     "data": {
      "text/plain": [
       "array([[-11,  -3,   3,   3],\n",
       "       [ -7,  -8,   5,   6],\n",
       "       [ -2,   5, -16,  14],\n",
       "       [ 10,  -6,  -1,   9]])"
      ]
     },
     "execution_count": 13,
     "metadata": {},
     "output_type": "execute_result"
    }
   ],
   "source": [
    "np.diff(array_1)"
   ]
  },
  {
   "cell_type": "code",
   "execution_count": 14,
   "id": "63c513ac",
   "metadata": {},
   "outputs": [
    {
     "data": {
      "text/plain": [
       "array([[  0,   4,  -1,   1,   4],\n",
       "       [  0,   5,  18,  -3,   5],\n",
       "       [-15,  -3, -14,   1,  -4]])"
      ]
     },
     "execution_count": 14,
     "metadata": {},
     "output_type": "execute_result"
    }
   ],
   "source": [
    "np.diff(array_1, axis=0)"
   ]
  },
  {
   "cell_type": "code",
   "execution_count": 15,
   "id": "495765f3",
   "metadata": {},
   "outputs": [
    {
     "data": {
      "text/plain": [
       "array([[  8,   6,   0],\n",
       "       [ -1,  13,   1],\n",
       "       [  7, -21,  30],\n",
       "       [-16,   5,  10]])"
      ]
     },
     "execution_count": 15,
     "metadata": {},
     "output_type": "execute_result"
    }
   ],
   "source": [
    "np.diff(a=array_1, n=2)"
   ]
  },
  {
   "cell_type": "markdown",
   "id": "a04f9ee1",
   "metadata": {},
   "source": [
    "### np.power, np.exp e np.log"
   ]
  },
  {
   "cell_type": "code",
   "execution_count": 16,
   "id": "04f48f73",
   "metadata": {},
   "outputs": [
    {
     "data": {
      "text/plain": [
       "array([[36, 25, 64, 25,  4],\n",
       "       [36,  1, 81, 16,  4],\n",
       "       [36, 16, 81, 49, 49],\n",
       "       [81,  1, 25, 36,  9]])"
      ]
     },
     "execution_count": 16,
     "metadata": {},
     "output_type": "execute_result"
    }
   ],
   "source": [
    "np.power(array_1, 2)"
   ]
  },
  {
   "cell_type": "code",
   "execution_count": 17,
   "id": "f5411552",
   "metadata": {},
   "outputs": [
    {
     "data": {
      "text/plain": [
       "array([[  36,   25,   64,   25,    4],\n",
       "       [  36,    1,   81,   16,    4],\n",
       "       [ 216,   64,  729, -343,  343],\n",
       "       [-729,    1, -125, -216,   27]])"
      ]
     },
     "execution_count": 17,
     "metadata": {},
     "output_type": "execute_result"
    }
   ],
   "source": [
    "np.power(array_1, [[2], [2], [3], [3]])"
   ]
  },
  {
   "cell_type": "code",
   "execution_count": 18,
   "id": "d5543473",
   "metadata": {},
   "outputs": [
    {
     "data": {
      "text/plain": [
       "array([[  36,   25, -512, -125,   -8],\n",
       "       [  36,    1, -729,  -64,    8],\n",
       "       [  36,   16,  729, -343,  343],\n",
       "       [  81,    1, -125, -216,   27]])"
      ]
     },
     "execution_count": 18,
     "metadata": {},
     "output_type": "execute_result"
    }
   ],
   "source": [
    "np.power(array_1, [[2, 2, 3, 3, 3]])"
   ]
  },
  {
   "cell_type": "code",
   "execution_count": 19,
   "id": "a20bcd18",
   "metadata": {},
   "outputs": [
    {
     "data": {
      "text/plain": [
       "array([[4.03428793e+02, 6.73794700e-03, 3.35462628e-04, 6.73794700e-03,\n",
       "        1.35335283e-01],\n",
       "       [4.03428793e+02, 3.67879441e-01, 1.23409804e-04, 1.83156389e-02,\n",
       "        7.38905610e+00],\n",
       "       [4.03428793e+02, 5.45981500e+01, 8.10308393e+03, 9.11881966e-04,\n",
       "        1.09663316e+03],\n",
       "       [1.23409804e-04, 2.71828183e+00, 6.73794700e-03, 2.47875218e-03,\n",
       "        2.00855369e+01]])"
      ]
     },
     "execution_count": 19,
     "metadata": {},
     "output_type": "execute_result"
    }
   ],
   "source": [
    "np.exp(array_1)"
   ]
  },
  {
   "cell_type": "code",
   "execution_count": 20,
   "id": "8d227a5a",
   "metadata": {},
   "outputs": [
    {
     "name": "stderr",
     "output_type": "stream",
     "text": [
      "C:\\Users\\joaoi\\AppData\\Local\\Temp\\ipykernel_14636\\3647096076.py:1: RuntimeWarning: invalid value encountered in log\n",
      "  np.log(array_1)\n"
     ]
    },
    {
     "data": {
      "text/plain": [
       "array([[1.79175947,        nan,        nan,        nan,        nan],\n",
       "       [1.79175947,        nan,        nan,        nan, 0.69314718],\n",
       "       [1.79175947, 1.38629436, 2.19722458,        nan, 1.94591015],\n",
       "       [       nan, 0.        ,        nan,        nan, 1.09861229]])"
      ]
     },
     "execution_count": 20,
     "metadata": {},
     "output_type": "execute_result"
    }
   ],
   "source": [
    "np.log(array_1)"
   ]
  },
  {
   "cell_type": "markdown",
   "id": "d1be6f62",
   "metadata": {},
   "source": [
    "### np.reciprocal"
   ]
  },
  {
   "cell_type": "code",
   "execution_count": 21,
   "id": "80b4e63d",
   "metadata": {},
   "outputs": [
    {
     "data": {
      "text/plain": [
       "array([[ 0.16666667, -0.2       , -0.125     , -0.2       , -0.5       ],\n",
       "       [ 0.16666667, -1.        , -0.11111111, -0.25      ,  0.5       ],\n",
       "       [ 0.16666667,  0.25      ,  0.11111111, -0.14285714,  0.14285714],\n",
       "       [-0.11111111,  1.        , -0.2       , -0.16666667,  0.33333333]])"
      ]
     },
     "execution_count": 21,
     "metadata": {},
     "output_type": "execute_result"
    }
   ],
   "source": [
    "np.reciprocal(array_1.astype(float))"
   ]
  },
  {
   "cell_type": "markdown",
   "id": "c00d3934",
   "metadata": {},
   "source": [
    "### np.sqrt e np.cbrt"
   ]
  },
  {
   "cell_type": "code",
   "execution_count": 22,
   "id": "9eeefcba",
   "metadata": {},
   "outputs": [
    {
     "name": "stderr",
     "output_type": "stream",
     "text": [
      "C:\\Users\\joaoi\\AppData\\Local\\Temp\\ipykernel_14636\\3607161969.py:1: RuntimeWarning: invalid value encountered in sqrt\n",
      "  np.sqrt(array_1)\n"
     ]
    },
    {
     "data": {
      "text/plain": [
       "array([[2.44948974,        nan,        nan,        nan,        nan],\n",
       "       [2.44948974,        nan,        nan,        nan, 1.41421356],\n",
       "       [2.44948974, 2.        , 3.        ,        nan, 2.64575131],\n",
       "       [       nan, 1.        ,        nan,        nan, 1.73205081]])"
      ]
     },
     "execution_count": 22,
     "metadata": {},
     "output_type": "execute_result"
    }
   ],
   "source": [
    "np.sqrt(array_1)"
   ]
  },
  {
   "cell_type": "code",
   "execution_count": 23,
   "id": "cdf8283e",
   "metadata": {},
   "outputs": [
    {
     "data": {
      "text/plain": [
       "array([[ 1.81712059, -1.70997595, -2.        , -1.70997595, -1.25992105],\n",
       "       [ 1.81712059, -1.        , -2.08008382, -1.58740105,  1.25992105],\n",
       "       [ 1.81712059,  1.58740105,  2.08008382, -1.91293118,  1.91293118],\n",
       "       [-2.08008382,  1.        , -1.70997595, -1.81712059,  1.44224957]])"
      ]
     },
     "execution_count": 23,
     "metadata": {},
     "output_type": "execute_result"
    }
   ],
   "source": [
    "np.cbrt(array_1)"
   ]
  },
  {
   "cell_type": "markdown",
   "id": "e0344955",
   "metadata": {},
   "source": [
    "### np.gcd e np.lcm"
   ]
  },
  {
   "cell_type": "code",
   "execution_count": 24,
   "id": "414ade61",
   "metadata": {},
   "outputs": [
    {
     "data": {
      "text/plain": [
       "array([[2, 1, 1, 1, 2],\n",
       "       [2, 1, 3, 4, 2],\n",
       "       [6, 2, 1, 1, 7],\n",
       "       [3, 1, 1, 2, 1]])"
      ]
     },
     "execution_count": 24,
     "metadata": {},
     "output_type": "execute_result"
    }
   ],
   "source": [
    "np.gcd(array_1, array_2)"
   ]
  },
  {
   "cell_type": "code",
   "execution_count": 25,
   "id": "80be6a20",
   "metadata": {},
   "outputs": [
    {
     "data": {
      "text/plain": [
       "array([[12,  5, 40, 35,  4],\n",
       "       [ 6,  3,  9,  8,  2],\n",
       "       [ 6,  4, 72, 63,  7],\n",
       "       [ 9,  3, 15, 30, 21]])"
      ]
     },
     "execution_count": 25,
     "metadata": {},
     "output_type": "execute_result"
    }
   ],
   "source": [
    "np.lcm(array_1, array_2)"
   ]
  }
 ],
 "metadata": {
  "kernelspec": {
   "display_name": ".venv",
   "language": "python",
   "name": "python3"
  },
  "language_info": {
   "codemirror_mode": {
    "name": "ipython",
    "version": 3
   },
   "file_extension": ".py",
   "mimetype": "text/x-python",
   "name": "python",
   "nbconvert_exporter": "python",
   "pygments_lexer": "ipython3",
   "version": "3.12.11"
  }
 },
 "nbformat": 4,
 "nbformat_minor": 5
}
