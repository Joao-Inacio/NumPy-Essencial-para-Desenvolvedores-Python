{
 "cells": [
  {
   "cell_type": "markdown",
   "id": "a216f986",
   "metadata": {},
   "source": [
    "# **Funções universais**"
   ]
  },
  {
   "cell_type": "code",
   "execution_count": 1,
   "id": "2f030215",
   "metadata": {},
   "outputs": [],
   "source": [
    "import numpy as np"
   ]
  },
  {
   "cell_type": "code",
   "execution_count": 2,
   "id": "13b2987c",
   "metadata": {},
   "outputs": [],
   "source": [
    "rng = np.random.default_rng(seed=2)"
   ]
  },
  {
   "cell_type": "code",
   "execution_count": 3,
   "id": "90a5ac5f",
   "metadata": {},
   "outputs": [
    {
     "data": {
      "text/plain": [
       "array([[ 6, -5, -8, -5, -2],\n",
       "       [ 6, -1, -9, -4,  2],\n",
       "       [ 6,  4,  9, -7,  7],\n",
       "       [-9,  1, -5, -6,  3]])"
      ]
     },
     "execution_count": 3,
     "metadata": {},
     "output_type": "execute_result"
    }
   ],
   "source": [
    "array_1 = rng.integers(low=-10, high=10, size=20).reshape(4, 5)\n",
    "array_1"
   ]
  },
  {
   "cell_type": "code",
   "execution_count": 4,
   "id": "2d60cf75",
   "metadata": {},
   "outputs": [
    {
     "data": {
      "text/plain": [
       "array([[ -4,   1,  -5,  -7,   4],\n",
       "       [ -2,   3,   3,   8,  -2],\n",
       "       [ -6,   2,   8,   9,   7],\n",
       "       [  3,  -3,  -3, -10,  -7]])"
      ]
     },
     "execution_count": 4,
     "metadata": {},
     "output_type": "execute_result"
    }
   ],
   "source": [
    "array_2 = rng.integers(low=-10, high=10, size=20).reshape(4, 5)\n",
    "array_2"
   ]
  },
  {
   "cell_type": "markdown",
   "id": "22e44e31",
   "metadata": {},
   "source": [
    "## Funções matemáticas"
   ]
  },
  {
   "cell_type": "markdown",
   "id": "e55d3be8",
   "metadata": {},
   "source": [
    "### np.add, np.subtract, np.multiply e np.divide"
   ]
  },
  {
   "cell_type": "code",
   "execution_count": 5,
   "id": "c0ab09a1",
   "metadata": {},
   "outputs": [
    {
     "data": {
      "text/plain": [
       "array([[  2,  -4, -13, -12,   2],\n",
       "       [  4,   2,  -6,   4,   0],\n",
       "       [  0,   6,  17,   2,  14],\n",
       "       [ -6,  -2,  -8, -16,  -4]])"
      ]
     },
     "execution_count": 5,
     "metadata": {},
     "output_type": "execute_result"
    }
   ],
   "source": [
    "np.add(array_1, array_2)"
   ]
  },
  {
   "cell_type": "code",
   "execution_count": 6,
   "id": "6aea0c4e",
   "metadata": {},
   "outputs": [
    {
     "data": {
      "text/plain": [
       "array([[ 10,  -6,  -3,   2,  -6],\n",
       "       [  8,  -4, -12, -12,   4],\n",
       "       [ 12,   2,   1, -16,   0],\n",
       "       [-12,   4,  -2,   4,  10]])"
      ]
     },
     "execution_count": 6,
     "metadata": {},
     "output_type": "execute_result"
    }
   ],
   "source": [
    "np.subtract(array_1, array_2)"
   ]
  },
  {
   "cell_type": "code",
   "execution_count": 7,
   "id": "af217809",
   "metadata": {},
   "outputs": [
    {
     "data": {
      "text/plain": [
       "array([[-24,  -5,  40,  35,  -8],\n",
       "       [-12,  -3, -27, -32,  -4],\n",
       "       [-36,   8,  72, -63,  49],\n",
       "       [-27,  -3,  15,  60, -21]])"
      ]
     },
     "execution_count": 7,
     "metadata": {},
     "output_type": "execute_result"
    }
   ],
   "source": [
    "np.multiply(array_1, array_2)"
   ]
  },
  {
   "cell_type": "code",
   "execution_count": 8,
   "id": "f6acb5e3",
   "metadata": {},
   "outputs": [
    {
     "data": {
      "text/plain": [
       "array([[-1.5       , -5.        ,  1.6       ,  0.71428571, -0.5       ],\n",
       "       [-3.        , -0.33333333, -3.        , -0.5       , -1.        ],\n",
       "       [-1.        ,  2.        ,  1.125     , -0.77777778,  1.        ],\n",
       "       [-3.        , -0.33333333,  1.66666667,  0.6       , -0.42857143]])"
      ]
     },
     "execution_count": 8,
     "metadata": {},
     "output_type": "execute_result"
    }
   ],
   "source": [
    "np.divide(array_1, array_2)"
   ]
  },
  {
   "cell_type": "code",
   "execution_count": 9,
   "id": "27925298",
   "metadata": {},
   "outputs": [
    {
     "data": {
      "text/plain": [
       "array([[106,  95,  92,  95,  98],\n",
       "       [106,  99,  91,  96, 102],\n",
       "       [106, 104, 109,  93, 107],\n",
       "       [ 91, 101,  95,  94, 103]])"
      ]
     },
     "execution_count": 9,
     "metadata": {},
     "output_type": "execute_result"
    }
   ],
   "source": [
    "np.add(array_1, 100)"
   ]
  },
  {
   "cell_type": "markdown",
   "id": "71012fca",
   "metadata": {},
   "source": [
    "### np.mod"
   ]
  },
  {
   "cell_type": "code",
   "execution_count": 10,
   "id": "39a96c7e",
   "metadata": {},
   "outputs": [
    {
     "data": {
      "text/plain": [
       "array([[0, 1, 0, 1, 0],\n",
       "       [0, 1, 1, 0, 0],\n",
       "       [0, 0, 1, 1, 1],\n",
       "       [1, 1, 1, 0, 1]])"
      ]
     },
     "execution_count": 10,
     "metadata": {},
     "output_type": "execute_result"
    }
   ],
   "source": [
    "np.mod(array_1, 2)"
   ]
  },
  {
   "cell_type": "markdown",
   "id": "ff253baf",
   "metadata": {},
   "source": [
    "### np.divmod"
   ]
  },
  {
   "cell_type": "code",
   "execution_count": 11,
   "id": "5be91b0b",
   "metadata": {},
   "outputs": [
    {
     "data": {
      "text/plain": [
       "(array([[ 3, -3, -4, -3, -1],\n",
       "        [ 3, -1, -5, -2,  1],\n",
       "        [ 3,  2,  4, -4,  3],\n",
       "        [-5,  0, -3, -3,  1]]),\n",
       " array([[0, 1, 0, 1, 0],\n",
       "        [0, 1, 1, 0, 0],\n",
       "        [0, 0, 1, 1, 1],\n",
       "        [1, 1, 1, 0, 1]]))"
      ]
     },
     "execution_count": 11,
     "metadata": {},
     "output_type": "execute_result"
    }
   ],
   "source": [
    "np.divmod(array_1, 2)"
   ]
  },
  {
   "cell_type": "markdown",
   "id": "7db36714",
   "metadata": {},
   "source": [
    "### np.absolute"
   ]
  },
  {
   "cell_type": "code",
   "execution_count": 12,
   "id": "8c1ebdff",
   "metadata": {},
   "outputs": [
    {
     "data": {
      "text/plain": [
       "array([[6, 5, 8, 5, 2],\n",
       "       [6, 1, 9, 4, 2],\n",
       "       [6, 4, 9, 7, 7],\n",
       "       [9, 1, 5, 6, 3]])"
      ]
     },
     "execution_count": 12,
     "metadata": {},
     "output_type": "execute_result"
    }
   ],
   "source": [
    "np.absolute(array_1)"
   ]
  },
  {
   "cell_type": "markdown",
   "id": "9426388d",
   "metadata": {},
   "source": [
    "### np.diff"
   ]
  },
  {
   "cell_type": "code",
   "execution_count": 13,
   "id": "3d6846ea",
   "metadata": {},
   "outputs": [
    {
     "data": {
      "text/plain": [
       "array([[-11,  -3,   3,   3],\n",
       "       [ -7,  -8,   5,   6],\n",
       "       [ -2,   5, -16,  14],\n",
       "       [ 10,  -6,  -1,   9]])"
      ]
     },
     "execution_count": 13,
     "metadata": {},
     "output_type": "execute_result"
    }
   ],
   "source": [
    "np.diff(array_1)"
   ]
  },
  {
   "cell_type": "code",
   "execution_count": 14,
   "id": "63c513ac",
   "metadata": {},
   "outputs": [
    {
     "data": {
      "text/plain": [
       "array([[  0,   4,  -1,   1,   4],\n",
       "       [  0,   5,  18,  -3,   5],\n",
       "       [-15,  -3, -14,   1,  -4]])"
      ]
     },
     "execution_count": 14,
     "metadata": {},
     "output_type": "execute_result"
    }
   ],
   "source": [
    "np.diff(array_1, axis=0)"
   ]
  },
  {
   "cell_type": "code",
   "execution_count": 15,
   "id": "495765f3",
   "metadata": {},
   "outputs": [
    {
     "data": {
      "text/plain": [
       "array([[  8,   6,   0],\n",
       "       [ -1,  13,   1],\n",
       "       [  7, -21,  30],\n",
       "       [-16,   5,  10]])"
      ]
     },
     "execution_count": 15,
     "metadata": {},
     "output_type": "execute_result"
    }
   ],
   "source": [
    "np.diff(a=array_1, n=2)"
   ]
  },
  {
   "cell_type": "markdown",
   "id": "a04f9ee1",
   "metadata": {},
   "source": [
    "### np.power, np.exp e np.log"
   ]
  },
  {
   "cell_type": "code",
   "execution_count": 16,
   "id": "04f48f73",
   "metadata": {},
   "outputs": [
    {
     "data": {
      "text/plain": [
       "array([[36, 25, 64, 25,  4],\n",
       "       [36,  1, 81, 16,  4],\n",
       "       [36, 16, 81, 49, 49],\n",
       "       [81,  1, 25, 36,  9]])"
      ]
     },
     "execution_count": 16,
     "metadata": {},
     "output_type": "execute_result"
    }
   ],
   "source": [
    "np.power(array_1, 2)"
   ]
  },
  {
   "cell_type": "code",
   "execution_count": 17,
   "id": "f5411552",
   "metadata": {},
   "outputs": [
    {
     "data": {
      "text/plain": [
       "array([[  36,   25,   64,   25,    4],\n",
       "       [  36,    1,   81,   16,    4],\n",
       "       [ 216,   64,  729, -343,  343],\n",
       "       [-729,    1, -125, -216,   27]])"
      ]
     },
     "execution_count": 17,
     "metadata": {},
     "output_type": "execute_result"
    }
   ],
   "source": [
    "np.power(array_1, [[2], [2], [3], [3]])"
   ]
  },
  {
   "cell_type": "code",
   "execution_count": 18,
   "id": "d5543473",
   "metadata": {},
   "outputs": [
    {
     "data": {
      "text/plain": [
       "array([[  36,   25, -512, -125,   -8],\n",
       "       [  36,    1, -729,  -64,    8],\n",
       "       [  36,   16,  729, -343,  343],\n",
       "       [  81,    1, -125, -216,   27]])"
      ]
     },
     "execution_count": 18,
     "metadata": {},
     "output_type": "execute_result"
    }
   ],
   "source": [
    "np.power(array_1, [[2, 2, 3, 3, 3]])"
   ]
  },
  {
   "cell_type": "code",
   "execution_count": 19,
   "id": "a20bcd18",
   "metadata": {},
   "outputs": [
    {
     "data": {
      "text/plain": [
       "array([[4.03428793e+02, 6.73794700e-03, 3.35462628e-04, 6.73794700e-03,\n",
       "        1.35335283e-01],\n",
       "       [4.03428793e+02, 3.67879441e-01, 1.23409804e-04, 1.83156389e-02,\n",
       "        7.38905610e+00],\n",
       "       [4.03428793e+02, 5.45981500e+01, 8.10308393e+03, 9.11881966e-04,\n",
       "        1.09663316e+03],\n",
       "       [1.23409804e-04, 2.71828183e+00, 6.73794700e-03, 2.47875218e-03,\n",
       "        2.00855369e+01]])"
      ]
     },
     "execution_count": 19,
     "metadata": {},
     "output_type": "execute_result"
    }
   ],
   "source": [
    "np.exp(array_1)"
   ]
  },
  {
   "cell_type": "code",
   "execution_count": 20,
   "id": "8d227a5a",
   "metadata": {},
   "outputs": [
    {
     "name": "stderr",
     "output_type": "stream",
     "text": [
      "C:\\Users\\joaoi\\AppData\\Local\\Temp\\ipykernel_316\\3647096076.py:1: RuntimeWarning: invalid value encountered in log\n",
      "  np.log(array_1)\n"
     ]
    },
    {
     "data": {
      "text/plain": [
       "array([[1.79175947,        nan,        nan,        nan,        nan],\n",
       "       [1.79175947,        nan,        nan,        nan, 0.69314718],\n",
       "       [1.79175947, 1.38629436, 2.19722458,        nan, 1.94591015],\n",
       "       [       nan, 0.        ,        nan,        nan, 1.09861229]])"
      ]
     },
     "execution_count": 20,
     "metadata": {},
     "output_type": "execute_result"
    }
   ],
   "source": [
    "np.log(array_1)"
   ]
  },
  {
   "cell_type": "markdown",
   "id": "d1be6f62",
   "metadata": {},
   "source": [
    "### np.reciprocal"
   ]
  },
  {
   "cell_type": "code",
   "execution_count": 21,
   "id": "80b4e63d",
   "metadata": {},
   "outputs": [
    {
     "data": {
      "text/plain": [
       "array([[ 0.16666667, -0.2       , -0.125     , -0.2       , -0.5       ],\n",
       "       [ 0.16666667, -1.        , -0.11111111, -0.25      ,  0.5       ],\n",
       "       [ 0.16666667,  0.25      ,  0.11111111, -0.14285714,  0.14285714],\n",
       "       [-0.11111111,  1.        , -0.2       , -0.16666667,  0.33333333]])"
      ]
     },
     "execution_count": 21,
     "metadata": {},
     "output_type": "execute_result"
    }
   ],
   "source": [
    "np.reciprocal(array_1.astype(float))"
   ]
  },
  {
   "cell_type": "markdown",
   "id": "c00d3934",
   "metadata": {},
   "source": [
    "### np.sqrt e np.cbrt"
   ]
  },
  {
   "cell_type": "code",
   "execution_count": 22,
   "id": "9eeefcba",
   "metadata": {},
   "outputs": [
    {
     "name": "stderr",
     "output_type": "stream",
     "text": [
      "C:\\Users\\joaoi\\AppData\\Local\\Temp\\ipykernel_316\\3607161969.py:1: RuntimeWarning: invalid value encountered in sqrt\n",
      "  np.sqrt(array_1)\n"
     ]
    },
    {
     "data": {
      "text/plain": [
       "array([[2.44948974,        nan,        nan,        nan,        nan],\n",
       "       [2.44948974,        nan,        nan,        nan, 1.41421356],\n",
       "       [2.44948974, 2.        , 3.        ,        nan, 2.64575131],\n",
       "       [       nan, 1.        ,        nan,        nan, 1.73205081]])"
      ]
     },
     "execution_count": 22,
     "metadata": {},
     "output_type": "execute_result"
    }
   ],
   "source": [
    "np.sqrt(array_1)"
   ]
  },
  {
   "cell_type": "code",
   "execution_count": 23,
   "id": "cdf8283e",
   "metadata": {},
   "outputs": [
    {
     "data": {
      "text/plain": [
       "array([[ 1.81712059, -1.70997595, -2.        , -1.70997595, -1.25992105],\n",
       "       [ 1.81712059, -1.        , -2.08008382, -1.58740105,  1.25992105],\n",
       "       [ 1.81712059,  1.58740105,  2.08008382, -1.91293118,  1.91293118],\n",
       "       [-2.08008382,  1.        , -1.70997595, -1.81712059,  1.44224957]])"
      ]
     },
     "execution_count": 23,
     "metadata": {},
     "output_type": "execute_result"
    }
   ],
   "source": [
    "np.cbrt(array_1)"
   ]
  },
  {
   "cell_type": "markdown",
   "id": "e0344955",
   "metadata": {},
   "source": [
    "### np.gcd e np.lcm"
   ]
  },
  {
   "cell_type": "code",
   "execution_count": 24,
   "id": "414ade61",
   "metadata": {},
   "outputs": [
    {
     "data": {
      "text/plain": [
       "array([[2, 1, 1, 1, 2],\n",
       "       [2, 1, 3, 4, 2],\n",
       "       [6, 2, 1, 1, 7],\n",
       "       [3, 1, 1, 2, 1]])"
      ]
     },
     "execution_count": 24,
     "metadata": {},
     "output_type": "execute_result"
    }
   ],
   "source": [
    "np.gcd(array_1, array_2)"
   ]
  },
  {
   "cell_type": "code",
   "execution_count": 25,
   "id": "80be6a20",
   "metadata": {},
   "outputs": [
    {
     "data": {
      "text/plain": [
       "array([[12,  5, 40, 35,  4],\n",
       "       [ 6,  3,  9,  8,  2],\n",
       "       [ 6,  4, 72, 63,  7],\n",
       "       [ 9,  3, 15, 30, 21]])"
      ]
     },
     "execution_count": 25,
     "metadata": {},
     "output_type": "execute_result"
    }
   ],
   "source": [
    "np.lcm(array_1, array_2)"
   ]
  },
  {
   "cell_type": "markdown",
   "id": "f3c8cbac",
   "metadata": {},
   "source": [
    "### Funções trigonométricas\n",
    "\n",
    "Retornam as devidas operações trigonométricas nos valores do array. Os valores são interpretados como radianos:\n",
    "\n",
    "- `np.sin`: seno\n",
    "- `np.cos`: cosseno\n",
    "- `np.tan`: tangente\n",
    "- `np.hypot`: hipotenusa\n",
    "- `np.arc*`: arco seno, cosseno ou tangente, ex: `np.arcsin`\n",
    "- `np.*h`: seno, cosseno ou tangente hiperbólica, ex: `np.sinh`\n",
    "- `np.arc*h`: arco seno, cosseno ou tangente hiperbólica, ex: `np.arcsinh`\n",
    "- `np.degrees`, `np.rad2deg`: converte ângulos expressos em radianos para graus\n",
    "- `np.radians`, `np.deg2rad`: converte ângulos expressos em graus para radianos"
   ]
  },
  {
   "cell_type": "code",
   "execution_count": 26,
   "id": "ec5f72fa",
   "metadata": {},
   "outputs": [
    {
     "data": {
      "text/plain": [
       "np.float64(3.141592653589793)"
      ]
     },
     "execution_count": 26,
     "metadata": {},
     "output_type": "execute_result"
    }
   ],
   "source": [
    "pi = np.radians(180)\n",
    "pi"
   ]
  },
  {
   "cell_type": "code",
   "execution_count": 27,
   "id": "4438f065",
   "metadata": {},
   "outputs": [
    {
     "data": {
      "text/plain": [
       "np.float64(1.2246467991473532e-16)"
      ]
     },
     "execution_count": 27,
     "metadata": {},
     "output_type": "execute_result"
    }
   ],
   "source": [
    "np.sin(pi)"
   ]
  },
  {
   "cell_type": "code",
   "execution_count": 28,
   "id": "1a4021d4",
   "metadata": {},
   "outputs": [
    {
     "data": {
      "text/plain": [
       "np.float64(-1.0)"
      ]
     },
     "execution_count": 28,
     "metadata": {},
     "output_type": "execute_result"
    }
   ],
   "source": [
    "np.cos(pi)"
   ]
  },
  {
   "cell_type": "code",
   "execution_count": 29,
   "id": "731f7fb5",
   "metadata": {},
   "outputs": [
    {
     "data": {
      "text/plain": [
       "np.float64(0.9962720762207499)"
      ]
     },
     "execution_count": 29,
     "metadata": {},
     "output_type": "execute_result"
    }
   ],
   "source": [
    "np.tanh(pi)"
   ]
  },
  {
   "cell_type": "code",
   "execution_count": 30,
   "id": "96b7b086",
   "metadata": {},
   "outputs": [
    {
     "data": {
      "text/plain": [
       "np.float64(0.7853981633974483)"
      ]
     },
     "execution_count": 30,
     "metadata": {},
     "output_type": "execute_result"
    }
   ],
   "source": [
    "np.arctan(1)"
   ]
  },
  {
   "cell_type": "markdown",
   "id": "fe30c5d2",
   "metadata": {},
   "source": [
    "## Funções de comparação"
   ]
  },
  {
   "cell_type": "markdown",
   "id": "483e9c4e",
   "metadata": {},
   "source": [
    "### np.maximum e np.minimum"
   ]
  },
  {
   "cell_type": "code",
   "execution_count": 31,
   "id": "80ee9565",
   "metadata": {},
   "outputs": [
    {
     "data": {
      "text/plain": [
       "(array([[ 6, -5, -8, -5, -2],\n",
       "        [ 6, -1, -9, -4,  2],\n",
       "        [ 6,  4,  9, -7,  7],\n",
       "        [-9,  1, -5, -6,  3]]),\n",
       " array([[ -4,   1,  -5,  -7,   4],\n",
       "        [ -2,   3,   3,   8,  -2],\n",
       "        [ -6,   2,   8,   9,   7],\n",
       "        [  3,  -3,  -3, -10,  -7]]))"
      ]
     },
     "execution_count": 31,
     "metadata": {},
     "output_type": "execute_result"
    }
   ],
   "source": [
    "array_1, array_2"
   ]
  },
  {
   "cell_type": "code",
   "execution_count": 32,
   "id": "6b710325",
   "metadata": {},
   "outputs": [
    {
     "data": {
      "text/plain": [
       "array([[ 6,  1, -5, -5,  4],\n",
       "       [ 6,  3,  3,  8,  2],\n",
       "       [ 6,  4,  9,  9,  7],\n",
       "       [ 3,  1, -3, -6,  3]])"
      ]
     },
     "execution_count": 32,
     "metadata": {},
     "output_type": "execute_result"
    }
   ],
   "source": [
    "np.maximum(array_1, array_2)"
   ]
  },
  {
   "cell_type": "code",
   "execution_count": 33,
   "id": "1f815763",
   "metadata": {},
   "outputs": [
    {
     "data": {
      "text/plain": [
       "array([[ -4,  -5,  -8,  -7,  -2],\n",
       "       [ -2,  -1,  -9,  -4,  -2],\n",
       "       [ -6,   2,   8,  -7,   7],\n",
       "       [ -9,  -3,  -5, -10,  -7]])"
      ]
     },
     "execution_count": 33,
     "metadata": {},
     "output_type": "execute_result"
    }
   ],
   "source": [
    "np.minimum(array_1, array_2)"
   ]
  },
  {
   "cell_type": "markdown",
   "id": "fb5c12c0",
   "metadata": {},
   "source": [
    "### np.greater, np.greater_equal, np.less, np.less_equal, np.not_equal e np.equal"
   ]
  },
  {
   "cell_type": "code",
   "execution_count": 34,
   "id": "777e2911",
   "metadata": {},
   "outputs": [
    {
     "data": {
      "text/plain": [
       "array([[ True, False, False,  True, False],\n",
       "       [ True, False, False, False,  True],\n",
       "       [ True,  True,  True, False, False],\n",
       "       [False,  True, False,  True,  True]])"
      ]
     },
     "execution_count": 34,
     "metadata": {},
     "output_type": "execute_result"
    }
   ],
   "source": [
    "np.greater(array_1, array_2)"
   ]
  },
  {
   "cell_type": "code",
   "execution_count": 35,
   "id": "be1da03b",
   "metadata": {},
   "outputs": [
    {
     "data": {
      "text/plain": [
       "array([[ True, False, False,  True, False],\n",
       "       [ True, False, False, False,  True],\n",
       "       [ True,  True,  True, False,  True],\n",
       "       [False,  True, False,  True,  True]])"
      ]
     },
     "execution_count": 35,
     "metadata": {},
     "output_type": "execute_result"
    }
   ],
   "source": [
    "np.greater_equal(array_1, array_2)"
   ]
  },
  {
   "cell_type": "code",
   "execution_count": 36,
   "id": "efb15a01",
   "metadata": {},
   "outputs": [
    {
     "data": {
      "text/plain": [
       "array([[False,  True,  True, False,  True],\n",
       "       [False,  True,  True,  True, False],\n",
       "       [False, False, False,  True, False],\n",
       "       [ True, False,  True, False, False]])"
      ]
     },
     "execution_count": 36,
     "metadata": {},
     "output_type": "execute_result"
    }
   ],
   "source": [
    "np.less(array_1, array_2)"
   ]
  },
  {
   "cell_type": "code",
   "execution_count": 37,
   "id": "42df7355",
   "metadata": {},
   "outputs": [
    {
     "data": {
      "text/plain": [
       "array([[False, False, False, False, False],\n",
       "       [False, False, False, False, False],\n",
       "       [False, False, False, False,  True],\n",
       "       [False, False, False, False, False]])"
      ]
     },
     "execution_count": 37,
     "metadata": {},
     "output_type": "execute_result"
    }
   ],
   "source": [
    "np.equal(array_1, array_2)"
   ]
  },
  {
   "cell_type": "markdown",
   "id": "16bcba3a",
   "metadata": {},
   "source": [
    "### logical_and, logical_or, logical_xor r logical_not"
   ]
  },
  {
   "cell_type": "code",
   "execution_count": 38,
   "id": "a1655b7d",
   "metadata": {},
   "outputs": [
    {
     "data": {
      "text/plain": [
       "array([[ True, False, False, False, False],\n",
       "       [ True, False, False, False,  True],\n",
       "       [ True,  True,  True, False,  True],\n",
       "       [False,  True, False, False,  True]])"
      ]
     },
     "execution_count": 38,
     "metadata": {},
     "output_type": "execute_result"
    }
   ],
   "source": [
    "comparison_1 = array_1 > 0\n",
    "comparison_1"
   ]
  },
  {
   "cell_type": "code",
   "execution_count": 39,
   "id": "c8651d71",
   "metadata": {},
   "outputs": [
    {
     "data": {
      "text/plain": [
       "array([[ True, False,  True, False,  True],\n",
       "       [ True, False, False,  True,  True],\n",
       "       [ True,  True, False, False, False],\n",
       "       [False, False, False,  True, False]])"
      ]
     },
     "execution_count": 39,
     "metadata": {},
     "output_type": "execute_result"
    }
   ],
   "source": [
    "comparison_2 = np.mod(array_1, 2) == 0\n",
    "comparison_2"
   ]
  },
  {
   "cell_type": "code",
   "execution_count": 40,
   "id": "caddca38",
   "metadata": {},
   "outputs": [
    {
     "data": {
      "text/plain": [
       "array([[ True, False, False, False, False],\n",
       "       [ True, False, False, False,  True],\n",
       "       [ True,  True, False, False, False],\n",
       "       [False, False, False, False, False]])"
      ]
     },
     "execution_count": 40,
     "metadata": {},
     "output_type": "execute_result"
    }
   ],
   "source": [
    "np.logical_and(comparison_1, comparison_2)"
   ]
  },
  {
   "cell_type": "code",
   "execution_count": 41,
   "id": "4ae36419",
   "metadata": {},
   "outputs": [
    {
     "data": {
      "text/plain": [
       "array([[ True, False,  True, False,  True],\n",
       "       [ True, False, False,  True,  True],\n",
       "       [ True,  True,  True, False,  True],\n",
       "       [False,  True, False,  True,  True]])"
      ]
     },
     "execution_count": 41,
     "metadata": {},
     "output_type": "execute_result"
    }
   ],
   "source": [
    "np.logical_or(comparison_1, comparison_2)"
   ]
  },
  {
   "cell_type": "code",
   "execution_count": 42,
   "id": "7c99190c",
   "metadata": {},
   "outputs": [
    {
     "data": {
      "text/plain": [
       "array([[False,  True,  True,  True,  True],\n",
       "       [False,  True,  True,  True, False],\n",
       "       [False, False, False,  True, False],\n",
       "       [ True, False,  True,  True, False]])"
      ]
     },
     "execution_count": 42,
     "metadata": {},
     "output_type": "execute_result"
    }
   ],
   "source": [
    "np.logical_not(comparison_1, comparison_2)"
   ]
  },
  {
   "cell_type": "markdown",
   "id": "1045817e",
   "metadata": {},
   "source": [
    "### np.isclose e np.allclose"
   ]
  },
  {
   "cell_type": "code",
   "execution_count": 43,
   "id": "d5333396",
   "metadata": {},
   "outputs": [],
   "source": [
    "array_1 = np.array([-1.1558, 0.8994, 3.2894])\n",
    "array_2 = np.array([-1.1557, 0.8993, 3.2895])"
   ]
  },
  {
   "cell_type": "code",
   "execution_count": 44,
   "id": "04a5164a",
   "metadata": {},
   "outputs": [
    {
     "data": {
      "text/plain": [
       "array([ True,  True,  True])"
      ]
     },
     "execution_count": 44,
     "metadata": {},
     "output_type": "execute_result"
    }
   ],
   "source": [
    "np.isclose(a=array_1, b=array_2, atol=0.0001)"
   ]
  },
  {
   "cell_type": "code",
   "execution_count": 45,
   "id": "b54187ad",
   "metadata": {},
   "outputs": [
    {
     "data": {
      "text/plain": [
       "True"
      ]
     },
     "execution_count": 45,
     "metadata": {},
     "output_type": "execute_result"
    }
   ],
   "source": [
    "np.allclose(array_1, array_2, atol=0.0001)"
   ]
  },
  {
   "cell_type": "code",
   "execution_count": 46,
   "id": "83c9fb7f",
   "metadata": {},
   "outputs": [
    {
     "data": {
      "text/plain": [
       "np.True_"
      ]
     },
     "execution_count": 46,
     "metadata": {},
     "output_type": "execute_result"
    }
   ],
   "source": [
    "np.isclose(a=array_1, b=array_2, atol=0.0001).all()"
   ]
  },
  {
   "cell_type": "code",
   "execution_count": 47,
   "id": "357c6583",
   "metadata": {},
   "outputs": [
    {
     "data": {
      "text/plain": [
       "array([False, False, False])"
      ]
     },
     "execution_count": 47,
     "metadata": {},
     "output_type": "execute_result"
    }
   ],
   "source": [
    "np.isclose(a=array_1, b=array_2, atol=0.00001)"
   ]
  },
  {
   "cell_type": "code",
   "execution_count": 48,
   "id": "c86b535a",
   "metadata": {},
   "outputs": [
    {
     "data": {
      "text/plain": [
       "False"
      ]
     },
     "execution_count": 48,
     "metadata": {},
     "output_type": "execute_result"
    }
   ],
   "source": [
    "np.allclose(array_1, array_2, atol=0.00001)"
   ]
  },
  {
   "cell_type": "markdown",
   "id": "eb06c37b",
   "metadata": {},
   "source": [
    "### np.array_equal"
   ]
  },
  {
   "cell_type": "code",
   "execution_count": 49,
   "id": "8594c90d",
   "metadata": {},
   "outputs": [],
   "source": [
    "array_1 = np.arange(20).reshape(4, 5)\n",
    "array_2 = np.arange(20).reshape(4, 5)"
   ]
  },
  {
   "cell_type": "code",
   "execution_count": 50,
   "id": "f96ff37d",
   "metadata": {},
   "outputs": [
    {
     "data": {
      "text/plain": [
       "(array([[ 0,  1,  2,  3,  4],\n",
       "        [ 5,  6,  7,  8,  9],\n",
       "        [10, 11, 12, 13, 14],\n",
       "        [15, 16, 17, 18, 19]]),\n",
       " array([[ 0,  1,  2,  3,  4],\n",
       "        [ 5,  6,  7,  8,  9],\n",
       "        [10, 11, 12, 13, 14],\n",
       "        [15, 16, 17, 18, 19]]))"
      ]
     },
     "execution_count": 50,
     "metadata": {},
     "output_type": "execute_result"
    }
   ],
   "source": [
    "array_1, array_2"
   ]
  },
  {
   "cell_type": "code",
   "execution_count": 51,
   "id": "6da0c8d0",
   "metadata": {},
   "outputs": [
    {
     "data": {
      "text/plain": [
       "True"
      ]
     },
     "execution_count": 51,
     "metadata": {},
     "output_type": "execute_result"
    }
   ],
   "source": [
    "np.array_equal(array_1, array_2)"
   ]
  },
  {
   "cell_type": "markdown",
   "id": "518129a8",
   "metadata": {},
   "source": [
    "## Funções float"
   ]
  },
  {
   "cell_type": "markdown",
   "id": "71c86c46",
   "metadata": {},
   "source": [
    "### np.isfinite, np.isinf, np.isneginf, e np.isnan"
   ]
  },
  {
   "cell_type": "code",
   "execution_count": 52,
   "id": "1f43a9cc",
   "metadata": {},
   "outputs": [
    {
     "name": "stderr",
     "output_type": "stream",
     "text": [
      "C:\\Users\\joaoi\\AppData\\Local\\Temp\\ipykernel_316\\2182280498.py:1: RuntimeWarning: divide by zero encountered in divide\n",
      "  inf = np.divide(1, 0)\n"
     ]
    }
   ],
   "source": [
    "inf = np.divide(1, 0)"
   ]
  },
  {
   "cell_type": "code",
   "execution_count": 53,
   "id": "36959dc7",
   "metadata": {},
   "outputs": [
    {
     "name": "stderr",
     "output_type": "stream",
     "text": [
      "C:\\Users\\joaoi\\AppData\\Local\\Temp\\ipykernel_316\\2388086987.py:1: RuntimeWarning: divide by zero encountered in divide\n",
      "  np.divide(1, 0)\n"
     ]
    },
    {
     "data": {
      "text/plain": [
       "np.float64(inf)"
      ]
     },
     "execution_count": 53,
     "metadata": {},
     "output_type": "execute_result"
    }
   ],
   "source": [
    "np.divide(1, 0)"
   ]
  },
  {
   "cell_type": "code",
   "execution_count": 54,
   "id": "a842c16b",
   "metadata": {},
   "outputs": [
    {
     "name": "stderr",
     "output_type": "stream",
     "text": [
      "C:\\Users\\joaoi\\AppData\\Local\\Temp\\ipykernel_316\\808858450.py:1: RuntimeWarning: divide by zero encountered in divide\n",
      "  np.isfinite(np.divide(1, 0))\n"
     ]
    },
    {
     "data": {
      "text/plain": [
       "np.False_"
      ]
     },
     "execution_count": 54,
     "metadata": {},
     "output_type": "execute_result"
    }
   ],
   "source": [
    "np.isfinite(np.divide(1, 0))"
   ]
  },
  {
   "cell_type": "code",
   "execution_count": 55,
   "id": "46c7dfe5",
   "metadata": {},
   "outputs": [
    {
     "data": {
      "text/plain": [
       "np.True_"
      ]
     },
     "execution_count": 55,
     "metadata": {},
     "output_type": "execute_result"
    }
   ],
   "source": [
    "np.isinf(inf)"
   ]
  },
  {
   "cell_type": "code",
   "execution_count": 56,
   "id": "9d202521",
   "metadata": {},
   "outputs": [
    {
     "name": "stderr",
     "output_type": "stream",
     "text": [
      "C:\\Users\\joaoi\\AppData\\Local\\Temp\\ipykernel_316\\1794806404.py:1: RuntimeWarning: divide by zero encountered in divide\n",
      "  np.divide(-1, 0)\n"
     ]
    },
    {
     "data": {
      "text/plain": [
       "np.float64(-inf)"
      ]
     },
     "execution_count": 56,
     "metadata": {},
     "output_type": "execute_result"
    }
   ],
   "source": [
    "np.divide(-1, 0)"
   ]
  },
  {
   "cell_type": "code",
   "execution_count": 57,
   "id": "eaf37b4d",
   "metadata": {},
   "outputs": [
    {
     "name": "stderr",
     "output_type": "stream",
     "text": [
      "C:\\Users\\joaoi\\AppData\\Local\\Temp\\ipykernel_316\\390228786.py:1: RuntimeWarning: divide by zero encountered in divide\n",
      "  np.isneginf(np.divide(-1, 0))\n"
     ]
    },
    {
     "data": {
      "text/plain": [
       "np.True_"
      ]
     },
     "execution_count": 57,
     "metadata": {},
     "output_type": "execute_result"
    }
   ],
   "source": [
    "np.isneginf(np.divide(-1, 0))"
   ]
  },
  {
   "cell_type": "code",
   "execution_count": 58,
   "id": "ce97e4dc",
   "metadata": {},
   "outputs": [
    {
     "name": "stderr",
     "output_type": "stream",
     "text": [
      "C:\\Users\\joaoi\\AppData\\Local\\Temp\\ipykernel_316\\153577755.py:1: RuntimeWarning: invalid value encountered in log\n",
      "  np.log(-1)\n"
     ]
    },
    {
     "data": {
      "text/plain": [
       "np.float64(nan)"
      ]
     },
     "execution_count": 58,
     "metadata": {},
     "output_type": "execute_result"
    }
   ],
   "source": [
    "np.log(-1)"
   ]
  },
  {
   "cell_type": "code",
   "execution_count": 59,
   "id": "1513d1c8",
   "metadata": {},
   "outputs": [
    {
     "name": "stderr",
     "output_type": "stream",
     "text": [
      "C:\\Users\\joaoi\\AppData\\Local\\Temp\\ipykernel_316\\916304143.py:1: RuntimeWarning: invalid value encountered in log\n",
      "  np.isnan(np.log(-1))\n"
     ]
    },
    {
     "data": {
      "text/plain": [
       "np.True_"
      ]
     },
     "execution_count": 59,
     "metadata": {},
     "output_type": "execute_result"
    }
   ],
   "source": [
    "np.isnan(np.log(-1))"
   ]
  },
  {
   "cell_type": "markdown",
   "id": "a630417e",
   "metadata": {},
   "source": [
    "### np.floor, np.ceil, np.trunc"
   ]
  },
  {
   "cell_type": "code",
   "execution_count": 60,
   "id": "26e7fc82",
   "metadata": {},
   "outputs": [
    {
     "data": {
      "text/plain": [
       "array([-4.,  2.,  0.,  7.])"
      ]
     },
     "execution_count": 60,
     "metadata": {},
     "output_type": "execute_result"
    }
   ],
   "source": [
    "np.floor([-3.6, 2.7, 0.4, 7.0])"
   ]
  },
  {
   "cell_type": "code",
   "execution_count": 61,
   "id": "72bf30ad",
   "metadata": {},
   "outputs": [
    {
     "data": {
      "text/plain": [
       "array([-3.,  3.,  1.,  7.])"
      ]
     },
     "execution_count": 61,
     "metadata": {},
     "output_type": "execute_result"
    }
   ],
   "source": [
    "np.ceil([-3.6, 2.7, 0.4, 7.0])"
   ]
  },
  {
   "cell_type": "code",
   "execution_count": 62,
   "id": "6490261b",
   "metadata": {},
   "outputs": [
    {
     "data": {
      "text/plain": [
       "array([-3.,  2.,  0.,  7.])"
      ]
     },
     "execution_count": 62,
     "metadata": {},
     "output_type": "execute_result"
    }
   ],
   "source": [
    "np.trunc([-3.6, 2.7, 0.4, 7.0])"
   ]
  }
 ],
 "metadata": {
  "kernelspec": {
   "display_name": ".venv",
   "language": "python",
   "name": "python3"
  },
  "language_info": {
   "codemirror_mode": {
    "name": "ipython",
    "version": 3
   },
   "file_extension": ".py",
   "mimetype": "text/x-python",
   "name": "python",
   "nbconvert_exporter": "python",
   "pygments_lexer": "ipython3",
   "version": "3.12.12"
  }
 },
 "nbformat": 4,
 "nbformat_minor": 5
}
