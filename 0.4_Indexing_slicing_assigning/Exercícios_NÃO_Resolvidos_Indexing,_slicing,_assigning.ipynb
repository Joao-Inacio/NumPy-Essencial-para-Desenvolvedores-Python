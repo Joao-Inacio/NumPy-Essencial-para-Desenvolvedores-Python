{
  "cells": [
    {
      "cell_type": "code",
      "execution_count": 1,
      "metadata": {
        "id": "sgYgpXPEmTmW"
      },
      "outputs": [],
      "source": [
        "import numpy as np"
      ]
    },
    {
      "cell_type": "code",
      "execution_count": 2,
      "metadata": {
        "colab": {
          "base_uri": "https://localhost:8080/",
          "height": 35
        },
        "id": "WToUoFxfmkqS",
        "outputId": "c6d8c796-db82-4c5a-aaac-072837e92c99"
      },
      "outputs": [
        {
          "data": {
            "text/plain": [
              "'2.3.2'"
            ]
          },
          "execution_count": 2,
          "metadata": {},
          "output_type": "execute_result"
        }
      ],
      "source": [
        "np.__version__"
      ]
    },
    {
      "cell_type": "markdown",
      "metadata": {
        "id": "RCspxELbx7AT"
      },
      "source": [
        "Neste módulo, vamos trabalhar com um array 3-D, que representa o desempenho de atletas de corrida.\n",
        "\n",
        "Na primeira dimensão (profundidade), vamos representar 3 dias de avaliação diferentes. Na segunda dimensão (linhas), cada um dos 5 atletas. Na terceira dimensão (colunas), cada uma das 4 voltas da pista de corrida. Os valores serão dados em segundos.\n",
        "\n",
        "Estes dados serão simulados com o código abaixo, mas não se preocupe em entendê-lo por enquanto, os detalhes destas funções serão apresentados nas próximas aulas."
      ]
    },
    {
      "cell_type": "code",
      "execution_count": 3,
      "metadata": {
        "id": "5l8ZK_5Vwnyt"
      },
      "outputs": [],
      "source": [
        "rng = np.random.default_rng(seed=1)"
      ]
    },
    {
      "cell_type": "code",
      "execution_count": 4,
      "metadata": {
        "id": "Lsr9gyhCw9P0"
      },
      "outputs": [],
      "source": [
        "array = rng.normal(loc=50, scale=3, size=60).reshape(3, 5, 4).round(3)"
      ]
    },
    {
      "cell_type": "code",
      "execution_count": 5,
      "metadata": {
        "colab": {
          "base_uri": "https://localhost:8080/"
        },
        "id": "jcAN-BeKTbY3",
        "outputId": "83174f78-2fbd-4c94-ec10-a6bb91befe61"
      },
      "outputs": [
        {
          "data": {
            "text/plain": [
              "array([[[51.037, 52.465, 50.991, 46.091],\n",
              "        [52.716, 51.339, 48.389, 51.743],\n",
              "        [51.094, 50.882, 50.085, 51.64 ],\n",
              "        [47.791, 49.511, 48.554, 51.797],\n",
              "        [50.119, 49.123, 47.654, 49.228]],\n",
              "\n",
              "       [[50.024, 49.173, 53.882, 53.02 ],\n",
              "        [41.867, 44.333, 49.476, 48.733],\n",
              "        [50.641, 50.652, 56.354, 46.664],\n",
              "        [48.867, 56.128, 51.94 , 51.989],\n",
              "        [48.458, 45.056, 50.502, 50.327]],\n",
              "\n",
              "       [[46.318, 47.95 , 49.784, 47.166],\n",
              "        [49.705, 50.286, 50.107, 48.481],\n",
              "        [51.781, 52.674, 50.963, 47.545],\n",
              "        [52.195, 48.496, 52.637, 46.785],\n",
              "        [52.743, 49.94 , 46.254, 49.058]]])"
            ]
          },
          "execution_count": 5,
          "metadata": {},
          "output_type": "execute_result"
        }
      ],
      "source": [
        "array"
      ]
    },
    {
      "cell_type": "code",
      "execution_count": 6,
      "metadata": {
        "colab": {
          "base_uri": "https://localhost:8080/"
        },
        "id": "I9R09UU_12NX",
        "outputId": "1b672a2e-9932-410e-843c-e2d850d44d7c"
      },
      "outputs": [
        {
          "data": {
            "text/plain": [
              "(3, 5, 4)"
            ]
          },
          "execution_count": 6,
          "metadata": {},
          "output_type": "execute_result"
        }
      ],
      "source": [
        "array.shape"
      ]
    },
    {
      "cell_type": "markdown",
      "metadata": {
        "id": "b-gCnp1i14PC"
      },
      "source": [
        "👆 Observe pelo `shape` que são 3 dias, 5 atletas e 4 voltas."
      ]
    },
    {
      "cell_type": "markdown",
      "metadata": {
        "id": "SlPrp9CJymmf"
      },
      "source": [
        "Dada a definição deste array apresentada acima, você pode entender a primeira linha:\n",
        "```\n",
        "[51.037, 52.465, 50.991, 46.091]\n",
        "```\n",
        "como o desempenho do primeiro atleta, no primeiro dia, nas 4 voltas da pista.\n",
        "\n",
        "A sétima linha:\n",
        "```\n",
        "[41.867, 44.333, 49.476, 48.733]\n",
        "```\n",
        "é o desempenho do segundo atleta no segundo dia, nas 4 voltas da pista."
      ]
    },
    {
      "cell_type": "markdown",
      "metadata": {
        "id": "jNlDbFlxO8kC"
      },
      "source": [
        "### Indexing"
      ]
    },
    {
      "cell_type": "markdown",
      "metadata": {
        "id": "CBWibvL0ztkV"
      },
      "source": [
        "Dado o array acima, utilize indexação para recuperar o desempenho do terceiro atleta no segundo dia.\n",
        "\n",
        "Lembre-se que, no Python, a indexação começa em 0!"
      ]
    },
    {
      "cell_type": "code",
      "execution_count": 7,
      "metadata": {
        "colab": {
          "base_uri": "https://localhost:8080/"
        },
        "id": "YkF_OXS0x3Sn",
        "outputId": "dc17fd41-e49f-4723-caa4-d7871792c6d6"
      },
      "outputs": [
        {
          "data": {
            "text/plain": [
              "array([50.641, 50.652, 56.354, 46.664])"
            ]
          },
          "execution_count": 7,
          "metadata": {},
          "output_type": "execute_result"
        }
      ],
      "source": [
        "array[1][2]"
      ]
    },
    {
      "cell_type": "markdown",
      "metadata": {
        "id": "Vlqnhes20DBy"
      },
      "source": [
        "Agora recupere o desempenho de todos os atletas na última volta do primeiro dia. Use indexação negativa para acessar a última volta."
      ]
    },
    {
      "cell_type": "code",
      "execution_count": 8,
      "metadata": {
        "colab": {
          "base_uri": "https://localhost:8080/"
        },
        "id": "fCSIhUlzz_Qo",
        "outputId": "f0af6b31-fd2e-4aae-cfc0-29ff5d642577"
      },
      "outputs": [
        {
          "data": {
            "text/plain": [
              "array([46.091, 51.743, 51.64 , 51.797, 49.228])"
            ]
          },
          "execution_count": 8,
          "metadata": {},
          "output_type": "execute_result"
        }
      ],
      "source": [
        "array[0, :, -1]"
      ]
    },
    {
      "cell_type": "markdown",
      "metadata": {
        "id": "mSyNY84Y0Qtw"
      },
      "source": [
        "Agora recupere o desempenho do segundo e do quarto atletas, no terceiro dia, na segunda volta."
      ]
    },
    {
      "cell_type": "code",
      "execution_count": 9,
      "metadata": {
        "colab": {
          "base_uri": "https://localhost:8080/"
        },
        "id": "q-2Gvl120OwQ",
        "outputId": "26b5b21b-87bd-4178-fe63-a0bc0d4fc070"
      },
      "outputs": [
        {
          "data": {
            "text/plain": [
              "array([50.286, 48.496])"
            ]
          },
          "execution_count": 9,
          "metadata": {},
          "output_type": "execute_result"
        }
      ],
      "source": [
        "array[2, [1, 3], 1]"
      ]
    },
    {
      "cell_type": "markdown",
      "metadata": {
        "id": "1eYa1Enf0qsy"
      },
      "source": [
        "Usando indexação negativa, recupere o desempenho de todos os atletas em todos os dias, na penúltima volta."
      ]
    },
    {
      "cell_type": "code",
      "execution_count": 10,
      "metadata": {
        "colab": {
          "base_uri": "https://localhost:8080/"
        },
        "id": "2PtR2pMc0xi8",
        "outputId": "2a2163fb-db80-4484-9b8f-9b4dc76e625c"
      },
      "outputs": [
        {
          "data": {
            "text/plain": [
              "array([[50.991, 48.389, 50.085, 48.554, 47.654],\n",
              "       [53.882, 49.476, 56.354, 51.94 , 50.502],\n",
              "       [49.784, 50.107, 50.963, 52.637, 46.254]])"
            ]
          },
          "execution_count": 10,
          "metadata": {},
          "output_type": "execute_result"
        }
      ],
      "source": [
        "array[:, :, -2]"
      ]
    },
    {
      "cell_type": "markdown",
      "metadata": {
        "id": "-FzvBagY063F"
      },
      "source": [
        "Crie uma máscara booleana para representar somente os resultados menores que 46. Depois utilize esta máscara para filtrar do array os resultados que atendem a esta condição."
      ]
    },
    {
      "cell_type": "code",
      "execution_count": 11,
      "metadata": {
        "id": "ut8AziU20zON"
      },
      "outputs": [],
      "source": [
        "mask = array <= 46"
      ]
    },
    {
      "cell_type": "code",
      "execution_count": 12,
      "metadata": {
        "colab": {
          "base_uri": "https://localhost:8080/"
        },
        "id": "3JLJhvoyT4Sa",
        "outputId": "f5150e5c-dd6c-48f4-b1d4-ca7743f75d81"
      },
      "outputs": [
        {
          "data": {
            "text/plain": [
              "array([41.867, 44.333, 45.056])"
            ]
          },
          "execution_count": 12,
          "metadata": {},
          "output_type": "execute_result"
        }
      ],
      "source": [
        "array[mask]"
      ]
    },
    {
      "cell_type": "markdown",
      "metadata": {
        "id": "GkP0fj36ZkxU"
      },
      "source": [
        "### Slicing"
      ]
    },
    {
      "cell_type": "markdown",
      "metadata": {
        "id": "baaYuC8v1MOM"
      },
      "source": [
        "Utilize fatiamento para recuperar o desempenho do quarto atleta nas duas primeiras voltas, em todos os dias."
      ]
    },
    {
      "cell_type": "code",
      "execution_count": 13,
      "metadata": {
        "colab": {
          "base_uri": "https://localhost:8080/"
        },
        "id": "Y1_xrgmk1aCX",
        "outputId": "c2a2f835-9248-4066-e94d-8f605167b6ac"
      },
      "outputs": [
        {
          "data": {
            "text/plain": [
              "array([[47.791, 49.511],\n",
              "       [48.867, 56.128],\n",
              "       [52.195, 48.496]])"
            ]
          },
          "execution_count": 13,
          "metadata": {},
          "output_type": "execute_result"
        }
      ],
      "source": [
        "array[:, 3, 0:2]"
      ]
    },
    {
      "cell_type": "markdown",
      "metadata": {
        "id": "gqZb5v8c1ll-"
      },
      "source": [
        "Agora recupere o desempenho de todos os atletas nos dois primeiros dias, da segunda volta em diante."
      ]
    },
    {
      "cell_type": "code",
      "execution_count": 14,
      "metadata": {
        "colab": {
          "base_uri": "https://localhost:8080/"
        },
        "id": "95v217aX1cDP",
        "outputId": "b609aaf7-dbe8-4846-a23d-9f83f13e1455"
      },
      "outputs": [
        {
          "data": {
            "text/plain": [
              "array([[[52.465, 50.991, 46.091],\n",
              "        [51.339, 48.389, 51.743],\n",
              "        [50.882, 50.085, 51.64 ],\n",
              "        [49.511, 48.554, 51.797],\n",
              "        [49.123, 47.654, 49.228]],\n",
              "\n",
              "       [[49.173, 53.882, 53.02 ],\n",
              "        [44.333, 49.476, 48.733],\n",
              "        [50.652, 56.354, 46.664],\n",
              "        [56.128, 51.94 , 51.989],\n",
              "        [45.056, 50.502, 50.327]]])"
            ]
          },
          "execution_count": 14,
          "metadata": {},
          "output_type": "execute_result"
        }
      ],
      "source": [
        "array[:2, :, 1:]"
      ]
    },
    {
      "cell_type": "markdown",
      "metadata": {
        "id": "3e0GDUSa2E06"
      },
      "source": [
        "Utilize a notação negativa e a notação de \"passo\" para recuperar os desempenhos dos dois últimos atletas, no segundo dia, nas voltas de índice ímpar."
      ]
    },
    {
      "cell_type": "code",
      "execution_count": 16,
      "metadata": {
        "colab": {
          "base_uri": "https://localhost:8080/"
        },
        "id": "J4N1eZKG2WQQ",
        "outputId": "e797f434-1936-48c5-9e4e-108d1fe22faf"
      },
      "outputs": [
        {
          "data": {
            "text/plain": [
              "array([[56.128, 51.989],\n",
              "       [45.056, 50.327]])"
            ]
          },
          "execution_count": 16,
          "metadata": {},
          "output_type": "execute_result"
        }
      ],
      "source": [
        "array[1, -2:, 1::2]"
      ]
    },
    {
      "cell_type": "markdown",
      "metadata": {
        "id": "qzLbKjz6gW6r"
      },
      "source": [
        "### Assigning"
      ]
    },
    {
      "cell_type": "markdown",
      "metadata": {
        "id": "h6piUvIJ2hzR"
      },
      "source": [
        "Suponha que o segundo atleta tenha sido desclassificado na prova do terceiro dia, e você deve demonstrar isso no array mudando todos os valores de suas voltas para o número 99.\n",
        "\n",
        "Utilize a técnica de assigning para fazer esta correção, e exiba o array modificado."
      ]
    },
    {
      "cell_type": "code",
      "execution_count": 17,
      "metadata": {
        "id": "kSd_FgK-2y9v"
      },
      "outputs": [],
      "source": [
        "array[2, 1] = 99"
      ]
    },
    {
      "cell_type": "code",
      "execution_count": 18,
      "metadata": {
        "colab": {
          "base_uri": "https://localhost:8080/"
        },
        "id": "c_GOGtEHULGD",
        "outputId": "61ad333d-8b89-43e9-dc39-60a981b7603f"
      },
      "outputs": [
        {
          "data": {
            "text/plain": [
              "array([[[51.037, 52.465, 50.991, 46.091],\n",
              "        [52.716, 51.339, 48.389, 51.743],\n",
              "        [51.094, 50.882, 50.085, 51.64 ],\n",
              "        [47.791, 49.511, 48.554, 51.797],\n",
              "        [50.119, 49.123, 47.654, 49.228]],\n",
              "\n",
              "       [[50.024, 49.173, 53.882, 53.02 ],\n",
              "        [41.867, 44.333, 49.476, 48.733],\n",
              "        [50.641, 50.652, 56.354, 46.664],\n",
              "        [48.867, 56.128, 51.94 , 51.989],\n",
              "        [48.458, 45.056, 50.502, 50.327]],\n",
              "\n",
              "       [[46.318, 47.95 , 49.784, 47.166],\n",
              "        [99.   , 99.   , 99.   , 99.   ],\n",
              "        [51.781, 52.674, 50.963, 47.545],\n",
              "        [52.195, 48.496, 52.637, 46.785],\n",
              "        [52.743, 49.94 , 46.254, 49.058]]])"
            ]
          },
          "execution_count": 18,
          "metadata": {},
          "output_type": "execute_result"
        }
      ],
      "source": [
        "array"
      ]
    },
    {
      "cell_type": "markdown",
      "metadata": {
        "id": "vAXSTYPE3DNv"
      },
      "source": [
        "Foi descoberto que o cronômetro utilizado no primeiro dia de prova estava descalibrado, e por isso, todos os tempos correspondentes devem ser acrescidos em 0.05 segundos. Realize a correção e exiba o array modificado.\n",
        "\n",
        "Lembre-se que você pode adicionar valores a um objeto do Python com a notação `+=`."
      ]
    },
    {
      "cell_type": "code",
      "execution_count": 19,
      "metadata": {
        "id": "y3ZasmLl3fL5"
      },
      "outputs": [],
      "source": [
        "array[0] += 0.05"
      ]
    },
    {
      "cell_type": "code",
      "execution_count": 20,
      "metadata": {
        "colab": {
          "base_uri": "https://localhost:8080/"
        },
        "id": "on8GQk1IUTvQ",
        "outputId": "6605e706-c3a3-484a-dcfe-8a0957ec60f0"
      },
      "outputs": [
        {
          "data": {
            "text/plain": [
              "array([[[51.087, 52.515, 51.041, 46.141],\n",
              "        [52.766, 51.389, 48.439, 51.793],\n",
              "        [51.144, 50.932, 50.135, 51.69 ],\n",
              "        [47.841, 49.561, 48.604, 51.847],\n",
              "        [50.169, 49.173, 47.704, 49.278]],\n",
              "\n",
              "       [[50.024, 49.173, 53.882, 53.02 ],\n",
              "        [41.867, 44.333, 49.476, 48.733],\n",
              "        [50.641, 50.652, 56.354, 46.664],\n",
              "        [48.867, 56.128, 51.94 , 51.989],\n",
              "        [48.458, 45.056, 50.502, 50.327]],\n",
              "\n",
              "       [[46.318, 47.95 , 49.784, 47.166],\n",
              "        [99.   , 99.   , 99.   , 99.   ],\n",
              "        [51.781, 52.674, 50.963, 47.545],\n",
              "        [52.195, 48.496, 52.637, 46.785],\n",
              "        [52.743, 49.94 , 46.254, 49.058]]])"
            ]
          },
          "execution_count": 20,
          "metadata": {},
          "output_type": "execute_result"
        }
      ],
      "source": [
        "array"
      ]
    },
    {
      "cell_type": "markdown",
      "metadata": {
        "id": "gEqydkBb3tUL"
      },
      "source": [
        "A terceira volta dos dois primeiros atletas no segundo dia foi registrada errada, os valores corretos são 53.872 e 49.479. Faça a correção e exiba o array modificado."
      ]
    },
    {
      "cell_type": "code",
      "execution_count": 21,
      "metadata": {
        "id": "kCDKasIU4G9f"
      },
      "outputs": [],
      "source": [
        "array[1, 0:2, 2] = [53.872, 49.479]"
      ]
    },
    {
      "cell_type": "code",
      "execution_count": 22,
      "metadata": {
        "colab": {
          "base_uri": "https://localhost:8080/"
        },
        "id": "5wqqN_lNUY8B",
        "outputId": "3d6b75c6-1d84-42fa-d325-f3b1bc125082"
      },
      "outputs": [
        {
          "data": {
            "text/plain": [
              "array([[[51.087, 52.515, 51.041, 46.141],\n",
              "        [52.766, 51.389, 48.439, 51.793],\n",
              "        [51.144, 50.932, 50.135, 51.69 ],\n",
              "        [47.841, 49.561, 48.604, 51.847],\n",
              "        [50.169, 49.173, 47.704, 49.278]],\n",
              "\n",
              "       [[50.024, 49.173, 53.872, 53.02 ],\n",
              "        [41.867, 44.333, 49.479, 48.733],\n",
              "        [50.641, 50.652, 56.354, 46.664],\n",
              "        [48.867, 56.128, 51.94 , 51.989],\n",
              "        [48.458, 45.056, 50.502, 50.327]],\n",
              "\n",
              "       [[46.318, 47.95 , 49.784, 47.166],\n",
              "        [99.   , 99.   , 99.   , 99.   ],\n",
              "        [51.781, 52.674, 50.963, 47.545],\n",
              "        [52.195, 48.496, 52.637, 46.785],\n",
              "        [52.743, 49.94 , 46.254, 49.058]]])"
            ]
          },
          "execution_count": 22,
          "metadata": {},
          "output_type": "execute_result"
        }
      ],
      "source": [
        "array"
      ]
    }
  ],
  "metadata": {
    "colab": {
      "provenance": []
    },
    "kernelspec": {
      "display_name": ".venv",
      "language": "python",
      "name": "python3"
    },
    "language_info": {
      "codemirror_mode": {
        "name": "ipython",
        "version": 3
      },
      "file_extension": ".py",
      "mimetype": "text/x-python",
      "name": "python",
      "nbconvert_exporter": "python",
      "pygments_lexer": "ipython3",
      "version": "3.12.11"
    }
  },
  "nbformat": 4,
  "nbformat_minor": 0
}
