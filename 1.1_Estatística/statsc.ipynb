{
 "cells": [
  {
   "cell_type": "markdown",
   "id": "343807a4",
   "metadata": {},
   "source": [
    "# **Estatística**"
   ]
  },
  {
   "cell_type": "code",
   "execution_count": 1,
   "id": "9b8fec5c",
   "metadata": {},
   "outputs": [],
   "source": [
    "import numpy as np"
   ]
  },
  {
   "cell_type": "code",
   "execution_count": 2,
   "id": "3ae48463",
   "metadata": {},
   "outputs": [],
   "source": [
    "rng = np.random.default_rng(seed=5)"
   ]
  },
  {
   "cell_type": "code",
   "execution_count": 3,
   "id": "fe4cf8e8",
   "metadata": {},
   "outputs": [
    {
     "data": {
      "text/plain": [
       "array([  3,   6, -10,   6])"
      ]
     },
     "execution_count": 3,
     "metadata": {},
     "output_type": "execute_result"
    }
   ],
   "source": [
    "vector_1 = rng.integers(low=-10, high=10, size=4)\n",
    "vector_1"
   ]
  },
  {
   "cell_type": "code",
   "execution_count": 4,
   "id": "06495c40",
   "metadata": {},
   "outputs": [
    {
     "data": {
      "text/plain": [
       "array([[ -1,   0,   2],\n",
       "       [ -5,   9,  -9],\n",
       "       [ -5,  -3,   1],\n",
       "       [ -2,  -8, -10]])"
      ]
     },
     "execution_count": 4,
     "metadata": {},
     "output_type": "execute_result"
    }
   ],
   "source": [
    "matrix_1 = rng.integers(low=-10, high=10, size=(4, 3))\n",
    "matrix_1"
   ]
  },
  {
   "cell_type": "markdown",
   "id": "1a2dd9f1",
   "metadata": {},
   "source": [
    "## np.percentile"
   ]
  },
  {
   "cell_type": "code",
   "execution_count": 5,
   "id": "8bfe7d45",
   "metadata": {},
   "outputs": [
    {
     "data": {
      "text/plain": [
       "np.float64(-6.1)"
      ]
     },
     "execution_count": 5,
     "metadata": {},
     "output_type": "execute_result"
    }
   ],
   "source": [
    "np.percentile(a=vector_1, q=10)"
   ]
  },
  {
   "cell_type": "code",
   "execution_count": 6,
   "id": "a4a74576",
   "metadata": {},
   "outputs": [
    {
     "data": {
      "text/plain": [
       "np.float64(4.5)"
      ]
     },
     "execution_count": 6,
     "metadata": {},
     "output_type": "execute_result"
    }
   ],
   "source": [
    "np.percentile(a=vector_1, q=50)"
   ]
  },
  {
   "cell_type": "code",
   "execution_count": 7,
   "id": "31d3de13",
   "metadata": {},
   "outputs": [
    {
     "data": {
      "text/plain": [
       "np.float64(6.0)"
      ]
     },
     "execution_count": 7,
     "metadata": {},
     "output_type": "execute_result"
    }
   ],
   "source": [
    "np.percentile(a=vector_1, q=90)"
   ]
  },
  {
   "cell_type": "code",
   "execution_count": 8,
   "id": "0bc395c0",
   "metadata": {},
   "outputs": [
    {
     "data": {
      "text/plain": [
       "np.float64(-8.9)"
      ]
     },
     "execution_count": 8,
     "metadata": {},
     "output_type": "execute_result"
    }
   ],
   "source": [
    "np.percentile(a=matrix_1, q=10)"
   ]
  },
  {
   "cell_type": "markdown",
   "id": "2051b2e3",
   "metadata": {},
   "source": [
    "## np.quantile"
   ]
  },
  {
   "cell_type": "code",
   "execution_count": 9,
   "id": "18b71b19",
   "metadata": {},
   "outputs": [
    {
     "data": {
      "text/plain": [
       "np.float64(-6.1)"
      ]
     },
     "execution_count": 9,
     "metadata": {},
     "output_type": "execute_result"
    }
   ],
   "source": [
    "np.quantile(a=vector_1, q=0.1)"
   ]
  },
  {
   "cell_type": "code",
   "execution_count": 10,
   "id": "a8aa9efa",
   "metadata": {},
   "outputs": [
    {
     "data": {
      "text/plain": [
       "np.float64(4.5)"
      ]
     },
     "execution_count": 10,
     "metadata": {},
     "output_type": "execute_result"
    }
   ],
   "source": [
    "np.quantile(a=vector_1, q=0.5)"
   ]
  },
  {
   "cell_type": "code",
   "execution_count": 11,
   "id": "fac860cc",
   "metadata": {},
   "outputs": [
    {
     "data": {
      "text/plain": [
       "np.float64(-8.9)"
      ]
     },
     "execution_count": 11,
     "metadata": {},
     "output_type": "execute_result"
    }
   ],
   "source": [
    "np.quantile(a=matrix_1, q=0.1)"
   ]
  },
  {
   "cell_type": "code",
   "execution_count": 12,
   "id": "bb249a41",
   "metadata": {},
   "outputs": [
    {
     "data": {
      "text/plain": [
       "array([ 0., -5., -3., -8.])"
      ]
     },
     "execution_count": 12,
     "metadata": {},
     "output_type": "execute_result"
    }
   ],
   "source": [
    "np.quantile(a=matrix_1, q=0.5, axis=1)"
   ]
  },
  {
   "cell_type": "markdown",
   "id": "7522eb4d",
   "metadata": {},
   "source": [
    "## np.median, np.mean e np.average"
   ]
  },
  {
   "cell_type": "code",
   "execution_count": 13,
   "id": "7f9cf387",
   "metadata": {},
   "outputs": [
    {
     "data": {
      "text/plain": [
       "np.float64(4.5)"
      ]
     },
     "execution_count": 13,
     "metadata": {},
     "output_type": "execute_result"
    }
   ],
   "source": [
    "np.median(a=vector_1)"
   ]
  },
  {
   "cell_type": "code",
   "execution_count": 14,
   "id": "04d25b5f",
   "metadata": {},
   "outputs": [
    {
     "data": {
      "text/plain": [
       "array([ 0., -5., -3., -8.])"
      ]
     },
     "execution_count": 14,
     "metadata": {},
     "output_type": "execute_result"
    }
   ],
   "source": [
    "np.median(matrix_1, axis=1)"
   ]
  },
  {
   "cell_type": "code",
   "execution_count": 15,
   "id": "a3384c4c",
   "metadata": {},
   "outputs": [
    {
     "data": {
      "text/plain": [
       "np.float64(1.25)"
      ]
     },
     "execution_count": 15,
     "metadata": {},
     "output_type": "execute_result"
    }
   ],
   "source": [
    "np.mean(vector_1)"
   ]
  },
  {
   "cell_type": "code",
   "execution_count": 16,
   "id": "5eee4aef",
   "metadata": {},
   "outputs": [
    {
     "data": {
      "text/plain": [
       "np.float64(-2.5833333333333335)"
      ]
     },
     "execution_count": 16,
     "metadata": {},
     "output_type": "execute_result"
    }
   ],
   "source": [
    "np.mean(matrix_1)"
   ]
  },
  {
   "cell_type": "code",
   "execution_count": 17,
   "id": "d5cc341c",
   "metadata": {},
   "outputs": [
    {
     "data": {
      "text/plain": [
       "array([ 0.33333333, -1.66666667, -2.33333333, -6.66666667])"
      ]
     },
     "execution_count": 17,
     "metadata": {},
     "output_type": "execute_result"
    }
   ],
   "source": [
    "np.mean(matrix_1, axis=1)"
   ]
  },
  {
   "cell_type": "code",
   "execution_count": 18,
   "id": "7e3f4150",
   "metadata": {},
   "outputs": [
    {
     "data": {
      "text/plain": [
       "np.float64(-0.8499999999999996)"
      ]
     },
     "execution_count": 18,
     "metadata": {},
     "output_type": "execute_result"
    }
   ],
   "source": [
    "np.average(a=vector_1, weights=[0.15, 0.25, 0.4, 0.2])"
   ]
  },
  {
   "cell_type": "markdown",
   "id": "6189c9bf",
   "metadata": {},
   "source": [
    "## np.std, np.var"
   ]
  },
  {
   "cell_type": "markdown",
   "id": "00d1faf4",
   "metadata": {},
   "source": [
    "## np.cov"
   ]
  },
  {
   "cell_type": "markdown",
   "id": "10a49e5e",
   "metadata": {},
   "source": [
    "## np.corrcoef"
   ]
  },
  {
   "cell_type": "markdown",
   "id": "efb3173b",
   "metadata": {},
   "source": [
    "## np.histogram"
   ]
  }
 ],
 "metadata": {
  "kernelspec": {
   "display_name": ".venv",
   "language": "python",
   "name": "python3"
  },
  "language_info": {
   "codemirror_mode": {
    "name": "ipython",
    "version": 3
   },
   "file_extension": ".py",
   "mimetype": "text/x-python",
   "name": "python",
   "nbconvert_exporter": "python",
   "pygments_lexer": "ipython3",
   "version": "3.12.12"
  }
 },
 "nbformat": 4,
 "nbformat_minor": 5
}
