{
 "cells": [
  {
   "cell_type": "markdown",
   "id": "343807a4",
   "metadata": {},
   "source": [
    "# **Estatística**"
   ]
  },
  {
   "cell_type": "code",
   "execution_count": 1,
   "id": "9b8fec5c",
   "metadata": {},
   "outputs": [],
   "source": [
    "import numpy as np"
   ]
  },
  {
   "cell_type": "code",
   "execution_count": 2,
   "id": "3ae48463",
   "metadata": {},
   "outputs": [],
   "source": [
    "rng = np.random.default_rng(seed=5)"
   ]
  },
  {
   "cell_type": "code",
   "execution_count": 3,
   "id": "fe4cf8e8",
   "metadata": {},
   "outputs": [
    {
     "data": {
      "text/plain": [
       "array([  3,   6, -10,   6])"
      ]
     },
     "execution_count": 3,
     "metadata": {},
     "output_type": "execute_result"
    }
   ],
   "source": [
    "vector_1 = rng.integers(low=-10, high=10, size=4)\n",
    "vector_1"
   ]
  },
  {
   "cell_type": "code",
   "execution_count": 4,
   "id": "06495c40",
   "metadata": {},
   "outputs": [
    {
     "data": {
      "text/plain": [
       "array([[ -1,   0,   2],\n",
       "       [ -5,   9,  -9],\n",
       "       [ -5,  -3,   1],\n",
       "       [ -2,  -8, -10]])"
      ]
     },
     "execution_count": 4,
     "metadata": {},
     "output_type": "execute_result"
    }
   ],
   "source": [
    "matrix_1 = rng.integers(low=-10, high=10, size=(4, 3))\n",
    "matrix_1"
   ]
  },
  {
   "cell_type": "markdown",
   "id": "1a2dd9f1",
   "metadata": {},
   "source": [
    "## np.percentile"
   ]
  },
  {
   "cell_type": "code",
   "execution_count": 5,
   "id": "8bfe7d45",
   "metadata": {},
   "outputs": [
    {
     "data": {
      "text/plain": [
       "np.float64(-6.1)"
      ]
     },
     "execution_count": 5,
     "metadata": {},
     "output_type": "execute_result"
    }
   ],
   "source": [
    "np.percentile(a=vector_1, q=10)"
   ]
  },
  {
   "cell_type": "code",
   "execution_count": 6,
   "id": "a4a74576",
   "metadata": {},
   "outputs": [
    {
     "data": {
      "text/plain": [
       "np.float64(4.5)"
      ]
     },
     "execution_count": 6,
     "metadata": {},
     "output_type": "execute_result"
    }
   ],
   "source": [
    "np.percentile(a=vector_1, q=50)"
   ]
  },
  {
   "cell_type": "code",
   "execution_count": 7,
   "id": "31d3de13",
   "metadata": {},
   "outputs": [
    {
     "data": {
      "text/plain": [
       "np.float64(6.0)"
      ]
     },
     "execution_count": 7,
     "metadata": {},
     "output_type": "execute_result"
    }
   ],
   "source": [
    "np.percentile(a=vector_1, q=90)"
   ]
  },
  {
   "cell_type": "code",
   "execution_count": 8,
   "id": "0bc395c0",
   "metadata": {},
   "outputs": [
    {
     "data": {
      "text/plain": [
       "np.float64(-8.9)"
      ]
     },
     "execution_count": 8,
     "metadata": {},
     "output_type": "execute_result"
    }
   ],
   "source": [
    "np.percentile(a=matrix_1, q=10)"
   ]
  },
  {
   "cell_type": "markdown",
   "id": "2051b2e3",
   "metadata": {},
   "source": [
    "## np.quantile"
   ]
  },
  {
   "cell_type": "code",
   "execution_count": 9,
   "id": "18b71b19",
   "metadata": {},
   "outputs": [
    {
     "data": {
      "text/plain": [
       "np.float64(-6.1)"
      ]
     },
     "execution_count": 9,
     "metadata": {},
     "output_type": "execute_result"
    }
   ],
   "source": [
    "np.quantile(a=vector_1, q=0.1)"
   ]
  },
  {
   "cell_type": "code",
   "execution_count": 10,
   "id": "a8aa9efa",
   "metadata": {},
   "outputs": [
    {
     "data": {
      "text/plain": [
       "np.float64(4.5)"
      ]
     },
     "execution_count": 10,
     "metadata": {},
     "output_type": "execute_result"
    }
   ],
   "source": [
    "np.quantile(a=vector_1, q=0.5)"
   ]
  },
  {
   "cell_type": "code",
   "execution_count": 11,
   "id": "fac860cc",
   "metadata": {},
   "outputs": [
    {
     "data": {
      "text/plain": [
       "np.float64(-8.9)"
      ]
     },
     "execution_count": 11,
     "metadata": {},
     "output_type": "execute_result"
    }
   ],
   "source": [
    "np.quantile(a=matrix_1, q=0.1)"
   ]
  },
  {
   "cell_type": "code",
   "execution_count": 12,
   "id": "bb249a41",
   "metadata": {},
   "outputs": [
    {
     "data": {
      "text/plain": [
       "array([ 0., -5., -3., -8.])"
      ]
     },
     "execution_count": 12,
     "metadata": {},
     "output_type": "execute_result"
    }
   ],
   "source": [
    "np.quantile(a=matrix_1, q=0.5, axis=1)"
   ]
  },
  {
   "cell_type": "markdown",
   "id": "7522eb4d",
   "metadata": {},
   "source": [
    "## np.median, np.mean e np.average"
   ]
  },
  {
   "cell_type": "code",
   "execution_count": 13,
   "id": "7f9cf387",
   "metadata": {},
   "outputs": [
    {
     "data": {
      "text/plain": [
       "np.float64(4.5)"
      ]
     },
     "execution_count": 13,
     "metadata": {},
     "output_type": "execute_result"
    }
   ],
   "source": [
    "np.median(a=vector_1)"
   ]
  },
  {
   "cell_type": "code",
   "execution_count": 14,
   "id": "04d25b5f",
   "metadata": {},
   "outputs": [
    {
     "data": {
      "text/plain": [
       "array([ 0., -5., -3., -8.])"
      ]
     },
     "execution_count": 14,
     "metadata": {},
     "output_type": "execute_result"
    }
   ],
   "source": [
    "np.median(matrix_1, axis=1)"
   ]
  },
  {
   "cell_type": "code",
   "execution_count": 15,
   "id": "a3384c4c",
   "metadata": {},
   "outputs": [
    {
     "data": {
      "text/plain": [
       "np.float64(1.25)"
      ]
     },
     "execution_count": 15,
     "metadata": {},
     "output_type": "execute_result"
    }
   ],
   "source": [
    "np.mean(vector_1)"
   ]
  },
  {
   "cell_type": "code",
   "execution_count": 16,
   "id": "5eee4aef",
   "metadata": {},
   "outputs": [
    {
     "data": {
      "text/plain": [
       "np.float64(-2.5833333333333335)"
      ]
     },
     "execution_count": 16,
     "metadata": {},
     "output_type": "execute_result"
    }
   ],
   "source": [
    "np.mean(matrix_1)"
   ]
  },
  {
   "cell_type": "code",
   "execution_count": 17,
   "id": "d5cc341c",
   "metadata": {},
   "outputs": [
    {
     "data": {
      "text/plain": [
       "array([ 0.33333333, -1.66666667, -2.33333333, -6.66666667])"
      ]
     },
     "execution_count": 17,
     "metadata": {},
     "output_type": "execute_result"
    }
   ],
   "source": [
    "np.mean(matrix_1, axis=1)"
   ]
  },
  {
   "cell_type": "code",
   "execution_count": 18,
   "id": "7e3f4150",
   "metadata": {},
   "outputs": [
    {
     "data": {
      "text/plain": [
       "np.float64(-0.8499999999999996)"
      ]
     },
     "execution_count": 18,
     "metadata": {},
     "output_type": "execute_result"
    }
   ],
   "source": [
    "np.average(a=vector_1, weights=[0.15, 0.25, 0.4, 0.2])"
   ]
  },
  {
   "cell_type": "markdown",
   "id": "6189c9bf",
   "metadata": {},
   "source": [
    "## np.std, np.var"
   ]
  },
  {
   "cell_type": "code",
   "execution_count": 19,
   "id": "ebeeaba0",
   "metadata": {},
   "outputs": [
    {
     "data": {
      "text/plain": [
       "np.float64(6.609652033201143)"
      ]
     },
     "execution_count": 19,
     "metadata": {},
     "output_type": "execute_result"
    }
   ],
   "source": [
    "np.std(a=vector_1)"
   ]
  },
  {
   "cell_type": "code",
   "execution_count": 20,
   "id": "32b7ff84",
   "metadata": {},
   "outputs": [
    {
     "data": {
      "text/plain": [
       "array([1.24721913, 7.7172246 , 2.49443826, 3.39934634])"
      ]
     },
     "execution_count": 20,
     "metadata": {},
     "output_type": "execute_result"
    }
   ],
   "source": [
    "np.std(a=matrix_1, axis=1)"
   ]
  },
  {
   "cell_type": "code",
   "execution_count": 21,
   "id": "207b5028",
   "metadata": {},
   "outputs": [
    {
     "data": {
      "text/plain": [
       "np.float64(43.6875)"
      ]
     },
     "execution_count": 21,
     "metadata": {},
     "output_type": "execute_result"
    }
   ],
   "source": [
    "np.var(vector_1)"
   ]
  },
  {
   "cell_type": "code",
   "execution_count": 22,
   "id": "0e0c0bcf",
   "metadata": {},
   "outputs": [
    {
     "data": {
      "text/plain": [
       "array([ 1.55555556, 59.55555556,  6.22222222, 11.55555556])"
      ]
     },
     "execution_count": 22,
     "metadata": {},
     "output_type": "execute_result"
    }
   ],
   "source": [
    "np.var(a=matrix_1, axis=1)"
   ]
  },
  {
   "cell_type": "markdown",
   "id": "00d1faf4",
   "metadata": {},
   "source": [
    "## np.cov"
   ]
  },
  {
   "cell_type": "code",
   "execution_count": 23,
   "id": "f181d101",
   "metadata": {},
   "outputs": [
    {
     "data": {
      "text/plain": [
       "array([  3,   6, -10,   6])"
      ]
     },
     "execution_count": 23,
     "metadata": {},
     "output_type": "execute_result"
    }
   ],
   "source": [
    "vector_1"
   ]
  },
  {
   "cell_type": "code",
   "execution_count": 24,
   "id": "2021c2f1",
   "metadata": {},
   "outputs": [
    {
     "data": {
      "text/plain": [
       "array(58.25)"
      ]
     },
     "execution_count": 24,
     "metadata": {},
     "output_type": "execute_result"
    }
   ],
   "source": [
    "np.cov(m=vector_1)"
   ]
  },
  {
   "cell_type": "code",
   "execution_count": 25,
   "id": "f41add6b",
   "metadata": {},
   "outputs": [
    {
     "data": {
      "text/plain": [
       "array([  9,  18, -30,  18])"
      ]
     },
     "execution_count": 25,
     "metadata": {},
     "output_type": "execute_result"
    }
   ],
   "source": [
    "vector_2 = 3 * vector_1\n",
    "vector_2"
   ]
  },
  {
   "cell_type": "code",
   "execution_count": 26,
   "id": "79350bb5",
   "metadata": {},
   "outputs": [
    {
     "data": {
      "text/plain": [
       "array(524.25)"
      ]
     },
     "execution_count": 26,
     "metadata": {},
     "output_type": "execute_result"
    }
   ],
   "source": [
    "np.cov(m=vector_2)"
   ]
  },
  {
   "cell_type": "code",
   "execution_count": 27,
   "id": "1e728ee5",
   "metadata": {},
   "outputs": [
    {
     "data": {
      "text/plain": [
       "array([[ 58.25, 174.75],\n",
       "       [174.75, 524.25]])"
      ]
     },
     "execution_count": 27,
     "metadata": {},
     "output_type": "execute_result"
    }
   ],
   "source": [
    "np.cov(m=vector_1, y=vector_2)"
   ]
  },
  {
   "cell_type": "markdown",
   "id": "10a49e5e",
   "metadata": {},
   "source": [
    "## np.corrcoef"
   ]
  },
  {
   "cell_type": "code",
   "execution_count": 28,
   "id": "f1840633",
   "metadata": {},
   "outputs": [
    {
     "data": {
      "text/plain": [
       "array([[1., 1.],\n",
       "       [1., 1.]])"
      ]
     },
     "execution_count": 28,
     "metadata": {},
     "output_type": "execute_result"
    }
   ],
   "source": [
    "np.corrcoef(x=vector_1, y=vector_1)"
   ]
  },
  {
   "cell_type": "code",
   "execution_count": 29,
   "id": "b3d229c2",
   "metadata": {},
   "outputs": [
    {
     "data": {
      "text/plain": [
       "array([[1., 1.],\n",
       "       [1., 1.]])"
      ]
     },
     "execution_count": 29,
     "metadata": {},
     "output_type": "execute_result"
    }
   ],
   "source": [
    "np.corrcoef(x=vector_1, y=vector_2)"
   ]
  },
  {
   "cell_type": "markdown",
   "id": "efb3173b",
   "metadata": {},
   "source": [
    "## np.histogram"
   ]
  },
  {
   "cell_type": "code",
   "execution_count": 30,
   "id": "9d1e568a",
   "metadata": {},
   "outputs": [
    {
     "data": {
      "text/plain": [
       "array([-10, -10,  -8,   9,  -7,   3,   5,  -6,  -5,  -2,  -5,   9,  -7,\n",
       "         7,   5,   6,  -8,  -3,   2,  -1,   3,   3,   3,  -9,   9,   1,\n",
       "         8,  -5,  -3,   7,  -7,  -9,  -3,   3,  -8,   7,  -4,  -6,   0,\n",
       "         7,   7,   7,  -4, -10,   5,   4,   5, -10, -10,   0,  -4,  -2,\n",
       "         8,  -6,   0,  -4,  -5,   6,  -7,  -4,  -8,  -8,  -5,   3,   1,\n",
       "        -2,  -7,   5,   5,  -6,  -9,  -4,  -8,   5,   0,   0,  -5,   0,\n",
       "         9,  -6,   5, -10,  -4,   8,   7,  -9,   6,   6,  -1,  -3,   9,\n",
       "         9,   3,  -3,  -6,   8,  -5,   1,   3,  -6])"
      ]
     },
     "execution_count": 30,
     "metadata": {},
     "output_type": "execute_result"
    }
   ],
   "source": [
    "vector_3 = rng.integers(low=-10, high=10, size=100)\n",
    "vector_3"
   ]
  },
  {
   "cell_type": "code",
   "execution_count": 31,
   "id": "b00f9f45",
   "metadata": {},
   "outputs": [
    {
     "data": {
      "text/plain": [
       "(array([28, 24, 19, 29]), array([-10.  ,  -5.25,  -0.5 ,   4.25,   9.  ]))"
      ]
     },
     "execution_count": 31,
     "metadata": {},
     "output_type": "execute_result"
    }
   ],
   "source": [
    "hist, bin_edges = np.histogram(a=vector_3, bins=4)\n",
    "hist, bin_edges"
   ]
  },
  {
   "cell_type": "code",
   "execution_count": 32,
   "id": "8c336fe3",
   "metadata": {},
   "outputs": [
    {
     "data": {
      "text/plain": [
       "(array([0.05894737, 0.05052632, 0.04      , 0.06105263]),\n",
       " array([-10.  ,  -5.25,  -0.5 ,   4.25,   9.  ]))"
      ]
     },
     "execution_count": 32,
     "metadata": {},
     "output_type": "execute_result"
    }
   ],
   "source": [
    "hist, bin_edges = np.histogram(a=vector_3, bins=4, density=True)\n",
    "hist, bin_edges"
   ]
  },
  {
   "cell_type": "markdown",
   "id": "a23c5db0",
   "metadata": {},
   "source": [
    "## np.bincount"
   ]
  },
  {
   "cell_type": "code",
   "execution_count": 33,
   "id": "c6351aa5",
   "metadata": {},
   "outputs": [
    {
     "data": {
      "text/plain": [
       "array([0, 1, 2, 3, 4, 5])"
      ]
     },
     "execution_count": 33,
     "metadata": {},
     "output_type": "execute_result"
    }
   ],
   "source": [
    "vector_4 = np.arange(6)\n",
    "vector_4"
   ]
  },
  {
   "cell_type": "code",
   "execution_count": 34,
   "id": "d0c11759",
   "metadata": {},
   "outputs": [
    {
     "data": {
      "text/plain": [
       "array([1, 1, 1, 1, 1, 1])"
      ]
     },
     "execution_count": 34,
     "metadata": {},
     "output_type": "execute_result"
    }
   ],
   "source": [
    "np.bincount(vector_4)"
   ]
  },
  {
   "cell_type": "code",
   "execution_count": 35,
   "id": "f30d250a",
   "metadata": {},
   "outputs": [
    {
     "data": {
      "text/plain": [
       "array([3, 7, 1, 6, 9, 6])"
      ]
     },
     "execution_count": 35,
     "metadata": {},
     "output_type": "execute_result"
    }
   ],
   "source": [
    "vector_5 = rng.integers(low=0, high=10, size=6)\n",
    "vector_5"
   ]
  },
  {
   "cell_type": "code",
   "execution_count": 36,
   "id": "a9de1152",
   "metadata": {},
   "outputs": [
    {
     "data": {
      "text/plain": [
       "array([0, 1, 0, 1, 0, 0, 2, 1, 0, 1])"
      ]
     },
     "execution_count": 36,
     "metadata": {},
     "output_type": "execute_result"
    }
   ],
   "source": [
    "np.bincount(vector_5)"
   ]
  },
  {
   "cell_type": "markdown",
   "id": "38aac269",
   "metadata": {},
   "source": [
    "## Constantes"
   ]
  },
  {
   "cell_type": "markdown",
   "id": "e885b847",
   "metadata": {},
   "source": [
    "### np.e"
   ]
  },
  {
   "cell_type": "code",
   "execution_count": 37,
   "id": "3d5ed66c",
   "metadata": {},
   "outputs": [
    {
     "data": {
      "text/plain": [
       "2.718281828459045"
      ]
     },
     "execution_count": 37,
     "metadata": {},
     "output_type": "execute_result"
    }
   ],
   "source": [
    "np.e"
   ]
  },
  {
   "cell_type": "markdown",
   "id": "4ec4f4fe",
   "metadata": {},
   "source": [
    "### np.pi"
   ]
  },
  {
   "cell_type": "code",
   "execution_count": 38,
   "id": "d52d36b6",
   "metadata": {},
   "outputs": [
    {
     "data": {
      "text/plain": [
       "3.141592653589793"
      ]
     },
     "execution_count": 38,
     "metadata": {},
     "output_type": "execute_result"
    }
   ],
   "source": [
    "np.pi"
   ]
  },
  {
   "cell_type": "markdown",
   "id": "b3b0ffdb",
   "metadata": {},
   "source": [
    "### np.inf"
   ]
  },
  {
   "cell_type": "code",
   "execution_count": 39,
   "id": "6e4e50f3",
   "metadata": {},
   "outputs": [
    {
     "data": {
      "text/plain": [
       "inf"
      ]
     },
     "execution_count": 39,
     "metadata": {},
     "output_type": "execute_result"
    }
   ],
   "source": [
    "np.inf"
   ]
  },
  {
   "cell_type": "code",
   "execution_count": 40,
   "id": "d3656c08",
   "metadata": {},
   "outputs": [
    {
     "name": "stderr",
     "output_type": "stream",
     "text": [
      "C:\\Users\\joaoi\\AppData\\Local\\Temp\\ipykernel_16396\\4160052059.py:1: RuntimeWarning: divide by zero encountered in divide\n",
      "  np.array([1]) / 0\n"
     ]
    },
    {
     "data": {
      "text/plain": [
       "array([inf])"
      ]
     },
     "execution_count": 40,
     "metadata": {},
     "output_type": "execute_result"
    }
   ],
   "source": [
    "np.array([1]) / 0"
   ]
  },
  {
   "cell_type": "markdown",
   "id": "ed1b59ab",
   "metadata": {},
   "source": [
    "### np.nan"
   ]
  },
  {
   "cell_type": "code",
   "execution_count": 41,
   "id": "38f3d120",
   "metadata": {},
   "outputs": [
    {
     "data": {
      "text/plain": [
       "nan"
      ]
     },
     "execution_count": 41,
     "metadata": {},
     "output_type": "execute_result"
    }
   ],
   "source": [
    "np.nan"
   ]
  },
  {
   "cell_type": "code",
   "execution_count": 42,
   "id": "a9a2c607",
   "metadata": {},
   "outputs": [
    {
     "name": "stderr",
     "output_type": "stream",
     "text": [
      "C:\\Users\\joaoi\\AppData\\Local\\Temp\\ipykernel_16396\\153577755.py:1: RuntimeWarning: invalid value encountered in log\n",
      "  np.log(-1)\n"
     ]
    },
    {
     "data": {
      "text/plain": [
       "np.float64(nan)"
      ]
     },
     "execution_count": 42,
     "metadata": {},
     "output_type": "execute_result"
    }
   ],
   "source": [
    "np.log(-1)"
   ]
  },
  {
   "cell_type": "markdown",
   "id": "d3094852",
   "metadata": {},
   "source": [
    "## np.newaxis"
   ]
  },
  {
   "cell_type": "code",
   "execution_count": 43,
   "id": "d6bc8f73",
   "metadata": {},
   "outputs": [
    {
     "data": {
      "text/plain": [
       "array([1, 2, 3])"
      ]
     },
     "execution_count": 43,
     "metadata": {},
     "output_type": "execute_result"
    }
   ],
   "source": [
    "array = np.array([1, 2, 3])\n",
    "array"
   ]
  },
  {
   "cell_type": "code",
   "execution_count": 44,
   "id": "7baadbce",
   "metadata": {},
   "outputs": [
    {
     "data": {
      "text/plain": [
       "(3,)"
      ]
     },
     "execution_count": 44,
     "metadata": {},
     "output_type": "execute_result"
    }
   ],
   "source": [
    "array.shape"
   ]
  },
  {
   "cell_type": "code",
   "execution_count": 45,
   "id": "b9b48e08",
   "metadata": {},
   "outputs": [
    {
     "data": {
      "text/plain": [
       "array([[1],\n",
       "       [2],\n",
       "       [3]])"
      ]
     },
     "execution_count": 45,
     "metadata": {},
     "output_type": "execute_result"
    }
   ],
   "source": [
    "new_array = array[:, np.newaxis]\n",
    "new_array"
   ]
  },
  {
   "cell_type": "code",
   "execution_count": 46,
   "id": "dc570db7",
   "metadata": {},
   "outputs": [
    {
     "data": {
      "text/plain": [
       "(3, 1)"
      ]
     },
     "execution_count": 46,
     "metadata": {},
     "output_type": "execute_result"
    }
   ],
   "source": [
    "new_array.shape"
   ]
  },
  {
   "cell_type": "code",
   "execution_count": 47,
   "id": "320850cf",
   "metadata": {},
   "outputs": [
    {
     "data": {
      "text/plain": [
       "array([[1, 2, 3]])"
      ]
     },
     "execution_count": 47,
     "metadata": {},
     "output_type": "execute_result"
    }
   ],
   "source": [
    "new_array = array[np.newaxis, :]\n",
    "new_array"
   ]
  },
  {
   "cell_type": "code",
   "execution_count": 48,
   "id": "d86257c6",
   "metadata": {},
   "outputs": [
    {
     "data": {
      "text/plain": [
       "(1, 3)"
      ]
     },
     "execution_count": 48,
     "metadata": {},
     "output_type": "execute_result"
    }
   ],
   "source": [
    "new_array.shape"
   ]
  }
 ],
 "metadata": {
  "kernelspec": {
   "display_name": ".venv",
   "language": "python",
   "name": "python3"
  },
  "language_info": {
   "codemirror_mode": {
    "name": "ipython",
    "version": 3
   },
   "file_extension": ".py",
   "mimetype": "text/x-python",
   "name": "python",
   "nbconvert_exporter": "python",
   "pygments_lexer": "ipython3",
   "version": "3.12.12"
  }
 },
 "nbformat": 4,
 "nbformat_minor": 5
}
